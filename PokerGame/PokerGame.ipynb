{
 "cells": [
  {
   "cell_type": "code",
   "execution_count": 84,
   "outputs": [],
   "source": [
    "import pandas as pd\n",
    "import numpy as np\n",
    "import tensorflow as tf\n",
    "from tensorflow import keras\n",
    "from tensorflow.keras.optimizers import Adam\n",
    "from tensorflow.keras.models import load_model\n",
    "from keras import backend as K\n",
    "from NLHoldem import Game, Deck\n",
    "from HandComperator import compare_hands\n",
    "from keras.utils import to_categorical"
   ],
   "metadata": {
    "collapsed": false,
    "pycharm": {
     "name": "#%%\n"
    }
   }
  },
  {
   "cell_type": "code",
   "execution_count": 8,
   "outputs": [],
   "source": [
    "game = Game()\n",
    "deck = Deck()"
   ],
   "metadata": {
    "collapsed": false,
    "pycharm": {
     "name": "#%%\n"
    }
   }
  },
  {
   "cell_type": "code",
   "execution_count": 63,
   "outputs": [],
   "source": [
    "n_hands = 1000000\n",
    "player_1_hands = []\n",
    "player_2_hands = []\n",
    "boards = []\n",
    "strengths = []\n",
    "for i in range(n_hands):\n",
    "    deck.shuffle()\n",
    "    player_1 = deck[:2]\n",
    "    player_2 = deck[2:4]\n",
    "    player_1_hands.append([[player_1[0].value,player_1[0].suit],[player_1[1].value,player_1[1].suit]])\n",
    "    player_2_hands.append([[player_2[0].value,player_2[0].suit],[player_2[1].value,player_2[1].suit]])\n",
    "    board = deck[4:9]\n",
    "    player_1 = player_1 +board\n",
    "    player_2 = player_2 +board\n",
    "    strengths.append(compare_hands([player_1,player_2]))\n",
    "    boards.append([[card.value,card.suit] for card in board])\n"
   ],
   "metadata": {
    "collapsed": false,
    "pycharm": {
     "name": "#%%\n"
    }
   }
  },
  {
   "cell_type": "code",
   "execution_count": 64,
   "outputs": [],
   "source": [
    "player_1_array = np.array(player_1_hands).reshape((n_hands,4))\n",
    "player_2_array = np.array(player_2_hands).reshape((n_hands,4))\n",
    "boards_array = np.array(boards).reshape(n_hands,10)\n",
    "strengths_array = np.array(strengths).reshape(n_hands,2)\n",
    "data = pd.DataFrame(columns=[\"p1_c_1_val\",\"p1_c_1_suit\",\"p1_c_2_val\",\"p1_c_2_suit\",\"p2_c_1_val\",\"p2_c_1_suit\",\"p2_c_2_val\",\"p2_c_2_suit\",\n",
    "                             \"f_1_val\",\"f_1_suit\",\"f_2_val\",\"f_2_suit\",\"f_3_val\",\"f_3_suit\",\"t_val\",\"t_suit\",\"r_val\",\"r_suit\",\"strength_1\", \"strength_2\"])"
   ],
   "metadata": {
    "collapsed": false,
    "pycharm": {
     "name": "#%%\n"
    }
   }
  },
  {
   "cell_type": "code",
   "execution_count": 65,
   "outputs": [],
   "source": [
    "data[[\"p1_c_1_val\",\"p1_c_1_suit\",\"p1_c_2_val\",\"p1_c_2_suit\"]] = player_1_array\n",
    "data[[\"p2_c_1_val\",\"p2_c_1_suit\",\"p2_c_2_val\",\"p2_c_2_suit\"]] = player_2_array\n",
    "data[[\"f_1_val\",\"f_1_suit\",\"f_2_val\",\"f_2_suit\",\"f_3_val\",\"f_3_suit\",\"t_val\",\"t_suit\",\"r_val\",\"r_suit\"]]=boards_array\n",
    "data[[\"strength_1\",\"strength_2\"]]= strengths_array"
   ],
   "metadata": {
    "collapsed": false,
    "pycharm": {
     "name": "#%%\n"
    }
   }
  },
  {
   "cell_type": "code",
   "execution_count": 66,
   "outputs": [
    {
     "data": {
      "text/plain": "        p1_c_1_val  p1_c_1_suit  p1_c_2_val  p1_c_2_suit  p2_c_1_val  \\\n0               13            1           5            2           7   \n1                2            2           9            0           4   \n2                4            3          11            3           3   \n3                2            2          13            1           6   \n4                6            1           5            0           7   \n...            ...          ...         ...          ...         ...   \n999995           7            3           8            0           9   \n999996          12            2           9            3           6   \n999997           7            1          14            1          12   \n999998           6            1           3            0          14   \n999999           8            2           4            3           7   \n\n        p2_c_1_suit  p2_c_2_val  p2_c_2_suit  f_1_val  f_1_suit  ...  \\\n0                 0           4            1        8         2  ...   \n1                 3          12            2        9         1  ...   \n2                 3          11            2       11         1  ...   \n3                 1           5            0       11         1  ...   \n4                 3           3            2       11         1  ...   \n...             ...         ...          ...      ...       ...  ...   \n999995            0           9            1        3         1  ...   \n999996            1          14            2       13         2  ...   \n999997            0          13            3       12         3  ...   \n999998            0           8            1       11         0  ...   \n999999            2           3            2        3         3  ...   \n\n        f_2_suit  f_3_val  f_3_suit  t_val  t_suit  r_val  r_suit  strength_1  \\\n0              1        7         2     12       2     12       1    1.121308   \n1              3       14         2      9       2     10       1    3.091413   \n2              1       14         0     13       1      8       3    2.141113   \n3              3        9         3     14       1      7       3    1.141311   \n4              0       14         1      8       3     10       2    0.141110   \n...          ...      ...       ...    ...     ...    ...     ...         ...   \n999995         2       14         3      5       1      5       0    1.051408   \n999996         2        4         1      6       3     14       0    0.141312   \n999997         1       13         0     12       1     10       0    1.121413   \n999998         0        5         1     10       2     14       3    0.141110   \n999999         2       10         0      2       3      2       1    1.021008   \n\n        strength_2  result  \n0         2.120708       2  \n1         1.091413       1  \n2         2.141113       0  \n3         1.141109       1  \n4         0.141110       2  \n...            ...     ...  \n999995    2.090514       2  \n999996    2.140613       2  \n999997    6.121300       2  \n999998    1.141110       2  \n999999    2.030210       2  \n\n[1000000 rows x 21 columns]",
      "text/html": "<div>\n<style scoped>\n    .dataframe tbody tr th:only-of-type {\n        vertical-align: middle;\n    }\n\n    .dataframe tbody tr th {\n        vertical-align: top;\n    }\n\n    .dataframe thead th {\n        text-align: right;\n    }\n</style>\n<table border=\"1\" class=\"dataframe\">\n  <thead>\n    <tr style=\"text-align: right;\">\n      <th></th>\n      <th>p1_c_1_val</th>\n      <th>p1_c_1_suit</th>\n      <th>p1_c_2_val</th>\n      <th>p1_c_2_suit</th>\n      <th>p2_c_1_val</th>\n      <th>p2_c_1_suit</th>\n      <th>p2_c_2_val</th>\n      <th>p2_c_2_suit</th>\n      <th>f_1_val</th>\n      <th>f_1_suit</th>\n      <th>...</th>\n      <th>f_2_suit</th>\n      <th>f_3_val</th>\n      <th>f_3_suit</th>\n      <th>t_val</th>\n      <th>t_suit</th>\n      <th>r_val</th>\n      <th>r_suit</th>\n      <th>strength_1</th>\n      <th>strength_2</th>\n      <th>result</th>\n    </tr>\n  </thead>\n  <tbody>\n    <tr>\n      <th>0</th>\n      <td>13</td>\n      <td>1</td>\n      <td>5</td>\n      <td>2</td>\n      <td>7</td>\n      <td>0</td>\n      <td>4</td>\n      <td>1</td>\n      <td>8</td>\n      <td>2</td>\n      <td>...</td>\n      <td>1</td>\n      <td>7</td>\n      <td>2</td>\n      <td>12</td>\n      <td>2</td>\n      <td>12</td>\n      <td>1</td>\n      <td>1.121308</td>\n      <td>2.120708</td>\n      <td>2</td>\n    </tr>\n    <tr>\n      <th>1</th>\n      <td>2</td>\n      <td>2</td>\n      <td>9</td>\n      <td>0</td>\n      <td>4</td>\n      <td>3</td>\n      <td>12</td>\n      <td>2</td>\n      <td>9</td>\n      <td>1</td>\n      <td>...</td>\n      <td>3</td>\n      <td>14</td>\n      <td>2</td>\n      <td>9</td>\n      <td>2</td>\n      <td>10</td>\n      <td>1</td>\n      <td>3.091413</td>\n      <td>1.091413</td>\n      <td>1</td>\n    </tr>\n    <tr>\n      <th>2</th>\n      <td>4</td>\n      <td>3</td>\n      <td>11</td>\n      <td>3</td>\n      <td>3</td>\n      <td>3</td>\n      <td>11</td>\n      <td>2</td>\n      <td>11</td>\n      <td>1</td>\n      <td>...</td>\n      <td>1</td>\n      <td>14</td>\n      <td>0</td>\n      <td>13</td>\n      <td>1</td>\n      <td>8</td>\n      <td>3</td>\n      <td>2.141113</td>\n      <td>2.141113</td>\n      <td>0</td>\n    </tr>\n    <tr>\n      <th>3</th>\n      <td>2</td>\n      <td>2</td>\n      <td>13</td>\n      <td>1</td>\n      <td>6</td>\n      <td>1</td>\n      <td>5</td>\n      <td>0</td>\n      <td>11</td>\n      <td>1</td>\n      <td>...</td>\n      <td>3</td>\n      <td>9</td>\n      <td>3</td>\n      <td>14</td>\n      <td>1</td>\n      <td>7</td>\n      <td>3</td>\n      <td>1.141311</td>\n      <td>1.141109</td>\n      <td>1</td>\n    </tr>\n    <tr>\n      <th>4</th>\n      <td>6</td>\n      <td>1</td>\n      <td>5</td>\n      <td>0</td>\n      <td>7</td>\n      <td>3</td>\n      <td>3</td>\n      <td>2</td>\n      <td>11</td>\n      <td>1</td>\n      <td>...</td>\n      <td>0</td>\n      <td>14</td>\n      <td>1</td>\n      <td>8</td>\n      <td>3</td>\n      <td>10</td>\n      <td>2</td>\n      <td>0.141110</td>\n      <td>0.141110</td>\n      <td>2</td>\n    </tr>\n    <tr>\n      <th>...</th>\n      <td>...</td>\n      <td>...</td>\n      <td>...</td>\n      <td>...</td>\n      <td>...</td>\n      <td>...</td>\n      <td>...</td>\n      <td>...</td>\n      <td>...</td>\n      <td>...</td>\n      <td>...</td>\n      <td>...</td>\n      <td>...</td>\n      <td>...</td>\n      <td>...</td>\n      <td>...</td>\n      <td>...</td>\n      <td>...</td>\n      <td>...</td>\n      <td>...</td>\n      <td>...</td>\n    </tr>\n    <tr>\n      <th>999995</th>\n      <td>7</td>\n      <td>3</td>\n      <td>8</td>\n      <td>0</td>\n      <td>9</td>\n      <td>0</td>\n      <td>9</td>\n      <td>1</td>\n      <td>3</td>\n      <td>1</td>\n      <td>...</td>\n      <td>2</td>\n      <td>14</td>\n      <td>3</td>\n      <td>5</td>\n      <td>1</td>\n      <td>5</td>\n      <td>0</td>\n      <td>1.051408</td>\n      <td>2.090514</td>\n      <td>2</td>\n    </tr>\n    <tr>\n      <th>999996</th>\n      <td>12</td>\n      <td>2</td>\n      <td>9</td>\n      <td>3</td>\n      <td>6</td>\n      <td>1</td>\n      <td>14</td>\n      <td>2</td>\n      <td>13</td>\n      <td>2</td>\n      <td>...</td>\n      <td>2</td>\n      <td>4</td>\n      <td>1</td>\n      <td>6</td>\n      <td>3</td>\n      <td>14</td>\n      <td>0</td>\n      <td>0.141312</td>\n      <td>2.140613</td>\n      <td>2</td>\n    </tr>\n    <tr>\n      <th>999997</th>\n      <td>7</td>\n      <td>1</td>\n      <td>14</td>\n      <td>1</td>\n      <td>12</td>\n      <td>0</td>\n      <td>13</td>\n      <td>3</td>\n      <td>12</td>\n      <td>3</td>\n      <td>...</td>\n      <td>1</td>\n      <td>13</td>\n      <td>0</td>\n      <td>12</td>\n      <td>1</td>\n      <td>10</td>\n      <td>0</td>\n      <td>1.121413</td>\n      <td>6.121300</td>\n      <td>2</td>\n    </tr>\n    <tr>\n      <th>999998</th>\n      <td>6</td>\n      <td>1</td>\n      <td>3</td>\n      <td>0</td>\n      <td>14</td>\n      <td>0</td>\n      <td>8</td>\n      <td>1</td>\n      <td>11</td>\n      <td>0</td>\n      <td>...</td>\n      <td>0</td>\n      <td>5</td>\n      <td>1</td>\n      <td>10</td>\n      <td>2</td>\n      <td>14</td>\n      <td>3</td>\n      <td>0.141110</td>\n      <td>1.141110</td>\n      <td>2</td>\n    </tr>\n    <tr>\n      <th>999999</th>\n      <td>8</td>\n      <td>2</td>\n      <td>4</td>\n      <td>3</td>\n      <td>7</td>\n      <td>2</td>\n      <td>3</td>\n      <td>2</td>\n      <td>3</td>\n      <td>3</td>\n      <td>...</td>\n      <td>2</td>\n      <td>10</td>\n      <td>0</td>\n      <td>2</td>\n      <td>3</td>\n      <td>2</td>\n      <td>1</td>\n      <td>1.021008</td>\n      <td>2.030210</td>\n      <td>2</td>\n    </tr>\n  </tbody>\n</table>\n<p>1000000 rows × 21 columns</p>\n</div>"
     },
     "execution_count": 66,
     "metadata": {},
     "output_type": "execute_result"
    }
   ],
   "source": [
    "def find_result(a,b):\n",
    "    if a == b:\n",
    "        return 0\n",
    "    elif a > b:\n",
    "        return 1\n",
    "    else:\n",
    "        return 2\n",
    "data[\"result\"] = data.apply(lambda row: find_result(row[\"strength_1\"], row[\"strength_2\"]), axis=1)\n",
    "data"
   ],
   "metadata": {
    "collapsed": false,
    "pycharm": {
     "name": "#%%\n"
    }
   }
  },
  {
   "cell_type": "code",
   "execution_count": 88,
   "outputs": [],
   "source": [
    "input_dims = 18\n",
    "\n",
    "fc1_dims = 128\n",
    "fc2_dims = 64\n",
    "fc3_dims = 32\n",
    "fc4_dims = 16\n",
    "fc5_dims = 8\n",
    "fc6_dims = 4\n",
    "\n",
    "lr = 0.0001\n",
    "model= keras.Sequential()\n",
    "model.add(keras.layers.Dense(fc1_dims, input_dim=input_dims, activation = 'relu'))\n",
    "model.add(keras.layers.Dense(fc2_dims, activation = 'relu'))\n",
    "model.add(keras.layers.Dense(fc3_dims, activation = 'relu'))\n",
    "model.add(keras.layers.Dense(fc4_dims, activation = 'relu'))\n",
    "model.add(keras.layers.Dense(fc5_dims, activation = 'relu'))\n",
    "model.add(keras.layers.Dense(fc6_dims, activation = 'relu'))\n",
    "model.add(keras.layers.Dense(3,activation='softmax')) #pwin, ploose and pplit must add up to 1.\n",
    "model.compile(optimizer=Adam(learning_rate=lr), loss='categorical_crossentropy')"
   ],
   "metadata": {
    "collapsed": false,
    "pycharm": {
     "name": "#%%\n"
    }
   }
  },
  {
   "cell_type": "code",
   "execution_count": 87,
   "outputs": [],
   "source": [
    "X_train = np.array(data.iloc[:970000,:18])\n",
    "Y_train = np.array(data.iloc[:970000,-1])\n",
    "Y_train = to_categorical(Y_train)\n",
    "X_test = np.array(data.iloc[970000:,:18])\n",
    "Y_test = np.array(data.iloc[970000:,-1])\n",
    "Y_test = to_categorical(Y_test)"
   ],
   "metadata": {
    "collapsed": false,
    "pycharm": {
     "name": "#%%\n"
    }
   }
  },
  {
   "cell_type": "code",
   "execution_count": 105,
   "outputs": [
    {
     "name": "stdout",
     "output_type": "stream",
     "text": [
      "Epoch 1/200\n",
      "15157/15157 [==============================] - 37s 2ms/step - loss: 0.4827\n",
      "Epoch 2/200\n",
      "15157/15157 [==============================] - 36s 2ms/step - loss: 0.4821\n",
      "Epoch 3/200\n",
      "15157/15157 [==============================] - 36s 2ms/step - loss: 0.4818\n",
      "Epoch 4/200\n",
      "15157/15157 [==============================] - 36s 2ms/step - loss: 0.4810\n",
      "Epoch 5/200\n",
      "15157/15157 [==============================] - 36s 2ms/step - loss: 0.4804\n",
      "Epoch 6/200\n",
      "15157/15157 [==============================] - 37s 2ms/step - loss: 0.4801\n",
      "Epoch 7/200\n",
      "15157/15157 [==============================] - 37s 2ms/step - loss: 0.4796\n",
      "Epoch 8/200\n",
      "15157/15157 [==============================] - 37s 2ms/step - loss: 0.4788\n",
      "Epoch 9/200\n",
      "15157/15157 [==============================] - 38s 2ms/step - loss: 0.4785\n",
      "Epoch 10/200\n",
      "15157/15157 [==============================] - 37s 2ms/step - loss: 0.4775\n",
      "Epoch 11/200\n",
      "15157/15157 [==============================] - 38s 2ms/step - loss: 0.4771\n",
      "Epoch 12/200\n",
      "15157/15157 [==============================] - 38s 3ms/step - loss: 0.4765\n",
      "Epoch 13/200\n",
      "15157/15157 [==============================] - 38s 3ms/step - loss: 0.4762\n",
      "Epoch 14/200\n",
      "15157/15157 [==============================] - 39s 3ms/step - loss: 0.4756\n",
      "Epoch 15/200\n",
      "15157/15157 [==============================] - 40s 3ms/step - loss: 0.4746\n",
      "Epoch 16/200\n",
      "15157/15157 [==============================] - 40s 3ms/step - loss: 0.4744\n",
      "Epoch 17/200\n",
      "15157/15157 [==============================] - 40s 3ms/step - loss: 0.4735\n",
      "Epoch 18/200\n",
      "15157/15157 [==============================] - 41s 3ms/step - loss: 0.4729\n",
      "Epoch 19/200\n",
      "15157/15157 [==============================] - 39s 3ms/step - loss: 0.4725\n",
      "Epoch 20/200\n",
      "15157/15157 [==============================] - 35s 2ms/step - loss: 0.4720\n",
      "Epoch 21/200\n",
      "15157/15157 [==============================] - 34s 2ms/step - loss: 0.4716\n",
      "Epoch 22/200\n",
      "15157/15157 [==============================] - 35s 2ms/step - loss: 0.4705\n",
      "Epoch 23/200\n",
      "15157/15157 [==============================] - 35s 2ms/step - loss: 0.4701\n",
      "Epoch 24/200\n",
      "15157/15157 [==============================] - 35s 2ms/step - loss: 0.4695\n",
      "Epoch 25/200\n",
      "15157/15157 [==============================] - 35s 2ms/step - loss: 0.4685\n",
      "Epoch 26/200\n",
      "15157/15157 [==============================] - 35s 2ms/step - loss: 0.4684\n",
      "Epoch 27/200\n",
      "15157/15157 [==============================] - 34s 2ms/step - loss: 0.4678\n",
      "Epoch 28/200\n",
      "15157/15157 [==============================] - 35s 2ms/step - loss: 0.4670\n",
      "Epoch 29/200\n",
      "15157/15157 [==============================] - 36s 2ms/step - loss: 0.4667\n",
      "Epoch 30/200\n",
      "15157/15157 [==============================] - 35s 2ms/step - loss: 0.4656\n",
      "Epoch 31/200\n",
      "15157/15157 [==============================] - 35s 2ms/step - loss: 0.4650\n",
      "Epoch 32/200\n",
      "15157/15157 [==============================] - 35s 2ms/step - loss: 0.4645\n",
      "Epoch 33/200\n",
      "15157/15157 [==============================] - 35s 2ms/step - loss: 0.4639\n",
      "Epoch 34/200\n",
      "15157/15157 [==============================] - 35s 2ms/step - loss: 0.4629\n",
      "Epoch 35/200\n",
      "15157/15157 [==============================] - 36s 2ms/step - loss: 0.4621\n",
      "Epoch 36/200\n",
      "15157/15157 [==============================] - 35s 2ms/step - loss: 0.4616\n",
      "Epoch 37/200\n",
      "15157/15157 [==============================] - 36s 2ms/step - loss: 0.4610\n",
      "Epoch 38/200\n",
      "15157/15157 [==============================] - 36s 2ms/step - loss: 0.4607\n",
      "Epoch 39/200\n",
      "15157/15157 [==============================] - 36s 2ms/step - loss: 0.4601\n",
      "Epoch 40/200\n",
      "15157/15157 [==============================] - 36s 2ms/step - loss: 0.4596\n",
      "Epoch 41/200\n",
      "15157/15157 [==============================] - 36s 2ms/step - loss: 0.4590\n",
      "Epoch 42/200\n",
      "15157/15157 [==============================] - 35s 2ms/step - loss: 0.4587\n",
      "Epoch 43/200\n",
      "15157/15157 [==============================] - 35s 2ms/step - loss: 0.4581\n",
      "Epoch 44/200\n",
      "15157/15157 [==============================] - 35s 2ms/step - loss: 0.4576\n",
      "Epoch 45/200\n",
      "15157/15157 [==============================] - 36s 2ms/step - loss: 0.4572\n",
      "Epoch 46/200\n",
      "15157/15157 [==============================] - 35s 2ms/step - loss: 0.4568\n",
      "Epoch 47/200\n",
      "15157/15157 [==============================] - 35s 2ms/step - loss: 0.4566\n",
      "Epoch 48/200\n",
      "15157/15157 [==============================] - 37s 2ms/step - loss: 0.4562\n",
      "Epoch 49/200\n",
      "15157/15157 [==============================] - 40s 3ms/step - loss: 0.4555\n",
      "Epoch 50/200\n",
      "15157/15157 [==============================] - 40s 3ms/step - loss: 0.4548\n",
      "Epoch 51/200\n",
      "15157/15157 [==============================] - 38s 3ms/step - loss: 0.4548\n",
      "Epoch 52/200\n",
      "15157/15157 [==============================] - 38s 3ms/step - loss: 0.4546\n",
      "Epoch 53/200\n",
      "15157/15157 [==============================] - 37s 2ms/step - loss: 0.4541\n",
      "Epoch 54/200\n",
      "15157/15157 [==============================] - 38s 3ms/step - loss: 0.4536\n",
      "Epoch 55/200\n",
      "15157/15157 [==============================] - 38s 2ms/step - loss: 0.4530\n",
      "Epoch 56/200\n",
      "15157/15157 [==============================] - 38s 2ms/step - loss: 0.4529\n",
      "Epoch 57/200\n",
      "15157/15157 [==============================] - 38s 2ms/step - loss: 0.4524\n",
      "Epoch 58/200\n",
      "15157/15157 [==============================] - 38s 3ms/step - loss: 0.4521\n",
      "Epoch 59/200\n",
      "15157/15157 [==============================] - 38s 2ms/step - loss: 0.4516\n",
      "Epoch 60/200\n",
      "15157/15157 [==============================] - 38s 2ms/step - loss: 0.4511\n",
      "Epoch 61/200\n",
      "15157/15157 [==============================] - 38s 2ms/step - loss: 0.4512\n",
      "Epoch 62/200\n",
      "15157/15157 [==============================] - 38s 3ms/step - loss: 0.4507\n",
      "Epoch 63/200\n",
      "15157/15157 [==============================] - 38s 2ms/step - loss: 0.4503\n",
      "Epoch 64/200\n",
      "15157/15157 [==============================] - 37s 2ms/step - loss: 0.4501\n",
      "Epoch 65/200\n",
      "15157/15157 [==============================] - 35s 2ms/step - loss: 0.4498\n",
      "Epoch 66/200\n",
      "15157/15157 [==============================] - 35s 2ms/step - loss: 0.4491\n",
      "Epoch 67/200\n",
      "15157/15157 [==============================] - 36s 2ms/step - loss: 0.4487\n",
      "Epoch 68/200\n",
      "15157/15157 [==============================] - 36s 2ms/step - loss: 0.4484\n",
      "Epoch 69/200\n",
      "15157/15157 [==============================] - 35s 2ms/step - loss: 0.4481\n",
      "Epoch 70/200\n",
      "15157/15157 [==============================] - 35s 2ms/step - loss: 0.4478\n",
      "Epoch 71/200\n",
      "15157/15157 [==============================] - 36s 2ms/step - loss: 0.4476\n",
      "Epoch 72/200\n",
      "15157/15157 [==============================] - 35s 2ms/step - loss: 0.4470\n",
      "Epoch 73/200\n",
      "15157/15157 [==============================] - 35s 2ms/step - loss: 0.4467\n",
      "Epoch 74/200\n",
      "15157/15157 [==============================] - 37s 2ms/step - loss: 0.4467\n",
      "Epoch 75/200\n",
      "15157/15157 [==============================] - 37s 2ms/step - loss: 0.4463\n",
      "Epoch 76/200\n",
      "15157/15157 [==============================] - 37s 2ms/step - loss: 0.4459\n",
      "Epoch 77/200\n",
      "15157/15157 [==============================] - 36s 2ms/step - loss: 0.4454\n",
      "Epoch 78/200\n",
      "15157/15157 [==============================] - 36s 2ms/step - loss: 0.4452\n",
      "Epoch 79/200\n",
      "15157/15157 [==============================] - 36s 2ms/step - loss: 0.4443\n",
      "Epoch 80/200\n",
      "15157/15157 [==============================] - 35s 2ms/step - loss: 0.4446\n",
      "Epoch 81/200\n",
      "15157/15157 [==============================] - 39s 3ms/step - loss: 0.4442\n",
      "Epoch 82/200\n",
      "15157/15157 [==============================] - 39s 3ms/step - loss: 0.4436\n",
      "Epoch 83/200\n",
      "15157/15157 [==============================] - 38s 3ms/step - loss: 0.4435\n",
      "Epoch 84/200\n",
      "15157/15157 [==============================] - 38s 3ms/step - loss: 0.4429\n",
      "Epoch 85/200\n",
      "15157/15157 [==============================] - 40s 3ms/step - loss: 0.4429\n",
      "Epoch 86/200\n",
      "15157/15157 [==============================] - 39s 3ms/step - loss: 0.4420\n",
      "Epoch 87/200\n",
      "15157/15157 [==============================] - 39s 3ms/step - loss: 0.4418\n",
      "Epoch 88/200\n",
      "15157/15157 [==============================] - 38s 3ms/step - loss: 0.4418\n",
      "Epoch 89/200\n",
      "15157/15157 [==============================] - 39s 3ms/step - loss: 0.4412\n",
      "Epoch 90/200\n",
      "15157/15157 [==============================] - 38s 3ms/step - loss: 0.4409\n",
      "Epoch 91/200\n",
      "15157/15157 [==============================] - 38s 3ms/step - loss: 0.4410\n",
      "Epoch 92/200\n",
      "15157/15157 [==============================] - 38s 3ms/step - loss: 0.4404\n",
      "Epoch 93/200\n",
      "15157/15157 [==============================] - 38s 3ms/step - loss: 0.4401\n",
      "Epoch 94/200\n",
      "15157/15157 [==============================] - 38s 3ms/step - loss: 0.4400\n",
      "Epoch 95/200\n",
      "15157/15157 [==============================] - 36s 2ms/step - loss: 0.4395\n",
      "Epoch 96/200\n",
      "15157/15157 [==============================] - 35s 2ms/step - loss: 0.4393\n",
      "Epoch 97/200\n",
      "15157/15157 [==============================] - 35s 2ms/step - loss: 0.4388\n",
      "Epoch 98/200\n",
      "15157/15157 [==============================] - 35s 2ms/step - loss: 0.4381\n",
      "Epoch 99/200\n",
      "15157/15157 [==============================] - 36s 2ms/step - loss: 0.4381\n",
      "Epoch 100/200\n",
      "15157/15157 [==============================] - 35s 2ms/step - loss: 0.4378\n",
      "Epoch 101/200\n",
      "15157/15157 [==============================] - 35s 2ms/step - loss: 0.4374\n",
      "Epoch 102/200\n",
      "15157/15157 [==============================] - 35s 2ms/step - loss: 0.4373\n",
      "Epoch 103/200\n",
      "15157/15157 [==============================] - 35s 2ms/step - loss: 0.4367\n",
      "Epoch 104/200\n",
      "15157/15157 [==============================] - 35s 2ms/step - loss: 0.4364\n",
      "Epoch 105/200\n",
      "15157/15157 [==============================] - 35s 2ms/step - loss: 0.4363\n",
      "Epoch 106/200\n",
      "15157/15157 [==============================] - 35s 2ms/step - loss: 0.4359\n",
      "Epoch 107/200\n",
      "15157/15157 [==============================] - 35s 2ms/step - loss: 0.4359\n",
      "Epoch 108/200\n",
      "15157/15157 [==============================] - 35s 2ms/step - loss: 0.4352\n",
      "Epoch 109/200\n",
      "15157/15157 [==============================] - 35s 2ms/step - loss: 0.4351\n",
      "Epoch 110/200\n",
      "15157/15157 [==============================] - 35s 2ms/step - loss: 0.4351\n",
      "Epoch 111/200\n",
      "15157/15157 [==============================] - 35s 2ms/step - loss: 0.4342\n",
      "Epoch 112/200\n",
      "15157/15157 [==============================] - 35s 2ms/step - loss: 0.4342\n",
      "Epoch 113/200\n",
      "15157/15157 [==============================] - 38s 3ms/step - loss: 0.4337\n",
      "Epoch 114/200\n",
      "15157/15157 [==============================] - 39s 3ms/step - loss: 0.4334\n",
      "Epoch 115/200\n",
      "15157/15157 [==============================] - 39s 3ms/step - loss: 0.4335\n",
      "Epoch 116/200\n",
      "15157/15157 [==============================] - 43s 3ms/step - loss: 0.4331\n",
      "Epoch 117/200\n",
      "15157/15157 [==============================] - 39s 3ms/step - loss: 0.4324\n",
      "Epoch 118/200\n",
      "15157/15157 [==============================] - 39s 3ms/step - loss: 0.4327\n",
      "Epoch 119/200\n",
      "15157/15157 [==============================] - 37s 2ms/step - loss: 0.4321\n",
      "Epoch 120/200\n",
      "15157/15157 [==============================] - 39s 3ms/step - loss: 0.4314\n",
      "Epoch 121/200\n",
      "15157/15157 [==============================] - 36s 2ms/step - loss: 0.4316\n",
      "Epoch 122/200\n",
      "15157/15157 [==============================] - 36s 2ms/step - loss: 0.4313\n",
      "Epoch 123/200\n",
      "15157/15157 [==============================] - 39s 3ms/step - loss: 0.4311\n",
      "Epoch 124/200\n",
      "15157/15157 [==============================] - 39s 3ms/step - loss: 0.4303\n",
      "Epoch 125/200\n",
      "15157/15157 [==============================] - 43s 3ms/step - loss: 0.4304\n",
      "Epoch 126/200\n",
      "15157/15157 [==============================] - 36s 2ms/step - loss: 0.4308\n",
      "Epoch 127/200\n",
      "15157/15157 [==============================] - 36s 2ms/step - loss: 0.4301\n",
      "Epoch 128/200\n",
      "15157/15157 [==============================] - 36s 2ms/step - loss: 0.4299\n",
      "Epoch 129/200\n",
      "15157/15157 [==============================] - 36s 2ms/step - loss: 0.4298\n",
      "Epoch 130/200\n",
      "15157/15157 [==============================] - 36s 2ms/step - loss: 0.4292\n",
      "Epoch 131/200\n",
      "15157/15157 [==============================] - 37s 2ms/step - loss: 0.4292\n",
      "Epoch 132/200\n",
      "15157/15157 [==============================] - 38s 3ms/step - loss: 0.4287\n",
      "Epoch 133/200\n",
      "15157/15157 [==============================] - 39s 3ms/step - loss: 0.4285\n",
      "Epoch 134/200\n",
      "15157/15157 [==============================] - 39s 3ms/step - loss: 0.4282\n",
      "Epoch 135/200\n",
      "15157/15157 [==============================] - 38s 3ms/step - loss: 0.4282\n",
      "Epoch 136/200\n",
      "15157/15157 [==============================] - 38s 2ms/step - loss: 0.4282\n",
      "Epoch 137/200\n",
      "15157/15157 [==============================] - 38s 3ms/step - loss: 0.4275\n",
      "Epoch 138/200\n",
      "15157/15157 [==============================] - 39s 3ms/step - loss: 0.4271\n",
      "Epoch 139/200\n",
      "15157/15157 [==============================] - 39s 3ms/step - loss: 0.4268\n",
      "Epoch 140/200\n",
      "15157/15157 [==============================] - 40s 3ms/step - loss: 0.4266\n",
      "Epoch 141/200\n",
      "15157/15157 [==============================] - 41s 3ms/step - loss: 0.4266\n",
      "Epoch 142/200\n",
      " 4482/15157 [=======>......................] - ETA: 29s - loss: 0.4246"
     ]
    },
    {
     "ename": "KeyboardInterrupt",
     "evalue": "",
     "output_type": "error",
     "traceback": [
      "\u001B[0;31m---------------------------------------------------------------------------\u001B[0m",
      "\u001B[0;31mKeyboardInterrupt\u001B[0m                         Traceback (most recent call last)",
      "Cell \u001B[0;32mIn [105], line 1\u001B[0m\n\u001B[0;32m----> 1\u001B[0m \u001B[43mmodel\u001B[49m\u001B[38;5;241;43m.\u001B[39;49m\u001B[43mfit\u001B[49m\u001B[43m(\u001B[49m\u001B[43mX_train\u001B[49m\u001B[43m,\u001B[49m\u001B[43m \u001B[49m\u001B[43mY_train\u001B[49m\u001B[43m,\u001B[49m\u001B[43m \u001B[49m\u001B[43mepochs\u001B[49m\u001B[43m \u001B[49m\u001B[38;5;241;43m=\u001B[39;49m\u001B[43m \u001B[49m\u001B[38;5;241;43m200\u001B[39;49m\u001B[43m,\u001B[49m\u001B[43m \u001B[49m\u001B[43mbatch_size\u001B[49m\u001B[38;5;241;43m=\u001B[39;49m\u001B[38;5;241;43m64\u001B[39;49m\u001B[43m)\u001B[49m\n",
      "File \u001B[0;32m~/.local/lib/python3.10/site-packages/keras/utils/traceback_utils.py:65\u001B[0m, in \u001B[0;36mfilter_traceback.<locals>.error_handler\u001B[0;34m(*args, **kwargs)\u001B[0m\n\u001B[1;32m     63\u001B[0m filtered_tb \u001B[38;5;241m=\u001B[39m \u001B[38;5;28;01mNone\u001B[39;00m\n\u001B[1;32m     64\u001B[0m \u001B[38;5;28;01mtry\u001B[39;00m:\n\u001B[0;32m---> 65\u001B[0m     \u001B[38;5;28;01mreturn\u001B[39;00m \u001B[43mfn\u001B[49m\u001B[43m(\u001B[49m\u001B[38;5;241;43m*\u001B[39;49m\u001B[43margs\u001B[49m\u001B[43m,\u001B[49m\u001B[43m \u001B[49m\u001B[38;5;241;43m*\u001B[39;49m\u001B[38;5;241;43m*\u001B[39;49m\u001B[43mkwargs\u001B[49m\u001B[43m)\u001B[49m\n\u001B[1;32m     66\u001B[0m \u001B[38;5;28;01mexcept\u001B[39;00m \u001B[38;5;167;01mException\u001B[39;00m \u001B[38;5;28;01mas\u001B[39;00m e:\n\u001B[1;32m     67\u001B[0m     filtered_tb \u001B[38;5;241m=\u001B[39m _process_traceback_frames(e\u001B[38;5;241m.\u001B[39m__traceback__)\n",
      "File \u001B[0;32m~/.local/lib/python3.10/site-packages/keras/engine/training.py:1564\u001B[0m, in \u001B[0;36mModel.fit\u001B[0;34m(self, x, y, batch_size, epochs, verbose, callbacks, validation_split, validation_data, shuffle, class_weight, sample_weight, initial_epoch, steps_per_epoch, validation_steps, validation_batch_size, validation_freq, max_queue_size, workers, use_multiprocessing)\u001B[0m\n\u001B[1;32m   1556\u001B[0m \u001B[38;5;28;01mwith\u001B[39;00m tf\u001B[38;5;241m.\u001B[39mprofiler\u001B[38;5;241m.\u001B[39mexperimental\u001B[38;5;241m.\u001B[39mTrace(\n\u001B[1;32m   1557\u001B[0m     \u001B[38;5;124m\"\u001B[39m\u001B[38;5;124mtrain\u001B[39m\u001B[38;5;124m\"\u001B[39m,\n\u001B[1;32m   1558\u001B[0m     epoch_num\u001B[38;5;241m=\u001B[39mepoch,\n\u001B[0;32m   (...)\u001B[0m\n\u001B[1;32m   1561\u001B[0m     _r\u001B[38;5;241m=\u001B[39m\u001B[38;5;241m1\u001B[39m,\n\u001B[1;32m   1562\u001B[0m ):\n\u001B[1;32m   1563\u001B[0m     callbacks\u001B[38;5;241m.\u001B[39mon_train_batch_begin(step)\n\u001B[0;32m-> 1564\u001B[0m     tmp_logs \u001B[38;5;241m=\u001B[39m \u001B[38;5;28;43mself\u001B[39;49m\u001B[38;5;241;43m.\u001B[39;49m\u001B[43mtrain_function\u001B[49m\u001B[43m(\u001B[49m\u001B[43miterator\u001B[49m\u001B[43m)\u001B[49m\n\u001B[1;32m   1565\u001B[0m     \u001B[38;5;28;01mif\u001B[39;00m data_handler\u001B[38;5;241m.\u001B[39mshould_sync:\n\u001B[1;32m   1566\u001B[0m         context\u001B[38;5;241m.\u001B[39masync_wait()\n",
      "File \u001B[0;32m~/.local/lib/python3.10/site-packages/tensorflow/python/util/traceback_utils.py:150\u001B[0m, in \u001B[0;36mfilter_traceback.<locals>.error_handler\u001B[0;34m(*args, **kwargs)\u001B[0m\n\u001B[1;32m    148\u001B[0m filtered_tb \u001B[38;5;241m=\u001B[39m \u001B[38;5;28;01mNone\u001B[39;00m\n\u001B[1;32m    149\u001B[0m \u001B[38;5;28;01mtry\u001B[39;00m:\n\u001B[0;32m--> 150\u001B[0m   \u001B[38;5;28;01mreturn\u001B[39;00m \u001B[43mfn\u001B[49m\u001B[43m(\u001B[49m\u001B[38;5;241;43m*\u001B[39;49m\u001B[43margs\u001B[49m\u001B[43m,\u001B[49m\u001B[43m \u001B[49m\u001B[38;5;241;43m*\u001B[39;49m\u001B[38;5;241;43m*\u001B[39;49m\u001B[43mkwargs\u001B[49m\u001B[43m)\u001B[49m\n\u001B[1;32m    151\u001B[0m \u001B[38;5;28;01mexcept\u001B[39;00m \u001B[38;5;167;01mException\u001B[39;00m \u001B[38;5;28;01mas\u001B[39;00m e:\n\u001B[1;32m    152\u001B[0m   filtered_tb \u001B[38;5;241m=\u001B[39m _process_traceback_frames(e\u001B[38;5;241m.\u001B[39m__traceback__)\n",
      "File \u001B[0;32m~/.local/lib/python3.10/site-packages/tensorflow/python/eager/def_function.py:915\u001B[0m, in \u001B[0;36mFunction.__call__\u001B[0;34m(self, *args, **kwds)\u001B[0m\n\u001B[1;32m    912\u001B[0m compiler \u001B[38;5;241m=\u001B[39m \u001B[38;5;124m\"\u001B[39m\u001B[38;5;124mxla\u001B[39m\u001B[38;5;124m\"\u001B[39m \u001B[38;5;28;01mif\u001B[39;00m \u001B[38;5;28mself\u001B[39m\u001B[38;5;241m.\u001B[39m_jit_compile \u001B[38;5;28;01melse\u001B[39;00m \u001B[38;5;124m\"\u001B[39m\u001B[38;5;124mnonXla\u001B[39m\u001B[38;5;124m\"\u001B[39m\n\u001B[1;32m    914\u001B[0m \u001B[38;5;28;01mwith\u001B[39;00m OptionalXlaContext(\u001B[38;5;28mself\u001B[39m\u001B[38;5;241m.\u001B[39m_jit_compile):\n\u001B[0;32m--> 915\u001B[0m   result \u001B[38;5;241m=\u001B[39m \u001B[38;5;28;43mself\u001B[39;49m\u001B[38;5;241;43m.\u001B[39;49m\u001B[43m_call\u001B[49m\u001B[43m(\u001B[49m\u001B[38;5;241;43m*\u001B[39;49m\u001B[43margs\u001B[49m\u001B[43m,\u001B[49m\u001B[43m \u001B[49m\u001B[38;5;241;43m*\u001B[39;49m\u001B[38;5;241;43m*\u001B[39;49m\u001B[43mkwds\u001B[49m\u001B[43m)\u001B[49m\n\u001B[1;32m    917\u001B[0m new_tracing_count \u001B[38;5;241m=\u001B[39m \u001B[38;5;28mself\u001B[39m\u001B[38;5;241m.\u001B[39mexperimental_get_tracing_count()\n\u001B[1;32m    918\u001B[0m without_tracing \u001B[38;5;241m=\u001B[39m (tracing_count \u001B[38;5;241m==\u001B[39m new_tracing_count)\n",
      "File \u001B[0;32m~/.local/lib/python3.10/site-packages/tensorflow/python/eager/def_function.py:954\u001B[0m, in \u001B[0;36mFunction._call\u001B[0;34m(self, *args, **kwds)\u001B[0m\n\u001B[1;32m    951\u001B[0m \u001B[38;5;28mself\u001B[39m\u001B[38;5;241m.\u001B[39m_lock\u001B[38;5;241m.\u001B[39mrelease()\n\u001B[1;32m    952\u001B[0m \u001B[38;5;66;03m# In this case we have not created variables on the first call. So we can\u001B[39;00m\n\u001B[1;32m    953\u001B[0m \u001B[38;5;66;03m# run the first trace but we should fail if variables are created.\u001B[39;00m\n\u001B[0;32m--> 954\u001B[0m results \u001B[38;5;241m=\u001B[39m \u001B[38;5;28;43mself\u001B[39;49m\u001B[38;5;241;43m.\u001B[39;49m\u001B[43m_stateful_fn\u001B[49m\u001B[43m(\u001B[49m\u001B[38;5;241;43m*\u001B[39;49m\u001B[43margs\u001B[49m\u001B[43m,\u001B[49m\u001B[43m \u001B[49m\u001B[38;5;241;43m*\u001B[39;49m\u001B[38;5;241;43m*\u001B[39;49m\u001B[43mkwds\u001B[49m\u001B[43m)\u001B[49m\n\u001B[1;32m    955\u001B[0m \u001B[38;5;28;01mif\u001B[39;00m \u001B[38;5;28mself\u001B[39m\u001B[38;5;241m.\u001B[39m_created_variables \u001B[38;5;129;01mand\u001B[39;00m \u001B[38;5;129;01mnot\u001B[39;00m ALLOW_DYNAMIC_VARIABLE_CREATION:\n\u001B[1;32m    956\u001B[0m   \u001B[38;5;28;01mraise\u001B[39;00m \u001B[38;5;167;01mValueError\u001B[39;00m(\u001B[38;5;124m\"\u001B[39m\u001B[38;5;124mCreating variables on a non-first call to a function\u001B[39m\u001B[38;5;124m\"\u001B[39m\n\u001B[1;32m    957\u001B[0m                    \u001B[38;5;124m\"\u001B[39m\u001B[38;5;124m decorated with tf.function.\u001B[39m\u001B[38;5;124m\"\u001B[39m)\n",
      "File \u001B[0;32m~/.local/lib/python3.10/site-packages/tensorflow/python/eager/function.py:2496\u001B[0m, in \u001B[0;36mFunction.__call__\u001B[0;34m(self, *args, **kwargs)\u001B[0m\n\u001B[1;32m   2493\u001B[0m \u001B[38;5;28;01mwith\u001B[39;00m \u001B[38;5;28mself\u001B[39m\u001B[38;5;241m.\u001B[39m_lock:\n\u001B[1;32m   2494\u001B[0m   (graph_function,\n\u001B[1;32m   2495\u001B[0m    filtered_flat_args) \u001B[38;5;241m=\u001B[39m \u001B[38;5;28mself\u001B[39m\u001B[38;5;241m.\u001B[39m_maybe_define_function(args, kwargs)\n\u001B[0;32m-> 2496\u001B[0m \u001B[38;5;28;01mreturn\u001B[39;00m \u001B[43mgraph_function\u001B[49m\u001B[38;5;241;43m.\u001B[39;49m\u001B[43m_call_flat\u001B[49m\u001B[43m(\u001B[49m\n\u001B[1;32m   2497\u001B[0m \u001B[43m    \u001B[49m\u001B[43mfiltered_flat_args\u001B[49m\u001B[43m,\u001B[49m\u001B[43m \u001B[49m\u001B[43mcaptured_inputs\u001B[49m\u001B[38;5;241;43m=\u001B[39;49m\u001B[43mgraph_function\u001B[49m\u001B[38;5;241;43m.\u001B[39;49m\u001B[43mcaptured_inputs\u001B[49m\u001B[43m)\u001B[49m\n",
      "File \u001B[0;32m~/.local/lib/python3.10/site-packages/tensorflow/python/eager/function.py:1862\u001B[0m, in \u001B[0;36mConcreteFunction._call_flat\u001B[0;34m(self, args, captured_inputs, cancellation_manager)\u001B[0m\n\u001B[1;32m   1858\u001B[0m possible_gradient_type \u001B[38;5;241m=\u001B[39m gradients_util\u001B[38;5;241m.\u001B[39mPossibleTapeGradientTypes(args)\n\u001B[1;32m   1859\u001B[0m \u001B[38;5;28;01mif\u001B[39;00m (possible_gradient_type \u001B[38;5;241m==\u001B[39m gradients_util\u001B[38;5;241m.\u001B[39mPOSSIBLE_GRADIENT_TYPES_NONE\n\u001B[1;32m   1860\u001B[0m     \u001B[38;5;129;01mand\u001B[39;00m executing_eagerly):\n\u001B[1;32m   1861\u001B[0m   \u001B[38;5;66;03m# No tape is watching; skip to running the function.\u001B[39;00m\n\u001B[0;32m-> 1862\u001B[0m   \u001B[38;5;28;01mreturn\u001B[39;00m \u001B[38;5;28mself\u001B[39m\u001B[38;5;241m.\u001B[39m_build_call_outputs(\u001B[38;5;28;43mself\u001B[39;49m\u001B[38;5;241;43m.\u001B[39;49m\u001B[43m_inference_function\u001B[49m\u001B[38;5;241;43m.\u001B[39;49m\u001B[43mcall\u001B[49m\u001B[43m(\u001B[49m\n\u001B[1;32m   1863\u001B[0m \u001B[43m      \u001B[49m\u001B[43mctx\u001B[49m\u001B[43m,\u001B[49m\u001B[43m \u001B[49m\u001B[43margs\u001B[49m\u001B[43m,\u001B[49m\u001B[43m \u001B[49m\u001B[43mcancellation_manager\u001B[49m\u001B[38;5;241;43m=\u001B[39;49m\u001B[43mcancellation_manager\u001B[49m\u001B[43m)\u001B[49m)\n\u001B[1;32m   1864\u001B[0m forward_backward \u001B[38;5;241m=\u001B[39m \u001B[38;5;28mself\u001B[39m\u001B[38;5;241m.\u001B[39m_select_forward_and_backward_functions(\n\u001B[1;32m   1865\u001B[0m     args,\n\u001B[1;32m   1866\u001B[0m     possible_gradient_type,\n\u001B[1;32m   1867\u001B[0m     executing_eagerly)\n\u001B[1;32m   1868\u001B[0m forward_function, args_with_tangents \u001B[38;5;241m=\u001B[39m forward_backward\u001B[38;5;241m.\u001B[39mforward()\n",
      "File \u001B[0;32m~/.local/lib/python3.10/site-packages/tensorflow/python/eager/function.py:499\u001B[0m, in \u001B[0;36m_EagerDefinedFunction.call\u001B[0;34m(self, ctx, args, cancellation_manager)\u001B[0m\n\u001B[1;32m    497\u001B[0m \u001B[38;5;28;01mwith\u001B[39;00m _InterpolateFunctionError(\u001B[38;5;28mself\u001B[39m):\n\u001B[1;32m    498\u001B[0m   \u001B[38;5;28;01mif\u001B[39;00m cancellation_manager \u001B[38;5;129;01mis\u001B[39;00m \u001B[38;5;28;01mNone\u001B[39;00m:\n\u001B[0;32m--> 499\u001B[0m     outputs \u001B[38;5;241m=\u001B[39m \u001B[43mexecute\u001B[49m\u001B[38;5;241;43m.\u001B[39;49m\u001B[43mexecute\u001B[49m\u001B[43m(\u001B[49m\n\u001B[1;32m    500\u001B[0m \u001B[43m        \u001B[49m\u001B[38;5;28;43mstr\u001B[39;49m\u001B[43m(\u001B[49m\u001B[38;5;28;43mself\u001B[39;49m\u001B[38;5;241;43m.\u001B[39;49m\u001B[43msignature\u001B[49m\u001B[38;5;241;43m.\u001B[39;49m\u001B[43mname\u001B[49m\u001B[43m)\u001B[49m\u001B[43m,\u001B[49m\n\u001B[1;32m    501\u001B[0m \u001B[43m        \u001B[49m\u001B[43mnum_outputs\u001B[49m\u001B[38;5;241;43m=\u001B[39;49m\u001B[38;5;28;43mself\u001B[39;49m\u001B[38;5;241;43m.\u001B[39;49m\u001B[43m_num_outputs\u001B[49m\u001B[43m,\u001B[49m\n\u001B[1;32m    502\u001B[0m \u001B[43m        \u001B[49m\u001B[43minputs\u001B[49m\u001B[38;5;241;43m=\u001B[39;49m\u001B[43margs\u001B[49m\u001B[43m,\u001B[49m\n\u001B[1;32m    503\u001B[0m \u001B[43m        \u001B[49m\u001B[43mattrs\u001B[49m\u001B[38;5;241;43m=\u001B[39;49m\u001B[43mattrs\u001B[49m\u001B[43m,\u001B[49m\n\u001B[1;32m    504\u001B[0m \u001B[43m        \u001B[49m\u001B[43mctx\u001B[49m\u001B[38;5;241;43m=\u001B[39;49m\u001B[43mctx\u001B[49m\u001B[43m)\u001B[49m\n\u001B[1;32m    505\u001B[0m   \u001B[38;5;28;01melse\u001B[39;00m:\n\u001B[1;32m    506\u001B[0m     outputs \u001B[38;5;241m=\u001B[39m execute\u001B[38;5;241m.\u001B[39mexecute_with_cancellation(\n\u001B[1;32m    507\u001B[0m         \u001B[38;5;28mstr\u001B[39m(\u001B[38;5;28mself\u001B[39m\u001B[38;5;241m.\u001B[39msignature\u001B[38;5;241m.\u001B[39mname),\n\u001B[1;32m    508\u001B[0m         num_outputs\u001B[38;5;241m=\u001B[39m\u001B[38;5;28mself\u001B[39m\u001B[38;5;241m.\u001B[39m_num_outputs,\n\u001B[0;32m   (...)\u001B[0m\n\u001B[1;32m    511\u001B[0m         ctx\u001B[38;5;241m=\u001B[39mctx,\n\u001B[1;32m    512\u001B[0m         cancellation_manager\u001B[38;5;241m=\u001B[39mcancellation_manager)\n",
      "File \u001B[0;32m~/.local/lib/python3.10/site-packages/tensorflow/python/eager/execute.py:54\u001B[0m, in \u001B[0;36mquick_execute\u001B[0;34m(op_name, num_outputs, inputs, attrs, ctx, name)\u001B[0m\n\u001B[1;32m     52\u001B[0m \u001B[38;5;28;01mtry\u001B[39;00m:\n\u001B[1;32m     53\u001B[0m   ctx\u001B[38;5;241m.\u001B[39mensure_initialized()\n\u001B[0;32m---> 54\u001B[0m   tensors \u001B[38;5;241m=\u001B[39m \u001B[43mpywrap_tfe\u001B[49m\u001B[38;5;241;43m.\u001B[39;49m\u001B[43mTFE_Py_Execute\u001B[49m\u001B[43m(\u001B[49m\u001B[43mctx\u001B[49m\u001B[38;5;241;43m.\u001B[39;49m\u001B[43m_handle\u001B[49m\u001B[43m,\u001B[49m\u001B[43m \u001B[49m\u001B[43mdevice_name\u001B[49m\u001B[43m,\u001B[49m\u001B[43m \u001B[49m\u001B[43mop_name\u001B[49m\u001B[43m,\u001B[49m\n\u001B[1;32m     55\u001B[0m \u001B[43m                                      \u001B[49m\u001B[43minputs\u001B[49m\u001B[43m,\u001B[49m\u001B[43m \u001B[49m\u001B[43mattrs\u001B[49m\u001B[43m,\u001B[49m\u001B[43m \u001B[49m\u001B[43mnum_outputs\u001B[49m\u001B[43m)\u001B[49m\n\u001B[1;32m     56\u001B[0m \u001B[38;5;28;01mexcept\u001B[39;00m core\u001B[38;5;241m.\u001B[39m_NotOkStatusException \u001B[38;5;28;01mas\u001B[39;00m e:\n\u001B[1;32m     57\u001B[0m   \u001B[38;5;28;01mif\u001B[39;00m name \u001B[38;5;129;01mis\u001B[39;00m \u001B[38;5;129;01mnot\u001B[39;00m \u001B[38;5;28;01mNone\u001B[39;00m:\n",
      "\u001B[0;31mKeyboardInterrupt\u001B[0m: "
     ]
    }
   ],
   "source": [
    "model.fit(X_train, Y_train, epochs = 200, batch_size=64)"
   ],
   "metadata": {
    "collapsed": false,
    "pycharm": {
     "name": "#%%\n"
    }
   }
  },
  {
   "cell_type": "code",
   "execution_count": 118,
   "outputs": [
    {
     "name": "stdout",
     "output_type": "stream",
     "text": [
      "938/938 [==============================] - 1s 1ms/step\n"
     ]
    },
    {
     "data": {
      "text/plain": "array([[0.00930468, 0.37504953, 0.61564577],\n       [0.00239031, 0.90693474, 0.09067492],\n       [0.10098772, 0.57427496, 0.32473734],\n       ...,\n       [0.00408461, 0.13857135, 0.857344  ],\n       [0.00119526, 0.04585903, 0.95294577],\n       [0.08170473, 0.39796764, 0.5203277 ]], dtype=float32)"
     },
     "execution_count": 118,
     "metadata": {},
     "output_type": "execute_result"
    }
   ],
   "source": [
    "model.predict(X_test)"
   ],
   "metadata": {
    "collapsed": false,
    "pycharm": {
     "name": "#%%\n"
    }
   }
  },
  {
   "cell_type": "code",
   "execution_count": 107,
   "outputs": [
    {
     "data": {
      "text/plain": "array([[0., 1., 0.],\n       [0., 0., 1.],\n       [0., 1., 0.],\n       ...,\n       [0., 0., 1.],\n       [0., 0., 1.],\n       [0., 0., 1.]], dtype=float32)"
     },
     "execution_count": 107,
     "metadata": {},
     "output_type": "execute_result"
    }
   ],
   "source": [
    "Y_test"
   ],
   "metadata": {
    "collapsed": false,
    "pycharm": {
     "name": "#%%\n"
    }
   }
  },
  {
   "cell_type": "code",
   "execution_count": 108,
   "outputs": [],
   "source": [
    "model.save('comparator.h5')"
   ],
   "metadata": {
    "collapsed": false,
    "pycharm": {
     "name": "#%%\n"
    }
   }
  },
  {
   "cell_type": "code",
   "execution_count": 103,
   "outputs": [],
   "source": [
    "model= load_model('comparator.h5')"
   ],
   "metadata": {
    "collapsed": false,
    "pycharm": {
     "name": "#%%\n"
    }
   }
  },
  {
   "cell_type": "code",
   "execution_count": 119,
   "outputs": [
    {
     "data": {
      "text/plain": "24745"
     },
     "execution_count": 119,
     "metadata": {},
     "output_type": "execute_result"
    }
   ],
   "source": [
    "np.equal(np.argmax(prediction,axis=1),np.array(data.iloc[970000:,-1])).sum()"
   ],
   "metadata": {
    "collapsed": false,
    "pycharm": {
     "name": "#%%\n"
    }
   }
  },
  {
   "cell_type": "code",
   "execution_count": null,
   "outputs": [],
   "source": [],
   "metadata": {
    "collapsed": false,
    "pycharm": {
     "name": "#%%\n"
    }
   }
  }
 ],
 "metadata": {
  "kernelspec": {
   "display_name": "Python 3",
   "language": "python",
   "name": "python3"
  },
  "language_info": {
   "codemirror_mode": {
    "name": "ipython",
    "version": 2
   },
   "file_extension": ".py",
   "mimetype": "text/x-python",
   "name": "python",
   "nbconvert_exporter": "python",
   "pygments_lexer": "ipython2",
   "version": "2.7.6"
  }
 },
 "nbformat": 4,
 "nbformat_minor": 0
}