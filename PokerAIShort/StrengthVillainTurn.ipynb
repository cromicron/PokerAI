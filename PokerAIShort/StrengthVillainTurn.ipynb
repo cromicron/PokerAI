{
 "cells": [
  {
   "cell_type": "markdown",
   "metadata": {
    "id": "RT9dOSZE_sJu"
   },
   "source": [
    "<h1>Train Neural Network To Estimate Average Strenghts and Variations on the Turn</h1>\n",
    "There was an error in the evaluator for average hand strengths in the PokerAI-Agent. We must therefore retrain the mode. The error came about in generating the training data. \n",
    "Beyond correcting the error, we want to change the outputs of the model. We want to leave the outputs at 3, but instead of outputting average win and average loss, which are actually identical, we will generate two estimates for deviations - a std for win/loss and a std for split. "
   ]
  },
  {
   "cell_type": "code",
   "execution_count": 1,
   "metadata": {
    "executionInfo": {
     "elapsed": 5627,
     "status": "ok",
     "timestamp": 1641114391085,
     "user": {
      "displayName": "Dario Nalis",
      "photoUrl": "https://lh3.googleusercontent.com/a/default-user=s64",
      "userId": "14162360762689343251"
     },
     "user_tz": -60
    },
    "id": "CvlujTMU_XG_"
   },
   "outputs": [
    {
     "name": "stderr",
     "output_type": "stream",
     "text": [
      "2022-01-13 19:48:41.255003: W tensorflow/stream_executor/platform/default/dso_loader.cc:64] Could not load dynamic library 'libcudart.so.11.0'; dlerror: libcudart.so.11.0: cannot open shared object file: No such file or directory\n",
      "2022-01-13 19:48:41.256195: I tensorflow/stream_executor/cuda/cudart_stub.cc:29] Ignore above cudart dlerror if you do not have a GPU set up on your machine.\n"
     ]
    }
   ],
   "source": [
    "import pandas as pd\n",
    "import numpy as np\n",
    "import tensorflow as tf\n",
    "from tensorflow import keras\n",
    "from tensorflow.keras.optimizers import Adam\n",
    "from tensorflow.keras.models import load_model\n",
    "from keras import backend as K\n",
    "dataFolder = 'simulatedHands/'\n",
    "modelsFolder = 'trainedModels/strengthEvaluator/'"
   ]
  },
  {
   "cell_type": "markdown",
   "metadata": {
    "id": "EgQtEKbm_aeS"
   },
   "source": [
    "<h2>Simulated boards</h2>\n",
    "We can still use 160 thousand simulated hands form the simHandsTurn-Data Set. The error was not to be found in the estimates for Hero-wins and losses. The data frame consists of hero hands and boards, as well as probabilities of winning, loosing, or splitting the hand against random opponent hands."
   ]
  },
  {
   "cell_type": "code",
   "execution_count": 2,
   "metadata": {
    "colab": {
     "base_uri": "https://localhost:8080/"
    },
    "executionInfo": {
     "elapsed": 6425,
     "status": "ok",
     "timestamp": 1641114399961,
     "user": {
      "displayName": "Dario Nalis",
      "photoUrl": "https://lh3.googleusercontent.com/a/default-user=s64",
      "userId": "14162360762689343251"
     },
     "user_tz": -60
    },
    "id": "irT9aGFV_0Al",
    "outputId": "38e5a80f-0db2-4e03-d32d-861dfd17c83b"
   },
   "outputs": [
    {
     "data": {
      "text/plain": [
       "(160000, 15)"
      ]
     },
     "execution_count": 2,
     "metadata": {},
     "output_type": "execute_result"
    }
   ],
   "source": [
    "simHandsTurn = pd.read_csv(dataFolder+'simHandsTurn.csv')\n",
    "simHandsTurn.shape"
   ]
  },
  {
   "cell_type": "code",
   "execution_count": 3,
   "metadata": {},
   "outputs": [
    {
     "data": {
      "text/html": [
       "<div>\n",
       "<style scoped>\n",
       "    .dataframe tbody tr th:only-of-type {\n",
       "        vertical-align: middle;\n",
       "    }\n",
       "\n",
       "    .dataframe tbody tr th {\n",
       "        vertical-align: top;\n",
       "    }\n",
       "\n",
       "    .dataframe thead th {\n",
       "        text-align: right;\n",
       "    }\n",
       "</style>\n",
       "<table border=\"1\" class=\"dataframe\">\n",
       "  <thead>\n",
       "    <tr style=\"text-align: right;\">\n",
       "      <th></th>\n",
       "      <th>val1</th>\n",
       "      <th>suit1</th>\n",
       "      <th>val2</th>\n",
       "      <th>suit2</th>\n",
       "      <th>f1val</th>\n",
       "      <th>f1suit</th>\n",
       "      <th>f2val</th>\n",
       "      <th>f2suit</th>\n",
       "      <th>f3val</th>\n",
       "      <th>f3suit</th>\n",
       "      <th>tval</th>\n",
       "      <th>tsuit</th>\n",
       "      <th>nwin</th>\n",
       "      <th>nloose</th>\n",
       "      <th>nsplit</th>\n",
       "    </tr>\n",
       "  </thead>\n",
       "  <tbody>\n",
       "    <tr>\n",
       "      <th>0</th>\n",
       "      <td>5</td>\n",
       "      <td>1</td>\n",
       "      <td>13</td>\n",
       "      <td>3</td>\n",
       "      <td>13</td>\n",
       "      <td>0</td>\n",
       "      <td>10</td>\n",
       "      <td>1</td>\n",
       "      <td>10</td>\n",
       "      <td>3</td>\n",
       "      <td>8</td>\n",
       "      <td>1</td>\n",
       "      <td>0.786286</td>\n",
       "      <td>0.160857</td>\n",
       "      <td>0.052857</td>\n",
       "    </tr>\n",
       "    <tr>\n",
       "      <th>1</th>\n",
       "      <td>8</td>\n",
       "      <td>0</td>\n",
       "      <td>12</td>\n",
       "      <td>2</td>\n",
       "      <td>2</td>\n",
       "      <td>2</td>\n",
       "      <td>10</td>\n",
       "      <td>0</td>\n",
       "      <td>11</td>\n",
       "      <td>2</td>\n",
       "      <td>4</td>\n",
       "      <td>1</td>\n",
       "      <td>0.319429</td>\n",
       "      <td>0.659429</td>\n",
       "      <td>0.021143</td>\n",
       "    </tr>\n",
       "    <tr>\n",
       "      <th>2</th>\n",
       "      <td>8</td>\n",
       "      <td>2</td>\n",
       "      <td>13</td>\n",
       "      <td>0</td>\n",
       "      <td>9</td>\n",
       "      <td>2</td>\n",
       "      <td>12</td>\n",
       "      <td>0</td>\n",
       "      <td>10</td>\n",
       "      <td>1</td>\n",
       "      <td>11</td>\n",
       "      <td>0</td>\n",
       "      <td>0.799429</td>\n",
       "      <td>0.040000</td>\n",
       "      <td>0.160571</td>\n",
       "    </tr>\n",
       "    <tr>\n",
       "      <th>3</th>\n",
       "      <td>2</td>\n",
       "      <td>0</td>\n",
       "      <td>13</td>\n",
       "      <td>0</td>\n",
       "      <td>12</td>\n",
       "      <td>3</td>\n",
       "      <td>12</td>\n",
       "      <td>0</td>\n",
       "      <td>7</td>\n",
       "      <td>3</td>\n",
       "      <td>13</td>\n",
       "      <td>1</td>\n",
       "      <td>0.754857</td>\n",
       "      <td>0.162571</td>\n",
       "      <td>0.082571</td>\n",
       "    </tr>\n",
       "    <tr>\n",
       "      <th>4</th>\n",
       "      <td>5</td>\n",
       "      <td>0</td>\n",
       "      <td>10</td>\n",
       "      <td>3</td>\n",
       "      <td>8</td>\n",
       "      <td>0</td>\n",
       "      <td>11</td>\n",
       "      <td>1</td>\n",
       "      <td>14</td>\n",
       "      <td>0</td>\n",
       "      <td>10</td>\n",
       "      <td>2</td>\n",
       "      <td>0.532000</td>\n",
       "      <td>0.403429</td>\n",
       "      <td>0.064571</td>\n",
       "    </tr>\n",
       "  </tbody>\n",
       "</table>\n",
       "</div>"
      ],
      "text/plain": [
       "   val1  suit1  val2  suit2  f1val  f1suit  f2val  f2suit  f3val  f3suit  \\\n",
       "0     5      1    13      3     13       0     10       1     10       3   \n",
       "1     8      0    12      2      2       2     10       0     11       2   \n",
       "2     8      2    13      0      9       2     12       0     10       1   \n",
       "3     2      0    13      0     12       3     12       0      7       3   \n",
       "4     5      0    10      3      8       0     11       1     14       0   \n",
       "\n",
       "   tval  tsuit      nwin    nloose    nsplit  \n",
       "0     8      1  0.786286  0.160857  0.052857  \n",
       "1     4      1  0.319429  0.659429  0.021143  \n",
       "2    11      0  0.799429  0.040000  0.160571  \n",
       "3    13      1  0.754857  0.162571  0.082571  \n",
       "4    10      2  0.532000  0.403429  0.064571  "
      ]
     },
     "execution_count": 3,
     "metadata": {},
     "output_type": "execute_result"
    }
   ],
   "source": [
    "simHandsTurn.head()"
   ]
  },
  {
   "cell_type": "markdown",
   "metadata": {},
   "source": [
    "Let's check how accurate those percentages are, running a few of those lines against all possible villains."
   ]
  },
  {
   "cell_type": "code",
   "execution_count": 3,
   "metadata": {},
   "outputs": [],
   "source": [
    "from itertools import combinations\n",
    "from PokerHandStrengths import compare\n",
    "#create a deck\n",
    "deck=[]\n",
    "for val in range(2,15):\n",
    "    for suit in range(4):\n",
    "        deck.append((val,suit))\n"
   ]
  },
  {
   "cell_type": "code",
   "execution_count": 4,
   "metadata": {},
   "outputs": [],
   "source": [
    "#function that takes in a row from the dataFrame and creates the list for hands usable in the compare function\n",
    "def transformHand(row):\n",
    "    rowInt = row.astype(int)\n",
    "    hero = [(rowInt[0], rowInt[1]), (rowInt[2],rowInt[3])]\n",
    "    board = [(rowInt[4], rowInt[5]), (rowInt[6],rowInt[7]),(rowInt[8], rowInt[9]), (rowInt[10],rowInt[11])]\n",
    "    return hero + board"
   ]
  },
  {
   "cell_type": "code",
   "execution_count": 5,
   "metadata": {},
   "outputs": [
    {
     "data": {
      "text/plain": [
       "[(5, 1), (13, 3), (13, 0), (10, 1), (10, 3), (8, 1)]"
      ]
     },
     "execution_count": 5,
     "metadata": {},
     "output_type": "execute_result"
    }
   ],
   "source": [
    "transformHand(simHandsTurn.iloc[0])"
   ]
  },
  {
   "cell_type": "markdown",
   "metadata": {},
   "source": [
    "Let's simulate nwin, nloose, and nsplit"
   ]
  },
  {
   "cell_type": "code",
   "execution_count": 6,
   "metadata": {},
   "outputs": [],
   "source": [
    "def simTurn(hand, nsim=2000,deck = deck):\n",
    "    import random\n",
    "    from PokerHandStrengths import compare\n",
    "    nwin = 0\n",
    "    nloose = 0\n",
    "    nsplit = 0\n",
    "    deckRemaining = set(deck)-set(hand)\n",
    "    for i in range(nsim):\n",
    "\n",
    "        sample = random.sample(deckRemaining,3)\n",
    "        vilHand = sample[:2]+hand[2:]+[sample[2] ]\n",
    "        heroHand = hand + [sample[2]]\n",
    "        result = compare({0:heroHand, 1: vilHand})\n",
    "        if result[0]==result[1]:\n",
    "            nsplit += 1\n",
    "        elif result[0]<result[1]:\n",
    "            nwin += 1\n",
    "        else:\n",
    "            nloose+=1\n",
    "    return nwin/nsim, nloose/nsim, nsplit/nsim"
   ]
  },
  {
   "cell_type": "code",
   "execution_count": 7,
   "metadata": {},
   "outputs": [],
   "source": [
    "nwin = []\n",
    "nloose = []\n",
    "nsplit = []\n",
    "for i in range(10):\n",
    "    handSim = transformHand(simHandsTurn.iloc[i])\n",
    "    result = simTurn(handSim, nsim=20000)\n",
    "    nwin.append(result[0])\n",
    "    nloose.append(result[1])\n",
    "    nsplit.append(result[2])\n"
   ]
  },
  {
   "cell_type": "code",
   "execution_count": 8,
   "metadata": {},
   "outputs": [
    {
     "data": {
      "text/plain": [
       "array([[0.7882 , 0.15325, 0.05855],\n",
       "       [0.3437 , 0.639  , 0.0173 ],\n",
       "       [0.79995, 0.03835, 0.1617 ],\n",
       "       [0.79095, 0.1546 , 0.05445],\n",
       "       [0.56375, 0.39255, 0.0437 ],\n",
       "       [0.797  , 0.04055, 0.16245],\n",
       "       [0.0947 , 0.887  , 0.0183 ],\n",
       "       [0.11775, 0.60445, 0.2778 ],\n",
       "       [0.7296 , 0.2288 , 0.0416 ],\n",
       "       [0.4581 , 0.4299 , 0.112  ]])"
      ]
     },
     "execution_count": 8,
     "metadata": {},
     "output_type": "execute_result"
    }
   ],
   "source": [
    "#save in numpy array\n",
    "simResults = np.array([nwin, nloose, nsplit]).transpose()\n",
    "simResults"
   ]
  },
  {
   "cell_type": "markdown",
   "metadata": {},
   "source": [
    "Let's check how well the percentages in the dataFrame simHandsRiver fit the newly simulated ones the exact ones, or simulated ones."
   ]
  },
  {
   "cell_type": "code",
   "execution_count": 9,
   "metadata": {},
   "outputs": [
    {
     "data": {
      "text/plain": [
       "nwin      0.000394\n",
       "nloose    0.000193\n",
       "nsplit    0.000147\n",
       "dtype: float64"
      ]
     },
     "execution_count": 9,
     "metadata": {},
     "output_type": "execute_result"
    }
   ],
   "source": [
    "((simHandsTurn.iloc[0:10,-3:] -simResults)**2).mean()"
   ]
  },
  {
   "cell_type": "markdown",
   "metadata": {},
   "source": [
    "We see that there are significant deviations. Let's resimulate the results in the data frame."
   ]
  },
  {
   "cell_type": "code",
   "execution_count": 10,
   "metadata": {},
   "outputs": [
    {
     "name": "stdout",
     "output_type": "stream",
     "text": [
      "Starting 8 engines with <class 'ipyparallel.cluster.launcher.LocalEngineSetLauncher'>\n"
     ]
    },
    {
     "data": {
      "text/plain": [
       "<Cluster(cluster_id='1641635502-xs5u', profile='default', controller=<running>, engine_sets=['1641635503'])>"
      ]
     },
     "execution_count": 10,
     "metadata": {},
     "output_type": "execute_result"
    }
   ],
   "source": [
    "#create a cluster of threads and start\n",
    "nThreads = 8\n",
    "import ipyparallel as ipp\n",
    "cluster = ipp.Cluster(n=nThreads)\n",
    "await cluster.start_cluster()"
   ]
  },
  {
   "cell_type": "code",
   "execution_count": 11,
   "metadata": {},
   "outputs": [
    {
     "name": "stdout",
     "output_type": "stream",
     "text": [
      "100%|█████████████████████████████████████████| 8/8 [00:04<00:00,  1.74engine/s]\n"
     ]
    }
   ],
   "source": [
    "rc = cluster.connect_client_sync()\n",
    "rc.wait_for_engines(n=8)"
   ]
  },
  {
   "cell_type": "code",
   "execution_count": 138,
   "metadata": {},
   "outputs": [
    {
     "data": {
      "text/html": [
       "<div>\n",
       "<style scoped>\n",
       "    .dataframe tbody tr th:only-of-type {\n",
       "        vertical-align: middle;\n",
       "    }\n",
       "\n",
       "    .dataframe tbody tr th {\n",
       "        vertical-align: top;\n",
       "    }\n",
       "\n",
       "    .dataframe thead th {\n",
       "        text-align: right;\n",
       "    }\n",
       "</style>\n",
       "<table border=\"1\" class=\"dataframe\">\n",
       "  <thead>\n",
       "    <tr style=\"text-align: right;\">\n",
       "      <th></th>\n",
       "      <th>val1</th>\n",
       "      <th>suit1</th>\n",
       "      <th>val2</th>\n",
       "      <th>suit2</th>\n",
       "      <th>f1val</th>\n",
       "      <th>f1suit</th>\n",
       "      <th>f2val</th>\n",
       "      <th>f2suit</th>\n",
       "      <th>f3val</th>\n",
       "      <th>f3suit</th>\n",
       "      <th>tval</th>\n",
       "      <th>tsuit</th>\n",
       "      <th>nwin</th>\n",
       "      <th>nloose</th>\n",
       "      <th>nsplit</th>\n",
       "    </tr>\n",
       "  </thead>\n",
       "  <tbody>\n",
       "    <tr>\n",
       "      <th>140000</th>\n",
       "      <td>9</td>\n",
       "      <td>1</td>\n",
       "      <td>12</td>\n",
       "      <td>2</td>\n",
       "      <td>2</td>\n",
       "      <td>1</td>\n",
       "      <td>9</td>\n",
       "      <td>3</td>\n",
       "      <td>8</td>\n",
       "      <td>1</td>\n",
       "      <td>4</td>\n",
       "      <td>1</td>\n",
       "      <td>0.782857</td>\n",
       "      <td>0.210571</td>\n",
       "      <td>0.006571</td>\n",
       "    </tr>\n",
       "    <tr>\n",
       "      <th>140001</th>\n",
       "      <td>6</td>\n",
       "      <td>2</td>\n",
       "      <td>12</td>\n",
       "      <td>0</td>\n",
       "      <td>5</td>\n",
       "      <td>0</td>\n",
       "      <td>2</td>\n",
       "      <td>2</td>\n",
       "      <td>7</td>\n",
       "      <td>0</td>\n",
       "      <td>11</td>\n",
       "      <td>1</td>\n",
       "      <td>0.249429</td>\n",
       "      <td>0.738286</td>\n",
       "      <td>0.012286</td>\n",
       "    </tr>\n",
       "    <tr>\n",
       "      <th>140002</th>\n",
       "      <td>5</td>\n",
       "      <td>2</td>\n",
       "      <td>8</td>\n",
       "      <td>2</td>\n",
       "      <td>5</td>\n",
       "      <td>3</td>\n",
       "      <td>8</td>\n",
       "      <td>1</td>\n",
       "      <td>6</td>\n",
       "      <td>2</td>\n",
       "      <td>8</td>\n",
       "      <td>0</td>\n",
       "      <td>0.969429</td>\n",
       "      <td>0.013714</td>\n",
       "      <td>0.016857</td>\n",
       "    </tr>\n",
       "    <tr>\n",
       "      <th>140003</th>\n",
       "      <td>8</td>\n",
       "      <td>2</td>\n",
       "      <td>10</td>\n",
       "      <td>3</td>\n",
       "      <td>2</td>\n",
       "      <td>3</td>\n",
       "      <td>8</td>\n",
       "      <td>1</td>\n",
       "      <td>14</td>\n",
       "      <td>3</td>\n",
       "      <td>12</td>\n",
       "      <td>2</td>\n",
       "      <td>0.619143</td>\n",
       "      <td>0.350000</td>\n",
       "      <td>0.030857</td>\n",
       "    </tr>\n",
       "    <tr>\n",
       "      <th>140004</th>\n",
       "      <td>2</td>\n",
       "      <td>1</td>\n",
       "      <td>6</td>\n",
       "      <td>3</td>\n",
       "      <td>11</td>\n",
       "      <td>1</td>\n",
       "      <td>4</td>\n",
       "      <td>1</td>\n",
       "      <td>10</td>\n",
       "      <td>3</td>\n",
       "      <td>13</td>\n",
       "      <td>3</td>\n",
       "      <td>0.080286</td>\n",
       "      <td>0.870000</td>\n",
       "      <td>0.049714</td>\n",
       "    </tr>\n",
       "    <tr>\n",
       "      <th>...</th>\n",
       "      <td>...</td>\n",
       "      <td>...</td>\n",
       "      <td>...</td>\n",
       "      <td>...</td>\n",
       "      <td>...</td>\n",
       "      <td>...</td>\n",
       "      <td>...</td>\n",
       "      <td>...</td>\n",
       "      <td>...</td>\n",
       "      <td>...</td>\n",
       "      <td>...</td>\n",
       "      <td>...</td>\n",
       "      <td>...</td>\n",
       "      <td>...</td>\n",
       "      <td>...</td>\n",
       "    </tr>\n",
       "    <tr>\n",
       "      <th>159995</th>\n",
       "      <td>2</td>\n",
       "      <td>3</td>\n",
       "      <td>4</td>\n",
       "      <td>2</td>\n",
       "      <td>12</td>\n",
       "      <td>1</td>\n",
       "      <td>13</td>\n",
       "      <td>3</td>\n",
       "      <td>10</td>\n",
       "      <td>0</td>\n",
       "      <td>7</td>\n",
       "      <td>1</td>\n",
       "      <td>0.048286</td>\n",
       "      <td>0.843714</td>\n",
       "      <td>0.108000</td>\n",
       "    </tr>\n",
       "    <tr>\n",
       "      <th>159996</th>\n",
       "      <td>7</td>\n",
       "      <td>1</td>\n",
       "      <td>11</td>\n",
       "      <td>0</td>\n",
       "      <td>12</td>\n",
       "      <td>0</td>\n",
       "      <td>10</td>\n",
       "      <td>0</td>\n",
       "      <td>4</td>\n",
       "      <td>2</td>\n",
       "      <td>10</td>\n",
       "      <td>3</td>\n",
       "      <td>0.291429</td>\n",
       "      <td>0.643143</td>\n",
       "      <td>0.065429</td>\n",
       "    </tr>\n",
       "    <tr>\n",
       "      <th>159997</th>\n",
       "      <td>13</td>\n",
       "      <td>1</td>\n",
       "      <td>14</td>\n",
       "      <td>2</td>\n",
       "      <td>12</td>\n",
       "      <td>1</td>\n",
       "      <td>10</td>\n",
       "      <td>3</td>\n",
       "      <td>12</td>\n",
       "      <td>2</td>\n",
       "      <td>7</td>\n",
       "      <td>0</td>\n",
       "      <td>0.602857</td>\n",
       "      <td>0.372000</td>\n",
       "      <td>0.025143</td>\n",
       "    </tr>\n",
       "    <tr>\n",
       "      <th>159998</th>\n",
       "      <td>3</td>\n",
       "      <td>3</td>\n",
       "      <td>6</td>\n",
       "      <td>0</td>\n",
       "      <td>9</td>\n",
       "      <td>3</td>\n",
       "      <td>9</td>\n",
       "      <td>0</td>\n",
       "      <td>2</td>\n",
       "      <td>0</td>\n",
       "      <td>5</td>\n",
       "      <td>3</td>\n",
       "      <td>0.180286</td>\n",
       "      <td>0.798000</td>\n",
       "      <td>0.021714</td>\n",
       "    </tr>\n",
       "    <tr>\n",
       "      <th>159999</th>\n",
       "      <td>5</td>\n",
       "      <td>3</td>\n",
       "      <td>10</td>\n",
       "      <td>2</td>\n",
       "      <td>11</td>\n",
       "      <td>1</td>\n",
       "      <td>8</td>\n",
       "      <td>0</td>\n",
       "      <td>3</td>\n",
       "      <td>2</td>\n",
       "      <td>5</td>\n",
       "      <td>1</td>\n",
       "      <td>0.620000</td>\n",
       "      <td>0.366571</td>\n",
       "      <td>0.013429</td>\n",
       "    </tr>\n",
       "  </tbody>\n",
       "</table>\n",
       "<p>20000 rows × 15 columns</p>\n",
       "</div>"
      ],
      "text/plain": [
       "        val1  suit1  val2  suit2  f1val  f1suit  f2val  f2suit  f3val  f3suit  \\\n",
       "140000     9      1    12      2      2       1      9       3      8       1   \n",
       "140001     6      2    12      0      5       0      2       2      7       0   \n",
       "140002     5      2     8      2      5       3      8       1      6       2   \n",
       "140003     8      2    10      3      2       3      8       1     14       3   \n",
       "140004     2      1     6      3     11       1      4       1     10       3   \n",
       "...      ...    ...   ...    ...    ...     ...    ...     ...    ...     ...   \n",
       "159995     2      3     4      2     12       1     13       3     10       0   \n",
       "159996     7      1    11      0     12       0     10       0      4       2   \n",
       "159997    13      1    14      2     12       1     10       3     12       2   \n",
       "159998     3      3     6      0      9       3      9       0      2       0   \n",
       "159999     5      3    10      2     11       1      8       0      3       2   \n",
       "\n",
       "        tval  tsuit      nwin    nloose    nsplit  \n",
       "140000     4      1  0.782857  0.210571  0.006571  \n",
       "140001    11      1  0.249429  0.738286  0.012286  \n",
       "140002     8      0  0.969429  0.013714  0.016857  \n",
       "140003    12      2  0.619143  0.350000  0.030857  \n",
       "140004    13      3  0.080286  0.870000  0.049714  \n",
       "...      ...    ...       ...       ...       ...  \n",
       "159995     7      1  0.048286  0.843714  0.108000  \n",
       "159996    10      3  0.291429  0.643143  0.065429  \n",
       "159997     7      0  0.602857  0.372000  0.025143  \n",
       "159998     5      3  0.180286  0.798000  0.021714  \n",
       "159999     5      1  0.620000  0.366571  0.013429  \n",
       "\n",
       "[20000 rows x 15 columns]"
      ]
     },
     "execution_count": 138,
     "metadata": {},
     "output_type": "execute_result"
    }
   ],
   "source": [
    "i=7\n",
    "step = 20000\n",
    "simHandsTurn.iloc[i*step:i*step+step]"
   ]
  },
  {
   "cell_type": "code",
   "execution_count": 20,
   "metadata": {},
   "outputs": [],
   "source": [
    "simHandsTurnNew = simHandsTurn.copy()\n",
    "step = 20000\n",
    "for i in range(8):\n",
    "    rc[i]['data'] = simHandsTurn.iloc[i*step:i*step+step]\n",
    "rc[:]['simTurn']=simTurn\n",
    "rc[:]['transformHand']= transformHand\n",
    "rc[:]['step']=step\n",
    "\n",
    "def simTurnMulti(instance):\n",
    "    import numpy as np\n",
    "    nwin = []\n",
    "    nloose = []\n",
    "    nsplit = []\n",
    "    for i in range(step):\n",
    "        handSim = transformHand(data.iloc[i])\n",
    "        result = simTurn(handSim, nsim=2000)\n",
    "        nwin.append(result[0])\n",
    "        nloose.append(result[1])\n",
    "        nsplit.append(result[2])\n",
    "    return np.array([nwin, nloose, nsplit]).transpose()"
   ]
  },
  {
   "cell_type": "code",
   "execution_count": 21,
   "metadata": {},
   "outputs": [],
   "source": [
    "winList = rc[:].map_sync(simTurnMulti,range(8))\n",
    "arr = winList[0]\n",
    "for i in range(1,8):\n",
    "    arr = np.append(arr, winList[i], axis = 0)\n",
    "simHandsTurnNew.iloc[:,-3:]=arr\n",
    "simHandsTurnNew.to_csv(dataFolder+'simHandsTurnNew.csv',index = None)"
   ]
  },
  {
   "cell_type": "markdown",
   "metadata": {},
   "source": [
    "Let's check the differences of this new data set to the simulated ones from before again and see how much we improved."
   ]
  },
  {
   "cell_type": "code",
   "execution_count": 40,
   "metadata": {},
   "outputs": [
    {
     "data": {
      "text/plain": [
       "nwin      0.000061\n",
       "nloose    0.000047\n",
       "nsplit    0.000036\n",
       "dtype: float64"
      ]
     },
     "execution_count": 40,
     "metadata": {},
     "output_type": "execute_result"
    }
   ],
   "source": [
    "((simHandsTurnNew.iloc[:10,-3:]-simResults)**2).mean()"
   ]
  },
  {
   "cell_type": "markdown",
   "metadata": {},
   "source": [
    "The error improved by an order of magnitude. Now it's time to train a model."
   ]
  },
  {
   "cell_type": "code",
   "execution_count": 8,
   "metadata": {},
   "outputs": [
    {
     "data": {
      "text/html": [
       "<div>\n",
       "<style scoped>\n",
       "    .dataframe tbody tr th:only-of-type {\n",
       "        vertical-align: middle;\n",
       "    }\n",
       "\n",
       "    .dataframe tbody tr th {\n",
       "        vertical-align: top;\n",
       "    }\n",
       "\n",
       "    .dataframe thead th {\n",
       "        text-align: right;\n",
       "    }\n",
       "</style>\n",
       "<table border=\"1\" class=\"dataframe\">\n",
       "  <thead>\n",
       "    <tr style=\"text-align: right;\">\n",
       "      <th></th>\n",
       "      <th>val1</th>\n",
       "      <th>suit1</th>\n",
       "      <th>val2</th>\n",
       "      <th>suit2</th>\n",
       "      <th>f1val</th>\n",
       "      <th>f1suit</th>\n",
       "      <th>f2val</th>\n",
       "      <th>f2suit</th>\n",
       "      <th>f3val</th>\n",
       "      <th>f3suit</th>\n",
       "      <th>tval</th>\n",
       "      <th>tsuit</th>\n",
       "      <th>nwin</th>\n",
       "      <th>nloose</th>\n",
       "      <th>nsplit</th>\n",
       "    </tr>\n",
       "  </thead>\n",
       "  <tbody>\n",
       "    <tr>\n",
       "      <th>0</th>\n",
       "      <td>5</td>\n",
       "      <td>1</td>\n",
       "      <td>13</td>\n",
       "      <td>3</td>\n",
       "      <td>13</td>\n",
       "      <td>0</td>\n",
       "      <td>10</td>\n",
       "      <td>1</td>\n",
       "      <td>10</td>\n",
       "      <td>3</td>\n",
       "      <td>8</td>\n",
       "      <td>1</td>\n",
       "      <td>0.7920</td>\n",
       "      <td>0.1465</td>\n",
       "      <td>0.0615</td>\n",
       "    </tr>\n",
       "    <tr>\n",
       "      <th>1</th>\n",
       "      <td>8</td>\n",
       "      <td>0</td>\n",
       "      <td>12</td>\n",
       "      <td>2</td>\n",
       "      <td>2</td>\n",
       "      <td>2</td>\n",
       "      <td>10</td>\n",
       "      <td>0</td>\n",
       "      <td>11</td>\n",
       "      <td>2</td>\n",
       "      <td>4</td>\n",
       "      <td>1</td>\n",
       "      <td>0.3470</td>\n",
       "      <td>0.6355</td>\n",
       "      <td>0.0175</td>\n",
       "    </tr>\n",
       "    <tr>\n",
       "      <th>2</th>\n",
       "      <td>8</td>\n",
       "      <td>2</td>\n",
       "      <td>13</td>\n",
       "      <td>0</td>\n",
       "      <td>9</td>\n",
       "      <td>2</td>\n",
       "      <td>12</td>\n",
       "      <td>0</td>\n",
       "      <td>10</td>\n",
       "      <td>1</td>\n",
       "      <td>11</td>\n",
       "      <td>0</td>\n",
       "      <td>0.8085</td>\n",
       "      <td>0.0340</td>\n",
       "      <td>0.1575</td>\n",
       "    </tr>\n",
       "    <tr>\n",
       "      <th>3</th>\n",
       "      <td>2</td>\n",
       "      <td>0</td>\n",
       "      <td>13</td>\n",
       "      <td>0</td>\n",
       "      <td>12</td>\n",
       "      <td>3</td>\n",
       "      <td>12</td>\n",
       "      <td>0</td>\n",
       "      <td>7</td>\n",
       "      <td>3</td>\n",
       "      <td>13</td>\n",
       "      <td>1</td>\n",
       "      <td>0.8005</td>\n",
       "      <td>0.1510</td>\n",
       "      <td>0.0485</td>\n",
       "    </tr>\n",
       "    <tr>\n",
       "      <th>4</th>\n",
       "      <td>5</td>\n",
       "      <td>0</td>\n",
       "      <td>10</td>\n",
       "      <td>3</td>\n",
       "      <td>8</td>\n",
       "      <td>0</td>\n",
       "      <td>11</td>\n",
       "      <td>1</td>\n",
       "      <td>14</td>\n",
       "      <td>0</td>\n",
       "      <td>10</td>\n",
       "      <td>2</td>\n",
       "      <td>0.5615</td>\n",
       "      <td>0.4010</td>\n",
       "      <td>0.0375</td>\n",
       "    </tr>\n",
       "  </tbody>\n",
       "</table>\n",
       "</div>"
      ],
      "text/plain": [
       "   val1  suit1  val2  suit2  f1val  f1suit  f2val  f2suit  f3val  f3suit  \\\n",
       "0     5      1    13      3     13       0     10       1     10       3   \n",
       "1     8      0    12      2      2       2     10       0     11       2   \n",
       "2     8      2    13      0      9       2     12       0     10       1   \n",
       "3     2      0    13      0     12       3     12       0      7       3   \n",
       "4     5      0    10      3      8       0     11       1     14       0   \n",
       "\n",
       "   tval  tsuit    nwin  nloose  nsplit  \n",
       "0     8      1  0.7920  0.1465  0.0615  \n",
       "1     4      1  0.3470  0.6355  0.0175  \n",
       "2    11      0  0.8085  0.0340  0.1575  \n",
       "3    13      1  0.8005  0.1510  0.0485  \n",
       "4    10      2  0.5615  0.4010  0.0375  "
      ]
     },
     "execution_count": 8,
     "metadata": {},
     "output_type": "execute_result"
    }
   ],
   "source": [
    "from sklearn.model_selection import train_test_split\n",
    "simHandsTurnNew = pd.read_csv(dataFolder+'simHandsTurnNew.csv')\n",
    "train, test = train_test_split(simHandsTurnNew, test_size=0.05)\n",
    "simHandsTurnNew.head()"
   ]
  },
  {
   "cell_type": "code",
   "execution_count": 9,
   "metadata": {
    "executionInfo": {
     "elapsed": 407,
     "status": "ok",
     "timestamp": 1641114401327,
     "user": {
      "displayName": "Dario Nalis",
      "photoUrl": "https://lh3.googleusercontent.com/a/default-user=s64",
      "userId": "14162360762689343251"
     },
     "user_tz": -60
    },
    "id": "P6Qh4vyzNEa6"
   },
   "outputs": [],
   "source": [
    "X_train = np.array(train.iloc[:,0:-3])\n",
    "X_test = np.array(test.iloc[:,0:-3])\n",
    "y_train = np.array(train.iloc[:,-3:])\n",
    "y_test = np.array(test.iloc[:,-3:])"
   ]
  },
  {
   "cell_type": "markdown",
   "metadata": {},
   "source": [
    "Let's generate a model."
   ]
  },
  {
   "cell_type": "code",
   "execution_count": 10,
   "metadata": {},
   "outputs": [],
   "source": [
    "input_dims = 12\n",
    "\n",
    "fc1_dims = 256\n",
    "fc2_dims = 128\n",
    "fc3_dims = 64\n",
    "fc4_dims = 32\n",
    "fc5_dims = 16\n",
    "fc6_dims = 8\n",
    "fc7_dims = 4\n",
    "\n",
    "lr = 0.0001\n",
    "modelTurnNew = keras.Sequential()\n",
    "modelTurnNew.add(keras.layers.Dense(fc1_dims, input_dim=input_dims, activation = 'relu'))\n",
    "modelTurnNew.add(keras.layers.Dense(fc2_dims, activation = 'relu'))\n",
    "modelTurnNew.add(keras.layers.Dense(fc3_dims, activation = 'relu'))\n",
    "modelTurnNew.add(keras.layers.Dense(fc4_dims, activation = 'relu'))\n",
    "modelTurnNew.add(keras.layers.Dense(fc5_dims, activation = 'relu'))\n",
    "modelTurnNew.add(keras.layers.Dense(fc6_dims, activation = 'relu'))\n",
    "modelTurnNew.add(keras.layers.Dense(fc7_dims, activation = 'relu'))\n",
    "modelTurnNew.add(keras.layers.Dense(3,activation='softmax')) #pwin, ploose and pplit must add up to 1.\n",
    "modelTurnNew.compile(optimizer=Adam(learning_rate=lr), loss='mean_squared_error')"
   ]
  },
  {
   "cell_type": "markdown",
   "metadata": {},
   "source": [
    "Train the Model. Our goal is a loss below .001"
   ]
  },
  {
   "cell_type": "code",
   "execution_count": null,
   "metadata": {},
   "outputs": [],
   "source": [
    "from keras import backend as K\n",
    "lr = 0.00001\n",
    "model = modelTurnNew\n",
    "#K.set_value(model.optimizer.learning_rate, lr)\n",
    "model.fit(X_train, y_train, batch_size=8, epochs=20)\n"
   ]
  },
  {
   "cell_type": "code",
   "execution_count": 16,
   "metadata": {},
   "outputs": [],
   "source": [
    "modelTurnLarge.save(modelsFolder+'StrengthTurnCorrectedLarge.h5')"
   ]
  },
  {
   "cell_type": "code",
   "execution_count": 13,
   "metadata": {},
   "outputs": [
    {
     "name": "stdout",
     "output_type": "stream",
     "text": [
      "250/250 [==============================] - 1s 2ms/step - loss: 0.0169\n"
     ]
    },
    {
     "data": {
      "text/plain": [
       "0.01691749505698681"
      ]
     },
     "execution_count": 13,
     "metadata": {},
     "output_type": "execute_result"
    }
   ],
   "source": [
    "modelTurnNew.evaluate(X_test, y_test)"
   ]
  },
  {
   "cell_type": "code",
   "execution_count": 153,
   "metadata": {},
   "outputs": [
    {
     "data": {
      "text/plain": [
       "0.47252667"
      ]
     },
     "execution_count": 153,
     "metadata": {},
     "output_type": "execute_result"
    }
   ],
   "source": [
    "prediction[:,1].mean()"
   ]
  },
  {
   "cell_type": "code",
   "execution_count": 16,
   "metadata": {},
   "outputs": [
    {
     "data": {
      "text/html": [
       "<div>\n",
       "<style scoped>\n",
       "    .dataframe tbody tr th:only-of-type {\n",
       "        vertical-align: middle;\n",
       "    }\n",
       "\n",
       "    .dataframe tbody tr th {\n",
       "        vertical-align: top;\n",
       "    }\n",
       "\n",
       "    .dataframe thead th {\n",
       "        text-align: right;\n",
       "    }\n",
       "</style>\n",
       "<table border=\"1\" class=\"dataframe\">\n",
       "  <thead>\n",
       "    <tr style=\"text-align: right;\">\n",
       "      <th></th>\n",
       "      <th>a</th>\n",
       "      <th>b</th>\n",
       "    </tr>\n",
       "  </thead>\n",
       "  <tbody>\n",
       "    <tr>\n",
       "      <th>0</th>\n",
       "      <td>1</td>\n",
       "      <td>2</td>\n",
       "    </tr>\n",
       "    <tr>\n",
       "      <th>1</th>\n",
       "      <td>3</td>\n",
       "      <td>4</td>\n",
       "    </tr>\n",
       "    <tr>\n",
       "      <th>2</th>\n",
       "      <td>5</td>\n",
       "      <td>6</td>\n",
       "    </tr>\n",
       "    <tr>\n",
       "      <th>3</th>\n",
       "      <td>7</td>\n",
       "      <td>8</td>\n",
       "    </tr>\n",
       "  </tbody>\n",
       "</table>\n",
       "</div>"
      ],
      "text/plain": [
       "   a  b\n",
       "0  1  2\n",
       "1  3  4\n",
       "2  5  6\n",
       "3  7  8"
      ]
     },
     "execution_count": 16,
     "metadata": {},
     "output_type": "execute_result"
    }
   ],
   "source": [
    "lst=[[1,2],[3,4], [5,6],[7,8]]\n",
    "pd.DataFrame(columns= ['a','b'], data=np.array(lst))"
   ]
  },
  {
   "cell_type": "markdown",
   "metadata": {},
   "source": [
    "<h2>Simulating average hand strengths for training data </h2>\n",
    "Now that we have a propper network to evaluate individual hand strengths, let's generate training data for average hand strengths. Instead of providing one single hand for hero, we will use all possible combinations, estimate win and loose percentages. Win and loose should be equal. This will also be our sanity check. Because the win and loose probabilities are estimated by a network, they will have some error. So we will use the mean of both as estimator for the strength of average hands. Win-loose- and split percenteges are euqivalent, because they can be calculated from each other. \n",
    "Beyond the avg-handStrength, we are interested in a variance meassure of hand strengths. So we will calculate standard deviations for win, and split-pots. The output will therefore be an average value for win/loos, an std for win/loss and a std for splits."
   ]
  },
  {
   "cell_type": "code",
   "execution_count": 11,
   "metadata": {},
   "outputs": [],
   "source": [
    "#Function takes in a row from the data frame and calculates pwin/ploose, stdwin, stdloose\n",
    "\n",
    "def strengthVillain(row):\n",
    "    import numpy as np\n",
    "    heroHand = transformHand(row)\n",
    "    deckRemaining = set(deck) -set(heroHand)\n",
    "    handsVillain= []\n",
    "    for combo in combinations(deckRemaining, 2):\n",
    "        villainHole = list(combo)\n",
    "        villainHand = np.array(villainHole + heroHand[2:])\n",
    "        handsVillain.append(list(villainHand.flatten()))\n",
    "    lstResults=[]\n",
    "    for i in range(len(handsVillain)):\n",
    "\n",
    "        rowNew = np.array(handsVillain[i])\n",
    "        newHand = transformHand(rowNew)\n",
    "        percentages = playHands(handHero = newHand, deck = deckRemaining)\n",
    "        percentagesArray = np.array(percentages)\n",
    "\n",
    "        lstResults.append(percentagesArray)\n",
    "    pwin = np.array(lstResults)[:,0].mean()\n",
    "    ploose = np.array(lstResults)[:,1].mean()\n",
    "    psplit = np.array(lstResults)[:,2].mean()\n",
    "    stdwin = np.array(lstResults)[:,0].std()\n",
    "    stdsplit = np.array(lstResults)[:,2].std()\n",
    "    return pwin, ploose, psplit, stdwin, stdsplit\n",
    "        "
   ]
  },
  {
   "cell_type": "markdown",
   "metadata": {},
   "source": [
    "To increase speed, we can calculate handstrengths on multiple threads simulataneously."
   ]
  },
  {
   "cell_type": "code",
   "execution_count": 12,
   "metadata": {},
   "outputs": [
    {
     "name": "stdout",
     "output_type": "stream",
     "text": [
      "Starting 8 engines with <class 'ipyparallel.cluster.launcher.LocalEngineSetLauncher'>\n"
     ]
    },
    {
     "data": {
      "text/plain": [
       "<Cluster(cluster_id='1641574317-it76', profile='default', controller=<running>, engine_sets=['1641574318'])>"
      ]
     },
     "execution_count": 12,
     "metadata": {},
     "output_type": "execute_result"
    }
   ],
   "source": [
    "#create a cluster of threads and start\n",
    "nThreads = 8\n",
    "import ipyparallel as ipp\n",
    "cluster = ipp.Cluster(n=nThreads)\n",
    "await cluster.start_cluster()"
   ]
  },
  {
   "cell_type": "code",
   "execution_count": 13,
   "metadata": {},
   "outputs": [
    {
     "name": "stdout",
     "output_type": "stream",
     "text": [
      "100%|█████████████████████████████████████████| 8/8 [00:07<00:00,  1.03engine/s]\n"
     ]
    }
   ],
   "source": [
    "rc = cluster.connect_client_sync()\n",
    "rc.wait_for_engines(n=8)"
   ]
  },
  {
   "cell_type": "code",
   "execution_count": 14,
   "metadata": {},
   "outputs": [],
   "source": [
    "\n",
    "\n",
    "#to use the map function, we need a function to run, with the number of instances/ threads as argument.\n",
    "def simulateHands(instance):\n",
    "    import numpy as np\n",
    "    resultList = []\n",
    "    for i in range(len(data)):\n",
    "        results = strengthVillain(data.iloc[i])\n",
    "        resultList.append(np.array(results))\n",
    "    return resultList"
   ]
  },
  {
   "cell_type": "code",
   "execution_count": null,
   "metadata": {},
   "outputs": [],
   "source": [
    "startIndex = 32\n",
    "nThreads = 8\n",
    "rowsPerThread = 20\n",
    "for i in range(nThreads):\n",
    "    #each thread has to recreate the used objects. Let's load all that we need into the threads.\n",
    "    rc[i]['data'] = simHandsRiver.iloc[startIndex:].iloc[i*rowsPerThread:i*rowsPerThread+rowsPerThread]\n",
    "    rc[i]['strengthVillain']=strengthVillain\n",
    "    rc[i]['transformHand']=transformHand\n",
    "    rc[i]['playHands'] = playHands\n",
    "    rc[i]['deck'] = deck\n",
    "    rc[i]['combinations'] = combinations\n",
    "    rc[i]['compare']=compare\n",
    "results = rc[:].map_sync(simulateHands,range(nThreads))\n",
    "strengthVil = pd.DataFrame(columns = ['pwin', 'ploose', 'psplit', 'stdwin', 'stdloose'])\n",
    "for i in range(len(results)):\n",
    "    strengthVil = strengthVil.append(pd.DataFrame(results[i], columns=strengthVil.columns), ignore_index=True)\n",
    "filename = dataFolder+'VillainStrengthCorrected'+ str(startIndex + len(strengthVil))+'.csv'\n",
    "strengthVil.to_csv(filename, index= None)\n",
    "pd.read_csv(filename)\n",
    "                   "
   ]
  },
  {
   "cell_type": "code",
   "execution_count": 29,
   "metadata": {},
   "outputs": [
    {
     "data": {
      "text/html": [
       "<div>\n",
       "<style scoped>\n",
       "    .dataframe tbody tr th:only-of-type {\n",
       "        vertical-align: middle;\n",
       "    }\n",
       "\n",
       "    .dataframe tbody tr th {\n",
       "        vertical-align: top;\n",
       "    }\n",
       "\n",
       "    .dataframe thead th {\n",
       "        text-align: right;\n",
       "    }\n",
       "</style>\n",
       "<table border=\"1\" class=\"dataframe\">\n",
       "  <thead>\n",
       "    <tr style=\"text-align: right;\">\n",
       "      <th></th>\n",
       "      <th>pwin</th>\n",
       "      <th>ploose</th>\n",
       "      <th>psplit</th>\n",
       "      <th>stdwin</th>\n",
       "      <th>stdloose</th>\n",
       "    </tr>\n",
       "  </thead>\n",
       "  <tbody>\n",
       "    <tr>\n",
       "      <th>0</th>\n",
       "      <td>0.445246</td>\n",
       "      <td>0.445246</td>\n",
       "      <td>0.021628</td>\n",
       "      <td>0.275155</td>\n",
       "      <td>0.016191</td>\n",
       "    </tr>\n",
       "    <tr>\n",
       "      <th>1</th>\n",
       "      <td>0.447849</td>\n",
       "      <td>0.447849</td>\n",
       "      <td>0.016423</td>\n",
       "      <td>0.272910</td>\n",
       "      <td>0.013184</td>\n",
       "    </tr>\n",
       "    <tr>\n",
       "      <th>2</th>\n",
       "      <td>0.404062</td>\n",
       "      <td>0.404062</td>\n",
       "      <td>0.103998</td>\n",
       "      <td>0.308995</td>\n",
       "      <td>0.094383</td>\n",
       "    </tr>\n",
       "    <tr>\n",
       "      <th>3</th>\n",
       "      <td>0.445872</td>\n",
       "      <td>0.445872</td>\n",
       "      <td>0.020378</td>\n",
       "      <td>0.273302</td>\n",
       "      <td>0.015556</td>\n",
       "    </tr>\n",
       "    <tr>\n",
       "      <th>4</th>\n",
       "      <td>0.436589</td>\n",
       "      <td>0.436589</td>\n",
       "      <td>0.038943</td>\n",
       "      <td>0.283147</td>\n",
       "      <td>0.033205</td>\n",
       "    </tr>\n",
       "    <tr>\n",
       "      <th>5</th>\n",
       "      <td>0.445100</td>\n",
       "      <td>0.445100</td>\n",
       "      <td>0.021920</td>\n",
       "      <td>0.274837</td>\n",
       "      <td>0.017700</td>\n",
       "    </tr>\n",
       "    <tr>\n",
       "      <th>6</th>\n",
       "      <td>0.450698</td>\n",
       "      <td>0.450698</td>\n",
       "      <td>0.010725</td>\n",
       "      <td>0.271046</td>\n",
       "      <td>0.013543</td>\n",
       "    </tr>\n",
       "    <tr>\n",
       "      <th>7</th>\n",
       "      <td>0.404430</td>\n",
       "      <td>0.404430</td>\n",
       "      <td>0.103261</td>\n",
       "      <td>0.310291</td>\n",
       "      <td>0.095763</td>\n",
       "    </tr>\n",
       "    <tr>\n",
       "      <th>8</th>\n",
       "      <td>0.435896</td>\n",
       "      <td>0.435896</td>\n",
       "      <td>0.040329</td>\n",
       "      <td>0.273899</td>\n",
       "      <td>0.024227</td>\n",
       "    </tr>\n",
       "    <tr>\n",
       "      <th>9</th>\n",
       "      <td>0.441831</td>\n",
       "      <td>0.441831</td>\n",
       "      <td>0.028458</td>\n",
       "      <td>0.276170</td>\n",
       "      <td>0.019636</td>\n",
       "    </tr>\n",
       "    <tr>\n",
       "      <th>10</th>\n",
       "      <td>0.450414</td>\n",
       "      <td>0.450414</td>\n",
       "      <td>0.011293</td>\n",
       "      <td>0.270750</td>\n",
       "      <td>0.012096</td>\n",
       "    </tr>\n",
       "    <tr>\n",
       "      <th>11</th>\n",
       "      <td>0.434509</td>\n",
       "      <td>0.434509</td>\n",
       "      <td>0.043104</td>\n",
       "      <td>0.273309</td>\n",
       "      <td>0.023277</td>\n",
       "    </tr>\n",
       "    <tr>\n",
       "      <th>12</th>\n",
       "      <td>0.435773</td>\n",
       "      <td>0.435773</td>\n",
       "      <td>0.040575</td>\n",
       "      <td>0.263509</td>\n",
       "      <td>0.036124</td>\n",
       "    </tr>\n",
       "    <tr>\n",
       "      <th>13</th>\n",
       "      <td>0.449597</td>\n",
       "      <td>0.449597</td>\n",
       "      <td>0.012927</td>\n",
       "      <td>0.272812</td>\n",
       "      <td>0.009847</td>\n",
       "    </tr>\n",
       "    <tr>\n",
       "      <th>14</th>\n",
       "      <td>0.431893</td>\n",
       "      <td>0.431893</td>\n",
       "      <td>0.048336</td>\n",
       "      <td>0.284063</td>\n",
       "      <td>0.035229</td>\n",
       "    </tr>\n",
       "    <tr>\n",
       "      <th>15</th>\n",
       "      <td>0.452424</td>\n",
       "      <td>0.452424</td>\n",
       "      <td>0.007273</td>\n",
       "      <td>0.269906</td>\n",
       "      <td>0.004716</td>\n",
       "    </tr>\n",
       "    <tr>\n",
       "      <th>16</th>\n",
       "      <td>0.436823</td>\n",
       "      <td>0.436823</td>\n",
       "      <td>0.038476</td>\n",
       "      <td>0.252816</td>\n",
       "      <td>0.048741</td>\n",
       "    </tr>\n",
       "    <tr>\n",
       "      <th>17</th>\n",
       "      <td>0.442508</td>\n",
       "      <td>0.442508</td>\n",
       "      <td>0.027105</td>\n",
       "      <td>0.277410</td>\n",
       "      <td>0.021800</td>\n",
       "    </tr>\n",
       "    <tr>\n",
       "      <th>18</th>\n",
       "      <td>0.452416</td>\n",
       "      <td>0.452416</td>\n",
       "      <td>0.007289</td>\n",
       "      <td>0.271957</td>\n",
       "      <td>0.003322</td>\n",
       "    </tr>\n",
       "    <tr>\n",
       "      <th>19</th>\n",
       "      <td>0.439828</td>\n",
       "      <td>0.439828</td>\n",
       "      <td>0.032466</td>\n",
       "      <td>0.273014</td>\n",
       "      <td>0.024631</td>\n",
       "    </tr>\n",
       "    <tr>\n",
       "      <th>20</th>\n",
       "      <td>0.441589</td>\n",
       "      <td>0.441589</td>\n",
       "      <td>0.028944</td>\n",
       "      <td>0.261303</td>\n",
       "      <td>0.038155</td>\n",
       "    </tr>\n",
       "    <tr>\n",
       "      <th>21</th>\n",
       "      <td>0.452048</td>\n",
       "      <td>0.452048</td>\n",
       "      <td>0.008026</td>\n",
       "      <td>0.270462</td>\n",
       "      <td>0.005618</td>\n",
       "    </tr>\n",
       "    <tr>\n",
       "      <th>22</th>\n",
       "      <td>0.449934</td>\n",
       "      <td>0.449934</td>\n",
       "      <td>0.012254</td>\n",
       "      <td>0.273487</td>\n",
       "      <td>0.018148</td>\n",
       "    </tr>\n",
       "    <tr>\n",
       "      <th>23</th>\n",
       "      <td>0.432712</td>\n",
       "      <td>0.432712</td>\n",
       "      <td>0.046697</td>\n",
       "      <td>0.274401</td>\n",
       "      <td>0.025889</td>\n",
       "    </tr>\n",
       "    <tr>\n",
       "      <th>24</th>\n",
       "      <td>0.451858</td>\n",
       "      <td>0.451858</td>\n",
       "      <td>0.008405</td>\n",
       "      <td>0.270980</td>\n",
       "      <td>0.004849</td>\n",
       "    </tr>\n",
       "    <tr>\n",
       "      <th>25</th>\n",
       "      <td>0.419026</td>\n",
       "      <td>0.419026</td>\n",
       "      <td>0.074070</td>\n",
       "      <td>0.284919</td>\n",
       "      <td>0.047190</td>\n",
       "    </tr>\n",
       "    <tr>\n",
       "      <th>26</th>\n",
       "      <td>0.449139</td>\n",
       "      <td>0.449139</td>\n",
       "      <td>0.013843</td>\n",
       "      <td>0.272173</td>\n",
       "      <td>0.012096</td>\n",
       "    </tr>\n",
       "    <tr>\n",
       "      <th>27</th>\n",
       "      <td>0.436423</td>\n",
       "      <td>0.436423</td>\n",
       "      <td>0.039276</td>\n",
       "      <td>0.274687</td>\n",
       "      <td>0.022170</td>\n",
       "    </tr>\n",
       "    <tr>\n",
       "      <th>28</th>\n",
       "      <td>0.444956</td>\n",
       "      <td>0.444956</td>\n",
       "      <td>0.022210</td>\n",
       "      <td>0.260192</td>\n",
       "      <td>0.038135</td>\n",
       "    </tr>\n",
       "    <tr>\n",
       "      <th>29</th>\n",
       "      <td>0.431857</td>\n",
       "      <td>0.431857</td>\n",
       "      <td>0.048407</td>\n",
       "      <td>0.273444</td>\n",
       "      <td>0.027750</td>\n",
       "    </tr>\n",
       "    <tr>\n",
       "      <th>30</th>\n",
       "      <td>0.445467</td>\n",
       "      <td>0.445467</td>\n",
       "      <td>0.021188</td>\n",
       "      <td>0.275872</td>\n",
       "      <td>0.016252</td>\n",
       "    </tr>\n",
       "    <tr>\n",
       "      <th>31</th>\n",
       "      <td>0.444555</td>\n",
       "      <td>0.444555</td>\n",
       "      <td>0.023012</td>\n",
       "      <td>0.268789</td>\n",
       "      <td>0.022973</td>\n",
       "    </tr>\n",
       "  </tbody>\n",
       "</table>\n",
       "</div>"
      ],
      "text/plain": [
       "        pwin    ploose    psplit    stdwin  stdloose\n",
       "0   0.445246  0.445246  0.021628  0.275155  0.016191\n",
       "1   0.447849  0.447849  0.016423  0.272910  0.013184\n",
       "2   0.404062  0.404062  0.103998  0.308995  0.094383\n",
       "3   0.445872  0.445872  0.020378  0.273302  0.015556\n",
       "4   0.436589  0.436589  0.038943  0.283147  0.033205\n",
       "5   0.445100  0.445100  0.021920  0.274837  0.017700\n",
       "6   0.450698  0.450698  0.010725  0.271046  0.013543\n",
       "7   0.404430  0.404430  0.103261  0.310291  0.095763\n",
       "8   0.435896  0.435896  0.040329  0.273899  0.024227\n",
       "9   0.441831  0.441831  0.028458  0.276170  0.019636\n",
       "10  0.450414  0.450414  0.011293  0.270750  0.012096\n",
       "11  0.434509  0.434509  0.043104  0.273309  0.023277\n",
       "12  0.435773  0.435773  0.040575  0.263509  0.036124\n",
       "13  0.449597  0.449597  0.012927  0.272812  0.009847\n",
       "14  0.431893  0.431893  0.048336  0.284063  0.035229\n",
       "15  0.452424  0.452424  0.007273  0.269906  0.004716\n",
       "16  0.436823  0.436823  0.038476  0.252816  0.048741\n",
       "17  0.442508  0.442508  0.027105  0.277410  0.021800\n",
       "18  0.452416  0.452416  0.007289  0.271957  0.003322\n",
       "19  0.439828  0.439828  0.032466  0.273014  0.024631\n",
       "20  0.441589  0.441589  0.028944  0.261303  0.038155\n",
       "21  0.452048  0.452048  0.008026  0.270462  0.005618\n",
       "22  0.449934  0.449934  0.012254  0.273487  0.018148\n",
       "23  0.432712  0.432712  0.046697  0.274401  0.025889\n",
       "24  0.451858  0.451858  0.008405  0.270980  0.004849\n",
       "25  0.419026  0.419026  0.074070  0.284919  0.047190\n",
       "26  0.449139  0.449139  0.013843  0.272173  0.012096\n",
       "27  0.436423  0.436423  0.039276  0.274687  0.022170\n",
       "28  0.444956  0.444956  0.022210  0.260192  0.038135\n",
       "29  0.431857  0.431857  0.048407  0.273444  0.027750\n",
       "30  0.445467  0.445467  0.021188  0.275872  0.016252\n",
       "31  0.444555  0.444555  0.023012  0.268789  0.022973"
      ]
     },
     "execution_count": 29,
     "metadata": {},
     "output_type": "execute_result"
    }
   ],
   "source": [
    "strengthVil = pd.DataFrame(columns = ['pwin', 'ploose', 'psplit', 'stdwin', 'stdloose'])\n",
    "for i in range(len(results)):\n",
    "    strengthVil = strengthVil.append(pd.DataFrame(results[i], columns=strengthVil.columns), ignore_index=True)\n",
    "filename = dataFolder+'VillainStrengthCorrected'+ str(len(strengthVil))+'.csv'\n",
    "strengthVil.to_csv(filename, index= None)\n",
    "pd.read_csv(filename)\n",
    "                   "
   ]
  },
  {
   "cell_type": "code",
   "execution_count": 17,
   "metadata": {
    "executionInfo": {
     "elapsed": 243,
     "status": "ok",
     "timestamp": 1641115193283,
     "user": {
      "displayName": "Dario Nalis",
      "photoUrl": "https://lh3.googleusercontent.com/a/default-user=s64",
      "userId": "14162360762689343251"
     },
     "user_tz": -60
    },
    "id": "TDz3jy2xejBJ"
   },
   "outputs": [],
   "source": [
    "input_dims = 14\n",
    "fc1_dims = 256\n",
    "fc2_dims = 128\n",
    "fc3_dims = 64\n",
    "fc4_dims = 32\n",
    "fc5_dims = 16\n",
    "fc6_dims = 8\n",
    "fc7_dims = 4\n",
    "\n",
    "\n",
    "\n",
    "lr = 0.001\n",
    "modelRiver = keras.Sequential()\n",
    "modelRiver.add(keras.layers.Dense(fc1_dims, input_dim=input_dims, activation = 'relu'))\n",
    "modelRiver.add(keras.layers.LeakyReLU (alpha=0.05))\n",
    "modelRiver.add(keras.layers.Dense(fc2_dims, activation = 'relu'))\n",
    "modelRiver.add(keras.layers.LeakyReLU (alpha=0.05))\n",
    "modelRiver.add(keras.layers.Dense(fc3_dims, activation = 'relu'))\n",
    "modelRiver.add(keras.layers.LeakyReLU (alpha=0.05))\n",
    "modelRiver.add(keras.layers.Dense(fc4_dims, activation = 'relu'))\n",
    "modelRiver.add(keras.layers.LeakyReLU (alpha=0.05))\n",
    "modelRiver.add(keras.layers.Dense(fc5_dims, activation = 'relu'))\n",
    "modelRiver.add(keras.layers.LeakyReLU (alpha=0.05))\n",
    "modelRiver.add(keras.layers.Dense(fc6_dims, activation = 'relu'))\n",
    "modelRiver.add(keras.layers.LeakyReLU (alpha=0.05))\n",
    "modelRiver.add(keras.layers.Dense(fc7_dims, activation = 'relu'))\n",
    "modelRiver.add(keras.layers.LeakyReLU (alpha=0.05))\n",
    "\n",
    "\n",
    "modelRiver.add(keras.layers.Lambda(lambda x: K.sigmoid(0.1*x)))\n",
    "modelRiver.add(keras.layers.Dense(2,activation=None))\n",
    "modelRiver.compile(optimizer=Adam(learning_rate=lr), loss='mean_squared_error')"
   ]
  },
  {
   "cell_type": "code",
   "execution_count": null,
   "metadata": {
    "id": "E22uh0m_O16X"
   },
   "outputs": [],
   "source": []
  }
 ],
 "metadata": {
  "colab": {
   "authorship_tag": "ABX9TyN/p8VnrHB28bjVBYEiuYrQ",
   "collapsed_sections": [],
   "mount_file_id": "1ptUPk_OcqDFY1NY5tDb4RPk9MJtebs6L",
   "name": "StrengthVillain.ipynb",
   "provenance": []
  },
  "kernelspec": {
   "display_name": "Python 3 (ipykernel)",
   "language": "python",
   "name": "python3"
  },
  "language_info": {
   "codemirror_mode": {
    "name": "ipython",
    "version": 3
   },
   "file_extension": ".py",
   "mimetype": "text/x-python",
   "name": "python",
   "nbconvert_exporter": "python",
   "pygments_lexer": "ipython3",
   "version": "3.8.10"
  }
 },
 "nbformat": 4,
 "nbformat_minor": 4
}
