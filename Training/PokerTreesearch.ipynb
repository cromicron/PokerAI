{
 "cells": [
  {
   "cell_type": "markdown",
   "source": [
    "# Tree-Search for Heads-Up No Limit Holdem\n",
    " The goal of this notebook is to create and test a montecarlo-simulation-algorithm to beat given policies in ho limit holdem heads-up"
   ],
   "metadata": {
    "collapsed": false,
    "pycharm": {
     "name": "#%% md\n"
    }
   }
  },
  {
   "cell_type": "code",
   "execution_count": 1,
   "outputs": [
    {
     "name": "stderr",
     "output_type": "stream",
     "text": [
      "2022-06-11 12:20:33.788225: W tensorflow/stream_executor/platform/default/dso_loader.cc:64] Could not load dynamic library 'libcudart.so.11.0'; dlerror: libcudart.so.11.0: cannot open shared object file: No such file or directory\n",
      "2022-06-11 12:20:33.788256: I tensorflow/stream_executor/cuda/cudart_stub.cc:29] Ignore above cudart dlerror if you do not have a GPU set up on your machine.\n",
      "2022-06-11 12:20:35.581490: W tensorflow/stream_executor/platform/default/dso_loader.cc:64] Could not load dynamic library 'libcuda.so.1'; dlerror: libcuda.so.1: cannot open shared object file: No such file or directory\n",
      "2022-06-11 12:20:35.581522: W tensorflow/stream_executor/cuda/cuda_driver.cc:269] failed call to cuInit: UNKNOWN ERROR (303)\n",
      "2022-06-11 12:20:35.581542: I tensorflow/stream_executor/cuda/cuda_diagnostics.cc:156] kernel driver does not appear to be running on this host (cromi-Lenovo-V15-ADA): /proc/driver/nvidia/version does not exist\n",
      "2022-06-11 12:20:35.581758: I tensorflow/core/platform/cpu_feature_guard.cc:151] This TensorFlow binary is optimized with oneAPI Deep Neural Network Library (oneDNN) to use the following CPU instructions in performance-critical operations:  AVX2 FMA\n",
      "To enable them in other operations, rebuild TensorFlow with the appropriate compiler flags.\n"
     ]
    }
   ],
   "source": [
    "from game.PokerGame import HUPoker\n",
    "from Agent2 import Agent2"
   ],
   "metadata": {
    "collapsed": false,
    "pycharm": {
     "name": "#%%\n"
    }
   }
  },
  {
   "cell_type": "code",
   "execution_count": 2,
   "outputs": [],
   "source": [
    "lr = 0.001\n",
    "gamma = 1\n",
    "n_actions = 12\n",
    "epsilon = 1\n",
    "batch_size = 32\n",
    "input_dims = (102,)\n",
    "stacksize = 10\n",
    "fname = 'trainedModels/PokerAI10BB.h5'\n",
    "layerSizes = (256,128,64, 32, 16)\n",
    "newAgent = Agent2(lr, gamma, n_actions, 0.2, batch_size, input_dims, stacksize, fname=fname, handEval=True,\n",
    "                  layerSizes=layerSizes, mem_size=100000)\n",
    "oldAgent = Agent2(lr, gamma, n_actions, 0, batch_size, input_dims, stacksize, fname=fname, handEval=True,\n",
    "                  layerSizes=layerSizes, mem_size=0)\n",
    "newAgent.load_model()\n",
    "oldAgent.load_model()\n",
    "stack_hero = stacksize\n",
    "stack_villain = stacksize\n",
    "agentHero = newAgent\n",
    "agentVillain = oldAgent\n",
    "game = HUPoker(stack_hero, stack_villain, agentHero, agentVillain)"
   ],
   "metadata": {
    "collapsed": false,
    "pycharm": {
     "name": "#%%\n"
    }
   }
  },
  {
   "cell_type": "code",
   "execution_count": 3,
   "outputs": [
    {
     "name": "stdout",
     "output_type": "stream",
     "text": [
      "0\n",
      "0\n",
      "0\n",
      "0\n",
      "1\n",
      "1\n",
      "1\n",
      "1\n",
      "2\n",
      "2\n",
      "2\n",
      "3\n",
      "3\n",
      "3\n",
      "3\n",
      "4\n",
      "4\n"
     ]
    },
    {
     "ename": "KeyboardInterrupt",
     "evalue": "",
     "output_type": "error",
     "traceback": [
      "\u001B[0;31m---------------------------------------------------------------------------\u001B[0m",
      "\u001B[0;31mKeyboardInterrupt\u001B[0m                         Traceback (most recent call last)",
      "Input \u001B[0;32mIn [3]\u001B[0m, in \u001B[0;36m<module>\u001B[0;34m\u001B[0m\n\u001B[1;32m     16\u001B[0m observation \u001B[38;5;241m=\u001B[39m np\u001B[38;5;241m.\u001B[39mappend(observation,[\u001B[38;5;241m0\u001B[39m, \u001B[38;5;241m0\u001B[39m, \u001B[38;5;241m0\u001B[39m, \u001B[38;5;241m0\u001B[39m, \u001B[38;5;241m0\u001B[39m])\n\u001B[1;32m     18\u001B[0m \u001B[38;5;28;01mtry\u001B[39;00m:\n\u001B[0;32m---> 19\u001B[0m     done \u001B[38;5;241m=\u001B[39m \u001B[43mgame\u001B[49m\u001B[38;5;241;43m.\u001B[39;49m\u001B[43mstep\u001B[49m\u001B[43m(\u001B[49m\u001B[43maction\u001B[49m\u001B[43m)\u001B[49m \u001B[38;5;66;03m#sometimes the chosen actions lead to too many moves on a street (over 20) This happens when players both chose to engage in minraise battles.\u001B[39;00m\n\u001B[1;32m     20\u001B[0m     \u001B[38;5;66;03m#we want to severely punish this behavior.\u001B[39;00m\n\u001B[1;32m     21\u001B[0m \u001B[38;5;28;01mexcept\u001B[39;00m \u001B[38;5;167;01mIndexError\u001B[39;00m: \u001B[38;5;66;03m#error happens when more than 20 actions are attepted on a single street.\u001B[39;00m\n",
      "File \u001B[0;32m~/Documents/Code/Python/PokerAI/Training/game/PokerGame.py:494\u001B[0m, in \u001B[0;36mHUPoker.step\u001B[0;34m(self, action)\u001B[0m\n\u001B[1;32m    491\u001B[0m \u001B[38;5;28;01mif\u001B[39;00m \u001B[38;5;28mself\u001B[39m\u001B[38;5;241m.\u001B[39mleft_bet_round[\u001B[38;5;241m-\u001B[39m\u001B[38;5;241m1\u001B[39m] \u001B[38;5;241m!=\u001B[39m \u001B[38;5;28mself\u001B[39m\u001B[38;5;241m.\u001B[39mposition: \u001B[38;5;66;03m#villain is next to act.\u001B[39;00m\n\u001B[1;32m    492\u001B[0m     \u001B[38;5;66;03m#constructing observation for villain to chose action on.            \u001B[39;00m\n\u001B[1;32m    493\u001B[0m     observation_villain \u001B[38;5;241m=\u001B[39m \u001B[38;5;28mself\u001B[39m\u001B[38;5;241m.\u001B[39mcreate_observation_villain()\n\u001B[0;32m--> 494\u001B[0m     \u001B[38;5;28mself\u001B[39m\u001B[38;5;241m.\u001B[39maction_villain \u001B[38;5;241m=\u001B[39m \u001B[38;5;28;43mself\u001B[39;49m\u001B[38;5;241;43m.\u001B[39;49m\u001B[43mvillain\u001B[49m\u001B[38;5;241;43m.\u001B[39;49m\u001B[43mchoose_action\u001B[49m\u001B[43m(\u001B[49m\u001B[43mobservation_villain\u001B[49m\u001B[43m)\u001B[49m  \n\u001B[1;32m    495\u001B[0m     done \u001B[38;5;241m=\u001B[39m \u001B[38;5;28mself\u001B[39m\u001B[38;5;241m.\u001B[39mimplement_action(\u001B[38;5;28mself\u001B[39m\u001B[38;5;241m.\u001B[39maction_villain,\u001B[38;5;124m'\u001B[39m\u001B[38;5;124mvillain\u001B[39m\u001B[38;5;124m'\u001B[39m)\n\u001B[1;32m    497\u001B[0m        \u001B[38;5;66;03m#check if another villains action must be implemented.\u001B[39;00m\n",
      "File \u001B[0;32m~/Documents/Code/Python/PokerAI/Training/Agent2.py:102\u001B[0m, in \u001B[0;36mAgent2.choose_action\u001B[0;34m(self, observation)\u001B[0m\n\u001B[1;32m    100\u001B[0m \u001B[38;5;28;01melif\u001B[39;00m observation[\u001B[38;5;241m53\u001B[39m] \u001B[38;5;241m==\u001B[39m \u001B[38;5;241m-\u001B[39m\u001B[38;5;241m1\u001B[39m:\n\u001B[1;32m    101\u001B[0m     hand \u001B[38;5;241m=\u001B[39m [(observation[\u001B[38;5;241m4\u001B[39m], observation[\u001B[38;5;241m11\u001B[39m]), (observation[\u001B[38;5;241m5\u001B[39m], observation[\u001B[38;5;241m12\u001B[39m]),(observation[\u001B[38;5;241m-\u001B[39m\u001B[38;5;241m10\u001B[39m], observation[\u001B[38;5;241m-\u001B[39m\u001B[38;5;241m9\u001B[39m]), (observation[\u001B[38;5;241m-\u001B[39m\u001B[38;5;241m8\u001B[39m], observation[\u001B[38;5;241m-\u001B[39m\u001B[38;5;241m7\u001B[39m]),(observation[\u001B[38;5;241m-\u001B[39m\u001B[38;5;241m6\u001B[39m], observation[\u001B[38;5;241m-\u001B[39m\u001B[38;5;241m5\u001B[39m]),(observation[\u001B[38;5;241m-\u001B[39m\u001B[38;5;241m4\u001B[39m], observation[\u001B[38;5;241m-\u001B[39m\u001B[38;5;241m3\u001B[39m])]\n\u001B[0;32m--> 102\u001B[0m     \u001B[43mevaluator\u001B[49m\u001B[38;5;241;43m.\u001B[39;49m\u001B[43mevaluate\u001B[49m\u001B[43m(\u001B[49m\u001B[43mhand\u001B[49m\u001B[43m)\u001B[49m\n\u001B[1;32m    103\u001B[0m \u001B[38;5;28;01melif\u001B[39;00m observation[\u001B[38;5;241m73\u001B[39m] \u001B[38;5;241m==\u001B[39m \u001B[38;5;241m-\u001B[39m\u001B[38;5;241m1\u001B[39m:\n\u001B[1;32m    104\u001B[0m     hand \u001B[38;5;241m=\u001B[39m [(observation[\u001B[38;5;241m4\u001B[39m], observation[\u001B[38;5;241m11\u001B[39m]), (observation[\u001B[38;5;241m5\u001B[39m], observation[\u001B[38;5;241m12\u001B[39m]),(observation[\u001B[38;5;241m-\u001B[39m\u001B[38;5;241m10\u001B[39m], observation[\u001B[38;5;241m-\u001B[39m\u001B[38;5;241m9\u001B[39m]), (observation[\u001B[38;5;241m-\u001B[39m\u001B[38;5;241m8\u001B[39m], observation[\u001B[38;5;241m-\u001B[39m\u001B[38;5;241m7\u001B[39m]),(observation[\u001B[38;5;241m-\u001B[39m\u001B[38;5;241m6\u001B[39m], observation[\u001B[38;5;241m-\u001B[39m\u001B[38;5;241m5\u001B[39m]),(observation[\u001B[38;5;241m-\u001B[39m\u001B[38;5;241m4\u001B[39m], observation[\u001B[38;5;241m-\u001B[39m\u001B[38;5;241m3\u001B[39m]),(observation[\u001B[38;5;241m-\u001B[39m\u001B[38;5;241m2\u001B[39m], observation[\u001B[38;5;241m-\u001B[39m\u001B[38;5;241m1\u001B[39m])]\n",
      "File \u001B[0;32m~/Documents/Code/Python/PokerAI/Training/StrengthEvaluator2.py:44\u001B[0m, in \u001B[0;36mStrengthEvaluator.evaluate\u001B[0;34m(self, hand)\u001B[0m\n\u001B[1;32m     42\u001B[0m     \u001B[38;5;28mself\u001B[39m\u001B[38;5;241m.\u001B[39mpwin, \u001B[38;5;28mself\u001B[39m\u001B[38;5;241m.\u001B[39mploose, \u001B[38;5;28mself\u001B[39m\u001B[38;5;241m.\u001B[39mpwinAvg, \u001B[38;5;28mself\u001B[39m\u001B[38;5;241m.\u001B[39mplooseAvg, \u001B[38;5;28mself\u001B[39m\u001B[38;5;241m.\u001B[39mstdWinAvg \u001B[38;5;241m=\u001B[39m predict[\u001B[38;5;241m0\u001B[39m][\u001B[38;5;241m0\u001B[39m], predict[\u001B[38;5;241m0\u001B[39m][\u001B[38;5;241m1\u001B[39m], predict[\u001B[38;5;241m0\u001B[39m][\u001B[38;5;241m2\u001B[39m], predict[\u001B[38;5;241m0\u001B[39m][\u001B[38;5;241m3\u001B[39m], predict[\u001B[38;5;241m0\u001B[39m][\u001B[38;5;241m4\u001B[39m]\n\u001B[1;32m     43\u001B[0m \u001B[38;5;28;01melif\u001B[39;00m \u001B[38;5;28mlen\u001B[39m(hand) \u001B[38;5;241m==\u001B[39m \u001B[38;5;241m6\u001B[39m:\n\u001B[0;32m---> 44\u001B[0m     predict \u001B[38;5;241m=\u001B[39m \u001B[43mturnModel\u001B[49m\u001B[38;5;241;43m.\u001B[39;49m\u001B[43mpredict\u001B[49m\u001B[43m(\u001B[49m\u001B[43mnp\u001B[49m\u001B[38;5;241;43m.\u001B[39;49m\u001B[43marray\u001B[49m\u001B[43m(\u001B[49m\u001B[43m[\u001B[49m\u001B[43mobservation\u001B[49m\u001B[43m]\u001B[49m\u001B[43m)\u001B[49m\u001B[43m)\u001B[49m\n\u001B[1;32m     45\u001B[0m     \u001B[38;5;28mself\u001B[39m\u001B[38;5;241m.\u001B[39mpwin, \u001B[38;5;28mself\u001B[39m\u001B[38;5;241m.\u001B[39mploose, \u001B[38;5;28mself\u001B[39m\u001B[38;5;241m.\u001B[39mpwinAvg, \u001B[38;5;28mself\u001B[39m\u001B[38;5;241m.\u001B[39mplooseAvg, \u001B[38;5;28mself\u001B[39m\u001B[38;5;241m.\u001B[39mstdWinAvg \u001B[38;5;241m=\u001B[39m predict[\u001B[38;5;241m0\u001B[39m][\u001B[38;5;241m0\u001B[39m], predict[\u001B[38;5;241m0\u001B[39m][\u001B[38;5;241m1\u001B[39m], predict[\u001B[38;5;241m0\u001B[39m][\u001B[38;5;241m2\u001B[39m], predict[\u001B[38;5;241m0\u001B[39m][\u001B[38;5;241m3\u001B[39m], predict[\u001B[38;5;241m0\u001B[39m][\u001B[38;5;241m4\u001B[39m]\n\u001B[1;32m     47\u001B[0m \u001B[38;5;28;01melse\u001B[39;00m:\n",
      "File \u001B[0;32m~/.local/lib/python3.8/site-packages/keras/utils/traceback_utils.py:64\u001B[0m, in \u001B[0;36mfilter_traceback.<locals>.error_handler\u001B[0;34m(*args, **kwargs)\u001B[0m\n\u001B[1;32m     62\u001B[0m filtered_tb \u001B[38;5;241m=\u001B[39m \u001B[38;5;28;01mNone\u001B[39;00m\n\u001B[1;32m     63\u001B[0m \u001B[38;5;28;01mtry\u001B[39;00m:\n\u001B[0;32m---> 64\u001B[0m   \u001B[38;5;28;01mreturn\u001B[39;00m \u001B[43mfn\u001B[49m\u001B[43m(\u001B[49m\u001B[38;5;241;43m*\u001B[39;49m\u001B[43margs\u001B[49m\u001B[43m,\u001B[49m\u001B[43m \u001B[49m\u001B[38;5;241;43m*\u001B[39;49m\u001B[38;5;241;43m*\u001B[39;49m\u001B[43mkwargs\u001B[49m\u001B[43m)\u001B[49m\n\u001B[1;32m     65\u001B[0m \u001B[38;5;28;01mexcept\u001B[39;00m \u001B[38;5;167;01mException\u001B[39;00m \u001B[38;5;28;01mas\u001B[39;00m e:  \u001B[38;5;66;03m# pylint: disable=broad-except\u001B[39;00m\n\u001B[1;32m     66\u001B[0m   filtered_tb \u001B[38;5;241m=\u001B[39m _process_traceback_frames(e\u001B[38;5;241m.\u001B[39m__traceback__)\n",
      "File \u001B[0;32m~/.local/lib/python3.8/site-packages/keras/engine/training.py:1978\u001B[0m, in \u001B[0;36mModel.predict\u001B[0;34m(self, x, batch_size, verbose, steps, callbacks, max_queue_size, workers, use_multiprocessing)\u001B[0m\n\u001B[1;32m   1976\u001B[0m callbacks\u001B[38;5;241m.\u001B[39mon_predict_begin()\n\u001B[1;32m   1977\u001B[0m batch_outputs \u001B[38;5;241m=\u001B[39m \u001B[38;5;28;01mNone\u001B[39;00m\n\u001B[0;32m-> 1978\u001B[0m \u001B[38;5;28;01mfor\u001B[39;00m _, iterator \u001B[38;5;129;01min\u001B[39;00m data_handler\u001B[38;5;241m.\u001B[39menumerate_epochs():  \u001B[38;5;66;03m# Single epoch.\u001B[39;00m\n\u001B[1;32m   1979\u001B[0m   \u001B[38;5;28;01mwith\u001B[39;00m data_handler\u001B[38;5;241m.\u001B[39mcatch_stop_iteration():\n\u001B[1;32m   1980\u001B[0m     \u001B[38;5;28;01mfor\u001B[39;00m step \u001B[38;5;129;01min\u001B[39;00m data_handler\u001B[38;5;241m.\u001B[39msteps():\n",
      "File \u001B[0;32m~/.local/lib/python3.8/site-packages/keras/engine/data_adapter.py:1191\u001B[0m, in \u001B[0;36mDataHandler.enumerate_epochs\u001B[0;34m(self)\u001B[0m\n\u001B[1;32m   1189\u001B[0m \u001B[38;5;124;03m\"\"\"Yields `(epoch, tf.data.Iterator)`.\"\"\"\u001B[39;00m\n\u001B[1;32m   1190\u001B[0m \u001B[38;5;28;01mwith\u001B[39;00m \u001B[38;5;28mself\u001B[39m\u001B[38;5;241m.\u001B[39m_truncate_execution_to_epoch():\n\u001B[0;32m-> 1191\u001B[0m   data_iterator \u001B[38;5;241m=\u001B[39m \u001B[38;5;28;43miter\u001B[39;49m\u001B[43m(\u001B[49m\u001B[38;5;28;43mself\u001B[39;49m\u001B[38;5;241;43m.\u001B[39;49m\u001B[43m_dataset\u001B[49m\u001B[43m)\u001B[49m\n\u001B[1;32m   1192\u001B[0m   \u001B[38;5;28;01mfor\u001B[39;00m epoch \u001B[38;5;129;01min\u001B[39;00m \u001B[38;5;28mrange\u001B[39m(\u001B[38;5;28mself\u001B[39m\u001B[38;5;241m.\u001B[39m_initial_epoch, \u001B[38;5;28mself\u001B[39m\u001B[38;5;241m.\u001B[39m_epochs):\n\u001B[1;32m   1193\u001B[0m     \u001B[38;5;28;01mif\u001B[39;00m \u001B[38;5;28mself\u001B[39m\u001B[38;5;241m.\u001B[39m_insufficient_data:  \u001B[38;5;66;03m# Set by `catch_stop_iteration`.\u001B[39;00m\n",
      "File \u001B[0;32m~/.local/lib/python3.8/site-packages/tensorflow/python/data/ops/dataset_ops.py:486\u001B[0m, in \u001B[0;36mDatasetV2.__iter__\u001B[0;34m(self)\u001B[0m\n\u001B[1;32m    484\u001B[0m \u001B[38;5;28;01mif\u001B[39;00m context\u001B[38;5;241m.\u001B[39mexecuting_eagerly() \u001B[38;5;129;01mor\u001B[39;00m ops\u001B[38;5;241m.\u001B[39minside_function():\n\u001B[1;32m    485\u001B[0m   \u001B[38;5;28;01mwith\u001B[39;00m ops\u001B[38;5;241m.\u001B[39mcolocate_with(\u001B[38;5;28mself\u001B[39m\u001B[38;5;241m.\u001B[39m_variant_tensor):\n\u001B[0;32m--> 486\u001B[0m     \u001B[38;5;28;01mreturn\u001B[39;00m \u001B[43miterator_ops\u001B[49m\u001B[38;5;241;43m.\u001B[39;49m\u001B[43mOwnedIterator\u001B[49m\u001B[43m(\u001B[49m\u001B[38;5;28;43mself\u001B[39;49m\u001B[43m)\u001B[49m\n\u001B[1;32m    487\u001B[0m \u001B[38;5;28;01melse\u001B[39;00m:\n\u001B[1;32m    488\u001B[0m   \u001B[38;5;28;01mraise\u001B[39;00m \u001B[38;5;167;01mRuntimeError\u001B[39;00m(\u001B[38;5;124m\"\u001B[39m\u001B[38;5;124m`tf.data.Dataset` only supports Python-style \u001B[39m\u001B[38;5;124m\"\u001B[39m\n\u001B[1;32m    489\u001B[0m                      \u001B[38;5;124m\"\u001B[39m\u001B[38;5;124miteration in eager mode or within tf.function.\u001B[39m\u001B[38;5;124m\"\u001B[39m)\n",
      "File \u001B[0;32m~/.local/lib/python3.8/site-packages/tensorflow/python/data/ops/iterator_ops.py:755\u001B[0m, in \u001B[0;36mOwnedIterator.__init__\u001B[0;34m(self, dataset, components, element_spec)\u001B[0m\n\u001B[1;32m    751\u001B[0m   \u001B[38;5;28;01mif\u001B[39;00m (components \u001B[38;5;129;01mis\u001B[39;00m \u001B[38;5;129;01mnot\u001B[39;00m \u001B[38;5;28;01mNone\u001B[39;00m \u001B[38;5;129;01mor\u001B[39;00m element_spec \u001B[38;5;129;01mis\u001B[39;00m \u001B[38;5;129;01mnot\u001B[39;00m \u001B[38;5;28;01mNone\u001B[39;00m):\n\u001B[1;32m    752\u001B[0m     \u001B[38;5;28;01mraise\u001B[39;00m \u001B[38;5;167;01mValueError\u001B[39;00m(\n\u001B[1;32m    753\u001B[0m         \u001B[38;5;124m\"\u001B[39m\u001B[38;5;124mWhen `dataset` is provided, `element_spec` and `components` must \u001B[39m\u001B[38;5;124m\"\u001B[39m\n\u001B[1;32m    754\u001B[0m         \u001B[38;5;124m\"\u001B[39m\u001B[38;5;124mnot be specified.\u001B[39m\u001B[38;5;124m\"\u001B[39m)\n\u001B[0;32m--> 755\u001B[0m   \u001B[38;5;28;43mself\u001B[39;49m\u001B[38;5;241;43m.\u001B[39;49m\u001B[43m_create_iterator\u001B[49m\u001B[43m(\u001B[49m\u001B[43mdataset\u001B[49m\u001B[43m)\u001B[49m\n\u001B[1;32m    757\u001B[0m \u001B[38;5;28mself\u001B[39m\u001B[38;5;241m.\u001B[39m_get_next_call_count \u001B[38;5;241m=\u001B[39m \u001B[38;5;241m0\u001B[39m\n",
      "File \u001B[0;32m~/.local/lib/python3.8/site-packages/tensorflow/python/data/ops/iterator_ops.py:787\u001B[0m, in \u001B[0;36mOwnedIterator._create_iterator\u001B[0;34m(self, dataset)\u001B[0m\n\u001B[1;32m    782\u001B[0m \u001B[38;5;28;01melse\u001B[39;00m:\n\u001B[1;32m    783\u001B[0m   \u001B[38;5;28mself\u001B[39m\u001B[38;5;241m.\u001B[39m_iterator_resource, \u001B[38;5;28mself\u001B[39m\u001B[38;5;241m.\u001B[39m_deleter \u001B[38;5;241m=\u001B[39m (\n\u001B[1;32m    784\u001B[0m       gen_dataset_ops\u001B[38;5;241m.\u001B[39manonymous_iterator_v2(\n\u001B[1;32m    785\u001B[0m           output_types\u001B[38;5;241m=\u001B[39m\u001B[38;5;28mself\u001B[39m\u001B[38;5;241m.\u001B[39m_flat_output_types,\n\u001B[1;32m    786\u001B[0m           output_shapes\u001B[38;5;241m=\u001B[39m\u001B[38;5;28mself\u001B[39m\u001B[38;5;241m.\u001B[39m_flat_output_shapes))\n\u001B[0;32m--> 787\u001B[0m   \u001B[43mgen_dataset_ops\u001B[49m\u001B[38;5;241;43m.\u001B[39;49m\u001B[43mmake_iterator\u001B[49m\u001B[43m(\u001B[49m\u001B[43mds_variant\u001B[49m\u001B[43m,\u001B[49m\u001B[43m \u001B[49m\u001B[38;5;28;43mself\u001B[39;49m\u001B[38;5;241;43m.\u001B[39;49m\u001B[43m_iterator_resource\u001B[49m\u001B[43m)\u001B[49m\n\u001B[1;32m    788\u001B[0m   \u001B[38;5;66;03m# Delete the resource when this object is deleted\u001B[39;00m\n\u001B[1;32m    789\u001B[0m   \u001B[38;5;28mself\u001B[39m\u001B[38;5;241m.\u001B[39m_resource_deleter \u001B[38;5;241m=\u001B[39m IteratorResourceDeleter(\n\u001B[1;32m    790\u001B[0m       handle\u001B[38;5;241m=\u001B[39m\u001B[38;5;28mself\u001B[39m\u001B[38;5;241m.\u001B[39m_iterator_resource,\n\u001B[1;32m    791\u001B[0m       deleter\u001B[38;5;241m=\u001B[39m\u001B[38;5;28mself\u001B[39m\u001B[38;5;241m.\u001B[39m_deleter)\n",
      "File \u001B[0;32m~/.local/lib/python3.8/site-packages/tensorflow/python/ops/gen_dataset_ops.py:3315\u001B[0m, in \u001B[0;36mmake_iterator\u001B[0;34m(dataset, iterator, name)\u001B[0m\n\u001B[1;32m   3313\u001B[0m \u001B[38;5;28;01mif\u001B[39;00m tld\u001B[38;5;241m.\u001B[39mis_eager:\n\u001B[1;32m   3314\u001B[0m   \u001B[38;5;28;01mtry\u001B[39;00m:\n\u001B[0;32m-> 3315\u001B[0m     _result \u001B[38;5;241m=\u001B[39m \u001B[43mpywrap_tfe\u001B[49m\u001B[38;5;241;43m.\u001B[39;49m\u001B[43mTFE_Py_FastPathExecute\u001B[49m\u001B[43m(\u001B[49m\n\u001B[1;32m   3316\u001B[0m \u001B[43m      \u001B[49m\u001B[43m_ctx\u001B[49m\u001B[43m,\u001B[49m\u001B[43m \u001B[49m\u001B[38;5;124;43m\"\u001B[39;49m\u001B[38;5;124;43mMakeIterator\u001B[39;49m\u001B[38;5;124;43m\"\u001B[39;49m\u001B[43m,\u001B[49m\u001B[43m \u001B[49m\u001B[43mname\u001B[49m\u001B[43m,\u001B[49m\u001B[43m \u001B[49m\u001B[43mdataset\u001B[49m\u001B[43m,\u001B[49m\u001B[43m \u001B[49m\u001B[43miterator\u001B[49m\u001B[43m)\u001B[49m\n\u001B[1;32m   3317\u001B[0m     \u001B[38;5;28;01mreturn\u001B[39;00m _result\n\u001B[1;32m   3318\u001B[0m   \u001B[38;5;28;01mexcept\u001B[39;00m _core\u001B[38;5;241m.\u001B[39m_NotOkStatusException \u001B[38;5;28;01mas\u001B[39;00m e:\n",
      "\u001B[0;31mKeyboardInterrupt\u001B[0m: "
     ]
    }
   ],
   "source": [
    "import numpy as np\n",
    "\n",
    "n_rounds = 1001\n",
    "score = 0\n",
    "for i in range(n_rounds):\n",
    "\n",
    "    done =True\n",
    "\n",
    "    while done:\n",
    "        observation, done = game.reset()\n",
    "\n",
    "    while not done:\n",
    "\n",
    "        error = False\n",
    "        action = agentHero.choose_action(observation)\n",
    "        observation = np.append(observation,[0, 0, 0, 0, 0])\n",
    "\n",
    "        try:\n",
    "            done = game.step(action) #sometimes the chosen actions lead to too many moves on a street (over 20) This happens when players both chose to engage in minraise battles.\n",
    "            #we want to severely punish this behavior.\n",
    "        except IndexError: #error happens when more than 20 actions are attepted on a single street.\n",
    "            done = True\n",
    "            error = True\n",
    "\n",
    "        if not done:\n",
    "            reward = 0\n",
    "        else:\n",
    "            if error:\n",
    "                reward = -stacksize\n",
    "            else:\n",
    "                reward = 0.5+game.stack_sb - game.starting_hero if game.position == 0 else 1+game.stack_bb - game.starting_hero #to take into account the blinds are posted anyway regardless of action.\n",
    "        score += reward - 0.5 if game.position == 0 else reward - 1\n",
    "        avgScore = round(score//(i+0.00001),2)\n",
    "        observation = game.observation\n",
    "        print(i)\n"
   ],
   "metadata": {
    "collapsed": false,
    "pycharm": {
     "name": "#%%\n"
    }
   }
  },
  {
   "cell_type": "code",
   "execution_count": 4,
   "outputs": [],
   "source": [
    "import copy\n",
    "class MCSim:\n",
    "    def __init__(self,gamestate, range_vil, policy_network):\n",
    "        self.game = copy.deepcopy(gamestate)\n",
    "        self.range = range_vil\n",
    "        self.network = policy_network\n",
    "\n"
   ],
   "metadata": {
    "collapsed": false,
    "pycharm": {
     "name": "#%%\n"
    }
   }
  },
  {
   "cell_type": "code",
   "execution_count": 6,
   "outputs": [],
   "source": [
    "values = list(range(2,15))\n",
    "suits = [0, 1, 2, 3]\n",
    "deck = []\n",
    "for value in values:\n",
    "    for suit in suits:\n",
    "        deck.append((value, suit))\n",
    "tree = MCSim(1, [], newAgent.q_eval)"
   ],
   "metadata": {
    "collapsed": false,
    "pycharm": {
     "name": "#%%\n"
    }
   }
  },
  {
   "cell_type": "code",
   "execution_count": 13,
   "outputs": [
    {
     "data": {
      "text/plain": "array([[[ 2,  0],\n        [ 2,  1]],\n\n       [[ 2,  0],\n        [ 2,  2]],\n\n       [[ 2,  0],\n        [ 2,  3]],\n\n       ...,\n\n       [[14,  1],\n        [14,  2]],\n\n       [[14,  1],\n        [14,  3]],\n\n       [[14,  2],\n        [14,  3]]])"
     },
     "execution_count": 13,
     "metadata": {},
     "output_type": "execute_result"
    }
   ],
   "source": [
    "from itertools import combinations\n",
    "import numpy as np\n",
    "combos = combinations(deck,2)\n",
    "np.array(list(combos))"
   ],
   "metadata": {
    "collapsed": false,
    "pycharm": {
     "name": "#%%\n"
    }
   }
  },
  {
   "cell_type": "code",
   "execution_count": null,
   "outputs": [],
   "source": [],
   "metadata": {
    "collapsed": false,
    "pycharm": {
     "name": "#%%\n"
    }
   }
  }
 ],
 "metadata": {
  "kernelspec": {
   "display_name": "Python 3",
   "language": "python",
   "name": "python3"
  },
  "language_info": {
   "codemirror_mode": {
    "name": "ipython",
    "version": 2
   },
   "file_extension": ".py",
   "mimetype": "text/x-python",
   "name": "python",
   "nbconvert_exporter": "python",
   "pygments_lexer": "ipython2",
   "version": "2.7.6"
  }
 },
 "nbformat": 4,
 "nbformat_minor": 0
}