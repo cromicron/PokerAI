{
 "cells": [
  {
   "cell_type": "markdown",
   "metadata": {
    "id": "RT9dOSZE_sJu"
   },
   "source": [
    "<h1>Train Neural Network To Estimate Average Strenghts and Variations on the Flop </h1>\n",
    "There was an error in the evaluator for average hand strengths in the PokerAI-Agent. We must therefore retrain the mode. The error came about in generating the training data. \n",
    "Beyond correcting the error, we want to change the outputs of the model. We want to leave the outputs at 3, but instead of outputting average win and average loss, which are actually identical, we will generate two estimates for deviations - a std for win/loss and a std for split. Overall there will be five estimators: Pwin, Ploose(or Psplit?), pwinVillain, stdWinVillain, and stdsplit."
   ]
  },
  {
   "cell_type": "code",
   "execution_count": 4,
   "metadata": {
    "executionInfo": {
     "elapsed": 5627,
     "status": "ok",
     "timestamp": 1641114391085,
     "user": {
      "displayName": "Dario Nalis",
      "photoUrl": "https://lh3.googleusercontent.com/a/default-user=s64",
      "userId": "14162360762689343251"
     },
     "user_tz": -60
    },
    "id": "CvlujTMU_XG_"
   },
   "outputs": [],
   "source": [
    "import pandas as pd\n",
    "import numpy as np\n",
    "import tensorflow as tf\n",
    "from tensorflow import keras\n",
    "from tensorflow.keras.optimizers import Adam\n",
    "from tensorflow.keras.models import load_model\n",
    "from keras import backend as K\n",
    "import random\n",
    "dataFolder = 'simulatedHands/'\n",
    "modelsFolder = 'trainedModels/strengthEvaluator/'"
   ]
  },
  {
   "cell_type": "markdown",
   "metadata": {
    "id": "EgQtEKbm_aeS"
   },
   "source": [
    "<h2>Simulated boards</h2>\n",
    "We can still use 80 thousand simulated hands form the simHandsTurn-Data Set. The error was not to be found in the estimates for Hero-wins and losses. The data frame consists of hero hands and boards, as well as probabilities of winning, loosing, or splitting the hand against random opponent hands."
   ]
  },
  {
   "cell_type": "code",
   "execution_count": 3,
   "metadata": {
    "colab": {
     "base_uri": "https://localhost:8080/"
    },
    "executionInfo": {
     "elapsed": 6425,
     "status": "ok",
     "timestamp": 1641114399961,
     "user": {
      "displayName": "Dario Nalis",
      "photoUrl": "https://lh3.googleusercontent.com/a/default-user=s64",
      "userId": "14162360762689343251"
     },
     "user_tz": -60
    },
    "id": "irT9aGFV_0Al",
    "outputId": "38e5a80f-0db2-4e03-d32d-861dfd17c83b"
   },
   "outputs": [
    {
     "data": {
      "text/plain": [
       "(80000, 13)"
      ]
     },
     "execution_count": 3,
     "metadata": {},
     "output_type": "execute_result"
    }
   ],
   "source": [
    "simHandsFlop = pd.read_csv(dataFolder +  'simHandsFlop.csv', index_col=0)\n",
    "simHandsFlop.drop(['tval', 'tsuit','rval', 'rsuit'], axis=1, inplace=True)\n",
    "simHandsFlop.shape"
   ]
  },
  {
   "cell_type": "code",
   "execution_count": 3,
   "metadata": {},
   "outputs": [
    {
     "data": {
      "text/html": [
       "<div>\n",
       "<style scoped>\n",
       "    .dataframe tbody tr th:only-of-type {\n",
       "        vertical-align: middle;\n",
       "    }\n",
       "\n",
       "    .dataframe tbody tr th {\n",
       "        vertical-align: top;\n",
       "    }\n",
       "\n",
       "    .dataframe thead th {\n",
       "        text-align: right;\n",
       "    }\n",
       "</style>\n",
       "<table border=\"1\" class=\"dataframe\">\n",
       "  <thead>\n",
       "    <tr style=\"text-align: right;\">\n",
       "      <th></th>\n",
       "      <th>val1</th>\n",
       "      <th>suit1</th>\n",
       "      <th>val2</th>\n",
       "      <th>suit2</th>\n",
       "      <th>f1val</th>\n",
       "      <th>f1suit</th>\n",
       "      <th>f2val</th>\n",
       "      <th>f2suit</th>\n",
       "      <th>f3val</th>\n",
       "      <th>f3suit</th>\n",
       "      <th>nwin</th>\n",
       "      <th>nloose</th>\n",
       "      <th>nsplit</th>\n",
       "    </tr>\n",
       "  </thead>\n",
       "  <tbody>\n",
       "    <tr>\n",
       "      <th>0</th>\n",
       "      <td>4</td>\n",
       "      <td>2</td>\n",
       "      <td>8</td>\n",
       "      <td>2</td>\n",
       "      <td>2</td>\n",
       "      <td>3</td>\n",
       "      <td>9</td>\n",
       "      <td>3</td>\n",
       "      <td>10</td>\n",
       "      <td>1</td>\n",
       "      <td>0.2120</td>\n",
       "      <td>0.7422</td>\n",
       "      <td>0.0458</td>\n",
       "    </tr>\n",
       "    <tr>\n",
       "      <th>1</th>\n",
       "      <td>5</td>\n",
       "      <td>2</td>\n",
       "      <td>10</td>\n",
       "      <td>3</td>\n",
       "      <td>8</td>\n",
       "      <td>3</td>\n",
       "      <td>11</td>\n",
       "      <td>2</td>\n",
       "      <td>13</td>\n",
       "      <td>0</td>\n",
       "      <td>0.3080</td>\n",
       "      <td>0.6248</td>\n",
       "      <td>0.0672</td>\n",
       "    </tr>\n",
       "    <tr>\n",
       "      <th>2</th>\n",
       "      <td>12</td>\n",
       "      <td>1</td>\n",
       "      <td>13</td>\n",
       "      <td>3</td>\n",
       "      <td>10</td>\n",
       "      <td>0</td>\n",
       "      <td>10</td>\n",
       "      <td>2</td>\n",
       "      <td>12</td>\n",
       "      <td>2</td>\n",
       "      <td>0.7650</td>\n",
       "      <td>0.2038</td>\n",
       "      <td>0.0312</td>\n",
       "    </tr>\n",
       "    <tr>\n",
       "      <th>3</th>\n",
       "      <td>7</td>\n",
       "      <td>0</td>\n",
       "      <td>10</td>\n",
       "      <td>3</td>\n",
       "      <td>2</td>\n",
       "      <td>1</td>\n",
       "      <td>11</td>\n",
       "      <td>0</td>\n",
       "      <td>13</td>\n",
       "      <td>1</td>\n",
       "      <td>0.3252</td>\n",
       "      <td>0.6280</td>\n",
       "      <td>0.0468</td>\n",
       "    </tr>\n",
       "    <tr>\n",
       "      <th>4</th>\n",
       "      <td>10</td>\n",
       "      <td>2</td>\n",
       "      <td>14</td>\n",
       "      <td>3</td>\n",
       "      <td>2</td>\n",
       "      <td>2</td>\n",
       "      <td>7</td>\n",
       "      <td>1</td>\n",
       "      <td>13</td>\n",
       "      <td>2</td>\n",
       "      <td>0.5306</td>\n",
       "      <td>0.4516</td>\n",
       "      <td>0.0178</td>\n",
       "    </tr>\n",
       "  </tbody>\n",
       "</table>\n",
       "</div>"
      ],
      "text/plain": [
       "   val1  suit1  val2  suit2  f1val  f1suit  f2val  f2suit  f3val  f3suit  \\\n",
       "0     4      2     8      2      2       3      9       3     10       1   \n",
       "1     5      2    10      3      8       3     11       2     13       0   \n",
       "2    12      1    13      3     10       0     10       2     12       2   \n",
       "3     7      0    10      3      2       1     11       0     13       1   \n",
       "4    10      2    14      3      2       2      7       1     13       2   \n",
       "\n",
       "     nwin  nloose  nsplit  \n",
       "0  0.2120  0.7422  0.0458  \n",
       "1  0.3080  0.6248  0.0672  \n",
       "2  0.7650  0.2038  0.0312  \n",
       "3  0.3252  0.6280  0.0468  \n",
       "4  0.5306  0.4516  0.0178  "
      ]
     },
     "execution_count": 3,
     "metadata": {},
     "output_type": "execute_result"
    }
   ],
   "source": [
    "simHandsFlop.head()"
   ]
  },
  {
   "cell_type": "markdown",
   "metadata": {},
   "source": [
    "Let's check how accurate those percentages are, running a few of those lines against all possible villains."
   ]
  },
  {
   "cell_type": "code",
   "execution_count": 5,
   "metadata": {},
   "outputs": [],
   "source": [
    "from itertools import combinations\n",
    "from PokerHandStrengths import compare\n",
    "#create a deck\n",
    "deck=[]\n",
    "for val in range(2,15):\n",
    "    for suit in range(4):\n",
    "        deck.append((val,suit))\n"
   ]
  },
  {
   "cell_type": "code",
   "execution_count": 6,
   "metadata": {},
   "outputs": [],
   "source": [
    "#function that takes in a row from the dataFrame and creates the list for hands usable in the compare function. The compare function, that chesk which hand won, needs lists of tuples as input.\n",
    "def transformHand(row):\n",
    "    rowInt = row.astype(int)\n",
    "    hero = [(rowInt[0], rowInt[1]), (rowInt[2],rowInt[3])]\n",
    "    board = [(rowInt[4], rowInt[5]), (rowInt[6],rowInt[7]),(rowInt[8], rowInt[9])]\n",
    "    return hero + board"
   ]
  },
  {
   "cell_type": "markdown",
   "metadata": {},
   "source": [
    "80 tousand boards might not be enough to train on. Let's create more boards."
   ]
  },
  {
   "cell_type": "code",
   "execution_count": 158,
   "metadata": {},
   "outputs": [
    {
     "data": {
      "text/plain": [
       "array([[13,  3,  2, ...,  1,  8,  0],\n",
       "       [12,  2,  8, ...,  0,  7,  2],\n",
       "       [ 2,  0,  6, ...,  3,  4,  3],\n",
       "       ...,\n",
       "       [14,  0,  3, ...,  0, 12,  0],\n",
       "       [ 3,  2,  8, ...,  2,  5,  3],\n",
       "       [ 6,  3,  8, ...,  3,  4,  0]])"
      ]
     },
     "execution_count": 158,
     "metadata": {},
     "output_type": "execute_result"
    }
   ],
   "source": [
    "#simulate boards\n",
    "boards=[]\n",
    "for i in range(160000):\n",
    "    board = np.array(random.sample(deck,5)).flatten()\n",
    "    boards.append(list(board))\n",
    "boards=np.array(boards)\n",
    "boards"
   ]
  },
  {
   "cell_type": "markdown",
   "metadata": {},
   "source": [
    "and simulate nwin, nloose, and nsplit"
   ]
  },
  {
   "cell_type": "code",
   "execution_count": 7,
   "metadata": {},
   "outputs": [],
   "source": [
    "#This function takes in the deck, the board and simulates pwin, plosse and psplit. The firs four entries in one array are hero's cards. The following six represent the flop.\n",
    "#The function randomly draws villain cards and turns and rivers. It compares hero and villains and returns avarage wins, losses and splits for hero.\n",
    "def simulate(deckOfCards, board, nsim = 2000):\n",
    "    import random\n",
    "    nwin = 0\n",
    "    nloose = 0\n",
    "    nsplit = 0\n",
    "    boardTransformed = transformHand(board)\n",
    "    deckRemaining = set(deckOfCards)- set(boardTransformed)\n",
    "    for i in range(nsim):\n",
    "        sample = random.sample(deckRemaining, 4)\n",
    "        handHero = boardTransformed + sample[2:]\n",
    "        handVillain = sample[:2] +  boardTransformed[2:] + sample[2:]\n",
    "        result = compare({0:handHero, 1:handVillain})\n",
    "        if result[0]<result[1]:\n",
    "            nwin+=1\n",
    "        elif result[1]<result[0]:\n",
    "            nloose += 1\n",
    "        else:\n",
    "            nsplit+=1\n",
    "    return nwin/nsim, nloose/nsim, nsplit/nsim\n",
    "        "
   ]
  },
  {
   "cell_type": "code",
   "execution_count": 8,
   "metadata": {},
   "outputs": [],
   "source": [
    "#To increase speed we want to simulate runouts on 8 threads simulatanously. The map.sync-function from ipyparallel needs one fucniton with number of threads as parameter.\n",
    "# The function will return simulated results for datasets given to all threads.\n",
    "def simulateMulti(nThreads):\n",
    "    import numpy as np #must import numpy in the function, because it's not possible to give the numpy module to the threads manually.\n",
    "    results = []\n",
    "    for i in range(len(dataset)):\n",
    "        results.append(simulate(deck, dataset[i], nsim=1000))\n",
    "    return results"
   ]
  },
  {
   "cell_type": "code",
   "execution_count": 224,
   "metadata": {},
   "outputs": [
    {
     "name": "stdout",
     "output_type": "stream",
     "text": [
      "Starting 8 engines with <class 'ipyparallel.cluster.launcher.LocalEngineSetLauncher'>\n"
     ]
    },
    {
     "data": {
      "text/plain": [
       "<Cluster(cluster_id='1641816621-vw7m', profile='default', controller=<running>, engine_sets=['1641816623'])>"
      ]
     },
     "execution_count": 224,
     "metadata": {},
     "output_type": "execute_result"
    }
   ],
   "source": [
    "#create a cluster of threads and start\n",
    "nThreads = 8\n",
    "import ipyparallel as ipp\n",
    "cluster = ipp.Cluster(n=nThreads)\n",
    "await cluster.start_cluster()"
   ]
  },
  {
   "cell_type": "code",
   "execution_count": 225,
   "metadata": {},
   "outputs": [
    {
     "name": "stdout",
     "output_type": "stream",
     "text": [
      "100%|█████████████████████████████████████████| 8/8 [00:07<00:00,  1.01engine/s]\n"
     ]
    }
   ],
   "source": [
    "rc = cluster.connect_client_sync()\n",
    "rc.wait_for_engines(n=8)"
   ]
  },
  {
   "cell_type": "code",
   "execution_count": 226,
   "metadata": {},
   "outputs": [],
   "source": [
    "#Let's give the threads the necessary objects.\n",
    "rc[:]['simulate']=simulate #simulate-function\n",
    "rc[:]['transformHand']=transformHand #transform Hand function\n",
    "rc[:]['deck']=deck\n",
    "rc[:]['compare']=compare\n",
    "for i in range(8):\n",
    "    rc[i]['dataset']=boards[len(boards)//8*i:len(boards)//8*i+len(boards)//8] #eacth thread receives one eigth of the dataset."
   ]
  },
  {
   "cell_type": "code",
   "execution_count": 227,
   "metadata": {},
   "outputs": [],
   "source": [
    "results = rc[:].map_sync(simulateMulti,range(8))\n"
   ]
  },
  {
   "cell_type": "markdown",
   "metadata": {},
   "source": [
    "Let's combine the boards with the respective results."
   ]
  },
  {
   "cell_type": "code",
   "execution_count": 259,
   "metadata": {},
   "outputs": [
    {
     "data": {
      "text/plain": [
       "20000"
      ]
     },
     "execution_count": 259,
     "metadata": {},
     "output_type": "execute_result"
    }
   ],
   "source": [
    "len(results[0])\n",
    "    "
   ]
  },
  {
   "cell_type": "code",
   "execution_count": 254,
   "metadata": {},
   "outputs": [
    {
     "data": {
      "text/html": [
       "<div>\n",
       "<style scoped>\n",
       "    .dataframe tbody tr th:only-of-type {\n",
       "        vertical-align: middle;\n",
       "    }\n",
       "\n",
       "    .dataframe tbody tr th {\n",
       "        vertical-align: top;\n",
       "    }\n",
       "\n",
       "    .dataframe thead th {\n",
       "        text-align: right;\n",
       "    }\n",
       "</style>\n",
       "<table border=\"1\" class=\"dataframe\">\n",
       "  <thead>\n",
       "    <tr style=\"text-align: right;\">\n",
       "      <th></th>\n",
       "      <th>val1</th>\n",
       "      <th>suit1</th>\n",
       "      <th>val2</th>\n",
       "      <th>suit2</th>\n",
       "      <th>f1val</th>\n",
       "      <th>f1suit</th>\n",
       "      <th>f2val</th>\n",
       "      <th>f2suit</th>\n",
       "      <th>f3val</th>\n",
       "      <th>f3suit</th>\n",
       "    </tr>\n",
       "  </thead>\n",
       "  <tbody>\n",
       "    <tr>\n",
       "      <th>0</th>\n",
       "      <td>13</td>\n",
       "      <td>3</td>\n",
       "      <td>2</td>\n",
       "      <td>1</td>\n",
       "      <td>3</td>\n",
       "      <td>3</td>\n",
       "      <td>5</td>\n",
       "      <td>1</td>\n",
       "      <td>8</td>\n",
       "      <td>0</td>\n",
       "    </tr>\n",
       "    <tr>\n",
       "      <th>1</th>\n",
       "      <td>12</td>\n",
       "      <td>2</td>\n",
       "      <td>8</td>\n",
       "      <td>3</td>\n",
       "      <td>6</td>\n",
       "      <td>3</td>\n",
       "      <td>12</td>\n",
       "      <td>0</td>\n",
       "      <td>7</td>\n",
       "      <td>2</td>\n",
       "    </tr>\n",
       "    <tr>\n",
       "      <th>2</th>\n",
       "      <td>2</td>\n",
       "      <td>0</td>\n",
       "      <td>6</td>\n",
       "      <td>1</td>\n",
       "      <td>5</td>\n",
       "      <td>0</td>\n",
       "      <td>12</td>\n",
       "      <td>3</td>\n",
       "      <td>4</td>\n",
       "      <td>3</td>\n",
       "    </tr>\n",
       "    <tr>\n",
       "      <th>3</th>\n",
       "      <td>5</td>\n",
       "      <td>2</td>\n",
       "      <td>3</td>\n",
       "      <td>3</td>\n",
       "      <td>2</td>\n",
       "      <td>3</td>\n",
       "      <td>14</td>\n",
       "      <td>2</td>\n",
       "      <td>4</td>\n",
       "      <td>2</td>\n",
       "    </tr>\n",
       "    <tr>\n",
       "      <th>4</th>\n",
       "      <td>9</td>\n",
       "      <td>2</td>\n",
       "      <td>12</td>\n",
       "      <td>0</td>\n",
       "      <td>9</td>\n",
       "      <td>1</td>\n",
       "      <td>3</td>\n",
       "      <td>0</td>\n",
       "      <td>6</td>\n",
       "      <td>2</td>\n",
       "    </tr>\n",
       "  </tbody>\n",
       "</table>\n",
       "</div>"
      ],
      "text/plain": [
       "   val1  suit1  val2  suit2  f1val  f1suit  f2val  f2suit  f3val  f3suit\n",
       "0    13      3     2      1      3       3      5       1      8       0\n",
       "1    12      2     8      3      6       3     12       0      7       2\n",
       "2     2      0     6      1      5       0     12       3      4       3\n",
       "3     5      2     3      3      2       3     14       2      4       2\n",
       "4     9      2    12      0      9       1      3       0      6       2"
      ]
     },
     "execution_count": 254,
     "metadata": {},
     "output_type": "execute_result"
    }
   ],
   "source": [
    "dfBoards = pd.DataFrame(columns=simHandsFlop.columns[:-3], data = boards)\n",
    "dfBoards.head()\n"
   ]
  },
  {
   "cell_type": "code",
   "execution_count": 281,
   "metadata": {},
   "outputs": [
    {
     "data": {
      "text/plain": [
       "(160000, 3)"
      ]
     },
     "execution_count": 281,
     "metadata": {},
     "output_type": "execute_result"
    }
   ],
   "source": [
    "dfResults = pd.DataFrame(columns=simHandsFlop.columns[-3:], data = results[0])\n",
    "for i in range(1,len(results)):\n",
    "    df = pd.DataFrame(columns=simHandsFlop.columns[-3:], data = results[i])\n",
    "    dfResults = dfResults.append(df, ignore_index=True)\n",
    "dfResults.shape               "
   ]
  },
  {
   "cell_type": "markdown",
   "metadata": {},
   "source": [
    "concat the two data frames."
   ]
  },
  {
   "cell_type": "code",
   "execution_count": 282,
   "metadata": {},
   "outputs": [
    {
     "data": {
      "text/plain": [
       "(160000, 13)"
      ]
     },
     "execution_count": 282,
     "metadata": {},
     "output_type": "execute_result"
    }
   ],
   "source": [
    "simHandsFlopNew = pd.concat([dfBoards,dfResults], axis=1, ignore_index=True)\n",
    "simHandsFlopNew.columns = simHandsFlop.columns\n",
    "simHandsFlopNew.shape"
   ]
  },
  {
   "cell_type": "code",
   "execution_count": 283,
   "metadata": {},
   "outputs": [
    {
     "data": {
      "text/html": [
       "<div>\n",
       "<style scoped>\n",
       "    .dataframe tbody tr th:only-of-type {\n",
       "        vertical-align: middle;\n",
       "    }\n",
       "\n",
       "    .dataframe tbody tr th {\n",
       "        vertical-align: top;\n",
       "    }\n",
       "\n",
       "    .dataframe thead th {\n",
       "        text-align: right;\n",
       "    }\n",
       "</style>\n",
       "<table border=\"1\" class=\"dataframe\">\n",
       "  <thead>\n",
       "    <tr style=\"text-align: right;\">\n",
       "      <th></th>\n",
       "      <th>val1</th>\n",
       "      <th>suit1</th>\n",
       "      <th>val2</th>\n",
       "      <th>suit2</th>\n",
       "      <th>f1val</th>\n",
       "      <th>f1suit</th>\n",
       "      <th>f2val</th>\n",
       "      <th>f2suit</th>\n",
       "      <th>f3val</th>\n",
       "      <th>f3suit</th>\n",
       "      <th>nwin</th>\n",
       "      <th>nloose</th>\n",
       "      <th>nsplit</th>\n",
       "    </tr>\n",
       "  </thead>\n",
       "  <tbody>\n",
       "    <tr>\n",
       "      <th>0</th>\n",
       "      <td>13</td>\n",
       "      <td>3</td>\n",
       "      <td>2</td>\n",
       "      <td>1</td>\n",
       "      <td>3</td>\n",
       "      <td>3</td>\n",
       "      <td>5</td>\n",
       "      <td>1</td>\n",
       "      <td>8</td>\n",
       "      <td>0</td>\n",
       "      <td>0.339</td>\n",
       "      <td>0.632</td>\n",
       "      <td>0.029</td>\n",
       "    </tr>\n",
       "    <tr>\n",
       "      <th>1</th>\n",
       "      <td>12</td>\n",
       "      <td>2</td>\n",
       "      <td>8</td>\n",
       "      <td>3</td>\n",
       "      <td>6</td>\n",
       "      <td>3</td>\n",
       "      <td>12</td>\n",
       "      <td>0</td>\n",
       "      <td>7</td>\n",
       "      <td>2</td>\n",
       "      <td>0.809</td>\n",
       "      <td>0.178</td>\n",
       "      <td>0.013</td>\n",
       "    </tr>\n",
       "    <tr>\n",
       "      <th>2</th>\n",
       "      <td>2</td>\n",
       "      <td>0</td>\n",
       "      <td>6</td>\n",
       "      <td>1</td>\n",
       "      <td>5</td>\n",
       "      <td>0</td>\n",
       "      <td>12</td>\n",
       "      <td>3</td>\n",
       "      <td>4</td>\n",
       "      <td>3</td>\n",
       "      <td>0.279</td>\n",
       "      <td>0.692</td>\n",
       "      <td>0.029</td>\n",
       "    </tr>\n",
       "    <tr>\n",
       "      <th>3</th>\n",
       "      <td>5</td>\n",
       "      <td>2</td>\n",
       "      <td>3</td>\n",
       "      <td>3</td>\n",
       "      <td>2</td>\n",
       "      <td>3</td>\n",
       "      <td>14</td>\n",
       "      <td>2</td>\n",
       "      <td>4</td>\n",
       "      <td>2</td>\n",
       "      <td>0.914</td>\n",
       "      <td>0.046</td>\n",
       "      <td>0.040</td>\n",
       "    </tr>\n",
       "    <tr>\n",
       "      <th>4</th>\n",
       "      <td>9</td>\n",
       "      <td>2</td>\n",
       "      <td>12</td>\n",
       "      <td>0</td>\n",
       "      <td>9</td>\n",
       "      <td>1</td>\n",
       "      <td>3</td>\n",
       "      <td>0</td>\n",
       "      <td>6</td>\n",
       "      <td>2</td>\n",
       "      <td>0.754</td>\n",
       "      <td>0.237</td>\n",
       "      <td>0.009</td>\n",
       "    </tr>\n",
       "  </tbody>\n",
       "</table>\n",
       "</div>"
      ],
      "text/plain": [
       "   val1  suit1  val2  suit2  f1val  f1suit  f2val  f2suit  f3val  f3suit  \\\n",
       "0    13      3     2      1      3       3      5       1      8       0   \n",
       "1    12      2     8      3      6       3     12       0      7       2   \n",
       "2     2      0     6      1      5       0     12       3      4       3   \n",
       "3     5      2     3      3      2       3     14       2      4       2   \n",
       "4     9      2    12      0      9       1      3       0      6       2   \n",
       "\n",
       "    nwin  nloose  nsplit  \n",
       "0  0.339   0.632   0.029  \n",
       "1  0.809   0.178   0.013  \n",
       "2  0.279   0.692   0.029  \n",
       "3  0.914   0.046   0.040  \n",
       "4  0.754   0.237   0.009  "
      ]
     },
     "execution_count": 283,
     "metadata": {},
     "output_type": "execute_result"
    }
   ],
   "source": [
    "simHandsFlopNew.head()"
   ]
  },
  {
   "cell_type": "markdown",
   "metadata": {},
   "source": [
    "and finally lets add the initial 80k hands to the dataframe."
   ]
  },
  {
   "cell_type": "code",
   "execution_count": 286,
   "metadata": {},
   "outputs": [
    {
     "data": {
      "text/html": [
       "<div>\n",
       "<style scoped>\n",
       "    .dataframe tbody tr th:only-of-type {\n",
       "        vertical-align: middle;\n",
       "    }\n",
       "\n",
       "    .dataframe tbody tr th {\n",
       "        vertical-align: top;\n",
       "    }\n",
       "\n",
       "    .dataframe thead th {\n",
       "        text-align: right;\n",
       "    }\n",
       "</style>\n",
       "<table border=\"1\" class=\"dataframe\">\n",
       "  <thead>\n",
       "    <tr style=\"text-align: right;\">\n",
       "      <th></th>\n",
       "      <th>val1</th>\n",
       "      <th>suit1</th>\n",
       "      <th>val2</th>\n",
       "      <th>suit2</th>\n",
       "      <th>f1val</th>\n",
       "      <th>f1suit</th>\n",
       "      <th>f2val</th>\n",
       "      <th>f2suit</th>\n",
       "      <th>f3val</th>\n",
       "      <th>f3suit</th>\n",
       "      <th>nwin</th>\n",
       "      <th>nloose</th>\n",
       "      <th>nsplit</th>\n",
       "    </tr>\n",
       "  </thead>\n",
       "  <tbody>\n",
       "    <tr>\n",
       "      <th>0</th>\n",
       "      <td>13</td>\n",
       "      <td>3</td>\n",
       "      <td>2</td>\n",
       "      <td>1</td>\n",
       "      <td>3</td>\n",
       "      <td>3</td>\n",
       "      <td>5</td>\n",
       "      <td>1</td>\n",
       "      <td>8</td>\n",
       "      <td>0</td>\n",
       "      <td>0.3390</td>\n",
       "      <td>0.6320</td>\n",
       "      <td>0.0290</td>\n",
       "    </tr>\n",
       "    <tr>\n",
       "      <th>1</th>\n",
       "      <td>12</td>\n",
       "      <td>2</td>\n",
       "      <td>8</td>\n",
       "      <td>3</td>\n",
       "      <td>6</td>\n",
       "      <td>3</td>\n",
       "      <td>12</td>\n",
       "      <td>0</td>\n",
       "      <td>7</td>\n",
       "      <td>2</td>\n",
       "      <td>0.8090</td>\n",
       "      <td>0.1780</td>\n",
       "      <td>0.0130</td>\n",
       "    </tr>\n",
       "    <tr>\n",
       "      <th>2</th>\n",
       "      <td>2</td>\n",
       "      <td>0</td>\n",
       "      <td>6</td>\n",
       "      <td>1</td>\n",
       "      <td>5</td>\n",
       "      <td>0</td>\n",
       "      <td>12</td>\n",
       "      <td>3</td>\n",
       "      <td>4</td>\n",
       "      <td>3</td>\n",
       "      <td>0.2790</td>\n",
       "      <td>0.6920</td>\n",
       "      <td>0.0290</td>\n",
       "    </tr>\n",
       "    <tr>\n",
       "      <th>3</th>\n",
       "      <td>5</td>\n",
       "      <td>2</td>\n",
       "      <td>3</td>\n",
       "      <td>3</td>\n",
       "      <td>2</td>\n",
       "      <td>3</td>\n",
       "      <td>14</td>\n",
       "      <td>2</td>\n",
       "      <td>4</td>\n",
       "      <td>2</td>\n",
       "      <td>0.9140</td>\n",
       "      <td>0.0460</td>\n",
       "      <td>0.0400</td>\n",
       "    </tr>\n",
       "    <tr>\n",
       "      <th>4</th>\n",
       "      <td>9</td>\n",
       "      <td>2</td>\n",
       "      <td>12</td>\n",
       "      <td>0</td>\n",
       "      <td>9</td>\n",
       "      <td>1</td>\n",
       "      <td>3</td>\n",
       "      <td>0</td>\n",
       "      <td>6</td>\n",
       "      <td>2</td>\n",
       "      <td>0.7540</td>\n",
       "      <td>0.2370</td>\n",
       "      <td>0.0090</td>\n",
       "    </tr>\n",
       "    <tr>\n",
       "      <th>...</th>\n",
       "      <td>...</td>\n",
       "      <td>...</td>\n",
       "      <td>...</td>\n",
       "      <td>...</td>\n",
       "      <td>...</td>\n",
       "      <td>...</td>\n",
       "      <td>...</td>\n",
       "      <td>...</td>\n",
       "      <td>...</td>\n",
       "      <td>...</td>\n",
       "      <td>...</td>\n",
       "      <td>...</td>\n",
       "      <td>...</td>\n",
       "    </tr>\n",
       "    <tr>\n",
       "      <th>239995</th>\n",
       "      <td>11</td>\n",
       "      <td>3</td>\n",
       "      <td>12</td>\n",
       "      <td>1</td>\n",
       "      <td>5</td>\n",
       "      <td>1</td>\n",
       "      <td>5</td>\n",
       "      <td>2</td>\n",
       "      <td>9</td>\n",
       "      <td>3</td>\n",
       "      <td>0.4462</td>\n",
       "      <td>0.5020</td>\n",
       "      <td>0.0518</td>\n",
       "    </tr>\n",
       "    <tr>\n",
       "      <th>239996</th>\n",
       "      <td>6</td>\n",
       "      <td>2</td>\n",
       "      <td>7</td>\n",
       "      <td>2</td>\n",
       "      <td>2</td>\n",
       "      <td>3</td>\n",
       "      <td>10</td>\n",
       "      <td>3</td>\n",
       "      <td>12</td>\n",
       "      <td>3</td>\n",
       "      <td>0.1470</td>\n",
       "      <td>0.7866</td>\n",
       "      <td>0.0664</td>\n",
       "    </tr>\n",
       "    <tr>\n",
       "      <th>239997</th>\n",
       "      <td>12</td>\n",
       "      <td>0</td>\n",
       "      <td>14</td>\n",
       "      <td>1</td>\n",
       "      <td>6</td>\n",
       "      <td>2</td>\n",
       "      <td>8</td>\n",
       "      <td>2</td>\n",
       "      <td>10</td>\n",
       "      <td>0</td>\n",
       "      <td>0.4640</td>\n",
       "      <td>0.5140</td>\n",
       "      <td>0.0220</td>\n",
       "    </tr>\n",
       "    <tr>\n",
       "      <th>239998</th>\n",
       "      <td>8</td>\n",
       "      <td>0</td>\n",
       "      <td>13</td>\n",
       "      <td>1</td>\n",
       "      <td>4</td>\n",
       "      <td>2</td>\n",
       "      <td>9</td>\n",
       "      <td>3</td>\n",
       "      <td>10</td>\n",
       "      <td>3</td>\n",
       "      <td>0.3910</td>\n",
       "      <td>0.5816</td>\n",
       "      <td>0.0274</td>\n",
       "    </tr>\n",
       "    <tr>\n",
       "      <th>239999</th>\n",
       "      <td>7</td>\n",
       "      <td>2</td>\n",
       "      <td>8</td>\n",
       "      <td>2</td>\n",
       "      <td>5</td>\n",
       "      <td>2</td>\n",
       "      <td>6</td>\n",
       "      <td>0</td>\n",
       "      <td>6</td>\n",
       "      <td>2</td>\n",
       "      <td>0.6052</td>\n",
       "      <td>0.3524</td>\n",
       "      <td>0.0424</td>\n",
       "    </tr>\n",
       "  </tbody>\n",
       "</table>\n",
       "<p>240000 rows × 13 columns</p>\n",
       "</div>"
      ],
      "text/plain": [
       "        val1  suit1  val2  suit2  f1val  f1suit  f2val  f2suit  f3val  f3suit  \\\n",
       "0         13      3     2      1      3       3      5       1      8       0   \n",
       "1         12      2     8      3      6       3     12       0      7       2   \n",
       "2          2      0     6      1      5       0     12       3      4       3   \n",
       "3          5      2     3      3      2       3     14       2      4       2   \n",
       "4          9      2    12      0      9       1      3       0      6       2   \n",
       "...      ...    ...   ...    ...    ...     ...    ...     ...    ...     ...   \n",
       "239995    11      3    12      1      5       1      5       2      9       3   \n",
       "239996     6      2     7      2      2       3     10       3     12       3   \n",
       "239997    12      0    14      1      6       2      8       2     10       0   \n",
       "239998     8      0    13      1      4       2      9       3     10       3   \n",
       "239999     7      2     8      2      5       2      6       0      6       2   \n",
       "\n",
       "          nwin  nloose  nsplit  \n",
       "0       0.3390  0.6320  0.0290  \n",
       "1       0.8090  0.1780  0.0130  \n",
       "2       0.2790  0.6920  0.0290  \n",
       "3       0.9140  0.0460  0.0400  \n",
       "4       0.7540  0.2370  0.0090  \n",
       "...        ...     ...     ...  \n",
       "239995  0.4462  0.5020  0.0518  \n",
       "239996  0.1470  0.7866  0.0664  \n",
       "239997  0.4640  0.5140  0.0220  \n",
       "239998  0.3910  0.5816  0.0274  \n",
       "239999  0.6052  0.3524  0.0424  \n",
       "\n",
       "[240000 rows x 13 columns]"
      ]
     },
     "execution_count": 286,
     "metadata": {},
     "output_type": "execute_result"
    }
   ],
   "source": [
    "simHandsFlopLarge = simHandsFlopNew.append(simHandsFlop, ignore_index=True)\n",
    "simHandsFlopLarge"
   ]
  },
  {
   "cell_type": "code",
   "execution_count": 287,
   "metadata": {},
   "outputs": [],
   "source": [
    "simHandsFlopLarge.to_csv(dataFolder+'simHandsFlopLarge.csv', index= None)"
   ]
  },
  {
   "cell_type": "code",
   "execution_count": 7,
   "metadata": {},
   "outputs": [],
   "source": [
    "simHandsFlopLarge = pd.read_csv(dataFolder+'simHandsFlopLarge.csv')"
   ]
  },
  {
   "cell_type": "markdown",
   "metadata": {},
   "source": [
    "We are going to train a model to predict pwin, ploose, and psplit. It would take too long to simulate Average villain strengths and std for 95% of the boards. We need a very precise model, because we are going to use the results of this model to train another model, which estimates all five values."
   ]
  },
  {
   "cell_type": "code",
   "execution_count": 9,
   "metadata": {},
   "outputs": [
    {
     "name": "stderr",
     "output_type": "stream",
     "text": [
      "2022-01-10 16:10:32.557892: W tensorflow/stream_executor/platform/default/dso_loader.cc:64] Could not load dynamic library 'libcuda.so.1'; dlerror: libcuda.so.1: cannot open shared object file: No such file or directory\n",
      "2022-01-10 16:10:32.557984: W tensorflow/stream_executor/cuda/cuda_driver.cc:269] failed call to cuInit: UNKNOWN ERROR (303)\n",
      "2022-01-10 16:10:32.558025: I tensorflow/stream_executor/cuda/cuda_diagnostics.cc:156] kernel driver does not appear to be running on this host (cromi-Lenovo-V15-ADA): /proc/driver/nvidia/version does not exist\n",
      "2022-01-10 16:10:32.560763: I tensorflow/core/platform/cpu_feature_guard.cc:151] This TensorFlow binary is optimized with oneAPI Deep Neural Network Library (oneDNN) to use the following CPU instructions in performance-critical operations:  AVX2 FMA\n",
      "To enable them in other operations, rebuild TensorFlow with the appropriate compiler flags.\n"
     ]
    }
   ],
   "source": [
    "input_dims = 10\n",
    "\n",
    "fc1_dims = 128\n",
    "fc2_dims = 64\n",
    "fc3_dims = 32\n",
    "fc4_dims = 16\n",
    "fc5_dims = 8\n",
    "fc6_dims = 4\n",
    "\n",
    "lr = 0.0001\n",
    "modelFlopNew = keras.Sequential()\n",
    "modelFlopNew.add(keras.layers.Dense(fc1_dims, input_dim=input_dims, activation = 'relu'))\n",
    "modelFlopNew.add(keras.layers.Dense(fc2_dims, activation = 'relu'))\n",
    "modelFlopNew.add(keras.layers.Dense(fc3_dims, activation = 'relu'))\n",
    "modelFlopNew.add(keras.layers.Dense(fc4_dims, activation = 'relu'))\n",
    "modelFlopNew.add(keras.layers.Dense(fc5_dims, activation = 'relu'))\n",
    "modelFlopNew.add(keras.layers.Dense(fc6_dims, activation = 'relu'))\n",
    "modelFlopNew.add(keras.layers.Dense(3,activation='softmax')) #pwin, ploose and pplit must add up to 1.\n",
    "modelFlopNew.compile(optimizer=Adam(learning_rate=lr), loss='mean_squared_error')"
   ]
  },
  {
   "cell_type": "code",
   "execution_count": 11,
   "metadata": {},
   "outputs": [],
   "source": [
    "from sklearn.model_selection import train_test_split\n",
    "train, test = train_test_split(simHandsFlopLarge, test_size=0.05)"
   ]
  },
  {
   "cell_type": "code",
   "execution_count": 12,
   "metadata": {
    "executionInfo": {
     "elapsed": 407,
     "status": "ok",
     "timestamp": 1641114401327,
     "user": {
      "displayName": "Dario Nalis",
      "photoUrl": "https://lh3.googleusercontent.com/a/default-user=s64",
      "userId": "14162360762689343251"
     },
     "user_tz": -60
    },
    "id": "P6Qh4vyzNEa6"
   },
   "outputs": [],
   "source": [
    "X_train = np.array(train.iloc[:,0:-3])\n",
    "X_test = np.array(test.iloc[:,0:-3])\n",
    "y_train = np.array(train.iloc[:,-3:])\n",
    "y_test = np.array(test.iloc[:,-3:])"
   ]
  },
  {
   "cell_type": "code",
   "execution_count": null,
   "metadata": {},
   "outputs": [],
   "source": [
    "lr = 0.00000001\n",
    "K.set_value(modelFlopNew.optimizer.learning_rate, lr)\n",
    "modelFlopNew.fit(X_train, y_train, epochs = 20, batch_size=8)"
   ]
  },
  {
   "cell_type": "code",
   "execution_count": 56,
   "metadata": {},
   "outputs": [
    {
     "name": "stdout",
     "output_type": "stream",
     "text": [
      "375/375 [==============================] - 1s 2ms/step - loss: 6.3473e-04\n"
     ]
    },
    {
     "data": {
      "text/plain": [
       "0.000634727708529681"
      ]
     },
     "execution_count": 56,
     "metadata": {},
     "output_type": "execute_result"
    }
   ],
   "source": [
    "#Hopefully we did not overfit.\n",
    "modelFlopNew.evaluate(X_test,y_test)"
   ]
  },
  {
   "cell_type": "code",
   "execution_count": 57,
   "metadata": {},
   "outputs": [],
   "source": [
    "modelFlopNew.save(modelsFolder+'strengthFlopCorrected.h5')"
   ]
  },
  {
   "cell_type": "markdown",
   "metadata": {},
   "source": [
    "Let's generate a model."
   ]
  },
  {
   "cell_type": "markdown",
   "metadata": {},
   "source": [
    "<h2>Simulating average hand strengths for training data </h2>\n",
    "Now that we have a propper network to evaluate individual hand strengths, let's generate training data for average hand strengths. Instead of providing one single hand for hero, we will use all possible combinations, estimate win and loose percentages. Win and loose should be equal. This will also be our sanity check. Because the win and loose probabilities are estimated by a network, they will have some error. So we will use the mean of both as estimator for the strength of average hands. Win-loose- and split percenteges are euqivalent, because they can be calculated from each other. \n",
    "Beyond the avg-handStrength, we are interested in a variance meassure of hand strengths. So we will calculate standard deviations for win, and split-pots. The output will therefore be an average value for win/loos, an std for win/loss and a std for splits."
   ]
  },
  {
   "cell_type": "code",
   "execution_count": 8,
   "metadata": {},
   "outputs": [
    {
     "name": "stderr",
     "output_type": "stream",
     "text": [
      "2022-01-13 20:21:51.773298: W tensorflow/stream_executor/platform/default/dso_loader.cc:64] Could not load dynamic library 'libcuda.so.1'; dlerror: libcuda.so.1: cannot open shared object file: No such file or directory\n",
      "2022-01-13 20:21:51.773340: W tensorflow/stream_executor/cuda/cuda_driver.cc:269] failed call to cuInit: UNKNOWN ERROR (303)\n",
      "2022-01-13 20:21:51.773375: I tensorflow/stream_executor/cuda/cuda_diagnostics.cc:156] kernel driver does not appear to be running on this host (cromi-Lenovo-V15-ADA): /proc/driver/nvidia/version does not exist\n",
      "2022-01-13 20:21:51.773816: I tensorflow/core/platform/cpu_feature_guard.cc:151] This TensorFlow binary is optimized with oneAPI Deep Neural Network Library (oneDNN) to use the following CPU instructions in performance-critical operations:  AVX2 FMA\n",
      "To enable them in other operations, rebuild TensorFlow with the appropriate compiler flags.\n"
     ]
    }
   ],
   "source": [
    "#load model for generating flop strengths.\n",
    "modelFlop = load_model(modelsFolder+'strengthFlopCorrected.h5')"
   ]
  },
  {
   "cell_type": "code",
   "execution_count": 12,
   "metadata": {},
   "outputs": [],
   "source": [
    "#Function takes in a row from the data frame and calculates pwin/ploose, stdwin, stdloose\n",
    "\n",
    "def strengthVillain(row):\n",
    "    import numpy as np\n",
    "    heroHand = transformHand(row)\n",
    "    deckRem = set(deck) -set(heroHand)\n",
    "    handsVillain= []\n",
    "    for combo in combinations(deckRem, 2):\n",
    "        villainHole = list(combo)\n",
    "        villainHand = np.array(villainHole + heroHand[2:])\n",
    "        handsVillain.append(list(villainHand.flatten()))\n",
    "    handsVillain = np.array(handsVillain)\n",
    "    strengths = modelFlop.predict(handsVillain)\n",
    "    pwin = strengths[:,0].mean()\n",
    "    ploose = strengths[:,1].mean()\n",
    "    psplit = 1-(pwin+ploose)\n",
    "    stdwin = (strengths[:,0].std()+strengths[:,1].std())/2\n",
    "    stdsplit = strengths[:,2].std()\n",
    "    return pwin, ploose, psplit, stdwin, stdsplit"
   ]
  },
  {
   "cell_type": "code",
   "execution_count": null,
   "metadata": {
    "id": "E22uh0m_O16X"
   },
   "outputs": [],
   "source": [
    "results = []\n",
    "for i in simHandsFlopLarge.index:\n",
    "    if i%100==0:\n",
    "        print(i)\n",
    "    result = list(strengthVillain(simHandsFlopLarge.iloc[i]))\n",
    "    results.append(result)"
   ]
  },
  {
   "cell_type": "code",
   "execution_count": 23,
   "metadata": {},
   "outputs": [
    {
     "data": {
      "text/html": [
       "<div>\n",
       "<style scoped>\n",
       "    .dataframe tbody tr th:only-of-type {\n",
       "        vertical-align: middle;\n",
       "    }\n",
       "\n",
       "    .dataframe tbody tr th {\n",
       "        vertical-align: top;\n",
       "    }\n",
       "\n",
       "    .dataframe thead th {\n",
       "        text-align: right;\n",
       "    }\n",
       "</style>\n",
       "<table border=\"1\" class=\"dataframe\">\n",
       "  <thead>\n",
       "    <tr style=\"text-align: right;\">\n",
       "      <th></th>\n",
       "      <th>pwin</th>\n",
       "      <th>ploose</th>\n",
       "      <th>psplit</th>\n",
       "      <th>stdwin</th>\n",
       "      <th>stdsplit</th>\n",
       "    </tr>\n",
       "  </thead>\n",
       "  <tbody>\n",
       "    <tr>\n",
       "      <th>0</th>\n",
       "      <td>0.485143</td>\n",
       "      <td>0.493260</td>\n",
       "      <td>0.021597</td>\n",
       "      <td>0.165436</td>\n",
       "      <td>0.007064</td>\n",
       "    </tr>\n",
       "    <tr>\n",
       "      <th>1</th>\n",
       "      <td>0.470235</td>\n",
       "      <td>0.497450</td>\n",
       "      <td>0.032316</td>\n",
       "      <td>0.184752</td>\n",
       "      <td>0.013901</td>\n",
       "    </tr>\n",
       "    <tr>\n",
       "      <th>2</th>\n",
       "      <td>0.493930</td>\n",
       "      <td>0.481355</td>\n",
       "      <td>0.024715</td>\n",
       "      <td>0.183468</td>\n",
       "      <td>0.009823</td>\n",
       "    </tr>\n",
       "    <tr>\n",
       "      <th>3</th>\n",
       "      <td>0.485079</td>\n",
       "      <td>0.490257</td>\n",
       "      <td>0.024664</td>\n",
       "      <td>0.183816</td>\n",
       "      <td>0.008695</td>\n",
       "    </tr>\n",
       "    <tr>\n",
       "      <th>4</th>\n",
       "      <td>0.469364</td>\n",
       "      <td>0.508005</td>\n",
       "      <td>0.022631</td>\n",
       "      <td>0.167758</td>\n",
       "      <td>0.007361</td>\n",
       "    </tr>\n",
       "    <tr>\n",
       "      <th>...</th>\n",
       "      <td>...</td>\n",
       "      <td>...</td>\n",
       "      <td>...</td>\n",
       "      <td>...</td>\n",
       "      <td>...</td>\n",
       "    </tr>\n",
       "    <tr>\n",
       "      <th>239995</th>\n",
       "      <td>0.456994</td>\n",
       "      <td>0.477016</td>\n",
       "      <td>0.065991</td>\n",
       "      <td>0.213797</td>\n",
       "      <td>0.032440</td>\n",
       "    </tr>\n",
       "    <tr>\n",
       "      <th>239996</th>\n",
       "      <td>0.508886</td>\n",
       "      <td>0.458892</td>\n",
       "      <td>0.032222</td>\n",
       "      <td>0.205281</td>\n",
       "      <td>0.013989</td>\n",
       "    </tr>\n",
       "    <tr>\n",
       "      <th>239997</th>\n",
       "      <td>0.480299</td>\n",
       "      <td>0.480298</td>\n",
       "      <td>0.039404</td>\n",
       "      <td>0.187534</td>\n",
       "      <td>0.014373</td>\n",
       "    </tr>\n",
       "    <tr>\n",
       "      <th>239998</th>\n",
       "      <td>0.470531</td>\n",
       "      <td>0.497846</td>\n",
       "      <td>0.031623</td>\n",
       "      <td>0.186471</td>\n",
       "      <td>0.010017</td>\n",
       "    </tr>\n",
       "    <tr>\n",
       "      <th>239999</th>\n",
       "      <td>0.463050</td>\n",
       "      <td>0.479035</td>\n",
       "      <td>0.057915</td>\n",
       "      <td>0.185629</td>\n",
       "      <td>0.019993</td>\n",
       "    </tr>\n",
       "  </tbody>\n",
       "</table>\n",
       "<p>240000 rows × 5 columns</p>\n",
       "</div>"
      ],
      "text/plain": [
       "            pwin    ploose    psplit    stdwin  stdsplit\n",
       "0       0.485143  0.493260  0.021597  0.165436  0.007064\n",
       "1       0.470235  0.497450  0.032316  0.184752  0.013901\n",
       "2       0.493930  0.481355  0.024715  0.183468  0.009823\n",
       "3       0.485079  0.490257  0.024664  0.183816  0.008695\n",
       "4       0.469364  0.508005  0.022631  0.167758  0.007361\n",
       "...          ...       ...       ...       ...       ...\n",
       "239995  0.456994  0.477016  0.065991  0.213797  0.032440\n",
       "239996  0.508886  0.458892  0.032222  0.205281  0.013989\n",
       "239997  0.480299  0.480298  0.039404  0.187534  0.014373\n",
       "239998  0.470531  0.497846  0.031623  0.186471  0.010017\n",
       "239999  0.463050  0.479035  0.057915  0.185629  0.019993\n",
       "\n",
       "[240000 rows x 5 columns]"
      ]
     },
     "execution_count": 23,
     "metadata": {},
     "output_type": "execute_result"
    }
   ],
   "source": [
    "pd.DataFrame(columns=['pwin', 'ploose', 'psplit', 'stdwin', 'stdsplit'], data =np.array(results))"
   ]
  },
  {
   "cell_type": "code",
   "execution_count": 24,
   "metadata": {},
   "outputs": [],
   "source": [
    "results = pd.DataFrame(columns=['pwin', 'ploose', 'psplit', 'stdwin', 'stdsplit'], data =np.array(results))\n",
    "results.to_csv(dataFolder+'results.csv', index = None)"
   ]
  },
  {
   "cell_type": "markdown",
   "metadata": {},
   "source": [
    "<h2>Final DataFrame for Training the Full Strength Evaluator for the Flop </h2>\n",
    "Now let's add all values that simulated to the data frame, so we can train a model to predict those values. We will add pwin and ploose for hero, as the probabity fo split is equivalent (1-pwin-ploose). We will add the probability of split pot  for villain (the probability for pwin and ploose is equivalent), the standard deviation for the aggregate pwinVil and plooseVil and a standard deviation for split pot."
   ]
  },
  {
   "cell_type": "code",
   "execution_count": 87,
   "metadata": {},
   "outputs": [
    {
     "data": {
      "text/html": [
       "<div>\n",
       "<style scoped>\n",
       "    .dataframe tbody tr th:only-of-type {\n",
       "        vertical-align: middle;\n",
       "    }\n",
       "\n",
       "    .dataframe tbody tr th {\n",
       "        vertical-align: top;\n",
       "    }\n",
       "\n",
       "    .dataframe thead th {\n",
       "        text-align: right;\n",
       "    }\n",
       "</style>\n",
       "<table border=\"1\" class=\"dataframe\">\n",
       "  <thead>\n",
       "    <tr style=\"text-align: right;\">\n",
       "      <th></th>\n",
       "      <th>val1</th>\n",
       "      <th>suit1</th>\n",
       "      <th>val2</th>\n",
       "      <th>suit2</th>\n",
       "      <th>f1val</th>\n",
       "      <th>f1suit</th>\n",
       "      <th>f2val</th>\n",
       "      <th>f2suit</th>\n",
       "      <th>f3val</th>\n",
       "      <th>f3suit</th>\n",
       "      <th>pwin</th>\n",
       "      <th>ploose</th>\n",
       "      <th>nsplit</th>\n",
       "      <th>psplitVil</th>\n",
       "      <th>stdwinVil</th>\n",
       "      <th>stdsplitVil</th>\n",
       "    </tr>\n",
       "  </thead>\n",
       "  <tbody>\n",
       "    <tr>\n",
       "      <th>0</th>\n",
       "      <td>13</td>\n",
       "      <td>3</td>\n",
       "      <td>2</td>\n",
       "      <td>1</td>\n",
       "      <td>3</td>\n",
       "      <td>3</td>\n",
       "      <td>5</td>\n",
       "      <td>1</td>\n",
       "      <td>8</td>\n",
       "      <td>0</td>\n",
       "      <td>0.339</td>\n",
       "      <td>0.632</td>\n",
       "      <td>0.029</td>\n",
       "      <td>0.021597</td>\n",
       "      <td>0.165436</td>\n",
       "      <td>0.007064</td>\n",
       "    </tr>\n",
       "    <tr>\n",
       "      <th>1</th>\n",
       "      <td>12</td>\n",
       "      <td>2</td>\n",
       "      <td>8</td>\n",
       "      <td>3</td>\n",
       "      <td>6</td>\n",
       "      <td>3</td>\n",
       "      <td>12</td>\n",
       "      <td>0</td>\n",
       "      <td>7</td>\n",
       "      <td>2</td>\n",
       "      <td>0.809</td>\n",
       "      <td>0.178</td>\n",
       "      <td>0.013</td>\n",
       "      <td>0.032316</td>\n",
       "      <td>0.184752</td>\n",
       "      <td>0.013901</td>\n",
       "    </tr>\n",
       "    <tr>\n",
       "      <th>2</th>\n",
       "      <td>2</td>\n",
       "      <td>0</td>\n",
       "      <td>6</td>\n",
       "      <td>1</td>\n",
       "      <td>5</td>\n",
       "      <td>0</td>\n",
       "      <td>12</td>\n",
       "      <td>3</td>\n",
       "      <td>4</td>\n",
       "      <td>3</td>\n",
       "      <td>0.279</td>\n",
       "      <td>0.692</td>\n",
       "      <td>0.029</td>\n",
       "      <td>0.024715</td>\n",
       "      <td>0.183468</td>\n",
       "      <td>0.009823</td>\n",
       "    </tr>\n",
       "    <tr>\n",
       "      <th>3</th>\n",
       "      <td>5</td>\n",
       "      <td>2</td>\n",
       "      <td>3</td>\n",
       "      <td>3</td>\n",
       "      <td>2</td>\n",
       "      <td>3</td>\n",
       "      <td>14</td>\n",
       "      <td>2</td>\n",
       "      <td>4</td>\n",
       "      <td>2</td>\n",
       "      <td>0.914</td>\n",
       "      <td>0.046</td>\n",
       "      <td>0.040</td>\n",
       "      <td>0.024664</td>\n",
       "      <td>0.183816</td>\n",
       "      <td>0.008695</td>\n",
       "    </tr>\n",
       "    <tr>\n",
       "      <th>4</th>\n",
       "      <td>9</td>\n",
       "      <td>2</td>\n",
       "      <td>12</td>\n",
       "      <td>0</td>\n",
       "      <td>9</td>\n",
       "      <td>1</td>\n",
       "      <td>3</td>\n",
       "      <td>0</td>\n",
       "      <td>6</td>\n",
       "      <td>2</td>\n",
       "      <td>0.754</td>\n",
       "      <td>0.237</td>\n",
       "      <td>0.009</td>\n",
       "      <td>0.022631</td>\n",
       "      <td>0.167758</td>\n",
       "      <td>0.007361</td>\n",
       "    </tr>\n",
       "  </tbody>\n",
       "</table>\n",
       "</div>"
      ],
      "text/plain": [
       "   val1  suit1  val2  suit2  f1val  f1suit  f2val  f2suit  f3val  f3suit  \\\n",
       "0    13      3     2      1      3       3      5       1      8       0   \n",
       "1    12      2     8      3      6       3     12       0      7       2   \n",
       "2     2      0     6      1      5       0     12       3      4       3   \n",
       "3     5      2     3      3      2       3     14       2      4       2   \n",
       "4     9      2    12      0      9       1      3       0      6       2   \n",
       "\n",
       "    pwin  ploose  nsplit  psplitVil  stdwinVil  stdsplitVil  \n",
       "0  0.339   0.632   0.029   0.021597   0.165436     0.007064  \n",
       "1  0.809   0.178   0.013   0.032316   0.184752     0.013901  \n",
       "2  0.279   0.692   0.029   0.024715   0.183468     0.009823  \n",
       "3  0.914   0.046   0.040   0.024664   0.183816     0.008695  \n",
       "4  0.754   0.237   0.009   0.022631   0.167758     0.007361  "
      ]
     },
     "execution_count": 87,
     "metadata": {},
     "output_type": "execute_result"
    }
   ],
   "source": [
    "simHandsFlopTotal = simHandsFlopLarge\n",
    "simHandsFlopTotal['psplitVil']=results['psplit']\n",
    "simHandsFlopTotal['stdwinVil']=results['stdwin']\n",
    "simHandsFlopTotal['stdsplit']=results['stdsplit']\n",
    "simHandsFlopTotal.rename(columns={'nwin':'pwin', 'nloose':'ploose', 'stdsplit':'stdsplitVil'}, inplace=True)\n",
    "simHandsFlopTotal.to_csv(dataFolder+'simHandsFlopTotal.csv', index=None)\n",
    "\n",
    "simHandsFlopTotal.head()"
   ]
  },
  {
   "cell_type": "code",
   "execution_count": 12,
   "metadata": {},
   "outputs": [
    {
     "data": {
      "text/html": [
       "<div>\n",
       "<style scoped>\n",
       "    .dataframe tbody tr th:only-of-type {\n",
       "        vertical-align: middle;\n",
       "    }\n",
       "\n",
       "    .dataframe tbody tr th {\n",
       "        vertical-align: top;\n",
       "    }\n",
       "\n",
       "    .dataframe thead th {\n",
       "        text-align: right;\n",
       "    }\n",
       "</style>\n",
       "<table border=\"1\" class=\"dataframe\">\n",
       "  <thead>\n",
       "    <tr style=\"text-align: right;\">\n",
       "      <th></th>\n",
       "      <th>val1</th>\n",
       "      <th>suit1</th>\n",
       "      <th>val2</th>\n",
       "      <th>suit2</th>\n",
       "      <th>f1val</th>\n",
       "      <th>f1suit</th>\n",
       "      <th>f2val</th>\n",
       "      <th>f2suit</th>\n",
       "      <th>f3val</th>\n",
       "      <th>f3suit</th>\n",
       "      <th>pwin</th>\n",
       "      <th>ploose</th>\n",
       "      <th>psplitVil</th>\n",
       "      <th>stdwinVil</th>\n",
       "      <th>stdsplitVil</th>\n",
       "    </tr>\n",
       "  </thead>\n",
       "  <tbody>\n",
       "    <tr>\n",
       "      <th>0</th>\n",
       "      <td>13</td>\n",
       "      <td>3</td>\n",
       "      <td>2</td>\n",
       "      <td>1</td>\n",
       "      <td>3</td>\n",
       "      <td>3</td>\n",
       "      <td>5</td>\n",
       "      <td>1</td>\n",
       "      <td>8</td>\n",
       "      <td>0</td>\n",
       "      <td>0.339</td>\n",
       "      <td>0.632</td>\n",
       "      <td>0.021597</td>\n",
       "      <td>0.165436</td>\n",
       "      <td>0.007064</td>\n",
       "    </tr>\n",
       "    <tr>\n",
       "      <th>1</th>\n",
       "      <td>12</td>\n",
       "      <td>2</td>\n",
       "      <td>8</td>\n",
       "      <td>3</td>\n",
       "      <td>6</td>\n",
       "      <td>3</td>\n",
       "      <td>12</td>\n",
       "      <td>0</td>\n",
       "      <td>7</td>\n",
       "      <td>2</td>\n",
       "      <td>0.809</td>\n",
       "      <td>0.178</td>\n",
       "      <td>0.032316</td>\n",
       "      <td>0.184752</td>\n",
       "      <td>0.013901</td>\n",
       "    </tr>\n",
       "    <tr>\n",
       "      <th>2</th>\n",
       "      <td>2</td>\n",
       "      <td>0</td>\n",
       "      <td>6</td>\n",
       "      <td>1</td>\n",
       "      <td>5</td>\n",
       "      <td>0</td>\n",
       "      <td>12</td>\n",
       "      <td>3</td>\n",
       "      <td>4</td>\n",
       "      <td>3</td>\n",
       "      <td>0.279</td>\n",
       "      <td>0.692</td>\n",
       "      <td>0.024715</td>\n",
       "      <td>0.183468</td>\n",
       "      <td>0.009823</td>\n",
       "    </tr>\n",
       "    <tr>\n",
       "      <th>3</th>\n",
       "      <td>5</td>\n",
       "      <td>2</td>\n",
       "      <td>3</td>\n",
       "      <td>3</td>\n",
       "      <td>2</td>\n",
       "      <td>3</td>\n",
       "      <td>14</td>\n",
       "      <td>2</td>\n",
       "      <td>4</td>\n",
       "      <td>2</td>\n",
       "      <td>0.914</td>\n",
       "      <td>0.046</td>\n",
       "      <td>0.024664</td>\n",
       "      <td>0.183816</td>\n",
       "      <td>0.008695</td>\n",
       "    </tr>\n",
       "    <tr>\n",
       "      <th>4</th>\n",
       "      <td>9</td>\n",
       "      <td>2</td>\n",
       "      <td>12</td>\n",
       "      <td>0</td>\n",
       "      <td>9</td>\n",
       "      <td>1</td>\n",
       "      <td>3</td>\n",
       "      <td>0</td>\n",
       "      <td>6</td>\n",
       "      <td>2</td>\n",
       "      <td>0.754</td>\n",
       "      <td>0.237</td>\n",
       "      <td>0.022631</td>\n",
       "      <td>0.167758</td>\n",
       "      <td>0.007361</td>\n",
       "    </tr>\n",
       "  </tbody>\n",
       "</table>\n",
       "</div>"
      ],
      "text/plain": [
       "   val1  suit1  val2  suit2  f1val  f1suit  f2val  f2suit  f3val  f3suit  \\\n",
       "0    13      3     2      1      3       3      5       1      8       0   \n",
       "1    12      2     8      3      6       3     12       0      7       2   \n",
       "2     2      0     6      1      5       0     12       3      4       3   \n",
       "3     5      2     3      3      2       3     14       2      4       2   \n",
       "4     9      2    12      0      9       1      3       0      6       2   \n",
       "\n",
       "    pwin  ploose  psplitVil  stdwinVil  stdsplitVil  \n",
       "0  0.339   0.632   0.021597   0.165436     0.007064  \n",
       "1  0.809   0.178   0.032316   0.184752     0.013901  \n",
       "2  0.279   0.692   0.024715   0.183468     0.009823  \n",
       "3  0.914   0.046   0.024664   0.183816     0.008695  \n",
       "4  0.754   0.237   0.022631   0.167758     0.007361  "
      ]
     },
     "execution_count": 12,
     "metadata": {},
     "output_type": "execute_result"
    }
   ],
   "source": [
    "simHandsFlopTotal.to_csv(dataFolder+'simHandsFlopTotal.csv', index=None)\n",
    "simHandsFlopTotal.head()"
   ]
  },
  {
   "cell_type": "code",
   "execution_count": 4,
   "metadata": {},
   "outputs": [
    {
     "data": {
      "text/html": [
       "<div>\n",
       "<style scoped>\n",
       "    .dataframe tbody tr th:only-of-type {\n",
       "        vertical-align: middle;\n",
       "    }\n",
       "\n",
       "    .dataframe tbody tr th {\n",
       "        vertical-align: top;\n",
       "    }\n",
       "\n",
       "    .dataframe thead th {\n",
       "        text-align: right;\n",
       "    }\n",
       "</style>\n",
       "<table border=\"1\" class=\"dataframe\">\n",
       "  <thead>\n",
       "    <tr style=\"text-align: right;\">\n",
       "      <th></th>\n",
       "      <th>val1</th>\n",
       "      <th>suit1</th>\n",
       "      <th>val2</th>\n",
       "      <th>suit2</th>\n",
       "      <th>f1val</th>\n",
       "      <th>f1suit</th>\n",
       "      <th>f2val</th>\n",
       "      <th>f2suit</th>\n",
       "      <th>f3val</th>\n",
       "      <th>f3suit</th>\n",
       "      <th>pwin</th>\n",
       "      <th>ploose</th>\n",
       "      <th>psplitVil</th>\n",
       "      <th>stdwinVil</th>\n",
       "      <th>stdsplitVil</th>\n",
       "    </tr>\n",
       "  </thead>\n",
       "  <tbody>\n",
       "    <tr>\n",
       "      <th>0</th>\n",
       "      <td>13</td>\n",
       "      <td>3</td>\n",
       "      <td>2</td>\n",
       "      <td>1</td>\n",
       "      <td>3</td>\n",
       "      <td>3</td>\n",
       "      <td>5</td>\n",
       "      <td>1</td>\n",
       "      <td>8</td>\n",
       "      <td>0</td>\n",
       "      <td>0.339</td>\n",
       "      <td>0.632</td>\n",
       "      <td>0.021597</td>\n",
       "      <td>0.165436</td>\n",
       "      <td>0.007064</td>\n",
       "    </tr>\n",
       "    <tr>\n",
       "      <th>1</th>\n",
       "      <td>12</td>\n",
       "      <td>2</td>\n",
       "      <td>8</td>\n",
       "      <td>3</td>\n",
       "      <td>6</td>\n",
       "      <td>3</td>\n",
       "      <td>12</td>\n",
       "      <td>0</td>\n",
       "      <td>7</td>\n",
       "      <td>2</td>\n",
       "      <td>0.809</td>\n",
       "      <td>0.178</td>\n",
       "      <td>0.032316</td>\n",
       "      <td>0.184752</td>\n",
       "      <td>0.013901</td>\n",
       "    </tr>\n",
       "    <tr>\n",
       "      <th>2</th>\n",
       "      <td>2</td>\n",
       "      <td>0</td>\n",
       "      <td>6</td>\n",
       "      <td>1</td>\n",
       "      <td>5</td>\n",
       "      <td>0</td>\n",
       "      <td>12</td>\n",
       "      <td>3</td>\n",
       "      <td>4</td>\n",
       "      <td>3</td>\n",
       "      <td>0.279</td>\n",
       "      <td>0.692</td>\n",
       "      <td>0.024715</td>\n",
       "      <td>0.183468</td>\n",
       "      <td>0.009823</td>\n",
       "    </tr>\n",
       "    <tr>\n",
       "      <th>3</th>\n",
       "      <td>5</td>\n",
       "      <td>2</td>\n",
       "      <td>3</td>\n",
       "      <td>3</td>\n",
       "      <td>2</td>\n",
       "      <td>3</td>\n",
       "      <td>14</td>\n",
       "      <td>2</td>\n",
       "      <td>4</td>\n",
       "      <td>2</td>\n",
       "      <td>0.914</td>\n",
       "      <td>0.046</td>\n",
       "      <td>0.024664</td>\n",
       "      <td>0.183816</td>\n",
       "      <td>0.008695</td>\n",
       "    </tr>\n",
       "    <tr>\n",
       "      <th>4</th>\n",
       "      <td>9</td>\n",
       "      <td>2</td>\n",
       "      <td>12</td>\n",
       "      <td>0</td>\n",
       "      <td>9</td>\n",
       "      <td>1</td>\n",
       "      <td>3</td>\n",
       "      <td>0</td>\n",
       "      <td>6</td>\n",
       "      <td>2</td>\n",
       "      <td>0.754</td>\n",
       "      <td>0.237</td>\n",
       "      <td>0.022631</td>\n",
       "      <td>0.167758</td>\n",
       "      <td>0.007361</td>\n",
       "    </tr>\n",
       "  </tbody>\n",
       "</table>\n",
       "</div>"
      ],
      "text/plain": [
       "   val1  suit1  val2  suit2  f1val  f1suit  f2val  f2suit  f3val  f3suit  \\\n",
       "0    13      3     2      1      3       3      5       1      8       0   \n",
       "1    12      2     8      3      6       3     12       0      7       2   \n",
       "2     2      0     6      1      5       0     12       3      4       3   \n",
       "3     5      2     3      3      2       3     14       2      4       2   \n",
       "4     9      2    12      0      9       1      3       0      6       2   \n",
       "\n",
       "    pwin  ploose  psplitVil  stdwinVil  stdsplitVil  \n",
       "0  0.339   0.632   0.021597   0.165436     0.007064  \n",
       "1  0.809   0.178   0.032316   0.184752     0.013901  \n",
       "2  0.279   0.692   0.024715   0.183468     0.009823  \n",
       "3  0.914   0.046   0.024664   0.183816     0.008695  \n",
       "4  0.754   0.237   0.022631   0.167758     0.007361  "
      ]
     },
     "execution_count": 4,
     "metadata": {},
     "output_type": "execute_result"
    }
   ],
   "source": [
    "simHandsFlopTotal= pd.read_csv(dataFolder+'simHandsFlopTotal.csv')\n",
    "simHandsFlopTotal.head()"
   ]
  },
  {
   "cell_type": "code",
   "execution_count": 32,
   "metadata": {},
   "outputs": [],
   "source": [
    "input_dims = 10\n",
    "\n",
    "fc1_dims = 256\n",
    "fc2_dims = 128\n",
    "fc3_dims = 64\n",
    "fc4_dims = 32\n",
    "fc5_dims = 16\n",
    "fc6_dims = 8\n",
    "\n",
    "lr = 0.001\n",
    "strengthFlopTotal = keras.Sequential()\n",
    "strengthFlopTotal.add(keras.layers.Dense(fc1_dims, input_dim=input_dims, activation = 'relu'))\n",
    "strengthFlopTotal.add(keras.layers.Dense(fc2_dims, activation = 'relu'))\n",
    "strengthFlopTotal.add(keras.layers.Dense(fc3_dims, activation = 'relu'))\n",
    "strengthFlopTotal.add(keras.layers.Dense(fc4_dims, activation = 'relu'))\n",
    "strengthFlopTotal.add(keras.layers.Dense(fc5_dims, activation = 'relu'))\n",
    "strengthFlopTotal.add(keras.layers.Dense(fc6_dims, activation = 'relu'))\n",
    "strengthFlopTotal.add(keras.layers.Dense(5,activation='sigmoid'))\n",
    "strengthFlopTotal.compile(optimizer=Adam(learning_rate=lr), loss='mean_squared_error') #We use the absolute errors to reduce the effect of scale, \n",
    "#because the predicted values are on quite different scales. However as indicators they should be equally important. Because each deviation from the true value is divided by\n",
    "#the true value, the error is properly scaled."
   ]
  },
  {
   "cell_type": "code",
   "execution_count": 5,
   "metadata": {},
   "outputs": [],
   "source": [
    "from sklearn.model_selection import train_test_split\n",
    "seed = 1\n",
    "train, test = train_test_split(simHandsFlopTotal, test_size=0.05, random_state = seed)"
   ]
  },
  {
   "cell_type": "code",
   "execution_count": 6,
   "metadata": {
    "executionInfo": {
     "elapsed": 407,
     "status": "ok",
     "timestamp": 1641114401327,
     "user": {
      "displayName": "Dario Nalis",
      "photoUrl": "https://lh3.googleusercontent.com/a/default-user=s64",
      "userId": "14162360762689343251"
     },
     "user_tz": -60
    },
    "id": "P6Qh4vyzNEa6"
   },
   "outputs": [],
   "source": [
    "from sklearn.preprocessing import MinMaxScaler\n",
    "X_train = np.array(train.iloc[:,0:-5])\n",
    "X_test = np.array(test.iloc[:,0:-5])\n",
    "\n",
    "scaler = MinMaxScaler()\n",
    "y = np.array(simHandsFlopTotal.iloc[:,-5:])\n",
    "scaler.fit(y[:,2:])\n",
    "\n",
    "y_train = np.array(train.iloc[:,-5:])\n",
    "y_test = np.array(test.iloc[:,-5:])\n",
    "\n",
    "\n",
    "y_train[:,2:] = scaler.transform(y_train[:,2:])\n",
    "y_test[:,2:] = scaler.transform(y_test[:,2:])\n"
   ]
  },
  {
   "cell_type": "code",
   "execution_count": 35,
   "metadata": {},
   "outputs": [
    {
     "name": "stdout",
     "output_type": "stream",
     "text": [
      "Epoch 1/10\n",
      "28500/28500 [==============================] - 83s 3ms/step - loss: 0.0135\n",
      "Epoch 2/10\n",
      "28500/28500 [==============================] - 76s 3ms/step - loss: 0.0075\n",
      "Epoch 3/10\n",
      "28500/28500 [==============================] - 76s 3ms/step - loss: 0.0051\n",
      "Epoch 4/10\n",
      "28500/28500 [==============================] - 76s 3ms/step - loss: 0.0042\n",
      "Epoch 5/10\n",
      "28500/28500 [==============================] - 72s 3ms/step - loss: 0.0036\n",
      "Epoch 6/10\n",
      "28500/28500 [==============================] - 74s 3ms/step - loss: 0.0032\n",
      "Epoch 7/10\n",
      "28500/28500 [==============================] - 74s 3ms/step - loss: 0.0030\n",
      "Epoch 8/10\n",
      "28500/28500 [==============================] - 79s 3ms/step - loss: 0.0028\n",
      "Epoch 9/10\n",
      "28500/28500 [==============================] - 81s 3ms/step - loss: 0.0025\n",
      "Epoch 10/10\n",
      "28500/28500 [==============================] - 81s 3ms/step - loss: 0.0024\n"
     ]
    },
    {
     "data": {
      "text/plain": [
       "<keras.callbacks.History at 0x7f36240ed610>"
      ]
     },
     "execution_count": 35,
     "metadata": {},
     "output_type": "execute_result"
    }
   ],
   "source": [
    "strengthFlopTotal.fit(X_train,y_train, batch_size=8, epochs=10)"
   ]
  },
  {
   "cell_type": "code",
   "execution_count": 9,
   "metadata": {},
   "outputs": [],
   "source": [
    "strengthFlopTotal = load_model(modelsFolder+'strengthFlop3.h5')\n",
    "lr = 0.0000001\n",
    "K.set_value(strengthFlopTotal.optimizer.learning_rate, lr)\n",
    "strengthFlopTotal.fit(X_train,y_train, batch_size=8, epochs=20)"
   ]
  },
  {
   "cell_type": "code",
   "execution_count": 22,
   "metadata": {},
   "outputs": [
    {
     "data": {
      "text/plain": [
       "array([[0.46765143, 0.4945189 , 0.12524655, 0.8006493 , 0.13909328],\n",
       "       [0.4719491 , 0.49321872, 0.09356117, 0.15850863, 0.08841214],\n",
       "       [0.5085791 , 0.46261612, 0.0907912 , 0.64106786, 0.10879248],\n",
       "       [0.21485916, 0.73947364, 0.0757111 , 0.6568994 , 0.09358349],\n",
       "       [0.6165437 , 0.35924232, 0.13892621, 0.4585023 , 0.15048093],\n",
       "       [0.41519517, 0.5324584 , 0.20666817, 0.85706687, 0.27256003],\n",
       "       [0.4175225 , 0.53879267, 0.17733195, 0.30941465, 0.17821762],\n",
       "       [0.4983852 , 0.46148378, 0.21150067, 0.53317666, 0.2375401 ],\n",
       "       [0.7223859 , 0.25202143, 0.12987718, 0.6554334 , 0.19415978],\n",
       "       [0.7522038 , 0.22609267, 0.14251   , 0.42018616, 0.15645728],\n",
       "       [0.49323544, 0.45481265, 0.24805164, 0.61019206, 0.24700302],\n",
       "       [0.24783725, 0.7114421 , 0.06937665, 0.69918764, 0.08796927],\n",
       "       [0.44507438, 0.5182116 , 0.17133051, 0.7478094 , 0.2351912 ],\n",
       "       [0.2592069 , 0.6454494 , 0.32315063, 0.6698858 , 0.38267425],\n",
       "       [0.38058308, 0.58644307, 0.08049136, 0.49281055, 0.11017683],\n",
       "       [0.5490498 , 0.4115441 , 0.11923692, 0.19138858, 0.10918179],\n",
       "       [0.31991982, 0.64828765, 0.06975225, 0.25863996, 0.06778046],\n",
       "       [0.33333486, 0.61074436, 0.17005959, 0.78106034, 0.18724126],\n",
       "       [0.3998594 , 0.5625059 , 0.10166687, 0.6744001 , 0.11279932],\n",
       "       [0.51680636, 0.4656197 , 0.06727275, 0.38312364, 0.07147497],\n",
       "       [0.45960522, 0.5212692 , 0.05101708, 0.397806  , 0.05859777],\n",
       "       [0.28862393, 0.67648304, 0.07050472, 0.42503393, 0.0825963 ],\n",
       "       [0.42874813, 0.53907454, 0.08208191, 0.6762722 , 0.10239455],\n",
       "       [0.15790653, 0.77419305, 0.20325223, 0.6148651 , 0.24900931],\n",
       "       [0.31036642, 0.66193306, 0.04986343, 0.2982823 , 0.05102444]],\n",
       "      dtype=float32)"
      ]
     },
     "execution_count": 22,
     "metadata": {},
     "output_type": "execute_result"
    }
   ],
   "source": [
    "strengthFlopTotal.predict(X_test[:25])"
   ]
  },
  {
   "cell_type": "code",
   "execution_count": 18,
   "metadata": {},
   "outputs": [
    {
     "data": {
      "text/plain": [
       "array([[0.532     , 0.437     , 0.1545432 , 0.79968491, 0.19345065],\n",
       "       [0.441     , 0.5304    , 0.0996646 , 0.17730845, 0.1013733 ],\n",
       "       [0.5242    , 0.4618    , 0.08812387, 0.67930765, 0.11025361],\n",
       "       [0.227     , 0.733     , 0.06932468, 0.65352791, 0.10754643],\n",
       "       [0.6408    , 0.3062    , 0.14363006, 0.43058582, 0.15024219],\n",
       "       [0.4148    , 0.5266    , 0.21325468, 0.86368483, 0.26435405],\n",
       "       [0.4       , 0.572     , 0.18309297, 0.35312869, 0.17433681],\n",
       "       [0.459     , 0.516     , 0.231039  , 0.48386673, 0.20988072],\n",
       "       [0.747     , 0.252     , 0.14206513, 0.62996358, 0.1824833 ],\n",
       "       [0.72      , 0.266     , 0.15822628, 0.39423121, 0.16994382],\n",
       "       [0.413     , 0.545     , 0.23823608, 0.58800688, 0.25090705],\n",
       "       [0.236     , 0.731     , 0.07606115, 0.68644037, 0.11743944],\n",
       "       [0.432     , 0.555     , 0.15325821, 0.78889157, 0.22329292],\n",
       "       [0.248     , 0.669     , 0.31379593, 0.65506817, 0.41323716],\n",
       "       [0.379     , 0.581     , 0.09455059, 0.50179208, 0.11711824],\n",
       "       [0.591     , 0.3708    , 0.11401946, 0.21601197, 0.11418495],\n",
       "       [0.2808    , 0.6994    , 0.06696377, 0.24260646, 0.07750237],\n",
       "       [0.316     , 0.629     , 0.18796387, 0.73020745, 0.19280225],\n",
       "       [0.397     , 0.5698    , 0.10030692, 0.70691296, 0.10651513],\n",
       "       [0.5       , 0.491     , 0.05302987, 0.40592485, 0.06678615],\n",
       "       [0.642     , 0.335     , 0.02933276, 0.44526295, 0.06017667],\n",
       "       [0.254     , 0.72      , 0.07025255, 0.38087998, 0.08787522],\n",
       "       [0.306     , 0.65      , 0.06808985, 0.70970833, 0.11208613],\n",
       "       [0.1746    , 0.7738    , 0.21651434, 0.61762132, 0.23241246],\n",
       "       [0.281     , 0.691     , 0.04188941, 0.29138122, 0.05370958]])"
      ]
     },
     "execution_count": 18,
     "metadata": {},
     "output_type": "execute_result"
    }
   ],
   "source": [
    "y_test[:25]"
   ]
  },
  {
   "cell_type": "code",
   "execution_count": 9,
   "metadata": {},
   "outputs": [
    {
     "data": {
      "text/plain": [
       "array([[0.469941  , 0.49257642, 0.12447572, 0.7982395 , 0.13852832],\n",
       "       [0.46839938, 0.4968017 , 0.09336692, 0.16268763, 0.08886886],\n",
       "       [0.5079062 , 0.4636618 , 0.09084234, 0.64244974, 0.10894766],\n",
       "       [0.21448487, 0.73975635, 0.07565799, 0.65737665, 0.09363404],\n",
       "       [0.6215425 , 0.3548059 , 0.1379134 , 0.4572317 , 0.14984205],\n",
       "       [0.41559362, 0.53126514, 0.20720497, 0.85579026, 0.27484807],\n",
       "       [0.41991514, 0.5357667 , 0.17817   , 0.3071716 , 0.1798681 ],\n",
       "       [0.4972922 , 0.4611161 , 0.21595412, 0.52785265, 0.24081066],\n",
       "       [0.7213243 , 0.25309664, 0.12935272, 0.65630084, 0.19319403],\n",
       "       [0.7457385 , 0.2314308 , 0.14321238, 0.41996038, 0.1565718 ],\n",
       "       [0.49642316, 0.45327744, 0.2494129 , 0.6110247 , 0.24698055],\n",
       "       [0.2386029 , 0.71896815, 0.06964126, 0.6946989 , 0.08838269],\n",
       "       [0.44792336, 0.5140221 , 0.17442006, 0.7518139 , 0.2422013 ],\n",
       "       [0.26026434, 0.6446115 , 0.32464138, 0.6697929 , 0.3813444 ],\n",
       "       [0.3801844 , 0.5870614 , 0.07899746, 0.4931107 , 0.10805994],\n",
       "       [0.5512037 , 0.4086303 , 0.1214233 , 0.18733314, 0.11123881],\n",
       "       [0.32929695, 0.6389743 , 0.07074812, 0.2568333 , 0.06844449],\n",
       "       [0.33053288, 0.61317223, 0.16837439, 0.7822745 , 0.1864411 ],\n",
       "       [0.39687288, 0.5657338 , 0.10112488, 0.6766387 , 0.11265779],\n",
       "       [0.5115178 , 0.46867573, 0.06844997, 0.38267663, 0.07336211],\n",
       "       [0.46222734, 0.5199661 , 0.04982504, 0.39589763, 0.05738026],\n",
       "       [0.29290232, 0.6727259 , 0.06980693, 0.4257699 , 0.08207235],\n",
       "       [0.43158513, 0.53674257, 0.08229148, 0.6760373 , 0.1029413 ],\n",
       "       [0.15968719, 0.7727756 , 0.204548  , 0.6134545 , 0.24964872],\n",
       "       [0.30766037, 0.6650581 , 0.04921246, 0.29608184, 0.05035996]],\n",
       "      dtype=float32)"
      ]
     },
     "execution_count": 9,
     "metadata": {},
     "output_type": "execute_result"
    }
   ],
   "source": [
    "strengthFlopTotal.predict(X_test[:25])"
   ]
  },
  {
   "cell_type": "code",
   "execution_count": 81,
   "metadata": {},
   "outputs": [
    {
     "data": {
      "text/plain": [
       "array([[11,  3, 13,  3,  7,  0,  9,  1, 14,  1],\n",
       "       [ 9,  0, 10,  3,  2,  2,  6,  1, 13,  1],\n",
       "       [13,  3,  7,  0,  3,  3,  5,  0, 13,  2],\n",
       "       [ 9,  3,  8,  0,  3,  2, 11,  2,  3,  3],\n",
       "       [11,  3, 11,  1,  8,  1,  3,  1,  9,  2],\n",
       "       [ 8,  3, 12,  2,  8,  1, 11,  3,  6,  3],\n",
       "       [ 6,  3,  8,  3,  9,  1, 14,  1, 14,  3],\n",
       "       [12,  0,  8,  3,  2,  0,  2,  2,  9,  1],\n",
       "       [ 6,  1,  7,  2,  2,  0,  9,  2, 12,  0],\n",
       "       [ 3,  2, 13,  2,  3,  0,  7,  3, 11,  3]])"
      ]
     },
     "execution_count": 81,
     "metadata": {},
     "output_type": "execute_result"
    }
   ],
   "source": [
    "X_test[10:20]"
   ]
  },
  {
   "cell_type": "code",
   "execution_count": 16,
   "metadata": {},
   "outputs": [
    {
     "name": "stdout",
     "output_type": "stream",
     "text": [
      "375/375 [==============================] - 1s 2ms/step - loss: 0.0015\n"
     ]
    },
    {
     "data": {
      "text/plain": [
       "0.001520959660410881"
      ]
     },
     "execution_count": 16,
     "metadata": {},
     "output_type": "execute_result"
    }
   ],
   "source": [
    "strengthFlopTotal.evaluate(X_test,y_test)"
   ]
  },
  {
   "cell_type": "code",
   "execution_count": 21,
   "metadata": {},
   "outputs": [],
   "source": [
    "strengthFlopTotal.save(modelsFolder+'strengthFlop3.h5')"
   ]
  },
  {
   "cell_type": "code",
   "execution_count": null,
   "metadata": {},
   "outputs": [],
   "source": []
  }
 ],
 "metadata": {
  "colab": {
   "authorship_tag": "ABX9TyN/p8VnrHB28bjVBYEiuYrQ",
   "collapsed_sections": [],
   "mount_file_id": "1ptUPk_OcqDFY1NY5tDb4RPk9MJtebs6L",
   "name": "StrengthVillain.ipynb",
   "provenance": []
  },
  "kernelspec": {
   "display_name": "Python 3 (ipykernel)",
   "language": "python",
   "name": "python3"
  },
  "language_info": {
   "codemirror_mode": {
    "name": "ipython",
    "version": 3
   },
   "file_extension": ".py",
   "mimetype": "text/x-python",
   "name": "python",
   "nbconvert_exporter": "python",
   "pygments_lexer": "ipython3",
   "version": "3.8.10"
  }
 },
 "nbformat": 4,
 "nbformat_minor": 4
}
