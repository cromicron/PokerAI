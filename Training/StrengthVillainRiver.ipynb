{
 "cells": [
  {
   "cell_type": "markdown",
   "metadata": {
    "id": "RT9dOSZE_sJu"
   },
   "source": [
    "<h1>Train Neural Network To Estimate Average Strenghts and Variations on the River </h1>\n",
    "There was an error in the evaluator for average hand strengths in the PokerAI-Agent. We must therefore retrain the mode. The error came about in generating the training data. \n",
    "Beyond correcting the error, we want to change the outputs of the model. We want to leave the outputs at 3, but instead of outputting average win and average loss, which are actually identical, we will generate two estimates for deviations - a std for win/loss and a std for split. "
   ]
  },
  {
   "cell_type": "code",
   "execution_count": 3,
   "metadata": {
    "executionInfo": {
     "elapsed": 5627,
     "status": "ok",
     "timestamp": 1641114391085,
     "user": {
      "displayName": "Dario Nalis",
      "photoUrl": "https://lh3.googleusercontent.com/a/default-user=s64",
      "userId": "14162360762689343251"
     },
     "user_tz": -60
    },
    "id": "CvlujTMU_XG_"
   },
   "outputs": [],
   "source": [
    "import pandas as pd\n",
    "import numpy as np\n",
    "import tensorflow as tf\n",
    "from tensorflow import keras\n",
    "from tensorflow.keras.optimizers import Adam\n",
    "from tensorflow.keras.models import load_model\n",
    "from keras import backend as K\n",
    "dataFolder = 'simulatedHands/'#csv-files of simulated hands are stored here\n",
    "modelsFolder = 'trainedModels/strengthEvaluator/' #neural network models are stored here"
   ]
  },
  {
   "cell_type": "markdown",
   "metadata": {
    "id": "EgQtEKbm_aeS"
   },
   "source": [
    "<h2>Simulated boards</h2>\n",
    "We can still use 1.6million simulated hands form the simHandsRiverMore-Data Set. The error was not to be found in the estimates for Hero-wins and losses. The data frame consists of hero hands and boards, as well as probabilities of winning, loosing, or splitting the hand against random opponent hands."
   ]
  },
  {
   "cell_type": "code",
   "execution_count": 2,
   "metadata": {
    "colab": {
     "base_uri": "https://localhost:8080/"
    },
    "executionInfo": {
     "elapsed": 6425,
     "status": "ok",
     "timestamp": 1641114399961,
     "user": {
      "displayName": "Dario Nalis",
      "photoUrl": "https://lh3.googleusercontent.com/a/default-user=s64",
      "userId": "14162360762689343251"
     },
     "user_tz": -60
    },
    "id": "irT9aGFV_0Al",
    "outputId": "38e5a80f-0db2-4e03-d32d-861dfd17c83b"
   },
   "outputs": [
    {
     "data": {
      "text/plain": [
       "(1600000, 17)"
      ]
     },
     "execution_count": 2,
     "metadata": {},
     "output_type": "execute_result"
    }
   ],
   "source": [
    "simHandsRiver = pd.read_csv(dataFolder+'simHandsRiverMore.csv')\n",
    "simHandsRiver.shape"
   ]
  },
  {
   "cell_type": "code",
   "execution_count": 6,
   "metadata": {},
   "outputs": [
    {
     "data": {
      "text/plain": [
       "60466176"
      ]
     },
     "execution_count": 6,
     "metadata": {},
     "output_type": "execute_result"
    }
   ],
   "source": [
    "6**10"
   ]
  },
  {
   "cell_type": "code",
   "execution_count": 3,
   "metadata": {},
   "outputs": [
    {
     "data": {
      "text/plain": [
       "3486784401"
      ]
     },
     "execution_count": 3,
     "metadata": {},
     "output_type": "execute_result"
    }
   ],
   "source": [
    "(3**10)**2"
   ]
  },
  {
   "cell_type": "code",
   "execution_count": 3,
   "metadata": {},
   "outputs": [
    {
     "data": {
      "text/html": [
       "<div>\n",
       "<style scoped>\n",
       "    .dataframe tbody tr th:only-of-type {\n",
       "        vertical-align: middle;\n",
       "    }\n",
       "\n",
       "    .dataframe tbody tr th {\n",
       "        vertical-align: top;\n",
       "    }\n",
       "\n",
       "    .dataframe thead th {\n",
       "        text-align: right;\n",
       "    }\n",
       "</style>\n",
       "<table border=\"1\" class=\"dataframe\">\n",
       "  <thead>\n",
       "    <tr style=\"text-align: right;\">\n",
       "      <th></th>\n",
       "      <th>val1</th>\n",
       "      <th>suit1</th>\n",
       "      <th>val2</th>\n",
       "      <th>suit2</th>\n",
       "      <th>f1val</th>\n",
       "      <th>f1suit</th>\n",
       "      <th>f2val</th>\n",
       "      <th>f2suit</th>\n",
       "      <th>f3val</th>\n",
       "      <th>f3suit</th>\n",
       "      <th>tval</th>\n",
       "      <th>tsuit</th>\n",
       "      <th>rval</th>\n",
       "      <th>rsuit</th>\n",
       "      <th>nwin</th>\n",
       "      <th>nloose</th>\n",
       "      <th>nsplit</th>\n",
       "    </tr>\n",
       "  </thead>\n",
       "  <tbody>\n",
       "    <tr>\n",
       "      <th>0</th>\n",
       "      <td>5</td>\n",
       "      <td>2</td>\n",
       "      <td>11</td>\n",
       "      <td>0</td>\n",
       "      <td>4</td>\n",
       "      <td>1</td>\n",
       "      <td>7</td>\n",
       "      <td>0</td>\n",
       "      <td>13</td>\n",
       "      <td>1</td>\n",
       "      <td>11</td>\n",
       "      <td>2</td>\n",
       "      <td>9</td>\n",
       "      <td>0</td>\n",
       "      <td>0.707071</td>\n",
       "      <td>0.262626</td>\n",
       "      <td>0.030303</td>\n",
       "    </tr>\n",
       "    <tr>\n",
       "      <th>1</th>\n",
       "      <td>3</td>\n",
       "      <td>0</td>\n",
       "      <td>14</td>\n",
       "      <td>1</td>\n",
       "      <td>8</td>\n",
       "      <td>2</td>\n",
       "      <td>12</td>\n",
       "      <td>1</td>\n",
       "      <td>5</td>\n",
       "      <td>0</td>\n",
       "      <td>7</td>\n",
       "      <td>2</td>\n",
       "      <td>10</td>\n",
       "      <td>2</td>\n",
       "      <td>0.248485</td>\n",
       "      <td>0.710101</td>\n",
       "      <td>0.041414</td>\n",
       "    </tr>\n",
       "    <tr>\n",
       "      <th>2</th>\n",
       "      <td>3</td>\n",
       "      <td>0</td>\n",
       "      <td>3</td>\n",
       "      <td>2</td>\n",
       "      <td>10</td>\n",
       "      <td>1</td>\n",
       "      <td>5</td>\n",
       "      <td>3</td>\n",
       "      <td>12</td>\n",
       "      <td>2</td>\n",
       "      <td>5</td>\n",
       "      <td>2</td>\n",
       "      <td>13</td>\n",
       "      <td>0</td>\n",
       "      <td>0.490909</td>\n",
       "      <td>0.508081</td>\n",
       "      <td>0.001010</td>\n",
       "    </tr>\n",
       "    <tr>\n",
       "      <th>3</th>\n",
       "      <td>6</td>\n",
       "      <td>0</td>\n",
       "      <td>10</td>\n",
       "      <td>3</td>\n",
       "      <td>13</td>\n",
       "      <td>1</td>\n",
       "      <td>11</td>\n",
       "      <td>2</td>\n",
       "      <td>2</td>\n",
       "      <td>0</td>\n",
       "      <td>13</td>\n",
       "      <td>0</td>\n",
       "      <td>6</td>\n",
       "      <td>2</td>\n",
       "      <td>0.673737</td>\n",
       "      <td>0.265657</td>\n",
       "      <td>0.060606</td>\n",
       "    </tr>\n",
       "    <tr>\n",
       "      <th>4</th>\n",
       "      <td>3</td>\n",
       "      <td>1</td>\n",
       "      <td>13</td>\n",
       "      <td>2</td>\n",
       "      <td>12</td>\n",
       "      <td>2</td>\n",
       "      <td>8</td>\n",
       "      <td>0</td>\n",
       "      <td>7</td>\n",
       "      <td>2</td>\n",
       "      <td>11</td>\n",
       "      <td>2</td>\n",
       "      <td>14</td>\n",
       "      <td>0</td>\n",
       "      <td>0.278788</td>\n",
       "      <td>0.663636</td>\n",
       "      <td>0.057576</td>\n",
       "    </tr>\n",
       "  </tbody>\n",
       "</table>\n",
       "</div>"
      ],
      "text/plain": [
       "   val1  suit1  val2  suit2  f1val  f1suit  f2val  f2suit  f3val  f3suit  \\\n",
       "0     5      2    11      0      4       1      7       0     13       1   \n",
       "1     3      0    14      1      8       2     12       1      5       0   \n",
       "2     3      0     3      2     10       1      5       3     12       2   \n",
       "3     6      0    10      3     13       1     11       2      2       0   \n",
       "4     3      1    13      2     12       2      8       0      7       2   \n",
       "\n",
       "   tval  tsuit  rval  rsuit      nwin    nloose    nsplit  \n",
       "0    11      2     9      0  0.707071  0.262626  0.030303  \n",
       "1     7      2    10      2  0.248485  0.710101  0.041414  \n",
       "2     5      2    13      0  0.490909  0.508081  0.001010  \n",
       "3    13      0     6      2  0.673737  0.265657  0.060606  \n",
       "4    11      2    14      0  0.278788  0.663636  0.057576  "
      ]
     },
     "execution_count": 3,
     "metadata": {},
     "output_type": "execute_result"
    }
   ],
   "source": [
    "simHandsRiver.head()"
   ]
  },
  {
   "cell_type": "markdown",
   "metadata": {},
   "source": [
    "Let's check how accurate those percentages are, running a few of those lines against all possible villains."
   ]
  },
  {
   "cell_type": "code",
   "execution_count": 4,
   "metadata": {},
   "outputs": [],
   "source": [
    "from itertools import combinations\n",
    "from PokerHandStrengths import compare\n",
    "#create a deck\n",
    "deck=[]\n",
    "for val in range(2,15):\n",
    "    for suit in range(4):\n",
    "        deck.append((val,suit))\n"
   ]
  },
  {
   "cell_type": "code",
   "execution_count": 5,
   "metadata": {},
   "outputs": [],
   "source": [
    "#function that takes in a row from the dataFrame and creates the list for hands usable in the compare function\n",
    "def transformHand(row):\n",
    "    rowInt = row.astype(int)\n",
    "    hero = [(rowInt[0], rowInt[1]), (rowInt[2],rowInt[3])]\n",
    "    board = [(rowInt[4], rowInt[5]), (rowInt[6],rowInt[7]),(rowInt[8], rowInt[9]), (rowInt[10],rowInt[11]), (rowInt[12],rowInt[13])]\n",
    "    return hero + board"
   ]
  },
  {
   "cell_type": "code",
   "execution_count": 6,
   "metadata": {},
   "outputs": [],
   "source": [
    "#function takes in heros hand and plays against all opponents. Return pwin, ploose, psplit\n",
    "from math import comb\n",
    "\n",
    "def playHands(handHero,deck = deck):\n",
    "    from math import comb\n",
    "    ncomb = comb(len(deck),2)\n",
    "    deckRemaining = set(deck)-set(handHero)\n",
    "    #iterate through all combinations of 2 cards in deckRemaining\n",
    "    nwin = 0\n",
    "    nloose = 0\n",
    "    nsplit = 0\n",
    "\n",
    "    for combo in combinations(deckRemaining,2):\n",
    "        handVillain = list(combo)+handHero[2:]\n",
    "        \n",
    "        result = compare({0:handHero, 1: handVillain})\n",
    "        if result[0]==result[1]:\n",
    "            nsplit += 1\n",
    "        elif result[0]<result[1]:\n",
    "            nwin += 1\n",
    "        else:\n",
    "            nloose+=1\n",
    "    pwin = nwin/ncomb\n",
    "    ploose = nloose/ncomb\n",
    "    psplit = nsplit/ncomb\n",
    "    return pwin, ploose, psplit\n"
   ]
  },
  {
   "cell_type": "markdown",
   "metadata": {},
   "source": [
    "Let's check if the percentages in the dataFrame simHandsRiver are the exact ones, or simulated ones."
   ]
  },
  {
   "cell_type": "code",
   "execution_count": 81,
   "metadata": {},
   "outputs": [
    {
     "name": "stdout",
     "output_type": "stream",
     "text": [
      "[0.00000000e+00 5.55111512e-17 3.46944695e-18]\n",
      "[8.32667268e-17 0.00000000e+00 1.38777878e-17]\n",
      "[0.00000000e+00 0.00000000e+00 1.01915004e-17]\n",
      "[0.00000000e+00 5.55111512e-17 6.93889390e-18]\n",
      "[0.00000000e+00 0.00000000e+00 7.63278329e-17]\n",
      "[2.77555756e-17 0.00000000e+00 3.46944695e-18]\n",
      "[0.00000000e+00 0.00000000e+00 4.16333634e-17]\n",
      "[0. 0. 0.]\n",
      "[5.55111512e-17 0.00000000e+00 7.63278329e-17]\n",
      "[0.00000000e+00 0.00000000e+00 9.02056208e-17]\n",
      "[0.00000000e+00 2.77555756e-17 6.07153217e-17]\n",
      "[5.55111512e-17 0.00000000e+00 9.02056208e-17]\n",
      "[1.11022302e-16 3.12250226e-17 0.00000000e+00]\n",
      "[5.55111512e-17 0.00000000e+00 3.46944695e-17]\n",
      "[0. 0. 0.]\n",
      "[5.55111512e-17 0.00000000e+00 9.02056208e-17]\n",
      "[5.55111512e-17 0.00000000e+00 6.07153217e-17]\n",
      "[0.00000000e+00 0.00000000e+00 6.07153217e-17]\n",
      "[1.11022302e-16 4.16333634e-17 4.07660017e-17]\n",
      "[0.00000000e+00 6.24500451e-17 8.32667268e-17]\n",
      "[8.32667268e-17 0.00000000e+00 3.46944695e-17]\n",
      "[1.38777878e-17 0.00000000e+00 9.02056208e-17]\n",
      "[0.00000000e+00 5.55111512e-17 0.00000000e+00]\n",
      "[0.00000000e+00 5.55111512e-17 2.08166817e-17]\n",
      "[0.00000000e+00 5.55111512e-17 4.16333634e-17]\n",
      "[0.00000000e+00 0.00000000e+00 5.55111512e-17]\n",
      "[5.55111512e-17 0.00000000e+00 3.46944695e-18]\n",
      "[5.55111512e-17 0.00000000e+00 0.00000000e+00]\n",
      "[2.77555756e-17 0.00000000e+00 9.02056208e-17]\n",
      "[0.00000000e+00 2.77555756e-17 8.32667268e-17]\n",
      "[0.00000000e+00 5.55111512e-17 6.07153217e-17]\n",
      "[0.00000000e+00 0.00000000e+00 9.02056208e-17]\n",
      "[0.00000000e+00 0.00000000e+00 1.01915004e-17]\n",
      "[1.21430643e-17 1.11022302e-16 9.02056208e-17]\n",
      "[5.55111512e-17 0.00000000e+00 4.16333634e-17]\n",
      "[5.55111512e-17 0.00000000e+00 3.46944695e-17]\n",
      "[0.00000000e+00 4.16333634e-17 9.02056208e-17]\n",
      "[5.55111512e-17 0.00000000e+00 8.32667268e-17]\n",
      "[0.00000000e+00 8.32667268e-17 6.07153217e-17]\n",
      "[0.00000000e+00 0.00000000e+00 6.07153217e-17]\n",
      "[0.00000000e+00 8.32667268e-17 0.00000000e+00]\n",
      "[5.55111512e-17 0.00000000e+00 7.63278329e-17]\n",
      "[5.55111512e-17 0.00000000e+00 6.07153217e-17]\n",
      "[8.32667268e-17 0.00000000e+00 1.38777878e-17]\n",
      "[0.00000000e+00 0.00000000e+00 2.77555756e-17]\n",
      "[0.00000000e+00 0.00000000e+00 5.55111512e-17]\n",
      "[0.00000000e+00 0.00000000e+00 9.02056208e-17]\n",
      "[2.77555756e-17 0.00000000e+00 9.02056208e-17]\n",
      "[2.77555756e-17 0.00000000e+00 9.02056208e-17]\n",
      "[3.46944695e-17 1.11022302e-16 8.15320034e-17]\n",
      "[0.00000000e+00 0.00000000e+00 6.07153217e-17]\n",
      "[0.00000000e+00 0.00000000e+00 9.02056208e-17]\n",
      "[ 6.93889390e-17 -1.11022302e-16  3.46944695e-18]\n",
      "[0.00000000e+00 1.01915004e-17 4.85722573e-17]\n",
      "[5.55111512e-17 0.00000000e+00 1.38777878e-17]\n",
      "[0.00000000e+00 0.00000000e+00 4.16333634e-17]\n",
      "[0.00000000e+00 8.32667268e-17 2.77555756e-17]\n",
      "[5.55111512e-17 0.00000000e+00 4.16333634e-17]\n",
      "[0.00000000e+00 0.00000000e+00 3.46944695e-17]\n",
      "[5.55111512e-17 0.00000000e+00 9.02056208e-17]\n",
      "[0.00000000e+00 0.00000000e+00 8.32667268e-17]\n",
      "[5.55111512e-17 0.00000000e+00 9.02056208e-17]\n",
      "[0.00000000e+00 0.00000000e+00 8.15320034e-17]\n",
      "[0. 0. 0.]\n",
      "[0.00000000e+00 8.32667268e-17 8.32667268e-17]\n",
      "[5.55111512e-17 0.00000000e+00 8.15320034e-17]\n",
      "[0.00000000e+00 0.00000000e+00 1.01915004e-17]\n",
      "[ 0.00000000e+00 -1.11022302e-16  3.46944695e-17]\n",
      "[5.55111512e-17 0.00000000e+00 2.08166817e-17]\n",
      "[0.00000000e+00 0.00000000e+00 6.24500451e-17]\n",
      "[8.32667268e-17 0.00000000e+00 3.46944695e-17]\n",
      "[0.00000000e+00 0.00000000e+00 5.55111512e-17]\n",
      "[1.11022302e-16 6.93889390e-17 0.00000000e+00]\n",
      "[5.55111512e-17 0.00000000e+00 9.02056208e-17]\n",
      "[0.0000000e+00 0.0000000e+00 6.9388939e-18]\n",
      "[0.00000000e+00 0.00000000e+00 3.12250226e-17]\n",
      "[0.00000000e+00 4.16333634e-17 0.00000000e+00]\n",
      "[5.55111512e-17 0.00000000e+00 5.55111512e-17]\n",
      "[0.00000000e+00 0.00000000e+00 4.16333634e-17]\n",
      "[0.00000000e+00 0.00000000e+00 9.02056208e-17]\n",
      "[2.77555756e-17 0.00000000e+00 1.38777878e-17]\n",
      "[0.00000000e+00 6.93889390e-17 7.11236625e-17]\n",
      "[0. 0. 0.]\n",
      "[0. 0. 0.]\n",
      "[5.55111512e-17 0.00000000e+00 6.07153217e-17]\n",
      "[5.55111512e-17 0.00000000e+00 5.55111512e-17]\n",
      "[5.55111512e-17 0.00000000e+00 9.02056208e-17]\n",
      "[5.55111512e-17 0.00000000e+00 6.07153217e-17]\n",
      "[5.55111512e-17 0.00000000e+00 6.07153217e-17]\n",
      "[0.00000000e+00 5.55111512e-17 6.24500451e-17]\n",
      "[0. 0. 0.]\n",
      "[0. 0. 0.]\n",
      "[4.16333634e-17 0.00000000e+00 5.55111512e-17]\n",
      "[0.00000000e+00 5.55111512e-17 5.55111512e-17]\n",
      "[0.00000000e+00 0.00000000e+00 9.02056208e-17]\n",
      "[0.00000000e+00 0.00000000e+00 5.55111512e-17]\n",
      "[6.24500451e-17 0.00000000e+00 9.02056208e-17]\n",
      "[8.32667268e-17 0.00000000e+00 9.02056208e-17]\n",
      "[5.55111512e-17 0.00000000e+00 6.07153217e-17]\n",
      "[0.00000000e+00 5.55111512e-17 6.07153217e-17]\n"
     ]
    }
   ],
   "source": [
    "for i in range(100):\n",
    "    row = simHandsRiver.iloc[i].astype(int)\n",
    "    hand = transformHand(row)\n",
    "    percentages = playHands(hand)\n",
    "    percentagesArray = np.array(percentages)\n",
    "    print(percentagesArray - np.array(simHandsRiver.iloc[i,-3:]))"
   ]
  },
  {
   "cell_type": "markdown",
   "metadata": {},
   "source": [
    "We see that the difference between the values in the data frame and the exact values are basically equal, because the difference is almost 0. That means we have perfect values."
   ]
  },
  {
   "cell_type": "markdown",
   "metadata": {},
   "source": [
    "We already have a trained neural network that predicts wins and losses on a board for a given hand. It's accuracy is not perfect yet, so we want to improve it, by training more epochs. First let's split our dataframe into train and test. Because it is so large, we can make test-size quite small."
   ]
  },
  {
   "cell_type": "code",
   "execution_count": 7,
   "metadata": {},
   "outputs": [],
   "source": [
    "from sklearn.model_selection import train_test_split\n",
    "\n",
    "train, test = train_test_split(simHandsRiver, test_size=0.01)"
   ]
  },
  {
   "cell_type": "code",
   "execution_count": 8,
   "metadata": {
    "executionInfo": {
     "elapsed": 407,
     "status": "ok",
     "timestamp": 1641114401327,
     "user": {
      "displayName": "Dario Nalis",
      "photoUrl": "https://lh3.googleusercontent.com/a/default-user=s64",
      "userId": "14162360762689343251"
     },
     "user_tz": -60
    },
    "id": "P6Qh4vyzNEa6"
   },
   "outputs": [],
   "source": [
    "X_train = np.array(train.iloc[:,0:-3])\n",
    "X_test = np.array(test.iloc[:,0:-3])\n",
    "y_train = np.array(train.iloc[:,-3:-1])\n",
    "y_test = np.array(test.iloc[:,-3:-1])"
   ]
  },
  {
   "cell_type": "markdown",
   "metadata": {},
   "source": [
    "Let's load and test our models accuracy and see if we can increase the accuracy with more training. We aim at a loss below 0.001."
   ]
  },
  {
   "cell_type": "code",
   "execution_count": 9,
   "metadata": {},
   "outputs": [
    {
     "name": "stderr",
     "output_type": "stream",
     "text": [
      "2022-01-07 17:51:41.265603: W tensorflow/stream_executor/platform/default/dso_loader.cc:64] Could not load dynamic library 'libcuda.so.1'; dlerror: libcuda.so.1: cannot open shared object file: No such file or directory\n",
      "2022-01-07 17:51:41.265680: W tensorflow/stream_executor/cuda/cuda_driver.cc:269] failed call to cuInit: UNKNOWN ERROR (303)\n",
      "2022-01-07 17:51:41.265720: I tensorflow/stream_executor/cuda/cuda_diagnostics.cc:156] kernel driver does not appear to be running on this host (cromi-Lenovo-V15-ADA): /proc/driver/nvidia/version does not exist\n",
      "2022-01-07 17:51:41.266089: I tensorflow/core/platform/cpu_feature_guard.cc:151] This TensorFlow binary is optimized with oneAPI Deep Neural Network Library (oneDNN) to use the following CPU instructions in performance-critical operations:  AVX2 FMA\n",
      "To enable them in other operations, rebuild TensorFlow with the appropriate compiler flags.\n"
     ]
    }
   ],
   "source": [
    "networkRiver = load_model(modelsFolder+'strengthRiver.h5')"
   ]
  },
  {
   "cell_type": "code",
   "execution_count": 10,
   "metadata": {},
   "outputs": [
    {
     "name": "stdout",
     "output_type": "stream",
     "text": [
      "500/500 [==============================] - 3s 5ms/step - loss: 0.0036\n"
     ]
    },
    {
     "data": {
      "text/plain": [
       "0.00360684166662395"
      ]
     },
     "execution_count": 10,
     "metadata": {},
     "output_type": "execute_result"
    }
   ],
   "source": [
    "networkRiver.evaluate(X_test, y_test)"
   ]
  },
  {
   "cell_type": "code",
   "execution_count": null,
   "metadata": {},
   "outputs": [],
   "source": [
    "networkRiver.fit(X_train, y_train, batch_size=16, epochs=20)"
   ]
  },
  {
   "cell_type": "code",
   "execution_count": 147,
   "metadata": {},
   "outputs": [],
   "source": [
    "prediction = networkRiver.predict(X_test)"
   ]
  },
  {
   "cell_type": "code",
   "execution_count": 153,
   "metadata": {},
   "outputs": [
    {
     "data": {
      "text/plain": [
       "0.47252667"
      ]
     },
     "execution_count": 153,
     "metadata": {},
     "output_type": "execute_result"
    }
   ],
   "source": [
    "prediction[:,1].mean()"
   ]
  },
  {
   "cell_type": "markdown",
   "metadata": {},
   "source": [
    "<h2>Simulating average hand strengths for training data </h2>\n",
    "Now that we have a propper network to evaluate individual hand strengths, let's generate training data for average hand strengths. Instead of providing one single hand for hero, we will use all possible combinations, estimate win and loose percentages. Win and loose should be equal. This will also be our sanity check. Because the win and loose probabilities are estimated by a network, they will have some error. So we will use the mean of both as estimator for the strength of average hands. Win-loose- and split percenteges are euqivalent, because they can be calculated from each other. \n",
    "Beyond the avg-handStrength, we are interested in a variance meassure of hand strengths. So we will calculate standard deviations for win, and split-pots. The output will therefore be an average value for win/loos, an std for win/loss and a std for splits."
   ]
  },
  {
   "cell_type": "code",
   "execution_count": 11,
   "metadata": {},
   "outputs": [],
   "source": [
    "#Function takes in a row from the data frame and calculates pwin/ploose, stdwin, stdloose\n",
    "\n",
    "def strengthVillain(row):\n",
    "    import numpy as np\n",
    "    heroHand = transformHand(row)\n",
    "    deckRemaining = set(deck) -set(heroHand)\n",
    "    handsVillain= []\n",
    "    for combo in combinations(deckRemaining, 2):\n",
    "        villainHole = list(combo)\n",
    "        villainHand = np.array(villainHole + heroHand[2:])\n",
    "        handsVillain.append(list(villainHand.flatten()))\n",
    "    lstResults=[]\n",
    "    for i in range(len(handsVillain)):\n",
    "\n",
    "        rowNew = np.array(handsVillain[i])\n",
    "        newHand = transformHand(rowNew)\n",
    "        percentages = playHands(handHero = newHand, deck = deckRemaining)\n",
    "        percentagesArray = np.array(percentages)\n",
    "\n",
    "        lstResults.append(percentagesArray)\n",
    "    pwin = np.array(lstResults)[:,0].mean()\n",
    "    ploose = np.array(lstResults)[:,1].mean()\n",
    "    psplit = np.array(lstResults)[:,2].mean()\n",
    "    stdwin = np.array(lstResults)[:,0].std()\n",
    "    stdsplit = np.array(lstResults)[:,2].std()\n",
    "    return pwin, ploose, psplit, stdwin, stdsplit\n",
    "        "
   ]
  },
  {
   "cell_type": "markdown",
   "metadata": {},
   "source": [
    "To increase speed, we can calculate handstrengths on multiple threads simulataneously."
   ]
  },
  {
   "cell_type": "code",
   "execution_count": 12,
   "metadata": {},
   "outputs": [
    {
     "name": "stdout",
     "output_type": "stream",
     "text": [
      "Starting 8 engines with <class 'ipyparallel.cluster.launcher.LocalEngineSetLauncher'>\n"
     ]
    },
    {
     "data": {
      "text/plain": [
       "<Cluster(cluster_id='1641574317-it76', profile='default', controller=<running>, engine_sets=['1641574318'])>"
      ]
     },
     "execution_count": 12,
     "metadata": {},
     "output_type": "execute_result"
    }
   ],
   "source": [
    "#create a cluster of threads and start\n",
    "nThreads = 8\n",
    "import ipyparallel as ipp\n",
    "cluster = ipp.Cluster(n=nThreads)\n",
    "await cluster.start_cluster()"
   ]
  },
  {
   "cell_type": "code",
   "execution_count": 13,
   "metadata": {},
   "outputs": [
    {
     "name": "stdout",
     "output_type": "stream",
     "text": [
      "100%|█████████████████████████████████████████| 8/8 [00:07<00:00,  1.03engine/s]\n"
     ]
    }
   ],
   "source": [
    "rc = cluster.connect_client_sync()\n",
    "rc.wait_for_engines(n=8)"
   ]
  },
  {
   "cell_type": "code",
   "execution_count": 14,
   "metadata": {},
   "outputs": [],
   "source": [
    "\n",
    "\n",
    "#to use the map function, we need a function to run, with the number of instances/ threads as argument.\n",
    "def simulateHands(instance):\n",
    "    import numpy as np\n",
    "    resultList = []\n",
    "    for i in range(len(data)):\n",
    "        results = strengthVillain(data.iloc[i])\n",
    "        resultList.append(np.array(results))\n",
    "    return resultList"
   ]
  },
  {
   "cell_type": "code",
   "execution_count": null,
   "metadata": {},
   "outputs": [],
   "source": [
    "startIndex = 32\n",
    "nThreads = 8\n",
    "rowsPerThread = 20\n",
    "for i in range(nThreads):\n",
    "    #each thread has to recreate the used objects. Let's load all that we need into the threads.\n",
    "    rc[i]['data'] = simHandsRiver.iloc[startIndex:].iloc[i*rowsPerThread:i*rowsPerThread+rowsPerThread]\n",
    "    rc[i]['strengthVillain']=strengthVillain\n",
    "    rc[i]['transformHand']=transformHand\n",
    "    rc[i]['playHands'] = playHands\n",
    "    rc[i]['deck'] = deck\n",
    "    rc[i]['combinations'] = combinations\n",
    "    rc[i]['compare']=compare\n",
    "results = rc[:].map_sync(simulateHands,range(nThreads))\n",
    "strengthVil = pd.DataFrame(columns = ['pwin', 'ploose', 'psplit', 'stdwin', 'stdloose'])\n",
    "for i in range(len(results)):\n",
    "    strengthVil = strengthVil.append(pd.DataFrame(results[i], columns=strengthVil.columns), ignore_index=True)\n",
    "filename = dataFolder+'VillainStrengthCorrected'+ str(startIndex + len(strengthVil))+'.csv'\n",
    "strengthVil.to_csv(filename, index= None)\n",
    "pd.read_csv(filename)\n",
    "                   "
   ]
  },
  {
   "cell_type": "code",
   "execution_count": 29,
   "metadata": {},
   "outputs": [
    {
     "data": {
      "text/html": [
       "<div>\n",
       "<style scoped>\n",
       "    .dataframe tbody tr th:only-of-type {\n",
       "        vertical-align: middle;\n",
       "    }\n",
       "\n",
       "    .dataframe tbody tr th {\n",
       "        vertical-align: top;\n",
       "    }\n",
       "\n",
       "    .dataframe thead th {\n",
       "        text-align: right;\n",
       "    }\n",
       "</style>\n",
       "<table border=\"1\" class=\"dataframe\">\n",
       "  <thead>\n",
       "    <tr style=\"text-align: right;\">\n",
       "      <th></th>\n",
       "      <th>pwin</th>\n",
       "      <th>ploose</th>\n",
       "      <th>psplit</th>\n",
       "      <th>stdwin</th>\n",
       "      <th>stdloose</th>\n",
       "    </tr>\n",
       "  </thead>\n",
       "  <tbody>\n",
       "    <tr>\n",
       "      <th>0</th>\n",
       "      <td>0.445246</td>\n",
       "      <td>0.445246</td>\n",
       "      <td>0.021628</td>\n",
       "      <td>0.275155</td>\n",
       "      <td>0.016191</td>\n",
       "    </tr>\n",
       "    <tr>\n",
       "      <th>1</th>\n",
       "      <td>0.447849</td>\n",
       "      <td>0.447849</td>\n",
       "      <td>0.016423</td>\n",
       "      <td>0.272910</td>\n",
       "      <td>0.013184</td>\n",
       "    </tr>\n",
       "    <tr>\n",
       "      <th>2</th>\n",
       "      <td>0.404062</td>\n",
       "      <td>0.404062</td>\n",
       "      <td>0.103998</td>\n",
       "      <td>0.308995</td>\n",
       "      <td>0.094383</td>\n",
       "    </tr>\n",
       "    <tr>\n",
       "      <th>3</th>\n",
       "      <td>0.445872</td>\n",
       "      <td>0.445872</td>\n",
       "      <td>0.020378</td>\n",
       "      <td>0.273302</td>\n",
       "      <td>0.015556</td>\n",
       "    </tr>\n",
       "    <tr>\n",
       "      <th>4</th>\n",
       "      <td>0.436589</td>\n",
       "      <td>0.436589</td>\n",
       "      <td>0.038943</td>\n",
       "      <td>0.283147</td>\n",
       "      <td>0.033205</td>\n",
       "    </tr>\n",
       "    <tr>\n",
       "      <th>5</th>\n",
       "      <td>0.445100</td>\n",
       "      <td>0.445100</td>\n",
       "      <td>0.021920</td>\n",
       "      <td>0.274837</td>\n",
       "      <td>0.017700</td>\n",
       "    </tr>\n",
       "    <tr>\n",
       "      <th>6</th>\n",
       "      <td>0.450698</td>\n",
       "      <td>0.450698</td>\n",
       "      <td>0.010725</td>\n",
       "      <td>0.271046</td>\n",
       "      <td>0.013543</td>\n",
       "    </tr>\n",
       "    <tr>\n",
       "      <th>7</th>\n",
       "      <td>0.404430</td>\n",
       "      <td>0.404430</td>\n",
       "      <td>0.103261</td>\n",
       "      <td>0.310291</td>\n",
       "      <td>0.095763</td>\n",
       "    </tr>\n",
       "    <tr>\n",
       "      <th>8</th>\n",
       "      <td>0.435896</td>\n",
       "      <td>0.435896</td>\n",
       "      <td>0.040329</td>\n",
       "      <td>0.273899</td>\n",
       "      <td>0.024227</td>\n",
       "    </tr>\n",
       "    <tr>\n",
       "      <th>9</th>\n",
       "      <td>0.441831</td>\n",
       "      <td>0.441831</td>\n",
       "      <td>0.028458</td>\n",
       "      <td>0.276170</td>\n",
       "      <td>0.019636</td>\n",
       "    </tr>\n",
       "    <tr>\n",
       "      <th>10</th>\n",
       "      <td>0.450414</td>\n",
       "      <td>0.450414</td>\n",
       "      <td>0.011293</td>\n",
       "      <td>0.270750</td>\n",
       "      <td>0.012096</td>\n",
       "    </tr>\n",
       "    <tr>\n",
       "      <th>11</th>\n",
       "      <td>0.434509</td>\n",
       "      <td>0.434509</td>\n",
       "      <td>0.043104</td>\n",
       "      <td>0.273309</td>\n",
       "      <td>0.023277</td>\n",
       "    </tr>\n",
       "    <tr>\n",
       "      <th>12</th>\n",
       "      <td>0.435773</td>\n",
       "      <td>0.435773</td>\n",
       "      <td>0.040575</td>\n",
       "      <td>0.263509</td>\n",
       "      <td>0.036124</td>\n",
       "    </tr>\n",
       "    <tr>\n",
       "      <th>13</th>\n",
       "      <td>0.449597</td>\n",
       "      <td>0.449597</td>\n",
       "      <td>0.012927</td>\n",
       "      <td>0.272812</td>\n",
       "      <td>0.009847</td>\n",
       "    </tr>\n",
       "    <tr>\n",
       "      <th>14</th>\n",
       "      <td>0.431893</td>\n",
       "      <td>0.431893</td>\n",
       "      <td>0.048336</td>\n",
       "      <td>0.284063</td>\n",
       "      <td>0.035229</td>\n",
       "    </tr>\n",
       "    <tr>\n",
       "      <th>15</th>\n",
       "      <td>0.452424</td>\n",
       "      <td>0.452424</td>\n",
       "      <td>0.007273</td>\n",
       "      <td>0.269906</td>\n",
       "      <td>0.004716</td>\n",
       "    </tr>\n",
       "    <tr>\n",
       "      <th>16</th>\n",
       "      <td>0.436823</td>\n",
       "      <td>0.436823</td>\n",
       "      <td>0.038476</td>\n",
       "      <td>0.252816</td>\n",
       "      <td>0.048741</td>\n",
       "    </tr>\n",
       "    <tr>\n",
       "      <th>17</th>\n",
       "      <td>0.442508</td>\n",
       "      <td>0.442508</td>\n",
       "      <td>0.027105</td>\n",
       "      <td>0.277410</td>\n",
       "      <td>0.021800</td>\n",
       "    </tr>\n",
       "    <tr>\n",
       "      <th>18</th>\n",
       "      <td>0.452416</td>\n",
       "      <td>0.452416</td>\n",
       "      <td>0.007289</td>\n",
       "      <td>0.271957</td>\n",
       "      <td>0.003322</td>\n",
       "    </tr>\n",
       "    <tr>\n",
       "      <th>19</th>\n",
       "      <td>0.439828</td>\n",
       "      <td>0.439828</td>\n",
       "      <td>0.032466</td>\n",
       "      <td>0.273014</td>\n",
       "      <td>0.024631</td>\n",
       "    </tr>\n",
       "    <tr>\n",
       "      <th>20</th>\n",
       "      <td>0.441589</td>\n",
       "      <td>0.441589</td>\n",
       "      <td>0.028944</td>\n",
       "      <td>0.261303</td>\n",
       "      <td>0.038155</td>\n",
       "    </tr>\n",
       "    <tr>\n",
       "      <th>21</th>\n",
       "      <td>0.452048</td>\n",
       "      <td>0.452048</td>\n",
       "      <td>0.008026</td>\n",
       "      <td>0.270462</td>\n",
       "      <td>0.005618</td>\n",
       "    </tr>\n",
       "    <tr>\n",
       "      <th>22</th>\n",
       "      <td>0.449934</td>\n",
       "      <td>0.449934</td>\n",
       "      <td>0.012254</td>\n",
       "      <td>0.273487</td>\n",
       "      <td>0.018148</td>\n",
       "    </tr>\n",
       "    <tr>\n",
       "      <th>23</th>\n",
       "      <td>0.432712</td>\n",
       "      <td>0.432712</td>\n",
       "      <td>0.046697</td>\n",
       "      <td>0.274401</td>\n",
       "      <td>0.025889</td>\n",
       "    </tr>\n",
       "    <tr>\n",
       "      <th>24</th>\n",
       "      <td>0.451858</td>\n",
       "      <td>0.451858</td>\n",
       "      <td>0.008405</td>\n",
       "      <td>0.270980</td>\n",
       "      <td>0.004849</td>\n",
       "    </tr>\n",
       "    <tr>\n",
       "      <th>25</th>\n",
       "      <td>0.419026</td>\n",
       "      <td>0.419026</td>\n",
       "      <td>0.074070</td>\n",
       "      <td>0.284919</td>\n",
       "      <td>0.047190</td>\n",
       "    </tr>\n",
       "    <tr>\n",
       "      <th>26</th>\n",
       "      <td>0.449139</td>\n",
       "      <td>0.449139</td>\n",
       "      <td>0.013843</td>\n",
       "      <td>0.272173</td>\n",
       "      <td>0.012096</td>\n",
       "    </tr>\n",
       "    <tr>\n",
       "      <th>27</th>\n",
       "      <td>0.436423</td>\n",
       "      <td>0.436423</td>\n",
       "      <td>0.039276</td>\n",
       "      <td>0.274687</td>\n",
       "      <td>0.022170</td>\n",
       "    </tr>\n",
       "    <tr>\n",
       "      <th>28</th>\n",
       "      <td>0.444956</td>\n",
       "      <td>0.444956</td>\n",
       "      <td>0.022210</td>\n",
       "      <td>0.260192</td>\n",
       "      <td>0.038135</td>\n",
       "    </tr>\n",
       "    <tr>\n",
       "      <th>29</th>\n",
       "      <td>0.431857</td>\n",
       "      <td>0.431857</td>\n",
       "      <td>0.048407</td>\n",
       "      <td>0.273444</td>\n",
       "      <td>0.027750</td>\n",
       "    </tr>\n",
       "    <tr>\n",
       "      <th>30</th>\n",
       "      <td>0.445467</td>\n",
       "      <td>0.445467</td>\n",
       "      <td>0.021188</td>\n",
       "      <td>0.275872</td>\n",
       "      <td>0.016252</td>\n",
       "    </tr>\n",
       "    <tr>\n",
       "      <th>31</th>\n",
       "      <td>0.444555</td>\n",
       "      <td>0.444555</td>\n",
       "      <td>0.023012</td>\n",
       "      <td>0.268789</td>\n",
       "      <td>0.022973</td>\n",
       "    </tr>\n",
       "  </tbody>\n",
       "</table>\n",
       "</div>"
      ],
      "text/plain": [
       "        pwin    ploose    psplit    stdwin  stdloose\n",
       "0   0.445246  0.445246  0.021628  0.275155  0.016191\n",
       "1   0.447849  0.447849  0.016423  0.272910  0.013184\n",
       "2   0.404062  0.404062  0.103998  0.308995  0.094383\n",
       "3   0.445872  0.445872  0.020378  0.273302  0.015556\n",
       "4   0.436589  0.436589  0.038943  0.283147  0.033205\n",
       "5   0.445100  0.445100  0.021920  0.274837  0.017700\n",
       "6   0.450698  0.450698  0.010725  0.271046  0.013543\n",
       "7   0.404430  0.404430  0.103261  0.310291  0.095763\n",
       "8   0.435896  0.435896  0.040329  0.273899  0.024227\n",
       "9   0.441831  0.441831  0.028458  0.276170  0.019636\n",
       "10  0.450414  0.450414  0.011293  0.270750  0.012096\n",
       "11  0.434509  0.434509  0.043104  0.273309  0.023277\n",
       "12  0.435773  0.435773  0.040575  0.263509  0.036124\n",
       "13  0.449597  0.449597  0.012927  0.272812  0.009847\n",
       "14  0.431893  0.431893  0.048336  0.284063  0.035229\n",
       "15  0.452424  0.452424  0.007273  0.269906  0.004716\n",
       "16  0.436823  0.436823  0.038476  0.252816  0.048741\n",
       "17  0.442508  0.442508  0.027105  0.277410  0.021800\n",
       "18  0.452416  0.452416  0.007289  0.271957  0.003322\n",
       "19  0.439828  0.439828  0.032466  0.273014  0.024631\n",
       "20  0.441589  0.441589  0.028944  0.261303  0.038155\n",
       "21  0.452048  0.452048  0.008026  0.270462  0.005618\n",
       "22  0.449934  0.449934  0.012254  0.273487  0.018148\n",
       "23  0.432712  0.432712  0.046697  0.274401  0.025889\n",
       "24  0.451858  0.451858  0.008405  0.270980  0.004849\n",
       "25  0.419026  0.419026  0.074070  0.284919  0.047190\n",
       "26  0.449139  0.449139  0.013843  0.272173  0.012096\n",
       "27  0.436423  0.436423  0.039276  0.274687  0.022170\n",
       "28  0.444956  0.444956  0.022210  0.260192  0.038135\n",
       "29  0.431857  0.431857  0.048407  0.273444  0.027750\n",
       "30  0.445467  0.445467  0.021188  0.275872  0.016252\n",
       "31  0.444555  0.444555  0.023012  0.268789  0.022973"
      ]
     },
     "execution_count": 29,
     "metadata": {},
     "output_type": "execute_result"
    }
   ],
   "source": [
    "strengthVil = pd.DataFrame(columns = ['pwin', 'ploose', 'psplit', 'stdwin', 'stdloose'])\n",
    "for i in range(len(results)):\n",
    "    strengthVil = strengthVil.append(pd.DataFrame(results[i], columns=strengthVil.columns), ignore_index=True)\n",
    "filename = dataFolder+'VillainStrengthCorrected'+ str(len(strengthVil))+'.csv'\n",
    "strengthVil.to_csv(filename, index= None)\n",
    "pd.read_csv(filename)\n",
    "                   "
   ]
  },
  {
   "cell_type": "code",
   "execution_count": 17,
   "metadata": {
    "executionInfo": {
     "elapsed": 243,
     "status": "ok",
     "timestamp": 1641115193283,
     "user": {
      "displayName": "Dario Nalis",
      "photoUrl": "https://lh3.googleusercontent.com/a/default-user=s64",
      "userId": "14162360762689343251"
     },
     "user_tz": -60
    },
    "id": "TDz3jy2xejBJ"
   },
   "outputs": [],
   "source": [
    "input_dims = 14\n",
    "fc1_dims = 256\n",
    "fc2_dims = 128\n",
    "fc3_dims = 64\n",
    "fc4_dims = 32\n",
    "fc5_dims = 16\n",
    "fc6_dims = 8\n",
    "fc7_dims = 4\n",
    "\n",
    "\n",
    "\n",
    "lr = 0.001\n",
    "modelRiver = keras.Sequential()\n",
    "modelRiver.add(keras.layers.Dense(fc1_dims, input_dim=input_dims, activation = 'relu'))\n",
    "modelRiver.add(keras.layers.LeakyReLU (alpha=0.05))\n",
    "modelRiver.add(keras.layers.Dense(fc2_dims, activation = 'relu'))\n",
    "modelRiver.add(keras.layers.LeakyReLU (alpha=0.05))\n",
    "modelRiver.add(keras.layers.Dense(fc3_dims, activation = 'relu'))\n",
    "modelRiver.add(keras.layers.LeakyReLU (alpha=0.05))\n",
    "modelRiver.add(keras.layers.Dense(fc4_dims, activation = 'relu'))\n",
    "modelRiver.add(keras.layers.LeakyReLU (alpha=0.05))\n",
    "modelRiver.add(keras.layers.Dense(fc5_dims, activation = 'relu'))\n",
    "modelRiver.add(keras.layers.LeakyReLU (alpha=0.05))\n",
    "modelRiver.add(keras.layers.Dense(fc6_dims, activation = 'relu'))\n",
    "modelRiver.add(keras.layers.LeakyReLU (alpha=0.05))\n",
    "modelRiver.add(keras.layers.Dense(fc7_dims, activation = 'relu'))\n",
    "modelRiver.add(keras.layers.LeakyReLU (alpha=0.05))\n",
    "\n",
    "\n",
    "modelRiver.add(keras.layers.Lambda(lambda x: K.sigmoid(0.1*x)))\n",
    "modelRiver.add(keras.layers.Dense(2,activation=None))\n",
    "modelRiver.compile(optimizer=Adam(learning_rate=lr), loss='mean_squared_error')"
   ]
  },
  {
   "cell_type": "code",
   "execution_count": null,
   "metadata": {},
   "outputs": [],
   "source": []
  }
 ],
 "metadata": {
  "colab": {
   "authorship_tag": "ABX9TyN/p8VnrHB28bjVBYEiuYrQ",
   "collapsed_sections": [],
   "mount_file_id": "1ptUPk_OcqDFY1NY5tDb4RPk9MJtebs6L",
   "name": "StrengthVillain.ipynb",
   "provenance": []
  },
  "kernelspec": {
   "display_name": "Python 3 (ipykernel)",
   "language": "python",
   "name": "python3"
  },
  "language_info": {
   "codemirror_mode": {
    "name": "ipython",
    "version": 3
   },
   "file_extension": ".py",
   "mimetype": "text/x-python",
   "name": "python",
   "nbconvert_exporter": "python",
   "pygments_lexer": "ipython3",
   "version": "3.8.10"
  }
 },
 "nbformat": 4,
 "nbformat_minor": 4
}
