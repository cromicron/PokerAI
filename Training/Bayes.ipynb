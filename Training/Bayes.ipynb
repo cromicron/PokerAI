{
 "cells": [
  {
   "cell_type": "code",
   "execution_count": 1,
   "id": "9a52fe44-f13d-4e72-82e8-27ae1302d333",
   "metadata": {
    "pycharm": {
     "name": "#%%\n"
    }
   },
   "outputs": [
    {
     "name": "stderr",
     "output_type": "stream",
     "text": [
      "2022-05-07 09:21:11.212991: W tensorflow/stream_executor/platform/default/dso_loader.cc:64] Could not load dynamic library 'libcudart.so.11.0'; dlerror: libcudart.so.11.0: cannot open shared object file: No such file or directory\n",
      "2022-05-07 09:21:11.213014: I tensorflow/stream_executor/cuda/cudart_stub.cc:29] Ignore above cudart dlerror if you do not have a GPU set up on your machine.\n"
     ]
    }
   ],
   "source": [
    "from game.PokerSimple import PokerSimple\n",
    "from AgentActorCriticRange_SimpleGame import Agent"
   ]
  },
  {
   "cell_type": "code",
   "execution_count": 2,
   "id": "71b42ff8-2263-49d2-8ee1-a46aa33f118e",
   "metadata": {
    "pycharm": {
     "name": "#%%\n"
    }
   },
   "outputs": [
    {
     "name": "stderr",
     "output_type": "stream",
     "text": [
      "2022-05-07 09:21:13.578054: W tensorflow/stream_executor/platform/default/dso_loader.cc:64] Could not load dynamic library 'libcuda.so.1'; dlerror: libcuda.so.1: cannot open shared object file: No such file or directory\n",
      "2022-05-07 09:21:13.578090: W tensorflow/stream_executor/cuda/cuda_driver.cc:269] failed call to cuInit: UNKNOWN ERROR (303)\n",
      "2022-05-07 09:21:13.578112: I tensorflow/stream_executor/cuda/cuda_diagnostics.cc:156] kernel driver does not appear to be running on this host (cromi-Lenovo-V15-ADA): /proc/driver/nvidia/version does not exist\n",
      "2022-05-07 09:21:13.578385: I tensorflow/core/platform/cpu_feature_guard.cc:151] This TensorFlow binary is optimized with oneAPI Deep Neural Network Library (oneDNN) to use the following CPU instructions in performance-critical operations:  AVX2 FMA\n",
      "To enable them in other operations, rebuild TensorFlow with the appropriate compiler flags.\n"
     ]
    }
   ],
   "source": [
    "agent = Agent()\n",
    "game= PokerSimple(0,1)"
   ]
  },
  {
   "cell_type": "code",
   "execution_count": 3,
   "id": "5e68f3d8",
   "metadata": {
    "collapsed": false,
    "jupyter": {
     "outputs_hidden": false
    },
    "pycharm": {
     "name": "#%%\n"
    }
   },
   "outputs": [],
   "source": [
    "#first we need a function that chooses actions for the q-player based on the observation\n",
    "import pickle\n",
    "import numpy as np\n",
    "\n",
    "with open('q_simple', 'rb') as q_simple_file:\n",
    "    q = pickle.load(q_simple_file)\n",
    "def choose_action_q(observation):\n",
    "\n",
    "    hole = observation[4]\n",
    "    #sb:\n",
    "    if observation[0] == 0:\n",
    "        if observation[3] == 0: #preflop\n",
    "            if observation[-10] ==-1: #first in\n",
    "                action = np.argmax(q['sb'][hole]['preflop']['preflop_fi'])\n",
    "\n",
    "            else: # bb must have gone allin, if sb has another action to perform\n",
    "                action = np.argmax(q['sb'][hole]['preflop']['preflop_to_push'])\n",
    "\n",
    "\n",
    "        else: #postflop\n",
    "            board = observation[6]\n",
    "            if observation[2] != 0: #bb did not push\n",
    "                action = np.argmax(q['sb'][hole]['postflop'][board]['to_check'])\n",
    "                if action == 0:\n",
    "                    action =1\n",
    "                else:\n",
    "                    action =2\n",
    "            else:\n",
    "                action = np.argmax(q['sb'][hole]['postflop'][board]['to_push'])\n",
    "\n",
    "\n",
    "    #bb\n",
    "    else:\n",
    "        if observation[3] == 0: #preflop\n",
    "            if observation[-10] == 0.5: #sb completed\n",
    "                action = np.argmax(q['bb'][hole]['preflop']['to_call'])\n",
    "                if action == 0:\n",
    "                    action =1\n",
    "                else:\n",
    "                    action =2\n",
    "            else: #sb pushed\n",
    "                action = np.argmax(q['bb'][hole]['preflop']['to_push'])\n",
    "\n",
    "        else:\n",
    "            board = observation[6]\n",
    "            if observation[2]!= 0: #bb is first in\n",
    "                action = np.argmax(q['bb'][hole]['postflop'][board]['postflop_fi'])\n",
    "                if action == 0:\n",
    "                    action =1\n",
    "                else:\n",
    "                    action =2\n",
    "            else: #bb checked and sb pushed\n",
    "                action = np.argmax(q['bb'][hole]['postflop'][board]['postflop_to_push'])\n",
    "\n",
    "    return action\n",
    "\n",
    "\n",
    "\n",
    "\n"
   ]
  },
  {
   "cell_type": "code",
   "execution_count": 5,
   "outputs": [
    {
     "ename": "TypeError",
     "evalue": "simulate() takes 3 positional arguments but 4 were given",
     "output_type": "error",
     "traceback": [
      "\u001B[0;31m---------------------------------------------------------------------------\u001B[0m",
      "\u001B[0;31mTypeError\u001B[0m                                 Traceback (most recent call last)",
      "Input \u001B[0;32mIn [5]\u001B[0m, in \u001B[0;36m<module>\u001B[0;34m\u001B[0m\n\u001B[1;32m     50\u001B[0m game_sim \u001B[38;5;241m=\u001B[39m copy\u001B[38;5;241m.\u001B[39mdeepcopy(game)\n\u001B[1;32m     51\u001B[0m game_sim\u001B[38;5;241m.\u001B[39mimplement_action(\u001B[38;5;241m1\u001B[39m,act)\n\u001B[0;32m---> 52\u001B[0m rewards \u001B[38;5;241m=\u001B[39m \u001B[43magent\u001B[49m\u001B[38;5;241;43m.\u001B[39;49m\u001B[43msimulate\u001B[49m\u001B[43m(\u001B[49m\u001B[43mgame_sim\u001B[49m\u001B[43m,\u001B[49m\u001B[43m \u001B[49m\u001B[38;5;241;43m5\u001B[39;49m\u001B[43m,\u001B[49m\u001B[43m \u001B[49m\u001B[43mnext_to_act\u001B[49m\u001B[43m)\u001B[49m\n\u001B[1;32m     54\u001B[0m \u001B[38;5;28;01mif\u001B[39;00m rewards[\u001B[38;5;241m1\u001B[39m] \u001B[38;5;241m>\u001B[39m best_reward:\n\u001B[1;32m     55\u001B[0m     best_reward \u001B[38;5;241m=\u001B[39m rewards[\u001B[38;5;241m1\u001B[39m]\n",
      "\u001B[0;31mTypeError\u001B[0m: simulate() takes 3 positional arguments but 4 were given"
     ]
    }
   ],
   "source": [
    "#agent.actor_preflop =create_model()\n",
    "#agent.actor_postflop = create_model()\n",
    "import copy\n",
    "n_games = 1000\n",
    "total_score = 0\n",
    "score = 0\n",
    "training_observations = []\n",
    "training_policies = []\n",
    "\n",
    "for i in range(1,n_games):\n",
    "    if i %100 == 0:\n",
    "        print(\"Episode\", i)\n",
    "        agent.print_strategy()\n",
    "    done, next_to_act, observation = game.reset()\n",
    "    agent.ranges_vil = [[],[]]\n",
    "    agent.set_range_vil(0, [0, 4.5, 4, 0, game.hole_0, 1.5, 0, -1, -1, -1, -1, -1, -1, -1, -1, -1, -1])\n",
    "    agent.set_range_vil(1, [0, 4.5, 4, 0, game.hole_1, 1.5, 0, -1, -1, -1, -1, -1, -1, -1, -1, -1, -1])\n",
    "    score = 0\n",
    "    agent.saw_flop =[False, False]\n",
    "    #we can reduce the learning-time by 50% because we have two players. We always need pairs of start and terminal states. Once we have those we can perform a learning step\n",
    "    # We need to play the game until the terminal state is known.\n",
    "    while not game.done:\n",
    "        next_to_act = game.next_to_act[0]\n",
    "        game.create_observation(next_to_act)\n",
    "        if next_to_act == 0:\n",
    "            action = agent.choose_action(game.observations[next_to_act])\n",
    "            if game.observations[next_to_act][6] != 0 and not agent.saw_flop[next_to_act]:\n",
    "\n",
    "                hole_hero = game.hole_0 if next_to_act == 1 else game.hole_1\n",
    "                agent.update_range_flop(1 - next_to_act, hole_hero, game.observations[next_to_act][6])\n",
    "\n",
    "            agent.update_range_action(next_to_act-1, game.observations[next_to_act], action)\n",
    "\n",
    "            game.implement_action(next_to_act,action)\n",
    "            rewards = agent.simulate(game, 10)\n",
    "\n",
    "            agent.memory.store_transition(game.observations[next_to_act],action,rewards[next_to_act])\n",
    "\n",
    "            #agent.learn(game.observations[next_to_act],action, rewards[next_to_act])\n",
    "        else:\n",
    "            observation = game.observations[1][:]\n",
    "            observation.append(0) if observation[4] != observation[6] else observation.append(1)\n",
    "            training_observations.append(observation)\n",
    "            best_policy = [0,0,0]\n",
    "\n",
    "            for run in range(10):\n",
    "                best_reward = -10\n",
    "                for act in range(3):\n",
    "\n",
    "                    game_sim = copy.deepcopy(game)\n",
    "                    game_sim.implement_action(1,act)\n",
    "                    rewards = agent.simulate(game_sim, 5, next_to_act)\n",
    "\n",
    "                    if rewards[1] > best_reward:\n",
    "                        best_reward = rewards[1]\n",
    "                        action_villain = act\n",
    "\n",
    "                if game.observations[next_to_act][6] != 0 and not agent.saw_flop[next_to_act]:\n",
    "\n",
    "                    hole_hero = game_sim.hole_1\n",
    "                    agent.update_range_flop(1 - next_to_act, hole_hero, game.observations[next_to_act][6])\n",
    "                best_policy[action_villain]+=1\n",
    "            agent.update_range_action(next_to_act-1, game.observations[next_to_act], action_villain)\n",
    "            training_policies.append(np.array(best_policy)/10)\n",
    "\n",
    "            game.implement_action(1, action_villain)\n",
    "\n",
    "    game.create_observation(0)\n",
    "    stack = game.observations[0][1]\n",
    "    score = stack -5\n",
    "    total_score += score\n",
    "\n",
    "    if i %10 == 0:\n",
    "        print(\"episode\", i, \"total score\", total_score, \"avg score\", total_score/i)\n"
   ],
   "metadata": {
    "collapsed": false,
    "pycharm": {
     "name": "#%%\n"
    }
   }
  },
  {
   "cell_type": "code",
   "execution_count": 4,
   "outputs": [
    {
     "ename": "TypeError",
     "evalue": "simulate() takes 3 positional arguments but 4 were given",
     "output_type": "error",
     "traceback": [
      "\u001B[0;31m---------------------------------------------------------------------------\u001B[0m",
      "\u001B[0;31mTypeError\u001B[0m                                 Traceback (most recent call last)",
      "Input \u001B[0;32mIn [4]\u001B[0m, in \u001B[0;36m<module>\u001B[0;34m\u001B[0m\n\u001B[1;32m      2\u001B[0m agent\u001B[38;5;241m.\u001B[39mset_range_vil(\u001B[38;5;241m0\u001B[39m, [\u001B[38;5;241m0\u001B[39m, \u001B[38;5;241m4.5\u001B[39m, \u001B[38;5;241m4\u001B[39m, \u001B[38;5;241m0\u001B[39m, game\u001B[38;5;241m.\u001B[39mhole_0, \u001B[38;5;241m1.5\u001B[39m, \u001B[38;5;241m0\u001B[39m, \u001B[38;5;241m-\u001B[39m\u001B[38;5;241m1\u001B[39m, \u001B[38;5;241m-\u001B[39m\u001B[38;5;241m1\u001B[39m, \u001B[38;5;241m-\u001B[39m\u001B[38;5;241m1\u001B[39m, \u001B[38;5;241m-\u001B[39m\u001B[38;5;241m1\u001B[39m, \u001B[38;5;241m-\u001B[39m\u001B[38;5;241m1\u001B[39m, \u001B[38;5;241m-\u001B[39m\u001B[38;5;241m1\u001B[39m, \u001B[38;5;241m-\u001B[39m\u001B[38;5;241m1\u001B[39m, \u001B[38;5;241m-\u001B[39m\u001B[38;5;241m1\u001B[39m, \u001B[38;5;241m-\u001B[39m\u001B[38;5;241m1\u001B[39m, \u001B[38;5;241m-\u001B[39m\u001B[38;5;241m1\u001B[39m])\n\u001B[1;32m      3\u001B[0m agent\u001B[38;5;241m.\u001B[39mset_range_vil(\u001B[38;5;241m1\u001B[39m, [\u001B[38;5;241m0\u001B[39m, \u001B[38;5;241m4.5\u001B[39m, \u001B[38;5;241m4\u001B[39m, \u001B[38;5;241m0\u001B[39m, game\u001B[38;5;241m.\u001B[39mhole_1, \u001B[38;5;241m1.5\u001B[39m, \u001B[38;5;241m0\u001B[39m, \u001B[38;5;241m-\u001B[39m\u001B[38;5;241m1\u001B[39m, \u001B[38;5;241m-\u001B[39m\u001B[38;5;241m1\u001B[39m, \u001B[38;5;241m-\u001B[39m\u001B[38;5;241m1\u001B[39m, \u001B[38;5;241m-\u001B[39m\u001B[38;5;241m1\u001B[39m, \u001B[38;5;241m-\u001B[39m\u001B[38;5;241m1\u001B[39m, \u001B[38;5;241m-\u001B[39m\u001B[38;5;241m1\u001B[39m, \u001B[38;5;241m-\u001B[39m\u001B[38;5;241m1\u001B[39m, \u001B[38;5;241m-\u001B[39m\u001B[38;5;241m1\u001B[39m, \u001B[38;5;241m-\u001B[39m\u001B[38;5;241m1\u001B[39m, \u001B[38;5;241m-\u001B[39m\u001B[38;5;241m1\u001B[39m])\n\u001B[0;32m----> 4\u001B[0m \u001B[43magent\u001B[49m\u001B[38;5;241;43m.\u001B[39;49m\u001B[43msimulate\u001B[49m\u001B[43m(\u001B[49m\u001B[43mgame\u001B[49m\u001B[43m,\u001B[49m\u001B[43m \u001B[49m\u001B[38;5;241;43m1\u001B[39;49m\u001B[43m,\u001B[49m\u001B[43m \u001B[49m\u001B[38;5;241;43m0\u001B[39;49m\u001B[43m)\u001B[49m\n",
      "\u001B[0;31mTypeError\u001B[0m: simulate() takes 3 positional arguments but 4 were given"
     ]
    }
   ],
   "source": [],
   "metadata": {
    "collapsed": false,
    "pycharm": {
     "name": "#%%\n"
    }
   }
  },
  {
   "cell_type": "code",
   "execution_count": 238,
   "outputs": [],
   "source": [
    "X_preflop = X[X[:,3]==0]\n",
    "X_postflop = X[X[:,3]==1]\n",
    "y_preflop = y[X[:,3]==0]\n",
    "y_postflop = y[X[:,3]==1]"
   ],
   "metadata": {
    "collapsed": false,
    "pycharm": {
     "name": "#%%\n"
    }
   }
  },
  {
   "cell_type": "code",
   "execution_count": 239,
   "outputs": [
    {
     "data": {
      "text/plain": "<tf.Tensor: shape=(461, 3), dtype=float32, numpy=\narray([[5.3152126e-01, 4.2783204e-01, 4.0646620e-02],\n       [4.2253676e-01, 2.2594966e-01, 3.5151356e-01],\n       [1.4868068e-02, 7.4835426e-01, 2.3677772e-01],\n       ...,\n       [9.4736689e-01, 5.1973961e-02, 6.5911008e-04],\n       [4.7047874e-01, 2.1920784e-01, 3.1031334e-01],\n       [4.1695595e-01, 2.3439366e-01, 3.4865040e-01]], dtype=float32)>"
     },
     "execution_count": 239,
     "metadata": {},
     "output_type": "execute_result"
    }
   ],
   "source": [
    "\n",
    "agent.actor_preflop(X_preflop)"
   ],
   "metadata": {
    "collapsed": false,
    "pycharm": {
     "name": "#%%\n"
    }
   }
  },
  {
   "cell_type": "code",
   "execution_count": 240,
   "outputs": [
    {
     "data": {
      "text/plain": "array([[0.  , 1.  , 0.  ],\n       [0.75, 0.25, 0.  ],\n       [0.  , 0.95, 0.05],\n       ...,\n       [0.  , 1.  , 0.  ],\n       [0.45, 0.  , 0.55],\n       [0.8 , 0.  , 0.2 ]])"
     },
     "execution_count": 240,
     "metadata": {},
     "output_type": "execute_result"
    }
   ],
   "source": [
    "y_preflop"
   ],
   "metadata": {
    "collapsed": false,
    "pycharm": {
     "name": "#%%\n"
    }
   }
  },
  {
   "cell_type": "code",
   "execution_count": 229,
   "outputs": [],
   "source": [
    "import numpy as np\n",
    "import random\n",
    "import tensorflow as tf\n",
    "from tensorflow import keras\n",
    "from tensorflow.keras.optimizers import Adam\n",
    "from tensorflow.keras.models import load_model\n",
    "from keras import backend as K\n",
    "\n",
    "def create_network(layer_sizes, lr):\n",
    "    model = keras.Sequential()\n",
    "\n",
    "    for size in layer_sizes:\n",
    "        model.add(keras.layers.Dense(size))\n",
    "        model.add(keras.layers.LeakyReLU(alpha=0.05))\n",
    "\n",
    "    model.add(keras.layers.Dense(3, activation='softmax'))\n",
    "    model.compile(optimizer=Adam(learning_rate=lr), loss='mse')\n",
    "\n",
    "    return model"
   ],
   "metadata": {
    "collapsed": false,
    "pycharm": {
     "name": "#%%\n"
    }
   }
  },
  {
   "cell_type": "code",
   "execution_count": 312,
   "outputs": [],
   "source": [
    "def treesearch(gamestate, agent, n_sim):\n",
    "        ranges = copy.copy(agent.ranges_vil) #save to return to agent. We don't want to copy entire anget-object.\n",
    "        saw_flop = copy.copy(agent.saw_flop)\n",
    "        print(\"run new search\")\n",
    "        #terminal condiation\n",
    "        if gamestate.done:\n",
    "            ev_0 = gamestate.stacks[0] -4.5 if gamestate.position_0 == 0 else gamestate.stacks[0] -4\n",
    "            ev_1 = gamestate.stacks[1] -4.5 if gamestate.position_1 == 0 else gamestate.stacks[1] -4\n",
    "            return ev_0, ev_1, None\n",
    "\n",
    "\n",
    "        next = gamestate.next_to_act[0]\n",
    "        gamestate.create_observation(next)\n",
    "        state = gamestate.observations[next][:]\n",
    "        legal_actions = []\n",
    "        if state[1] != state[2]:\n",
    "            legal_actions.append(0)\n",
    "        legal_actions.append(1)\n",
    "        if state[2]!= 0:\n",
    "            legal_actions.append(2)\n",
    "        action_count = {action: 0 for action in legal_actions}\n",
    "        evs = [{action: 0 for action in legal_actions}, {action:0 for action in legal_actions}]\n",
    "\n",
    "        for i in range(n_sim):\n",
    "            game = copy.deepcopy(gamestate)\n",
    "            policy = agent.actor\n",
    "            action = agent.choose_action(state)\n",
    "            while action not in legal_actions:\n",
    "                action = agent.choose_action(state)\n",
    "\n",
    "            action_count[action] += 1\n",
    "            agent.update_range_action(1- next,state, action)\n",
    "            game.implement_action(next,action)\n",
    "            while not game.done:\n",
    "                ev_0, ev_1, action_next = treesearch(game,agent, n_sim)\n",
    "                game.create_observation(game.next_to_act)\n",
    "                agent.update_range_action(1- game.next_to_act[0], game.observations[game.next_to_act[0]], action_next)\n",
    "\n",
    "            ev_0 = game.stacks[0] -4.5 if game.position_0 == 0 else game.stacks[0]-4\n",
    "            ev_1 = game.stacks[1] -4.5 if game.position_1 == 0 else game.stacks[1]-4\n",
    "            if next ==0:\n",
    "                evs[next][action] += ev_0\n",
    "                evs[1-next][action] += ev_1\n",
    "            else:\n",
    "                evs[next][action] += ev_1\n",
    "                evs[1-next][action] += ev_0\n",
    "\n",
    "\n",
    "        best_action = max(evs[next], key=evs[next].get)\n",
    "        ev_0 = evs[0][best_action]\n",
    "        ev_1 = evs[1][best_action]\n",
    "        agent.ranges_vil = ranges\n",
    "        return ev_0, ev_1, best_action"
   ],
   "metadata": {
    "collapsed": false,
    "pycharm": {
     "name": "#%%\n"
    }
   }
  },
  {
   "cell_type": "code",
   "execution_count": 313,
   "outputs": [
    {
     "name": "stdout",
     "output_type": "stream",
     "text": [
      "run new search\n",
      "run new search\n",
      "run new search\n",
      "run new search\n",
      "run new search\n",
      "run new search\n",
      "run new search\n",
      "run new search\n",
      "run new search\n",
      "run new search\n",
      "run new search\n",
      "run new search\n",
      "run new search\n",
      "run new search\n",
      "run new search\n",
      "run new search\n",
      "run new search\n",
      "run new search\n",
      "run new search\n",
      "run new search\n",
      "run new search\n",
      "run new search\n",
      "run new search\n",
      "run new search\n",
      "run new search\n",
      "run new search\n",
      "run new search\n",
      "run new search\n",
      "run new search\n",
      "run new search\n",
      "run new search\n",
      "run new search\n",
      "run new search\n",
      "run new search\n",
      "run new search\n",
      "run new search\n",
      "run new search\n",
      "run new search\n",
      "run new search\n",
      "run new search\n",
      "run new search\n",
      "run new search\n",
      "run new search\n",
      "run new search\n",
      "run new search\n",
      "run new search\n",
      "run new search\n",
      "run new search\n",
      "run new search\n",
      "run new search\n",
      "run new search\n",
      "run new search\n",
      "run new search\n",
      "run new search\n",
      "run new search\n",
      "run new search\n",
      "run new search\n",
      "run new search\n",
      "run new search\n",
      "run new search\n",
      "run new search\n",
      "run new search\n",
      "run new search\n",
      "run new search\n",
      "run new search\n",
      "run new search\n",
      "run new search\n",
      "run new search\n",
      "run new search\n",
      "run new search\n",
      "run new search\n",
      "run new search\n",
      "run new search\n",
      "run new search\n",
      "run new search\n",
      "run new search\n",
      "run new search\n",
      "run new search\n",
      "run new search\n",
      "run new search\n",
      "run new search\n",
      "run new search\n",
      "run new search\n",
      "run new search\n",
      "run new search\n",
      "run new search\n",
      "run new search\n",
      "run new search\n",
      "run new search\n",
      "run new search\n",
      "run new search\n",
      "run new search\n",
      "run new search\n",
      "run new search\n",
      "run new search\n",
      "run new search\n",
      "run new search\n",
      "run new search\n",
      "run new search\n",
      "run new search\n",
      "run new search\n",
      "run new search\n",
      "run new search\n",
      "run new search\n",
      "run new search\n",
      "run new search\n",
      "run new search\n",
      "run new search\n",
      "run new search\n",
      "run new search\n",
      "run new search\n",
      "run new search\n",
      "run new search\n",
      "run new search\n",
      "run new search\n",
      "run new search\n",
      "run new search\n",
      "run new search\n",
      "run new search\n",
      "run new search\n",
      "run new search\n",
      "run new search\n",
      "run new search\n",
      "run new search\n",
      "run new search\n",
      "run new search\n",
      "run new search\n",
      "run new search\n",
      "run new search\n",
      "run new search\n",
      "run new search\n",
      "run new search\n",
      "run new search\n",
      "run new search\n",
      "run new search\n",
      "run new search\n",
      "run new search\n",
      "run new search\n",
      "run new search\n",
      "run new search\n",
      "run new search\n",
      "run new search\n",
      "run new search\n",
      "run new search\n",
      "run new search\n",
      "run new search\n",
      "run new search\n",
      "run new search\n",
      "run new search\n",
      "run new search\n",
      "run new search\n",
      "run new search\n",
      "run new search\n",
      "run new search\n",
      "run new search\n",
      "run new search\n",
      "run new search\n",
      "run new search\n",
      "run new search\n",
      "run new search\n",
      "run new search\n",
      "run new search\n",
      "run new search\n",
      "run new search\n",
      "run new search\n",
      "run new search\n",
      "run new search\n",
      "run new search\n",
      "run new search\n",
      "run new search\n",
      "run new search\n",
      "run new search\n",
      "run new search\n",
      "run new search\n",
      "run new search\n",
      "run new search\n",
      "run new search\n",
      "run new search\n",
      "run new search\n",
      "run new search\n",
      "run new search\n",
      "run new search\n",
      "run new search\n",
      "run new search\n",
      "run new search\n",
      "run new search\n",
      "run new search\n",
      "run new search\n",
      "run new search\n",
      "run new search\n",
      "run new search\n",
      "run new search\n",
      "run new search\n",
      "run new search\n",
      "run new search\n",
      "run new search\n",
      "run new search\n",
      "run new search\n"
     ]
    },
    {
     "ename": "KeyboardInterrupt",
     "evalue": "",
     "output_type": "error",
     "traceback": [
      "\u001B[0;31m---------------------------------------------------------------------------\u001B[0m",
      "\u001B[0;31mKeyboardInterrupt\u001B[0m                         Traceback (most recent call last)",
      "Input \u001B[0;32mIn [313]\u001B[0m, in \u001B[0;36m<module>\u001B[0;34m\u001B[0m\n\u001B[1;32m      1\u001B[0m game\u001B[38;5;241m.\u001B[39mreset()\n\u001B[0;32m----> 2\u001B[0m \u001B[43mtreesearch\u001B[49m\u001B[43m(\u001B[49m\u001B[43mgame\u001B[49m\u001B[43m,\u001B[49m\u001B[43m \u001B[49m\u001B[43magent\u001B[49m\u001B[43m,\u001B[49m\u001B[43m \u001B[49m\u001B[38;5;241;43m1\u001B[39;49m\u001B[43m)\u001B[49m\n",
      "Input \u001B[0;32mIn [312]\u001B[0m, in \u001B[0;36mtreesearch\u001B[0;34m(gamestate, agent, n_sim)\u001B[0m\n\u001B[1;32m     30\u001B[0m game\u001B[38;5;241m.\u001B[39mimplement_action(\u001B[38;5;28mnext\u001B[39m,action)\n\u001B[1;32m     31\u001B[0m \u001B[38;5;28;01mwhile\u001B[39;00m \u001B[38;5;129;01mnot\u001B[39;00m game\u001B[38;5;241m.\u001B[39mdone:\n\u001B[0;32m---> 32\u001B[0m     ev_0, ev_1, action_next \u001B[38;5;241m=\u001B[39m \u001B[43mtreesearch\u001B[49m\u001B[43m(\u001B[49m\u001B[43mgame\u001B[49m\u001B[43m,\u001B[49m\u001B[43magent\u001B[49m\u001B[43m,\u001B[49m\u001B[43m \u001B[49m\u001B[43mn_sim\u001B[49m\u001B[43m)\u001B[49m\n\u001B[1;32m     33\u001B[0m     game\u001B[38;5;241m.\u001B[39mcreate_observation(game\u001B[38;5;241m.\u001B[39mnext_to_act)\n\u001B[1;32m     34\u001B[0m     agent\u001B[38;5;241m.\u001B[39mupdate_range_action(\u001B[38;5;241m1\u001B[39m\u001B[38;5;241m-\u001B[39m game\u001B[38;5;241m.\u001B[39mnext_to_act[\u001B[38;5;241m0\u001B[39m], game\u001B[38;5;241m.\u001B[39mobservations[game\u001B[38;5;241m.\u001B[39mnext_to_act[\u001B[38;5;241m0\u001B[39m]], action_next)\n",
      "Input \u001B[0;32mIn [312]\u001B[0m, in \u001B[0;36mtreesearch\u001B[0;34m(gamestate, agent, n_sim)\u001B[0m\n\u001B[1;32m     30\u001B[0m game\u001B[38;5;241m.\u001B[39mimplement_action(\u001B[38;5;28mnext\u001B[39m,action)\n\u001B[1;32m     31\u001B[0m \u001B[38;5;28;01mwhile\u001B[39;00m \u001B[38;5;129;01mnot\u001B[39;00m game\u001B[38;5;241m.\u001B[39mdone:\n\u001B[0;32m---> 32\u001B[0m     ev_0, ev_1, action_next \u001B[38;5;241m=\u001B[39m \u001B[43mtreesearch\u001B[49m\u001B[43m(\u001B[49m\u001B[43mgame\u001B[49m\u001B[43m,\u001B[49m\u001B[43magent\u001B[49m\u001B[43m,\u001B[49m\u001B[43m \u001B[49m\u001B[43mn_sim\u001B[49m\u001B[43m)\u001B[49m\n\u001B[1;32m     33\u001B[0m     game\u001B[38;5;241m.\u001B[39mcreate_observation(game\u001B[38;5;241m.\u001B[39mnext_to_act)\n\u001B[1;32m     34\u001B[0m     agent\u001B[38;5;241m.\u001B[39mupdate_range_action(\u001B[38;5;241m1\u001B[39m\u001B[38;5;241m-\u001B[39m game\u001B[38;5;241m.\u001B[39mnext_to_act[\u001B[38;5;241m0\u001B[39m], game\u001B[38;5;241m.\u001B[39mobservations[game\u001B[38;5;241m.\u001B[39mnext_to_act[\u001B[38;5;241m0\u001B[39m]], action_next)\n",
      "Input \u001B[0;32mIn [312]\u001B[0m, in \u001B[0;36mtreesearch\u001B[0;34m(gamestate, agent, n_sim)\u001B[0m\n\u001B[1;32m     32\u001B[0m     ev_0, ev_1, action_next \u001B[38;5;241m=\u001B[39m treesearch(game,agent, n_sim)\n\u001B[1;32m     33\u001B[0m     game\u001B[38;5;241m.\u001B[39mcreate_observation(game\u001B[38;5;241m.\u001B[39mnext_to_act)\n\u001B[0;32m---> 34\u001B[0m     \u001B[43magent\u001B[49m\u001B[38;5;241;43m.\u001B[39;49m\u001B[43mupdate_range_action\u001B[49m\u001B[43m(\u001B[49m\u001B[38;5;241;43m1\u001B[39;49m\u001B[38;5;241;43m-\u001B[39;49m\u001B[43m \u001B[49m\u001B[43mgame\u001B[49m\u001B[38;5;241;43m.\u001B[39;49m\u001B[43mnext_to_act\u001B[49m\u001B[43m[\u001B[49m\u001B[38;5;241;43m0\u001B[39;49m\u001B[43m]\u001B[49m\u001B[43m,\u001B[49m\u001B[43m \u001B[49m\u001B[43mgame\u001B[49m\u001B[38;5;241;43m.\u001B[39;49m\u001B[43mobservations\u001B[49m\u001B[43m[\u001B[49m\u001B[43mgame\u001B[49m\u001B[38;5;241;43m.\u001B[39;49m\u001B[43mnext_to_act\u001B[49m\u001B[43m[\u001B[49m\u001B[38;5;241;43m0\u001B[39;49m\u001B[43m]\u001B[49m\u001B[43m]\u001B[49m\u001B[43m,\u001B[49m\u001B[43m \u001B[49m\u001B[43maction_next\u001B[49m\u001B[43m)\u001B[49m\n\u001B[1;32m     36\u001B[0m ev_0 \u001B[38;5;241m=\u001B[39m game\u001B[38;5;241m.\u001B[39mstacks[\u001B[38;5;241m0\u001B[39m] \u001B[38;5;241m-\u001B[39m\u001B[38;5;241m4.5\u001B[39m \u001B[38;5;28;01mif\u001B[39;00m game\u001B[38;5;241m.\u001B[39mposition_0 \u001B[38;5;241m==\u001B[39m \u001B[38;5;241m0\u001B[39m \u001B[38;5;28;01melse\u001B[39;00m game\u001B[38;5;241m.\u001B[39mstacks[\u001B[38;5;241m0\u001B[39m]\u001B[38;5;241m-\u001B[39m\u001B[38;5;241m4\u001B[39m\n\u001B[1;32m     37\u001B[0m ev_1 \u001B[38;5;241m=\u001B[39m game\u001B[38;5;241m.\u001B[39mstacks[\u001B[38;5;241m1\u001B[39m] \u001B[38;5;241m-\u001B[39m\u001B[38;5;241m4.5\u001B[39m \u001B[38;5;28;01mif\u001B[39;00m game\u001B[38;5;241m.\u001B[39mposition_1 \u001B[38;5;241m==\u001B[39m \u001B[38;5;241m0\u001B[39m \u001B[38;5;28;01melse\u001B[39;00m game\u001B[38;5;241m.\u001B[39mstacks[\u001B[38;5;241m1\u001B[39m]\u001B[38;5;241m-\u001B[39m\u001B[38;5;241m4\u001B[39m\n",
      "File \u001B[0;32m~/Documents/Code/Python/PokerAI/Training/AgentActorCriticRange_SimpleGame.py:100\u001B[0m, in \u001B[0;36mAgent.update_range_action\u001B[0;34m(self, player, observation_villain, action_vil)\u001B[0m\n\u001B[1;32m     98\u001B[0m states \u001B[38;5;241m=\u001B[39m tf\u001B[38;5;241m.\u001B[39mconvert_to_tensor(states)\n\u001B[1;32m     99\u001B[0m p_cards_prior \u001B[38;5;241m=\u001B[39m np\u001B[38;5;241m.\u001B[39marray(\u001B[38;5;28mself\u001B[39m\u001B[38;5;241m.\u001B[39mranges_vil[player])\n\u001B[0;32m--> 100\u001B[0m p_action_given_card \u001B[38;5;241m=\u001B[39m \u001B[38;5;28mself\u001B[39m\u001B[38;5;241m.\u001B[39mactor_preflop(states)[:, action_vil] \u001B[38;5;28;01mif\u001B[39;00m observation[\u001B[38;5;241m3\u001B[39m] \u001B[38;5;241m==\u001B[39m \u001B[38;5;241m0\u001B[39m \u001B[38;5;28;01melse\u001B[39;00m \u001B[38;5;28;43mself\u001B[39;49m\u001B[38;5;241;43m.\u001B[39;49m\u001B[43mactor_postflop\u001B[49m\u001B[43m(\u001B[49m\n\u001B[1;32m    101\u001B[0m \u001B[43m    \u001B[49m\u001B[43mstates\u001B[49m\u001B[43m)\u001B[49m[:, action_vil]\n\u001B[1;32m    102\u001B[0m p_action \u001B[38;5;241m=\u001B[39m tf\u001B[38;5;241m.\u001B[39mreduce_sum(p_action_given_card \u001B[38;5;241m*\u001B[39m p_cards_prior)\n\u001B[1;32m    103\u001B[0m posterior \u001B[38;5;241m=\u001B[39m np\u001B[38;5;241m.\u001B[39marray(p_cards_prior \u001B[38;5;241m*\u001B[39m p_action_given_card \u001B[38;5;241m/\u001B[39m p_action)\n",
      "File \u001B[0;32m~/.local/lib/python3.8/site-packages/keras/utils/traceback_utils.py:64\u001B[0m, in \u001B[0;36mfilter_traceback.<locals>.error_handler\u001B[0;34m(*args, **kwargs)\u001B[0m\n\u001B[1;32m     62\u001B[0m filtered_tb \u001B[38;5;241m=\u001B[39m \u001B[38;5;28;01mNone\u001B[39;00m\n\u001B[1;32m     63\u001B[0m \u001B[38;5;28;01mtry\u001B[39;00m:\n\u001B[0;32m---> 64\u001B[0m   \u001B[38;5;28;01mreturn\u001B[39;00m \u001B[43mfn\u001B[49m\u001B[43m(\u001B[49m\u001B[38;5;241;43m*\u001B[39;49m\u001B[43margs\u001B[49m\u001B[43m,\u001B[49m\u001B[43m \u001B[49m\u001B[38;5;241;43m*\u001B[39;49m\u001B[38;5;241;43m*\u001B[39;49m\u001B[43mkwargs\u001B[49m\u001B[43m)\u001B[49m\n\u001B[1;32m     65\u001B[0m \u001B[38;5;28;01mexcept\u001B[39;00m \u001B[38;5;167;01mException\u001B[39;00m \u001B[38;5;28;01mas\u001B[39;00m e:  \u001B[38;5;66;03m# pylint: disable=broad-except\u001B[39;00m\n\u001B[1;32m     66\u001B[0m   filtered_tb \u001B[38;5;241m=\u001B[39m _process_traceback_frames(e\u001B[38;5;241m.\u001B[39m__traceback__)\n",
      "File \u001B[0;32m~/.local/lib/python3.8/site-packages/keras/engine/base_layer.py:1096\u001B[0m, in \u001B[0;36mLayer.__call__\u001B[0;34m(self, *args, **kwargs)\u001B[0m\n\u001B[1;32m   1092\u001B[0m   inputs \u001B[38;5;241m=\u001B[39m \u001B[38;5;28mself\u001B[39m\u001B[38;5;241m.\u001B[39m_maybe_cast_inputs(inputs, input_list)\n\u001B[1;32m   1094\u001B[0m \u001B[38;5;28;01mwith\u001B[39;00m autocast_variable\u001B[38;5;241m.\u001B[39menable_auto_cast_variables(\n\u001B[1;32m   1095\u001B[0m     \u001B[38;5;28mself\u001B[39m\u001B[38;5;241m.\u001B[39m_compute_dtype_object):\n\u001B[0;32m-> 1096\u001B[0m   outputs \u001B[38;5;241m=\u001B[39m \u001B[43mcall_fn\u001B[49m\u001B[43m(\u001B[49m\u001B[43minputs\u001B[49m\u001B[43m,\u001B[49m\u001B[43m \u001B[49m\u001B[38;5;241;43m*\u001B[39;49m\u001B[43margs\u001B[49m\u001B[43m,\u001B[49m\u001B[43m \u001B[49m\u001B[38;5;241;43m*\u001B[39;49m\u001B[38;5;241;43m*\u001B[39;49m\u001B[43mkwargs\u001B[49m\u001B[43m)\u001B[49m\n\u001B[1;32m   1098\u001B[0m \u001B[38;5;28;01mif\u001B[39;00m \u001B[38;5;28mself\u001B[39m\u001B[38;5;241m.\u001B[39m_activity_regularizer:\n\u001B[1;32m   1099\u001B[0m   \u001B[38;5;28mself\u001B[39m\u001B[38;5;241m.\u001B[39m_handle_activity_regularization(inputs, outputs)\n",
      "File \u001B[0;32m~/.local/lib/python3.8/site-packages/keras/utils/traceback_utils.py:92\u001B[0m, in \u001B[0;36minject_argument_info_in_traceback.<locals>.error_handler\u001B[0;34m(*args, **kwargs)\u001B[0m\n\u001B[1;32m     90\u001B[0m bound_signature \u001B[38;5;241m=\u001B[39m \u001B[38;5;28;01mNone\u001B[39;00m\n\u001B[1;32m     91\u001B[0m \u001B[38;5;28;01mtry\u001B[39;00m:\n\u001B[0;32m---> 92\u001B[0m   \u001B[38;5;28;01mreturn\u001B[39;00m \u001B[43mfn\u001B[49m\u001B[43m(\u001B[49m\u001B[38;5;241;43m*\u001B[39;49m\u001B[43margs\u001B[49m\u001B[43m,\u001B[49m\u001B[43m \u001B[49m\u001B[38;5;241;43m*\u001B[39;49m\u001B[38;5;241;43m*\u001B[39;49m\u001B[43mkwargs\u001B[49m\u001B[43m)\u001B[49m\n\u001B[1;32m     93\u001B[0m \u001B[38;5;28;01mexcept\u001B[39;00m \u001B[38;5;167;01mException\u001B[39;00m \u001B[38;5;28;01mas\u001B[39;00m e:  \u001B[38;5;66;03m# pylint: disable=broad-except\u001B[39;00m\n\u001B[1;32m     94\u001B[0m   \u001B[38;5;28;01mif\u001B[39;00m \u001B[38;5;28mhasattr\u001B[39m(e, \u001B[38;5;124m'\u001B[39m\u001B[38;5;124m_keras_call_info_injected\u001B[39m\u001B[38;5;124m'\u001B[39m):\n\u001B[1;32m     95\u001B[0m     \u001B[38;5;66;03m# Only inject info for the innermost failing call\u001B[39;00m\n",
      "File \u001B[0;32m~/.local/lib/python3.8/site-packages/keras/engine/sequential.py:374\u001B[0m, in \u001B[0;36mSequential.call\u001B[0;34m(self, inputs, training, mask)\u001B[0m\n\u001B[1;32m    372\u001B[0m   \u001B[38;5;28;01mif\u001B[39;00m \u001B[38;5;129;01mnot\u001B[39;00m \u001B[38;5;28mself\u001B[39m\u001B[38;5;241m.\u001B[39mbuilt:\n\u001B[1;32m    373\u001B[0m     \u001B[38;5;28mself\u001B[39m\u001B[38;5;241m.\u001B[39m_init_graph_network(\u001B[38;5;28mself\u001B[39m\u001B[38;5;241m.\u001B[39minputs, \u001B[38;5;28mself\u001B[39m\u001B[38;5;241m.\u001B[39moutputs)\n\u001B[0;32m--> 374\u001B[0m   \u001B[38;5;28;01mreturn\u001B[39;00m \u001B[38;5;28;43msuper\u001B[39;49m\u001B[43m(\u001B[49m\u001B[43mSequential\u001B[49m\u001B[43m,\u001B[49m\u001B[43m \u001B[49m\u001B[38;5;28;43mself\u001B[39;49m\u001B[43m)\u001B[49m\u001B[38;5;241;43m.\u001B[39;49m\u001B[43mcall\u001B[49m\u001B[43m(\u001B[49m\u001B[43minputs\u001B[49m\u001B[43m,\u001B[49m\u001B[43m \u001B[49m\u001B[43mtraining\u001B[49m\u001B[38;5;241;43m=\u001B[39;49m\u001B[43mtraining\u001B[49m\u001B[43m,\u001B[49m\u001B[43m \u001B[49m\u001B[43mmask\u001B[49m\u001B[38;5;241;43m=\u001B[39;49m\u001B[43mmask\u001B[49m\u001B[43m)\u001B[49m\n\u001B[1;32m    376\u001B[0m outputs \u001B[38;5;241m=\u001B[39m inputs  \u001B[38;5;66;03m# handle the corner case where self.layers is empty\u001B[39;00m\n\u001B[1;32m    377\u001B[0m \u001B[38;5;28;01mfor\u001B[39;00m layer \u001B[38;5;129;01min\u001B[39;00m \u001B[38;5;28mself\u001B[39m\u001B[38;5;241m.\u001B[39mlayers:\n\u001B[1;32m    378\u001B[0m   \u001B[38;5;66;03m# During each iteration, `inputs` are the inputs to `layer`, and `outputs`\u001B[39;00m\n\u001B[1;32m    379\u001B[0m   \u001B[38;5;66;03m# are the outputs of `layer` applied to `inputs`. At the end of each\u001B[39;00m\n\u001B[1;32m    380\u001B[0m   \u001B[38;5;66;03m# iteration `inputs` is set to `outputs` to prepare for the next layer.\u001B[39;00m\n",
      "File \u001B[0;32m~/.local/lib/python3.8/site-packages/keras/engine/functional.py:451\u001B[0m, in \u001B[0;36mFunctional.call\u001B[0;34m(self, inputs, training, mask)\u001B[0m\n\u001B[1;32m    432\u001B[0m \u001B[38;5;129m@doc_controls\u001B[39m\u001B[38;5;241m.\u001B[39mdo_not_doc_inheritable\n\u001B[1;32m    433\u001B[0m \u001B[38;5;28;01mdef\u001B[39;00m \u001B[38;5;21mcall\u001B[39m(\u001B[38;5;28mself\u001B[39m, inputs, training\u001B[38;5;241m=\u001B[39m\u001B[38;5;28;01mNone\u001B[39;00m, mask\u001B[38;5;241m=\u001B[39m\u001B[38;5;28;01mNone\u001B[39;00m):\n\u001B[1;32m    434\u001B[0m   \u001B[38;5;124;03m\"\"\"Calls the model on new inputs.\u001B[39;00m\n\u001B[1;32m    435\u001B[0m \n\u001B[1;32m    436\u001B[0m \u001B[38;5;124;03m  In this case `call` just reapplies\u001B[39;00m\n\u001B[0;32m   (...)\u001B[0m\n\u001B[1;32m    449\u001B[0m \u001B[38;5;124;03m      a list of tensors if there are more than one outputs.\u001B[39;00m\n\u001B[1;32m    450\u001B[0m \u001B[38;5;124;03m  \"\"\"\u001B[39;00m\n\u001B[0;32m--> 451\u001B[0m   \u001B[38;5;28;01mreturn\u001B[39;00m \u001B[38;5;28;43mself\u001B[39;49m\u001B[38;5;241;43m.\u001B[39;49m\u001B[43m_run_internal_graph\u001B[49m\u001B[43m(\u001B[49m\n\u001B[1;32m    452\u001B[0m \u001B[43m      \u001B[49m\u001B[43minputs\u001B[49m\u001B[43m,\u001B[49m\u001B[43m \u001B[49m\u001B[43mtraining\u001B[49m\u001B[38;5;241;43m=\u001B[39;49m\u001B[43mtraining\u001B[49m\u001B[43m,\u001B[49m\u001B[43m \u001B[49m\u001B[43mmask\u001B[49m\u001B[38;5;241;43m=\u001B[39;49m\u001B[43mmask\u001B[49m\u001B[43m)\u001B[49m\n",
      "File \u001B[0;32m~/.local/lib/python3.8/site-packages/keras/engine/functional.py:589\u001B[0m, in \u001B[0;36mFunctional._run_internal_graph\u001B[0;34m(self, inputs, training, mask)\u001B[0m\n\u001B[1;32m    586\u001B[0m   \u001B[38;5;28;01mcontinue\u001B[39;00m  \u001B[38;5;66;03m# Node is not computable, try skipping.\u001B[39;00m\n\u001B[1;32m    588\u001B[0m args, kwargs \u001B[38;5;241m=\u001B[39m node\u001B[38;5;241m.\u001B[39mmap_arguments(tensor_dict)\n\u001B[0;32m--> 589\u001B[0m outputs \u001B[38;5;241m=\u001B[39m \u001B[43mnode\u001B[49m\u001B[38;5;241;43m.\u001B[39;49m\u001B[43mlayer\u001B[49m\u001B[43m(\u001B[49m\u001B[38;5;241;43m*\u001B[39;49m\u001B[43margs\u001B[49m\u001B[43m,\u001B[49m\u001B[43m \u001B[49m\u001B[38;5;241;43m*\u001B[39;49m\u001B[38;5;241;43m*\u001B[39;49m\u001B[43mkwargs\u001B[49m\u001B[43m)\u001B[49m\n\u001B[1;32m    591\u001B[0m \u001B[38;5;66;03m# Update tensor_dict.\u001B[39;00m\n\u001B[1;32m    592\u001B[0m \u001B[38;5;28;01mfor\u001B[39;00m x_id, y \u001B[38;5;129;01min\u001B[39;00m \u001B[38;5;28mzip\u001B[39m(node\u001B[38;5;241m.\u001B[39mflat_output_ids, tf\u001B[38;5;241m.\u001B[39mnest\u001B[38;5;241m.\u001B[39mflatten(outputs)):\n",
      "File \u001B[0;32m~/.local/lib/python3.8/site-packages/keras/utils/traceback_utils.py:64\u001B[0m, in \u001B[0;36mfilter_traceback.<locals>.error_handler\u001B[0;34m(*args, **kwargs)\u001B[0m\n\u001B[1;32m     62\u001B[0m filtered_tb \u001B[38;5;241m=\u001B[39m \u001B[38;5;28;01mNone\u001B[39;00m\n\u001B[1;32m     63\u001B[0m \u001B[38;5;28;01mtry\u001B[39;00m:\n\u001B[0;32m---> 64\u001B[0m   \u001B[38;5;28;01mreturn\u001B[39;00m \u001B[43mfn\u001B[49m\u001B[43m(\u001B[49m\u001B[38;5;241;43m*\u001B[39;49m\u001B[43margs\u001B[49m\u001B[43m,\u001B[49m\u001B[43m \u001B[49m\u001B[38;5;241;43m*\u001B[39;49m\u001B[38;5;241;43m*\u001B[39;49m\u001B[43mkwargs\u001B[49m\u001B[43m)\u001B[49m\n\u001B[1;32m     65\u001B[0m \u001B[38;5;28;01mexcept\u001B[39;00m \u001B[38;5;167;01mException\u001B[39;00m \u001B[38;5;28;01mas\u001B[39;00m e:  \u001B[38;5;66;03m# pylint: disable=broad-except\u001B[39;00m\n\u001B[1;32m     66\u001B[0m   filtered_tb \u001B[38;5;241m=\u001B[39m _process_traceback_frames(e\u001B[38;5;241m.\u001B[39m__traceback__)\n",
      "File \u001B[0;32m~/.local/lib/python3.8/site-packages/keras/engine/base_layer.py:1092\u001B[0m, in \u001B[0;36mLayer.__call__\u001B[0;34m(self, *args, **kwargs)\u001B[0m\n\u001B[1;32m   1089\u001B[0m   \u001B[38;5;28mself\u001B[39m\u001B[38;5;241m.\u001B[39m_maybe_build(inputs)\n\u001B[1;32m   1091\u001B[0m \u001B[38;5;28;01mif\u001B[39;00m \u001B[38;5;28mself\u001B[39m\u001B[38;5;241m.\u001B[39m_autocast:\n\u001B[0;32m-> 1092\u001B[0m   inputs \u001B[38;5;241m=\u001B[39m \u001B[38;5;28;43mself\u001B[39;49m\u001B[38;5;241;43m.\u001B[39;49m\u001B[43m_maybe_cast_inputs\u001B[49m(inputs, input_list)\n\u001B[1;32m   1094\u001B[0m \u001B[38;5;28;01mwith\u001B[39;00m autocast_variable\u001B[38;5;241m.\u001B[39menable_auto_cast_variables(\n\u001B[1;32m   1095\u001B[0m     \u001B[38;5;28mself\u001B[39m\u001B[38;5;241m.\u001B[39m_compute_dtype_object):\n\u001B[1;32m   1096\u001B[0m   outputs \u001B[38;5;241m=\u001B[39m call_fn(inputs, \u001B[38;5;241m*\u001B[39margs, \u001B[38;5;241m*\u001B[39m\u001B[38;5;241m*\u001B[39mkwargs)\n",
      "\u001B[0;31mKeyboardInterrupt\u001B[0m: "
     ]
    }
   ],
   "source": [
    "game.reset()\n",
    "treesearch(game, agent, 1)"
   ],
   "metadata": {
    "collapsed": false,
    "pycharm": {
     "name": "#%%\n"
    }
   }
  },
  {
   "cell_type": "code",
   "execution_count": 303,
   "outputs": [
    {
     "data": {
      "text/plain": "[{0: 0, 1: 0, 2: 0}, {0: 0, 1: 0, 2: 0}]"
     },
     "execution_count": 303,
     "metadata": {},
     "output_type": "execute_result"
    }
   ],
   "source": [
    "evs"
   ],
   "metadata": {
    "collapsed": false,
    "pycharm": {
     "name": "#%%\n"
    }
   }
  },
  {
   "cell_type": "code",
   "execution_count": 267,
   "outputs": [
    {
     "data": {
      "text/plain": "[1, 4, 4, 0, 3, 2, 0, 0.5, -1, -1, -1, -1, -1, -1, -1, -1, -1]"
     },
     "execution_count": 267,
     "metadata": {},
     "output_type": "execute_result"
    }
   ],
   "source": [
    "game.create_observation(0)\n",
    "game.observations[0]"
   ],
   "metadata": {
    "collapsed": false,
    "pycharm": {
     "name": "#%%\n"
    }
   }
  },
  {
   "cell_type": "code",
   "execution_count": 282,
   "outputs": [
    {
     "data": {
      "text/plain": "[{0: 0, 1: 0, 2: 0}, {0: 0, 1: 0, 2: 0}]"
     },
     "execution_count": 282,
     "metadata": {},
     "output_type": "execute_result"
    }
   ],
   "source": [
    "legal_actions = [0,1,2]\n",
    "evs = [{action: 0 for action in legal_actions}, {action:0 for action in legal_actions}]\n",
    "evs[0]"
   ],
   "metadata": {
    "collapsed": false,
    "pycharm": {
     "name": "#%%\n"
    }
   }
  },
  {
   "cell_type": "code",
   "execution_count": 286,
   "outputs": [
    {
     "data": {
      "text/plain": "{0: 0, 1: 0, 2: 0}"
     },
     "execution_count": 286,
     "metadata": {},
     "output_type": "execute_result"
    }
   ],
   "source": [
    "action_count"
   ],
   "metadata": {
    "collapsed": false,
    "pycharm": {
     "name": "#%%\n"
    }
   }
  },
  {
   "cell_type": "code",
   "execution_count": 5,
   "outputs": [],
   "source": [
    "import pickle\n",
    "import numpy as np\n",
    "\n",
    "with open('q_simple', 'rb') as q_simple_file:\n",
    "    q = pickle.load(q_simple_file)\n",
    "def choose_action_q(observation):\n",
    "\n",
    "    hole = observation[4]\n",
    "    #sb:\n",
    "    if observation[0] == 0:\n",
    "        if observation[3] == 0: #preflop\n",
    "            if observation[-10] ==-1: #first in\n",
    "                action = np.argmax(q['sb'][hole]['preflop']['preflop_fi'])\n",
    "\n",
    "            else: # bb must have gone allin, if sb has another action to perform\n",
    "                action = np.argmax(q['sb'][hole]['preflop']['preflop_to_push'])\n",
    "\n",
    "\n",
    "        else: #postflop\n",
    "            board = observation[6]\n",
    "            if observation[2] != 0: #bb did not push\n",
    "                action = np.argmax(q['sb'][hole]['postflop'][board]['to_check'])\n",
    "                if action == 0:\n",
    "                    action =1\n",
    "                else:\n",
    "                    action =2\n",
    "            else:\n",
    "                action = np.argmax(q['sb'][hole]['postflop'][board]['to_push'])\n",
    "\n",
    "\n",
    "    #bb\n",
    "    else:\n",
    "        if observation[3] == 0: #preflop\n",
    "            if observation[-10] == 0.5: #sb completed\n",
    "                action = np.argmax(q['bb'][hole]['preflop']['to_call'])\n",
    "                if action == 0:\n",
    "                    action =1\n",
    "                else:\n",
    "                    action =2\n",
    "            else: #sb pushed\n",
    "                action = np.argmax(q['bb'][hole]['preflop']['to_push'])\n",
    "\n",
    "        else:\n",
    "            board = observation[6]\n",
    "            if observation[2]!= 0: #bb is first in\n",
    "                action = np.argmax(q['bb'][hole]['postflop'][board]['postflop_fi'])\n",
    "                if action == 0:\n",
    "                    action =1\n",
    "                else:\n",
    "                    action =2\n",
    "            else: #bb checked and sb pushed\n",
    "                action = np.argmax(q['bb'][hole]['postflop'][board]['postflop_to_push'])\n",
    "\n",
    "    return action"
   ],
   "metadata": {
    "collapsed": false,
    "pycharm": {
     "name": "#%%\n"
    }
   }
  },
  {
   "cell_type": "code",
   "execution_count": 164,
   "outputs": [
    {
     "name": "stdout",
     "output_type": "stream",
     "text": [
      "--------------------------------------\n",
      "preflop\n",
      "\n",
      "sb\n",
      " first in\n",
      "\n",
      "holecard 1 value 0.37521458 probs [0.738, 0.125, 0.137]\n",
      "holecard 2 value 0.2781134 probs [0.603, 0.247, 0.15]\n",
      "holecard 3 value 0.16249543 probs [0.421, 0.479, 0.1]\n",
      "holecard 4 value 0.07969345 probs [0.245, 0.676, 0.08]\n",
      "holecard 5 value 0.019323044 probs [0.0, 0.952, 0.047]\n",
      "preflop\n",
      "\n",
      "sb\n",
      " complete - push\n",
      "\n",
      "holecard 1 value 0.2976578 probs [0.998, 0.002, 0.0]\n",
      "holecard 2 value 0.29608223 probs [0.1, 0.899, 0.0]\n",
      "holecard 3 value 0.28853095 probs [0.032, 0.968, 0.0]\n",
      "holecard 4 value 0.27919874 probs [0.0, 1.0, 0.0]\n",
      "holecard 5 value 0.26711118 probs [0.0, 1.0, 0.0]\n",
      "\n",
      "bb\n",
      "  to complete\n",
      "\n",
      "holecard 1 value 0.40714088 probs [0.125, 0.07, 0.805]\n",
      "holecard 2 value 0.36683857 probs [0.217, 0.098, 0.686]\n",
      "holecard 3 value 0.28412345 probs [0.363, 0.119, 0.518]\n",
      "holecard 4 value 0.19838674 probs [0.6, 0.141, 0.259]\n",
      "holecard 5 value 0.13824359 probs [0.737, 0.147, 0.116]\n",
      "\n",
      "bb\n",
      "  to push\n",
      "\n",
      "holecard 1 value 0.22092569 probs [0.856, 0.143, 0.002]\n",
      "holecard 2 value 0.22502875 probs [0.67, 0.328, 0.002]\n",
      "holecard 3 value 0.21988147 probs [0.415, 0.584, 0.001]\n",
      "holecard 4 value 0.21406099 probs [0.087, 0.912, 0.0]\n",
      "holecard 5 value 0.19855176 probs [0.0, 1.0, 0.0]\n",
      "--------------------------------------\n",
      "postflop\n",
      "\n",
      "sb\n",
      "  to check\n",
      "\n",
      "board 1\n",
      "holecard 1 value 0.44445336 probs [0.001, 0.001, 0.998]\n",
      "holecard 2 value 0.34452403 probs [0.217, 0.034, 0.749]\n",
      "holecard 3 value 0.2546544 probs [0.345, 0.024, 0.63]\n",
      "holecard 4 value 0.18219697 probs [0.351, 0.016, 0.633]\n",
      "holecard 5 value 0.11633681 probs [0.352, 0.011, 0.637]\n",
      "board 2\n",
      "holecard 1 value 0.44688275 probs [0.018, 0.007, 0.975]\n",
      "holecard 2 value 0.4021734 probs [0.002, 0.0, 0.998]\n",
      "holecard 3 value 0.29424036 probs [0.382, 0.019, 0.599]\n",
      "holecard 4 value 0.22815159 probs [0.34, 0.011, 0.649]\n",
      "holecard 5 value 0.16224961 probs [0.34, 0.008, 0.653]\n",
      "board 3\n",
      "holecard 1 value 0.4598076 probs [0.007, 0.002, 0.991]\n",
      "holecard 2 value 0.40422153 probs [0.044, 0.005, 0.951]\n",
      "holecard 3 value 0.35249844 probs [0.004, 0.0, 0.996]\n",
      "holecard 4 value 0.2766058 probs [0.407, 0.01, 0.583]\n",
      "holecard 5 value 0.20387056 probs [0.433, 0.009, 0.558]\n",
      "board 4\n",
      "holecard 1 value 0.4647346 probs [0.004, 0.001, 0.995]\n",
      "holecard 2 value 0.41248167 probs [0.018, 0.002, 0.981]\n",
      "holecard 3 value 0.37038735 probs [0.061, 0.003, 0.936]\n",
      "holecard 4 value 0.32700717 probs [0.006, 0.0, 0.994]\n",
      "holecard 5 value 0.2407379 probs [0.549, 0.011, 0.44]\n",
      "board 5\n",
      "holecard 1 value 0.48979086 probs [0.002, 0.0, 0.997]\n",
      "holecard 2 value 0.4380314 probs [0.008, 0.001, 0.991]\n",
      "holecard 3 value 0.39262944 probs [0.018, 0.001, 0.981]\n",
      "holecard 4 value 0.34998095 probs [0.092, 0.003, 0.905]\n",
      "holecard 5 value 0.28605697 probs [0.008, 0.0, 0.992]\n",
      "\n",
      "  to push\n",
      "\n",
      "board 1\n",
      "holecard 1 value 0.29775646 probs [0.001, 0.989, 0.009]\n",
      "holecard 2 value 0.26703727 probs [0.015, 0.979, 0.006]\n",
      "holecard 3 value 0.23339862 probs [0.01, 0.987, 0.003]\n",
      "holecard 4 value 0.19457036 probs [0.009, 0.989, 0.002]\n",
      "holecard 5 value 0.14677197 probs [0.008, 0.991, 0.001]\n",
      "board 2\n",
      "holecard 1 value 0.3462168 probs [0.017, 0.974, 0.01]\n",
      "holecard 2 value 0.3143418 probs [0.001, 0.994, 0.005]\n",
      "holecard 3 value 0.26568657 probs [0.007, 0.99, 0.002]\n",
      "holecard 4 value 0.21763091 probs [0.005, 0.994, 0.001]\n",
      "holecard 5 value 0.17216444 probs [0.003, 0.996, 0.001]\n",
      "board 3\n",
      "holecard 1 value 0.38324267 probs [0.013, 0.963, 0.024]\n",
      "holecard 2 value 0.3504425 probs [0.008, 0.987, 0.006]\n",
      "holecard 3 value 0.31445426 probs [0.0, 0.998, 0.002]\n",
      "holecard 4 value 0.250591 probs [0.002, 0.997, 0.001]\n",
      "holecard 5 value 0.19994517 probs [0.001, 0.998, 0.0]\n",
      "board 4\n",
      "holecard 1 value 0.41817808 probs [0.008, 0.946, 0.046]\n",
      "holecard 2 value 0.3833589 probs [0.004, 0.987, 0.009]\n",
      "holecard 3 value 0.33645877 probs [0.002, 0.996, 0.002]\n",
      "holecard 4 value 0.2930313 probs [0.0, 0.999, 0.001]\n",
      "holecard 5 value 0.22842497 probs [0.001, 0.999, 0.0]\n",
      "board 5\n",
      "holecard 1 value 0.45102072 probs [0.004, 0.91, 0.086]\n",
      "holecard 2 value 0.417331 probs [0.002, 0.98, 0.019]\n",
      "holecard 3 value 0.37441188 probs [0.001, 0.995, 0.004]\n",
      "holecard 4 value 0.31789774 probs [0.001, 0.999, 0.001]\n",
      "holecard 5 value 0.26848912 probs [0.0, 1.0, 0.0]\n",
      "--------------------------------------\n",
      "postflop\n",
      "\n",
      "bb\n",
      "  first in\n",
      "\n",
      "board 1\n",
      "holecard 1 value 0.49650595 probs [0.244, 0.273, 0.483]\n",
      "holecard 2 value 0.4316146 probs [0.618, 0.364, 0.018]\n",
      "holecard 3 value 0.33468205 probs [0.744, 0.237, 0.019]\n",
      "holecard 4 value 0.25789362 probs [0.746, 0.211, 0.043]\n",
      "holecard 5 value 0.20254369 probs [0.718, 0.185, 0.098]\n",
      "board 2\n",
      "holecard 1 value 0.5112469 probs [0.561, 0.425, 0.014]\n",
      "holecard 2 value 0.47789836 probs [0.516, 0.295, 0.189]\n",
      "holecard 3 value 0.37988713 probs [0.817, 0.175, 0.008]\n",
      "holecard 4 value 0.30576771 probs [0.793, 0.188, 0.019]\n",
      "holecard 5 value 0.2453906 probs [0.756, 0.2, 0.044]\n",
      "board 3\n",
      "holecard 1 value 0.53148866 probs [0.658, 0.333, 0.009]\n",
      "holecard 2 value 0.47671682 probs [0.825, 0.172, 0.003]\n",
      "holecard 3 value 0.43972814 probs [0.747, 0.205, 0.048]\n",
      "holecard 4 value 0.35234848 probs [0.815, 0.175, 0.009]\n",
      "holecard 5 value 0.28655514 probs [0.785, 0.194, 0.021]\n",
      "board 4\n",
      "holecard 1 value 0.5413472 probs [0.772, 0.22, 0.007]\n",
      "holecard 2 value 0.4863975 probs [0.878, 0.119, 0.002]\n",
      "holecard 3 value 0.4260102 probs [0.868, 0.129, 0.003]\n",
      "holecard 4 value 0.40776953 probs [0.755, 0.211, 0.034]\n",
      "holecard 5 value 0.3222172 probs [0.801, 0.187, 0.012]\n",
      "board 5\n",
      "holecard 1 value 0.54688805 probs [0.848, 0.144, 0.008]\n",
      "holecard 2 value 0.49065906 probs [0.901, 0.096, 0.003]\n",
      "holecard 3 value 0.44379133 probs [0.874, 0.124, 0.002]\n",
      "holecard 4 value 0.41005355 probs [0.822, 0.174, 0.004]\n",
      "holecard 5 value 0.37528926 probs [0.781, 0.193, 0.025]\n",
      "\n",
      "  to push after check\n",
      "\n",
      "board 1\n",
      "holecard 1 value 0.44083518 probs [0.05, 0.95, 0.0]\n",
      "holecard 2 value 0.37368503 probs [0.924, 0.076, 0.0]\n",
      "holecard 3 value 0.32431638 probs [0.778, 0.222, 0.0]\n",
      "holecard 4 value 0.27336708 probs [0.414, 0.585, 0.001]\n",
      "holecard 5 value 0.21267551 probs [0.071, 0.928, 0.001]\n",
      "board 2\n",
      "holecard 1 value 0.4394285 probs [0.962, 0.038, 0.0]\n",
      "holecard 2 value 0.43130767 probs [0.019, 0.981, 0.0]\n",
      "holecard 3 value 0.3483295 probs [0.593, 0.406, 0.0]\n",
      "holecard 4 value 0.30315053 probs [0.223, 0.777, 0.0]\n",
      "holecard 5 value 0.24635401 probs [0.031, 0.968, 0.0]\n",
      "board 3\n",
      "holecard 1 value 0.45745003 probs [0.939, 0.061, 0.0]\n",
      "holecard 2 value 0.42662853 probs [0.712, 0.288, 0.0]\n",
      "holecard 3 value 0.3976883 probs [0.003, 0.997, 0.0]\n",
      "holecard 4 value 0.33301392 probs [0.083, 0.917, 0.0]\n",
      "holecard 5 value 0.28601804 probs [0.01, 0.989, 0.0]\n",
      "board 4\n",
      "holecard 1 value 0.481436 probs [0.831, 0.169, 0.0]\n",
      "holecard 2 value 0.4477725 probs [0.434, 0.566, 0.0]\n",
      "holecard 3 value 0.40526015 probs [0.127, 0.873, 0.0]\n",
      "holecard 4 value 0.3775472 probs [0.001, 0.999, 0.0]\n",
      "holecard 5 value 0.3196048 probs [0.004, 0.996, 0.0]\n",
      "board 5\n",
      "holecard 1 value 0.50105673 probs [0.578, 0.422, 0.0]\n",
      "holecard 2 value 0.46568754 probs [0.213, 0.787, 0.0]\n",
      "holecard 3 value 0.42667145 probs [0.049, 0.951, 0.0]\n",
      "holecard 4 value 0.38604352 probs [0.009, 0.991, 0.0]\n",
      "holecard 5 value 0.36189324 probs [0.0, 1.0, 0.0]\n"
     ]
    }
   ],
   "source": [
    "agent.print_strategy()"
   ],
   "metadata": {
    "collapsed": false,
    "pycharm": {
     "name": "#%%\n"
    }
   }
  },
  {
   "cell_type": "code",
   "execution_count": 48,
   "outputs": [
    {
     "data": {
      "text/plain": "{'pre_sb_first_in': 5073.0,\n 'pre_sb_complete_to_push': 0,\n 'pre_bb_to_call': -2029.0,\n 'pre_bb_to_push': 0,\n 'post_sb_to_check': 15751.0,\n 'post_sb_to_push': -5232.0,\n 'post_bb_first_in': -4844.0,\n 'post_bb_check_pushsb': -10201.0}"
     },
     "execution_count": 48,
     "metadata": {},
     "output_type": "execute_result"
    }
   ],
   "source": [
    "situations_q"
   ],
   "metadata": {
    "collapsed": false,
    "pycharm": {
     "name": "#%%\n"
    }
   }
  },
  {
   "cell_type": "code",
   "execution_count": null,
   "outputs": [],
   "source": [],
   "metadata": {
    "collapsed": false,
    "pycharm": {
     "name": "#%%\n"
    }
   }
  },
  {
   "cell_type": "code",
   "execution_count": 252,
   "outputs": [
    {
     "name": "stdout",
     "output_type": "stream",
     "text": [
      "Episode 10\n",
      "episode 10 total score -2.75 avg score -0.275\n",
      "Episode 20\n",
      "episode 20 total score -1.5 avg score -0.075\n",
      "Episode 30\n",
      "episode 30 total score 4.0 avg score 0.13333333333333333\n",
      "Episode 40\n",
      "episode 40 total score 7.5 avg score 0.1875\n",
      "Episode 50\n",
      "episode 50 total score 10.5 avg score 0.21\n",
      "Episode 60\n",
      "episode 60 total score 21.5 avg score 0.35833333333333334\n",
      "Episode 70\n",
      "episode 70 total score 25.5 avg score 0.36428571428571427\n",
      "Episode 80\n",
      "episode 80 total score 27.75 avg score 0.346875\n",
      "Episode 90\n",
      "episode 90 total score 30.5 avg score 0.3388888888888889\n",
      "Episode 100\n",
      "episode 100 total score 37.25 avg score 0.3725\n",
      "Episode 110\n",
      "episode 110 total score 37.25 avg score 0.3386363636363636\n",
      "Episode 120\n",
      "episode 120 total score 39.5 avg score 0.32916666666666666\n"
     ]
    },
    {
     "ename": "KeyboardInterrupt",
     "evalue": "",
     "output_type": "error",
     "traceback": [
      "\u001B[0;31m---------------------------------------------------------------------------\u001B[0m",
      "\u001B[0;31mKeyboardInterrupt\u001B[0m                         Traceback (most recent call last)",
      "Input \u001B[0;32mIn [252]\u001B[0m, in \u001B[0;36m<module>\u001B[0;34m\u001B[0m\n\u001B[1;32m     27\u001B[0m game_sim \u001B[38;5;241m=\u001B[39m copy\u001B[38;5;241m.\u001B[39mdeepcopy(game)\n\u001B[1;32m     28\u001B[0m game_sim\u001B[38;5;241m.\u001B[39mimplement_action(\u001B[38;5;241m0\u001B[39m,act)\n\u001B[0;32m---> 29\u001B[0m rewards \u001B[38;5;241m=\u001B[39m \u001B[43magent\u001B[49m\u001B[38;5;241;43m.\u001B[39;49m\u001B[43msimulate\u001B[49m\u001B[43m(\u001B[49m\u001B[43mgame_sim\u001B[49m\u001B[43m,\u001B[49m\u001B[43m \u001B[49m\u001B[38;5;241;43m10\u001B[39;49m\u001B[43m)\u001B[49m\n\u001B[1;32m     30\u001B[0m \u001B[38;5;66;03m#print(\"ev:\", rewards[0])\u001B[39;00m\n\u001B[1;32m     31\u001B[0m \u001B[38;5;28;01mif\u001B[39;00m rewards[\u001B[38;5;241m0\u001B[39m] \u001B[38;5;241m>\u001B[39m best_reward:\n",
      "File \u001B[0;32m~/Documents/Code/Python/PokerAI/Training/AgentActorCriticRange_SimpleGame.py:149\u001B[0m, in \u001B[0;36mAgent.simulate\u001B[0;34m(self, current_game, n_simulations)\u001B[0m\n\u001B[1;32m    147\u001B[0m next_to_act \u001B[38;5;241m=\u001B[39m game\u001B[38;5;241m.\u001B[39mnext_to_act[\u001B[38;5;241m0\u001B[39m]\n\u001B[1;32m    148\u001B[0m game\u001B[38;5;241m.\u001B[39mcreate_observation(next_to_act)\n\u001B[0;32m--> 149\u001B[0m action \u001B[38;5;241m=\u001B[39m \u001B[38;5;28;43mself\u001B[39;49m\u001B[38;5;241;43m.\u001B[39;49m\u001B[43mchoose_action\u001B[49m\u001B[43m(\u001B[49m\u001B[43mgame\u001B[49m\u001B[38;5;241;43m.\u001B[39;49m\u001B[43mobservations\u001B[49m\u001B[43m[\u001B[49m\u001B[43mnext_to_act\u001B[49m\u001B[43m]\u001B[49m\u001B[43m)\u001B[49m\n\u001B[1;32m    151\u001B[0m \u001B[38;5;28;01mif\u001B[39;00m game\u001B[38;5;241m.\u001B[39mobservations[next_to_act][\u001B[38;5;241m6\u001B[39m] \u001B[38;5;241m!=\u001B[39m \u001B[38;5;241m0\u001B[39m \u001B[38;5;129;01mand\u001B[39;00m \u001B[38;5;129;01mnot\u001B[39;00m \u001B[38;5;28mself\u001B[39m\u001B[38;5;241m.\u001B[39msaw_flop[next_to_act]:\n\u001B[1;32m    152\u001B[0m     hole_hero \u001B[38;5;241m=\u001B[39m game\u001B[38;5;241m.\u001B[39mhole_0 \u001B[38;5;28;01mif\u001B[39;00m next_to_act \u001B[38;5;241m==\u001B[39m \u001B[38;5;241m1\u001B[39m \u001B[38;5;28;01melse\u001B[39;00m game\u001B[38;5;241m.\u001B[39mhole_1\n",
      "File \u001B[0;32m~/Documents/Code/Python/PokerAI/Training/AgentActorCriticRange_SimpleGame.py:70\u001B[0m, in \u001B[0;36mAgent.choose_action\u001B[0;34m(self, observation)\u001B[0m\n\u001B[1;32m     68\u001B[0m     probs \u001B[38;5;241m=\u001B[39m \u001B[38;5;28mself\u001B[39m\u001B[38;5;241m.\u001B[39mactor_preflop(state)\n\u001B[1;32m     69\u001B[0m \u001B[38;5;28;01melse\u001B[39;00m:\n\u001B[0;32m---> 70\u001B[0m     probs \u001B[38;5;241m=\u001B[39m \u001B[38;5;28;43mself\u001B[39;49m\u001B[38;5;241;43m.\u001B[39;49m\u001B[43mactor_postflop\u001B[49m\u001B[43m(\u001B[49m\u001B[43mstate\u001B[49m\u001B[43m)\u001B[49m\n\u001B[1;32m     72\u001B[0m action_probabilities \u001B[38;5;241m=\u001B[39m tfp\u001B[38;5;241m.\u001B[39mdistributions\u001B[38;5;241m.\u001B[39mCategorical(probs\u001B[38;5;241m=\u001B[39mprobs)\n\u001B[1;32m     73\u001B[0m action \u001B[38;5;241m=\u001B[39m action_probabilities\u001B[38;5;241m.\u001B[39msample()\n",
      "File \u001B[0;32m~/.local/lib/python3.8/site-packages/keras/utils/traceback_utils.py:64\u001B[0m, in \u001B[0;36mfilter_traceback.<locals>.error_handler\u001B[0;34m(*args, **kwargs)\u001B[0m\n\u001B[1;32m     62\u001B[0m filtered_tb \u001B[38;5;241m=\u001B[39m \u001B[38;5;28;01mNone\u001B[39;00m\n\u001B[1;32m     63\u001B[0m \u001B[38;5;28;01mtry\u001B[39;00m:\n\u001B[0;32m---> 64\u001B[0m   \u001B[38;5;28;01mreturn\u001B[39;00m \u001B[43mfn\u001B[49m\u001B[43m(\u001B[49m\u001B[38;5;241;43m*\u001B[39;49m\u001B[43margs\u001B[49m\u001B[43m,\u001B[49m\u001B[43m \u001B[49m\u001B[38;5;241;43m*\u001B[39;49m\u001B[38;5;241;43m*\u001B[39;49m\u001B[43mkwargs\u001B[49m\u001B[43m)\u001B[49m\n\u001B[1;32m     65\u001B[0m \u001B[38;5;28;01mexcept\u001B[39;00m \u001B[38;5;167;01mException\u001B[39;00m \u001B[38;5;28;01mas\u001B[39;00m e:  \u001B[38;5;66;03m# pylint: disable=broad-except\u001B[39;00m\n\u001B[1;32m     66\u001B[0m   filtered_tb \u001B[38;5;241m=\u001B[39m _process_traceback_frames(e\u001B[38;5;241m.\u001B[39m__traceback__)\n",
      "File \u001B[0;32m~/.local/lib/python3.8/site-packages/keras/engine/base_layer.py:1096\u001B[0m, in \u001B[0;36mLayer.__call__\u001B[0;34m(self, *args, **kwargs)\u001B[0m\n\u001B[1;32m   1092\u001B[0m   inputs \u001B[38;5;241m=\u001B[39m \u001B[38;5;28mself\u001B[39m\u001B[38;5;241m.\u001B[39m_maybe_cast_inputs(inputs, input_list)\n\u001B[1;32m   1094\u001B[0m \u001B[38;5;28;01mwith\u001B[39;00m autocast_variable\u001B[38;5;241m.\u001B[39menable_auto_cast_variables(\n\u001B[1;32m   1095\u001B[0m     \u001B[38;5;28mself\u001B[39m\u001B[38;5;241m.\u001B[39m_compute_dtype_object):\n\u001B[0;32m-> 1096\u001B[0m   outputs \u001B[38;5;241m=\u001B[39m \u001B[43mcall_fn\u001B[49m\u001B[43m(\u001B[49m\u001B[43minputs\u001B[49m\u001B[43m,\u001B[49m\u001B[43m \u001B[49m\u001B[38;5;241;43m*\u001B[39;49m\u001B[43margs\u001B[49m\u001B[43m,\u001B[49m\u001B[43m \u001B[49m\u001B[38;5;241;43m*\u001B[39;49m\u001B[38;5;241;43m*\u001B[39;49m\u001B[43mkwargs\u001B[49m\u001B[43m)\u001B[49m\n\u001B[1;32m   1098\u001B[0m \u001B[38;5;28;01mif\u001B[39;00m \u001B[38;5;28mself\u001B[39m\u001B[38;5;241m.\u001B[39m_activity_regularizer:\n\u001B[1;32m   1099\u001B[0m   \u001B[38;5;28mself\u001B[39m\u001B[38;5;241m.\u001B[39m_handle_activity_regularization(inputs, outputs)\n",
      "File \u001B[0;32m~/.local/lib/python3.8/site-packages/keras/utils/traceback_utils.py:92\u001B[0m, in \u001B[0;36minject_argument_info_in_traceback.<locals>.error_handler\u001B[0;34m(*args, **kwargs)\u001B[0m\n\u001B[1;32m     90\u001B[0m bound_signature \u001B[38;5;241m=\u001B[39m \u001B[38;5;28;01mNone\u001B[39;00m\n\u001B[1;32m     91\u001B[0m \u001B[38;5;28;01mtry\u001B[39;00m:\n\u001B[0;32m---> 92\u001B[0m   \u001B[38;5;28;01mreturn\u001B[39;00m \u001B[43mfn\u001B[49m\u001B[43m(\u001B[49m\u001B[38;5;241;43m*\u001B[39;49m\u001B[43margs\u001B[49m\u001B[43m,\u001B[49m\u001B[43m \u001B[49m\u001B[38;5;241;43m*\u001B[39;49m\u001B[38;5;241;43m*\u001B[39;49m\u001B[43mkwargs\u001B[49m\u001B[43m)\u001B[49m\n\u001B[1;32m     93\u001B[0m \u001B[38;5;28;01mexcept\u001B[39;00m \u001B[38;5;167;01mException\u001B[39;00m \u001B[38;5;28;01mas\u001B[39;00m e:  \u001B[38;5;66;03m# pylint: disable=broad-except\u001B[39;00m\n\u001B[1;32m     94\u001B[0m   \u001B[38;5;28;01mif\u001B[39;00m \u001B[38;5;28mhasattr\u001B[39m(e, \u001B[38;5;124m'\u001B[39m\u001B[38;5;124m_keras_call_info_injected\u001B[39m\u001B[38;5;124m'\u001B[39m):\n\u001B[1;32m     95\u001B[0m     \u001B[38;5;66;03m# Only inject info for the innermost failing call\u001B[39;00m\n",
      "File \u001B[0;32m~/.local/lib/python3.8/site-packages/keras/engine/sequential.py:374\u001B[0m, in \u001B[0;36mSequential.call\u001B[0;34m(self, inputs, training, mask)\u001B[0m\n\u001B[1;32m    372\u001B[0m   \u001B[38;5;28;01mif\u001B[39;00m \u001B[38;5;129;01mnot\u001B[39;00m \u001B[38;5;28mself\u001B[39m\u001B[38;5;241m.\u001B[39mbuilt:\n\u001B[1;32m    373\u001B[0m     \u001B[38;5;28mself\u001B[39m\u001B[38;5;241m.\u001B[39m_init_graph_network(\u001B[38;5;28mself\u001B[39m\u001B[38;5;241m.\u001B[39minputs, \u001B[38;5;28mself\u001B[39m\u001B[38;5;241m.\u001B[39moutputs)\n\u001B[0;32m--> 374\u001B[0m   \u001B[38;5;28;01mreturn\u001B[39;00m \u001B[38;5;28;43msuper\u001B[39;49m\u001B[43m(\u001B[49m\u001B[43mSequential\u001B[49m\u001B[43m,\u001B[49m\u001B[43m \u001B[49m\u001B[38;5;28;43mself\u001B[39;49m\u001B[43m)\u001B[49m\u001B[38;5;241;43m.\u001B[39;49m\u001B[43mcall\u001B[49m\u001B[43m(\u001B[49m\u001B[43minputs\u001B[49m\u001B[43m,\u001B[49m\u001B[43m \u001B[49m\u001B[43mtraining\u001B[49m\u001B[38;5;241;43m=\u001B[39;49m\u001B[43mtraining\u001B[49m\u001B[43m,\u001B[49m\u001B[43m \u001B[49m\u001B[43mmask\u001B[49m\u001B[38;5;241;43m=\u001B[39;49m\u001B[43mmask\u001B[49m\u001B[43m)\u001B[49m\n\u001B[1;32m    376\u001B[0m outputs \u001B[38;5;241m=\u001B[39m inputs  \u001B[38;5;66;03m# handle the corner case where self.layers is empty\u001B[39;00m\n\u001B[1;32m    377\u001B[0m \u001B[38;5;28;01mfor\u001B[39;00m layer \u001B[38;5;129;01min\u001B[39;00m \u001B[38;5;28mself\u001B[39m\u001B[38;5;241m.\u001B[39mlayers:\n\u001B[1;32m    378\u001B[0m   \u001B[38;5;66;03m# During each iteration, `inputs` are the inputs to `layer`, and `outputs`\u001B[39;00m\n\u001B[1;32m    379\u001B[0m   \u001B[38;5;66;03m# are the outputs of `layer` applied to `inputs`. At the end of each\u001B[39;00m\n\u001B[1;32m    380\u001B[0m   \u001B[38;5;66;03m# iteration `inputs` is set to `outputs` to prepare for the next layer.\u001B[39;00m\n",
      "File \u001B[0;32m~/.local/lib/python3.8/site-packages/keras/engine/functional.py:451\u001B[0m, in \u001B[0;36mFunctional.call\u001B[0;34m(self, inputs, training, mask)\u001B[0m\n\u001B[1;32m    432\u001B[0m \u001B[38;5;129m@doc_controls\u001B[39m\u001B[38;5;241m.\u001B[39mdo_not_doc_inheritable\n\u001B[1;32m    433\u001B[0m \u001B[38;5;28;01mdef\u001B[39;00m \u001B[38;5;21mcall\u001B[39m(\u001B[38;5;28mself\u001B[39m, inputs, training\u001B[38;5;241m=\u001B[39m\u001B[38;5;28;01mNone\u001B[39;00m, mask\u001B[38;5;241m=\u001B[39m\u001B[38;5;28;01mNone\u001B[39;00m):\n\u001B[1;32m    434\u001B[0m   \u001B[38;5;124;03m\"\"\"Calls the model on new inputs.\u001B[39;00m\n\u001B[1;32m    435\u001B[0m \n\u001B[1;32m    436\u001B[0m \u001B[38;5;124;03m  In this case `call` just reapplies\u001B[39;00m\n\u001B[0;32m   (...)\u001B[0m\n\u001B[1;32m    449\u001B[0m \u001B[38;5;124;03m      a list of tensors if there are more than one outputs.\u001B[39;00m\n\u001B[1;32m    450\u001B[0m \u001B[38;5;124;03m  \"\"\"\u001B[39;00m\n\u001B[0;32m--> 451\u001B[0m   \u001B[38;5;28;01mreturn\u001B[39;00m \u001B[38;5;28;43mself\u001B[39;49m\u001B[38;5;241;43m.\u001B[39;49m\u001B[43m_run_internal_graph\u001B[49m\u001B[43m(\u001B[49m\n\u001B[1;32m    452\u001B[0m \u001B[43m      \u001B[49m\u001B[43minputs\u001B[49m\u001B[43m,\u001B[49m\u001B[43m \u001B[49m\u001B[43mtraining\u001B[49m\u001B[38;5;241;43m=\u001B[39;49m\u001B[43mtraining\u001B[49m\u001B[43m,\u001B[49m\u001B[43m \u001B[49m\u001B[43mmask\u001B[49m\u001B[38;5;241;43m=\u001B[39;49m\u001B[43mmask\u001B[49m\u001B[43m)\u001B[49m\n",
      "File \u001B[0;32m~/.local/lib/python3.8/site-packages/keras/engine/functional.py:589\u001B[0m, in \u001B[0;36mFunctional._run_internal_graph\u001B[0;34m(self, inputs, training, mask)\u001B[0m\n\u001B[1;32m    586\u001B[0m   \u001B[38;5;28;01mcontinue\u001B[39;00m  \u001B[38;5;66;03m# Node is not computable, try skipping.\u001B[39;00m\n\u001B[1;32m    588\u001B[0m args, kwargs \u001B[38;5;241m=\u001B[39m node\u001B[38;5;241m.\u001B[39mmap_arguments(tensor_dict)\n\u001B[0;32m--> 589\u001B[0m outputs \u001B[38;5;241m=\u001B[39m \u001B[43mnode\u001B[49m\u001B[38;5;241;43m.\u001B[39;49m\u001B[43mlayer\u001B[49m\u001B[43m(\u001B[49m\u001B[38;5;241;43m*\u001B[39;49m\u001B[43margs\u001B[49m\u001B[43m,\u001B[49m\u001B[43m \u001B[49m\u001B[38;5;241;43m*\u001B[39;49m\u001B[38;5;241;43m*\u001B[39;49m\u001B[43mkwargs\u001B[49m\u001B[43m)\u001B[49m\n\u001B[1;32m    591\u001B[0m \u001B[38;5;66;03m# Update tensor_dict.\u001B[39;00m\n\u001B[1;32m    592\u001B[0m \u001B[38;5;28;01mfor\u001B[39;00m x_id, y \u001B[38;5;129;01min\u001B[39;00m \u001B[38;5;28mzip\u001B[39m(node\u001B[38;5;241m.\u001B[39mflat_output_ids, tf\u001B[38;5;241m.\u001B[39mnest\u001B[38;5;241m.\u001B[39mflatten(outputs)):\n",
      "File \u001B[0;32m~/.local/lib/python3.8/site-packages/keras/utils/traceback_utils.py:64\u001B[0m, in \u001B[0;36mfilter_traceback.<locals>.error_handler\u001B[0;34m(*args, **kwargs)\u001B[0m\n\u001B[1;32m     62\u001B[0m filtered_tb \u001B[38;5;241m=\u001B[39m \u001B[38;5;28;01mNone\u001B[39;00m\n\u001B[1;32m     63\u001B[0m \u001B[38;5;28;01mtry\u001B[39;00m:\n\u001B[0;32m---> 64\u001B[0m   \u001B[38;5;28;01mreturn\u001B[39;00m \u001B[43mfn\u001B[49m\u001B[43m(\u001B[49m\u001B[38;5;241;43m*\u001B[39;49m\u001B[43margs\u001B[49m\u001B[43m,\u001B[49m\u001B[43m \u001B[49m\u001B[38;5;241;43m*\u001B[39;49m\u001B[38;5;241;43m*\u001B[39;49m\u001B[43mkwargs\u001B[49m\u001B[43m)\u001B[49m\n\u001B[1;32m     65\u001B[0m \u001B[38;5;28;01mexcept\u001B[39;00m \u001B[38;5;167;01mException\u001B[39;00m \u001B[38;5;28;01mas\u001B[39;00m e:  \u001B[38;5;66;03m# pylint: disable=broad-except\u001B[39;00m\n\u001B[1;32m     66\u001B[0m   filtered_tb \u001B[38;5;241m=\u001B[39m _process_traceback_frames(e\u001B[38;5;241m.\u001B[39m__traceback__)\n",
      "File \u001B[0;32m~/.local/lib/python3.8/site-packages/keras/engine/base_layer.py:1096\u001B[0m, in \u001B[0;36mLayer.__call__\u001B[0;34m(self, *args, **kwargs)\u001B[0m\n\u001B[1;32m   1092\u001B[0m   inputs \u001B[38;5;241m=\u001B[39m \u001B[38;5;28mself\u001B[39m\u001B[38;5;241m.\u001B[39m_maybe_cast_inputs(inputs, input_list)\n\u001B[1;32m   1094\u001B[0m \u001B[38;5;28;01mwith\u001B[39;00m autocast_variable\u001B[38;5;241m.\u001B[39menable_auto_cast_variables(\n\u001B[1;32m   1095\u001B[0m     \u001B[38;5;28mself\u001B[39m\u001B[38;5;241m.\u001B[39m_compute_dtype_object):\n\u001B[0;32m-> 1096\u001B[0m   outputs \u001B[38;5;241m=\u001B[39m \u001B[43mcall_fn\u001B[49m\u001B[43m(\u001B[49m\u001B[43minputs\u001B[49m\u001B[43m,\u001B[49m\u001B[43m \u001B[49m\u001B[38;5;241;43m*\u001B[39;49m\u001B[43margs\u001B[49m\u001B[43m,\u001B[49m\u001B[43m \u001B[49m\u001B[38;5;241;43m*\u001B[39;49m\u001B[38;5;241;43m*\u001B[39;49m\u001B[43mkwargs\u001B[49m\u001B[43m)\u001B[49m\n\u001B[1;32m   1098\u001B[0m \u001B[38;5;28;01mif\u001B[39;00m \u001B[38;5;28mself\u001B[39m\u001B[38;5;241m.\u001B[39m_activity_regularizer:\n\u001B[1;32m   1099\u001B[0m   \u001B[38;5;28mself\u001B[39m\u001B[38;5;241m.\u001B[39m_handle_activity_regularization(inputs, outputs)\n",
      "File \u001B[0;32m~/.local/lib/python3.8/site-packages/keras/utils/traceback_utils.py:92\u001B[0m, in \u001B[0;36minject_argument_info_in_traceback.<locals>.error_handler\u001B[0;34m(*args, **kwargs)\u001B[0m\n\u001B[1;32m     90\u001B[0m bound_signature \u001B[38;5;241m=\u001B[39m \u001B[38;5;28;01mNone\u001B[39;00m\n\u001B[1;32m     91\u001B[0m \u001B[38;5;28;01mtry\u001B[39;00m:\n\u001B[0;32m---> 92\u001B[0m   \u001B[38;5;28;01mreturn\u001B[39;00m \u001B[43mfn\u001B[49m\u001B[43m(\u001B[49m\u001B[38;5;241;43m*\u001B[39;49m\u001B[43margs\u001B[49m\u001B[43m,\u001B[49m\u001B[43m \u001B[49m\u001B[38;5;241;43m*\u001B[39;49m\u001B[38;5;241;43m*\u001B[39;49m\u001B[43mkwargs\u001B[49m\u001B[43m)\u001B[49m\n\u001B[1;32m     93\u001B[0m \u001B[38;5;28;01mexcept\u001B[39;00m \u001B[38;5;167;01mException\u001B[39;00m \u001B[38;5;28;01mas\u001B[39;00m e:  \u001B[38;5;66;03m# pylint: disable=broad-except\u001B[39;00m\n\u001B[1;32m     94\u001B[0m   \u001B[38;5;28;01mif\u001B[39;00m \u001B[38;5;28mhasattr\u001B[39m(e, \u001B[38;5;124m'\u001B[39m\u001B[38;5;124m_keras_call_info_injected\u001B[39m\u001B[38;5;124m'\u001B[39m):\n\u001B[1;32m     95\u001B[0m     \u001B[38;5;66;03m# Only inject info for the innermost failing call\u001B[39;00m\n",
      "File \u001B[0;32m~/.local/lib/python3.8/site-packages/keras/layers/core/dense.py:219\u001B[0m, in \u001B[0;36mDense.call\u001B[0;34m(self, inputs)\u001B[0m\n\u001B[1;32m    216\u001B[0m     outputs \u001B[38;5;241m=\u001B[39m tf\u001B[38;5;241m.\u001B[39mnn\u001B[38;5;241m.\u001B[39membedding_lookup_sparse(\n\u001B[1;32m    217\u001B[0m         \u001B[38;5;28mself\u001B[39m\u001B[38;5;241m.\u001B[39mkernel, ids, weights, combiner\u001B[38;5;241m=\u001B[39m\u001B[38;5;124m'\u001B[39m\u001B[38;5;124msum\u001B[39m\u001B[38;5;124m'\u001B[39m)\n\u001B[1;32m    218\u001B[0m   \u001B[38;5;28;01melse\u001B[39;00m:\n\u001B[0;32m--> 219\u001B[0m     outputs \u001B[38;5;241m=\u001B[39m \u001B[43mtf\u001B[49m\u001B[38;5;241;43m.\u001B[39;49m\u001B[43mmatmul\u001B[49m\u001B[43m(\u001B[49m\u001B[43ma\u001B[49m\u001B[38;5;241;43m=\u001B[39;49m\u001B[43minputs\u001B[49m\u001B[43m,\u001B[49m\u001B[43m \u001B[49m\u001B[43mb\u001B[49m\u001B[38;5;241;43m=\u001B[39;49m\u001B[38;5;28;43mself\u001B[39;49m\u001B[38;5;241;43m.\u001B[39;49m\u001B[43mkernel\u001B[49m\u001B[43m)\u001B[49m\n\u001B[1;32m    220\u001B[0m \u001B[38;5;66;03m# Broadcast kernel to inputs.\u001B[39;00m\n\u001B[1;32m    221\u001B[0m \u001B[38;5;28;01melse\u001B[39;00m:\n\u001B[1;32m    222\u001B[0m   outputs \u001B[38;5;241m=\u001B[39m tf\u001B[38;5;241m.\u001B[39mtensordot(inputs, \u001B[38;5;28mself\u001B[39m\u001B[38;5;241m.\u001B[39mkernel, [[rank \u001B[38;5;241m-\u001B[39m \u001B[38;5;241m1\u001B[39m], [\u001B[38;5;241m0\u001B[39m]])\n",
      "File \u001B[0;32m~/.local/lib/python3.8/site-packages/tensorflow/python/util/traceback_utils.py:150\u001B[0m, in \u001B[0;36mfilter_traceback.<locals>.error_handler\u001B[0;34m(*args, **kwargs)\u001B[0m\n\u001B[1;32m    148\u001B[0m filtered_tb \u001B[38;5;241m=\u001B[39m \u001B[38;5;28;01mNone\u001B[39;00m\n\u001B[1;32m    149\u001B[0m \u001B[38;5;28;01mtry\u001B[39;00m:\n\u001B[0;32m--> 150\u001B[0m   \u001B[38;5;28;01mreturn\u001B[39;00m \u001B[43mfn\u001B[49m\u001B[43m(\u001B[49m\u001B[38;5;241;43m*\u001B[39;49m\u001B[43margs\u001B[49m\u001B[43m,\u001B[49m\u001B[43m \u001B[49m\u001B[38;5;241;43m*\u001B[39;49m\u001B[38;5;241;43m*\u001B[39;49m\u001B[43mkwargs\u001B[49m\u001B[43m)\u001B[49m\n\u001B[1;32m    151\u001B[0m \u001B[38;5;28;01mexcept\u001B[39;00m \u001B[38;5;167;01mException\u001B[39;00m \u001B[38;5;28;01mas\u001B[39;00m e:\n\u001B[1;32m    152\u001B[0m   filtered_tb \u001B[38;5;241m=\u001B[39m _process_traceback_frames(e\u001B[38;5;241m.\u001B[39m__traceback__)\n",
      "File \u001B[0;32m~/.local/lib/python3.8/site-packages/tensorflow/python/util/dispatch.py:1082\u001B[0m, in \u001B[0;36madd_dispatch_support.<locals>.decorator.<locals>.op_dispatch_handler\u001B[0;34m(*args, **kwargs)\u001B[0m\n\u001B[1;32m   1080\u001B[0m \u001B[38;5;66;03m# Fallback dispatch system (dispatch v1):\u001B[39;00m\n\u001B[1;32m   1081\u001B[0m \u001B[38;5;28;01mtry\u001B[39;00m:\n\u001B[0;32m-> 1082\u001B[0m   \u001B[38;5;28;01mreturn\u001B[39;00m \u001B[43mdispatch_target\u001B[49m\u001B[43m(\u001B[49m\u001B[38;5;241;43m*\u001B[39;49m\u001B[43margs\u001B[49m\u001B[43m,\u001B[49m\u001B[43m \u001B[49m\u001B[38;5;241;43m*\u001B[39;49m\u001B[38;5;241;43m*\u001B[39;49m\u001B[43mkwargs\u001B[49m\u001B[43m)\u001B[49m\n\u001B[1;32m   1083\u001B[0m \u001B[38;5;28;01mexcept\u001B[39;00m (\u001B[38;5;167;01mTypeError\u001B[39;00m, \u001B[38;5;167;01mValueError\u001B[39;00m):\n\u001B[1;32m   1084\u001B[0m   \u001B[38;5;66;03m# Note: convert_to_eager_tensor currently raises a ValueError, not a\u001B[39;00m\n\u001B[1;32m   1085\u001B[0m   \u001B[38;5;66;03m# TypeError, when given unexpected types.  So we need to catch both.\u001B[39;00m\n\u001B[1;32m   1086\u001B[0m   result \u001B[38;5;241m=\u001B[39m dispatch(op_dispatch_handler, args, kwargs)\n",
      "File \u001B[0;32m~/.local/lib/python3.8/site-packages/tensorflow/python/ops/math_ops.py:3632\u001B[0m, in \u001B[0;36mmatmul\u001B[0;34m(a, b, transpose_a, transpose_b, adjoint_a, adjoint_b, a_is_sparse, b_is_sparse, output_type, name)\u001B[0m\n\u001B[1;32m   3630\u001B[0m     a \u001B[38;5;241m=\u001B[39m ops\u001B[38;5;241m.\u001B[39mconvert_to_tensor(a, name\u001B[38;5;241m=\u001B[39m\u001B[38;5;124m\"\u001B[39m\u001B[38;5;124ma\u001B[39m\u001B[38;5;124m\"\u001B[39m)\n\u001B[1;32m   3631\u001B[0m   \u001B[38;5;28;01mif\u001B[39;00m \u001B[38;5;129;01mnot\u001B[39;00m \u001B[38;5;28misinstance\u001B[39m(b, (ops\u001B[38;5;241m.\u001B[39mEagerTensor, _resource_variable_type)):\n\u001B[0;32m-> 3632\u001B[0m     b \u001B[38;5;241m=\u001B[39m \u001B[43mops\u001B[49m\u001B[38;5;241;43m.\u001B[39;49m\u001B[43mconvert_to_tensor\u001B[49m\u001B[43m(\u001B[49m\u001B[43mb\u001B[49m\u001B[43m,\u001B[49m\u001B[43m \u001B[49m\u001B[43mdtype_hint\u001B[49m\u001B[38;5;241;43m=\u001B[39;49m\u001B[43ma\u001B[49m\u001B[38;5;241;43m.\u001B[39;49m\u001B[43mdtype\u001B[49m\u001B[38;5;241;43m.\u001B[39;49m\u001B[43mbase_dtype\u001B[49m\u001B[43m,\u001B[49m\u001B[43m \u001B[49m\u001B[43mname\u001B[49m\u001B[38;5;241;43m=\u001B[39;49m\u001B[38;5;124;43m\"\u001B[39;49m\u001B[38;5;124;43mb\u001B[39;49m\u001B[38;5;124;43m\"\u001B[39;49m\u001B[43m)\u001B[49m\n\u001B[1;32m   3633\u001B[0m \u001B[38;5;28;01melse\u001B[39;00m:\n\u001B[1;32m   3634\u001B[0m   a \u001B[38;5;241m=\u001B[39m ops\u001B[38;5;241m.\u001B[39mconvert_to_tensor(a, name\u001B[38;5;241m=\u001B[39m\u001B[38;5;124m\"\u001B[39m\u001B[38;5;124ma\u001B[39m\u001B[38;5;124m\"\u001B[39m)\n",
      "File \u001B[0;32m~/.local/lib/python3.8/site-packages/tensorflow/python/profiler/trace.py:183\u001B[0m, in \u001B[0;36mtrace_wrapper.<locals>.inner_wrapper.<locals>.wrapped\u001B[0;34m(*args, **kwargs)\u001B[0m\n\u001B[1;32m    181\u001B[0m   \u001B[38;5;28;01mwith\u001B[39;00m Trace(trace_name, \u001B[38;5;241m*\u001B[39m\u001B[38;5;241m*\u001B[39mtrace_kwargs):\n\u001B[1;32m    182\u001B[0m     \u001B[38;5;28;01mreturn\u001B[39;00m func(\u001B[38;5;241m*\u001B[39margs, \u001B[38;5;241m*\u001B[39m\u001B[38;5;241m*\u001B[39mkwargs)\n\u001B[0;32m--> 183\u001B[0m \u001B[38;5;28;01mreturn\u001B[39;00m \u001B[43mfunc\u001B[49m\u001B[43m(\u001B[49m\u001B[38;5;241;43m*\u001B[39;49m\u001B[43margs\u001B[49m\u001B[43m,\u001B[49m\u001B[43m \u001B[49m\u001B[38;5;241;43m*\u001B[39;49m\u001B[38;5;241;43m*\u001B[39;49m\u001B[43mkwargs\u001B[49m\u001B[43m)\u001B[49m\n",
      "File \u001B[0;32m~/.local/lib/python3.8/site-packages/tensorflow/python/framework/ops.py:1682\u001B[0m, in \u001B[0;36mconvert_to_tensor\u001B[0;34m(value, dtype, name, as_ref, preferred_dtype, dtype_hint, ctx, accepted_result_types)\u001B[0m\n\u001B[1;32m   1680\u001B[0m \u001B[38;5;28;01mif\u001B[39;00m dtype \u001B[38;5;129;01mis\u001B[39;00m \u001B[38;5;28;01mNone\u001B[39;00m \u001B[38;5;129;01mand\u001B[39;00m preferred_dtype \u001B[38;5;129;01mis\u001B[39;00m \u001B[38;5;129;01mnot\u001B[39;00m \u001B[38;5;28;01mNone\u001B[39;00m:\n\u001B[1;32m   1681\u001B[0m   \u001B[38;5;28;01mtry\u001B[39;00m:\n\u001B[0;32m-> 1682\u001B[0m     ret \u001B[38;5;241m=\u001B[39m \u001B[43mconversion_func\u001B[49m\u001B[43m(\u001B[49m\n\u001B[1;32m   1683\u001B[0m \u001B[43m        \u001B[49m\u001B[43mvalue\u001B[49m\u001B[43m,\u001B[49m\u001B[43m \u001B[49m\u001B[43mdtype\u001B[49m\u001B[38;5;241;43m=\u001B[39;49m\u001B[43mpreferred_dtype\u001B[49m\u001B[43m,\u001B[49m\u001B[43m \u001B[49m\u001B[43mname\u001B[49m\u001B[38;5;241;43m=\u001B[39;49m\u001B[43mname\u001B[49m\u001B[43m,\u001B[49m\u001B[43m \u001B[49m\u001B[43mas_ref\u001B[49m\u001B[38;5;241;43m=\u001B[39;49m\u001B[43mas_ref\u001B[49m\u001B[43m)\u001B[49m\n\u001B[1;32m   1684\u001B[0m   \u001B[38;5;28;01mexcept\u001B[39;00m (\u001B[38;5;167;01mTypeError\u001B[39;00m, \u001B[38;5;167;01mValueError\u001B[39;00m):\n\u001B[1;32m   1685\u001B[0m     \u001B[38;5;66;03m# Could not coerce the conversion to use the preferred dtype.\u001B[39;00m\n\u001B[1;32m   1686\u001B[0m     \u001B[38;5;28;01mpass\u001B[39;00m\n",
      "File \u001B[0;32m~/.local/lib/python3.8/site-packages/tensorflow/python/ops/resource_variable_ops.py:2098\u001B[0m, in \u001B[0;36m_dense_var_to_tensor\u001B[0;34m(var, dtype, name, as_ref)\u001B[0m\n\u001B[1;32m   2097\u001B[0m \u001B[38;5;28;01mdef\u001B[39;00m \u001B[38;5;21m_dense_var_to_tensor\u001B[39m(var, dtype\u001B[38;5;241m=\u001B[39m\u001B[38;5;28;01mNone\u001B[39;00m, name\u001B[38;5;241m=\u001B[39m\u001B[38;5;28;01mNone\u001B[39;00m, as_ref\u001B[38;5;241m=\u001B[39m\u001B[38;5;28;01mFalse\u001B[39;00m):\n\u001B[0;32m-> 2098\u001B[0m   \u001B[38;5;28;01mreturn\u001B[39;00m \u001B[43mvar\u001B[49m\u001B[38;5;241;43m.\u001B[39;49m\u001B[43m_dense_var_to_tensor\u001B[49m\u001B[43m(\u001B[49m\u001B[43mdtype\u001B[49m\u001B[38;5;241;43m=\u001B[39;49m\u001B[43mdtype\u001B[49m\u001B[43m,\u001B[49m\u001B[43m \u001B[49m\u001B[43mname\u001B[49m\u001B[38;5;241;43m=\u001B[39;49m\u001B[43mname\u001B[49m\u001B[43m,\u001B[49m\u001B[43m \u001B[49m\u001B[43mas_ref\u001B[49m\u001B[38;5;241;43m=\u001B[39;49m\u001B[43mas_ref\u001B[49m\u001B[43m)\u001B[49m\n",
      "File \u001B[0;32m~/.local/lib/python3.8/site-packages/tensorflow/python/ops/resource_variable_ops.py:1476\u001B[0m, in \u001B[0;36mBaseResourceVariable._dense_var_to_tensor\u001B[0;34m(***failed resolving arguments***)\u001B[0m\n\u001B[1;32m   1474\u001B[0m   \u001B[38;5;28;01mreturn\u001B[39;00m \u001B[38;5;28mself\u001B[39m\u001B[38;5;241m.\u001B[39mread_value()\u001B[38;5;241m.\u001B[39mop\u001B[38;5;241m.\u001B[39minputs[\u001B[38;5;241m0\u001B[39m]\n\u001B[1;32m   1475\u001B[0m \u001B[38;5;28;01melse\u001B[39;00m:\n\u001B[0;32m-> 1476\u001B[0m   \u001B[38;5;28;01mreturn\u001B[39;00m \u001B[38;5;28;43mself\u001B[39;49m\u001B[38;5;241;43m.\u001B[39;49m\u001B[43mvalue\u001B[49m\u001B[43m(\u001B[49m\u001B[43m)\u001B[49m\n",
      "File \u001B[0;32m~/.local/lib/python3.8/site-packages/tensorflow/python/ops/resource_variable_ops.py:619\u001B[0m, in \u001B[0;36mBaseResourceVariable.value\u001B[0;34m(self)\u001B[0m\n\u001B[1;32m    617\u001B[0m   \u001B[38;5;28;01mreturn\u001B[39;00m \u001B[38;5;28mself\u001B[39m\u001B[38;5;241m.\u001B[39m_cached_value\n\u001B[1;32m    618\u001B[0m \u001B[38;5;28;01mwith\u001B[39;00m ops\u001B[38;5;241m.\u001B[39mcolocate_with(\u001B[38;5;28;01mNone\u001B[39;00m, ignore_existing\u001B[38;5;241m=\u001B[39m\u001B[38;5;28;01mTrue\u001B[39;00m):\n\u001B[0;32m--> 619\u001B[0m   \u001B[38;5;28;01mreturn\u001B[39;00m \u001B[38;5;28;43mself\u001B[39;49m\u001B[38;5;241;43m.\u001B[39;49m\u001B[43m_read_variable_op\u001B[49m\u001B[43m(\u001B[49m\u001B[43m)\u001B[49m\n",
      "File \u001B[0;32m~/.local/lib/python3.8/site-packages/tensorflow/python/ops/resource_variable_ops.py:728\u001B[0m, in \u001B[0;36mBaseResourceVariable._read_variable_op\u001B[0;34m(self)\u001B[0m\n\u001B[1;32m    726\u001B[0m       result \u001B[38;5;241m=\u001B[39m read_and_set_handle()\n\u001B[1;32m    727\u001B[0m \u001B[38;5;28;01melse\u001B[39;00m:\n\u001B[0;32m--> 728\u001B[0m   result \u001B[38;5;241m=\u001B[39m \u001B[43mread_and_set_handle\u001B[49m\u001B[43m(\u001B[49m\u001B[43m)\u001B[49m\n\u001B[1;32m    730\u001B[0m \u001B[38;5;28;01mif\u001B[39;00m \u001B[38;5;129;01mnot\u001B[39;00m context\u001B[38;5;241m.\u001B[39mexecuting_eagerly():\n\u001B[1;32m    731\u001B[0m   \u001B[38;5;66;03m# Note that if a control flow context is active the input of the read op\u001B[39;00m\n\u001B[1;32m    732\u001B[0m   \u001B[38;5;66;03m# might not actually be the handle. This line bypasses it.\u001B[39;00m\n\u001B[1;32m    733\u001B[0m   tape\u001B[38;5;241m.\u001B[39mrecord_operation(\n\u001B[1;32m    734\u001B[0m       \u001B[38;5;124m\"\u001B[39m\u001B[38;5;124mReadVariableOp\u001B[39m\u001B[38;5;124m\"\u001B[39m, [result], [\u001B[38;5;28mself\u001B[39m\u001B[38;5;241m.\u001B[39mhandle],\n\u001B[1;32m    735\u001B[0m       backward_function\u001B[38;5;241m=\u001B[39m\u001B[38;5;28;01mlambda\u001B[39;00m x: [x],\n\u001B[1;32m    736\u001B[0m       forward_function\u001B[38;5;241m=\u001B[39m\u001B[38;5;28;01mlambda\u001B[39;00m x: [x])\n",
      "File \u001B[0;32m~/.local/lib/python3.8/site-packages/tensorflow/python/ops/resource_variable_ops.py:718\u001B[0m, in \u001B[0;36mBaseResourceVariable._read_variable_op.<locals>.read_and_set_handle\u001B[0;34m()\u001B[0m\n\u001B[1;32m    717\u001B[0m \u001B[38;5;28;01mdef\u001B[39;00m \u001B[38;5;21mread_and_set_handle\u001B[39m():\n\u001B[0;32m--> 718\u001B[0m   result \u001B[38;5;241m=\u001B[39m \u001B[43mgen_resource_variable_ops\u001B[49m\u001B[38;5;241;43m.\u001B[39;49m\u001B[43mread_variable_op\u001B[49m\u001B[43m(\u001B[49m\n\u001B[1;32m    719\u001B[0m \u001B[43m      \u001B[49m\u001B[38;5;28;43mself\u001B[39;49m\u001B[38;5;241;43m.\u001B[39;49m\u001B[43mhandle\u001B[49m\u001B[43m,\u001B[49m\u001B[43m \u001B[49m\u001B[38;5;28;43mself\u001B[39;49m\u001B[38;5;241;43m.\u001B[39;49m\u001B[43m_dtype\u001B[49m\u001B[43m)\u001B[49m\n\u001B[1;32m    720\u001B[0m   _maybe_set_handle_data(\u001B[38;5;28mself\u001B[39m\u001B[38;5;241m.\u001B[39m_dtype, \u001B[38;5;28mself\u001B[39m\u001B[38;5;241m.\u001B[39mhandle, result)\n\u001B[1;32m    721\u001B[0m   \u001B[38;5;28;01mreturn\u001B[39;00m result\n",
      "File \u001B[0;32m~/.local/lib/python3.8/site-packages/tensorflow/python/ops/gen_resource_variable_ops.py:479\u001B[0m, in \u001B[0;36mread_variable_op\u001B[0;34m(resource, dtype, name)\u001B[0m\n\u001B[1;32m    477\u001B[0m \u001B[38;5;28;01mif\u001B[39;00m tld\u001B[38;5;241m.\u001B[39mis_eager:\n\u001B[1;32m    478\u001B[0m   \u001B[38;5;28;01mtry\u001B[39;00m:\n\u001B[0;32m--> 479\u001B[0m     _result \u001B[38;5;241m=\u001B[39m \u001B[43mpywrap_tfe\u001B[49m\u001B[38;5;241;43m.\u001B[39;49m\u001B[43mTFE_Py_FastPathExecute\u001B[49m\u001B[43m(\u001B[49m\n\u001B[1;32m    480\u001B[0m \u001B[43m      \u001B[49m\u001B[43m_ctx\u001B[49m\u001B[43m,\u001B[49m\u001B[43m \u001B[49m\u001B[38;5;124;43m\"\u001B[39;49m\u001B[38;5;124;43mReadVariableOp\u001B[39;49m\u001B[38;5;124;43m\"\u001B[39;49m\u001B[43m,\u001B[49m\u001B[43m \u001B[49m\u001B[43mname\u001B[49m\u001B[43m,\u001B[49m\u001B[43m \u001B[49m\u001B[43mresource\u001B[49m\u001B[43m,\u001B[49m\u001B[43m \u001B[49m\u001B[38;5;124;43m\"\u001B[39;49m\u001B[38;5;124;43mdtype\u001B[39;49m\u001B[38;5;124;43m\"\u001B[39;49m\u001B[43m,\u001B[49m\u001B[43m \u001B[49m\u001B[43mdtype\u001B[49m\u001B[43m)\u001B[49m\n\u001B[1;32m    481\u001B[0m     \u001B[38;5;28;01mreturn\u001B[39;00m _result\n\u001B[1;32m    482\u001B[0m   \u001B[38;5;28;01mexcept\u001B[39;00m _core\u001B[38;5;241m.\u001B[39m_NotOkStatusException \u001B[38;5;28;01mas\u001B[39;00m e:\n",
      "\u001B[0;31mKeyboardInterrupt\u001B[0m: "
     ]
    }
   ],
   "source": [
    "import copy\n",
    "game = PokerSimple(0,1)\n",
    "n_games = 50_000\n",
    "total_score = 0\n",
    "score = 0\n",
    "situations_q = {'pre_sb_first_in':0, 'pre_sb_complete_to_push':0,'pre_bb_to_call': 0, 'pre_bb_to_push':0,\n",
    "                'post_sb_to_check':0, 'post_sb_to_push':0, 'post_bb_first_in':0, 'post_bb_check_pushsb':0}\n",
    "training_observations = []\n",
    "for i in range(1,n_games):\n",
    "    if i%10 == 0:\n",
    "        print(\"Episode\", i)\n",
    "    done, next_to_act, observation = game.reset()\n",
    "    action_hero = -1\n",
    "    situations = []\n",
    "    while not game.done:\n",
    "        next_to_act = game.next_to_act[0]\n",
    "\n",
    "        if next_to_act == 0:\n",
    "\n",
    "            game.create_observation(0)\n",
    "            observation = game.observations[0]\n",
    "            action_hero = agent.choose_action(observation)\n",
    "\n",
    "            best_reward = -5\n",
    "            for act in range(3):\n",
    "                #print(\"trying action\", act)\n",
    "                game_sim = copy.deepcopy(game)\n",
    "                game_sim.implement_action(0,act)\n",
    "                rewards = agent.simulate(game_sim, 10)\n",
    "                #print(\"ev:\", rewards[0])\n",
    "                if rewards[0] > best_reward:\n",
    "                    best_reward = rewards[0]\n",
    "                    action_hero = act\n",
    "\n",
    "            game.implement_action(0, action_hero)\n",
    "\n",
    "        else:\n",
    "            game.create_observation(1)\n",
    "\n",
    "            if game.observations[1][0]==0: #sb\n",
    "                if game.observations[1][3]== 0: #preflop\n",
    "                    if game.observations[1][1] == 4.5: #sb first in\n",
    "                        situation = 'pre_sb_first_in'\n",
    "                    else: #sb completed and bb pushed\n",
    "                        situation = 'pre_sb_complete_to_push'\n",
    "                else:#postflop\n",
    "                    if game.observations[1][2] == 0: #bb pushed\n",
    "                        situation = 'post_sb_to_push'\n",
    "                    else:\n",
    "                        situation = 'post_sb_to_check'\n",
    "\n",
    "            else: #bb\n",
    "                if game.observations[1][3]== 0: #preflop\n",
    "                    if game.observations[1][1] == 4:\n",
    "                        situation = 'pre_bb_to_call'\n",
    "                    else:\n",
    "                        situation = 'pre_bb_to_push'\n",
    "                else:#postflop\n",
    "                    if game.observations[1][2] != 0:#bb first in\n",
    "                        situation = 'post_bb_first_in'\n",
    "                    else:\n",
    "                        situation =  'post_bb_check_pushsb'\n",
    "\n",
    "\n",
    "\n",
    "            action = choose_action_q(game.observations[1])\n",
    "            game.implement_action(1, action)\n",
    "\n",
    "        situations.append(situation)\n",
    "\n",
    "    game.create_observation(0)\n",
    "    stack = game.observations[0][1]\n",
    "    score = stack -5\n",
    "    total_score += score\n",
    "    for move in situations:\n",
    "        situations_q[move] -= score\n",
    "\n",
    "    if i %10 == 0:\n",
    "        print(\"episode\", i, \"total score\", total_score, \"avg score\", total_score/i)"
   ],
   "metadata": {
    "collapsed": false,
    "pycharm": {
     "name": "#%%\n"
    }
   }
  }
 ],
 "metadata": {
  "kernelspec": {
   "display_name": "Python 3 (ipykernel)",
   "language": "python",
   "name": "python3"
  },
  "language_info": {
   "codemirror_mode": {
    "name": "ipython",
    "version": 3
   },
   "file_extension": ".py",
   "mimetype": "text/x-python",
   "name": "python",
   "nbconvert_exporter": "python",
   "pygments_lexer": "ipython3",
   "version": "3.8.10"
  }
 },
 "nbformat": 4,
 "nbformat_minor": 5
}